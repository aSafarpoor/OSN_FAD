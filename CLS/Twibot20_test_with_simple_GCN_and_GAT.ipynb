{
  "nbformat": 4,
  "nbformat_minor": 0,
  "metadata": {
    "colab": {
      "provenance": [],
      "authorship_tag": "ABX9TyO/vY/aVfjYZ3maPlwrG/UG",
      "include_colab_link": true
    },
    "kernelspec": {
      "name": "python3",
      "display_name": "Python 3"
    },
    "language_info": {
      "name": "python"
    }
  },
  "cells": [
    {
      "cell_type": "markdown",
      "metadata": {
        "id": "view-in-github",
        "colab_type": "text"
      },
      "source": [
        "<a href=\"https://colab.research.google.com/github/aSafarpoor/OSN_FAD/blob/main/CLS/Twibot20_test_with_simple_GCN_and_GAT.ipynb\" target=\"_parent\"><img src=\"https://colab.research.google.com/assets/colab-badge.svg\" alt=\"Open In Colab\"/></a>"
      ]
    },
    {
      "cell_type": "code",
      "execution_count": 1,
      "metadata": {
        "colab": {
          "base_uri": "https://localhost:8080/"
        },
        "id": "iis0DyfXd4sV",
        "outputId": "05d6daf9-c81e-4b95-c544-43072336080e"
      },
      "outputs": [
        {
          "output_type": "stream",
          "name": "stdout",
          "text": [
            "Collecting torch_geometric\n",
            "  Downloading torch_geometric-2.6.1-py3-none-any.whl.metadata (63 kB)\n",
            "\u001b[?25l     \u001b[90m━━━━━━━━━━━━━━━━━━━━━━━━━━━━━━━━━━━━━━━━\u001b[0m \u001b[32m0.0/63.1 kB\u001b[0m \u001b[31m?\u001b[0m eta \u001b[36m-:--:--\u001b[0m\r\u001b[2K     \u001b[91m━━━━━━━━━━━━━━━━━━━━━━━━━━━━━━━━━━━━━━\u001b[0m\u001b[91m╸\u001b[0m\u001b[90m━\u001b[0m \u001b[32m61.4/63.1 kB\u001b[0m \u001b[31m2.6 MB/s\u001b[0m eta \u001b[36m0:00:01\u001b[0m\r\u001b[2K     \u001b[90m━━━━━━━━━━━━━━━━━━━━━━━━━━━━━━━━━━━━━━━━\u001b[0m \u001b[32m63.1/63.1 kB\u001b[0m \u001b[31m1.5 MB/s\u001b[0m eta \u001b[36m0:00:00\u001b[0m\n",
            "\u001b[?25hRequirement already satisfied: aiohttp in /usr/local/lib/python3.10/dist-packages (from torch_geometric) (3.11.1)\n",
            "Requirement already satisfied: fsspec in /usr/local/lib/python3.10/dist-packages (from torch_geometric) (2024.10.0)\n",
            "Requirement already satisfied: jinja2 in /usr/local/lib/python3.10/dist-packages (from torch_geometric) (3.1.4)\n",
            "Requirement already satisfied: numpy in /usr/local/lib/python3.10/dist-packages (from torch_geometric) (1.26.4)\n",
            "Requirement already satisfied: psutil>=5.8.0 in /usr/local/lib/python3.10/dist-packages (from torch_geometric) (5.9.5)\n",
            "Requirement already satisfied: pyparsing in /usr/local/lib/python3.10/dist-packages (from torch_geometric) (3.2.0)\n",
            "Requirement already satisfied: requests in /usr/local/lib/python3.10/dist-packages (from torch_geometric) (2.32.3)\n",
            "Requirement already satisfied: tqdm in /usr/local/lib/python3.10/dist-packages (from torch_geometric) (4.66.6)\n",
            "Requirement already satisfied: aiohappyeyeballs>=2.3.0 in /usr/local/lib/python3.10/dist-packages (from aiohttp->torch_geometric) (2.4.3)\n",
            "Requirement already satisfied: aiosignal>=1.1.2 in /usr/local/lib/python3.10/dist-packages (from aiohttp->torch_geometric) (1.3.1)\n",
            "Requirement already satisfied: attrs>=17.3.0 in /usr/local/lib/python3.10/dist-packages (from aiohttp->torch_geometric) (24.2.0)\n",
            "Requirement already satisfied: frozenlist>=1.1.1 in /usr/local/lib/python3.10/dist-packages (from aiohttp->torch_geometric) (1.5.0)\n",
            "Requirement already satisfied: multidict<7.0,>=4.5 in /usr/local/lib/python3.10/dist-packages (from aiohttp->torch_geometric) (6.1.0)\n",
            "Requirement already satisfied: propcache>=0.2.0 in /usr/local/lib/python3.10/dist-packages (from aiohttp->torch_geometric) (0.2.0)\n",
            "Requirement already satisfied: yarl<2.0,>=1.17.0 in /usr/local/lib/python3.10/dist-packages (from aiohttp->torch_geometric) (1.17.1)\n",
            "Requirement already satisfied: async-timeout<6.0,>=4.0 in /usr/local/lib/python3.10/dist-packages (from aiohttp->torch_geometric) (4.0.3)\n",
            "Requirement already satisfied: MarkupSafe>=2.0 in /usr/local/lib/python3.10/dist-packages (from jinja2->torch_geometric) (3.0.2)\n",
            "Requirement already satisfied: charset-normalizer<4,>=2 in /usr/local/lib/python3.10/dist-packages (from requests->torch_geometric) (3.4.0)\n",
            "Requirement already satisfied: idna<4,>=2.5 in /usr/local/lib/python3.10/dist-packages (from requests->torch_geometric) (3.10)\n",
            "Requirement already satisfied: urllib3<3,>=1.21.1 in /usr/local/lib/python3.10/dist-packages (from requests->torch_geometric) (2.2.3)\n",
            "Requirement already satisfied: certifi>=2017.4.17 in /usr/local/lib/python3.10/dist-packages (from requests->torch_geometric) (2024.8.30)\n",
            "Requirement already satisfied: typing-extensions>=4.1.0 in /usr/local/lib/python3.10/dist-packages (from multidict<7.0,>=4.5->aiohttp->torch_geometric) (4.12.2)\n",
            "Downloading torch_geometric-2.6.1-py3-none-any.whl (1.1 MB)\n",
            "\u001b[2K   \u001b[90m━━━━━━━━━━━━━━━━━━━━━━━━━━━━━━━━━━━━━━━━\u001b[0m \u001b[32m1.1/1.1 MB\u001b[0m \u001b[31m16.7 MB/s\u001b[0m eta \u001b[36m0:00:00\u001b[0m\n",
            "\u001b[?25hInstalling collected packages: torch_geometric\n",
            "Successfully installed torch_geometric-2.6.1\n"
          ]
        }
      ],
      "source": [
        "!pip install torch_geometric"
      ]
    },
    {
      "cell_type": "code",
      "source": [
        "import networkx as nx\n",
        "import numpy as np\n",
        "from tqdm import tqdm\n",
        "from matplotlib import pyplot as plt\n",
        "import random\n",
        "\n",
        "\n",
        "import torch\n",
        "import torch.nn.functional as F\n",
        "from torch_geometric.nn import GCNConv, GATConv, GINConv\n",
        "from sklearn.metrics import roc_curve,accuracy_score, roc_auc_score, confusion_matrix\n",
        "import torch.nn as nn\n",
        "\n",
        "\n",
        "SEED = 10\n",
        "random.seed(SEED)"
      ],
      "metadata": {
        "id": "Ml0k9wLjebgE"
      },
      "execution_count": 2,
      "outputs": []
    },
    {
      "cell_type": "markdown",
      "source": [
        "#read files"
      ],
      "metadata": {
        "id": "T3VDk41Oo0tR"
      }
    },
    {
      "cell_type": "code",
      "source": [
        "import tarfile\n",
        "\n",
        "file_name = \"Twibot20.tar.xz\"\n",
        "\n",
        "with tarfile.open(file_name, \"r:xz\") as tar:\n",
        "    tar.extractall()\n",
        "    tar.list()"
      ],
      "metadata": {
        "colab": {
          "base_uri": "https://localhost:8080/"
        },
        "id": "o3wAmMW7eg7n",
        "outputId": "924df9ee-d0a0-4a3f-d145-89cc40c79768"
      },
      "execution_count": 6,
      "outputs": [
        {
          "output_type": "stream",
          "name": "stdout",
          "text": [
            "?r-xr-xr-x 0/0          0 2024-11-19 03:33:21 Twibot20/ \n",
            "?rw-rw-rw- 0/0      67324 2024-11-19 03:33:06 Twibot20/benigns.txt \n",
            "?rw-rw-rw- 0/0    6649660 2024-11-18 00:45:41 Twibot20/edges.txt \n",
            "?rw-rw-rw- 0/0      95339 2024-11-19 03:33:11 Twibot20/sybils.txt \n",
            "?rw-rw-rw- 0/0    2410572 2024-11-18 09:16:36 Twibot20/testNodes.txt \n",
            "?rw-rw-rw- 0/0     522736 2024-11-18 09:16:41 Twibot20/trainNodes.txt \n"
          ]
        }
      ]
    },
    {
      "cell_type": "code",
      "source": [
        "file_name = \"Twibot20/benigns.txt\"\n",
        "with open(file_name, \"r\") as file:\n",
        "    lines = file.readlines()\n",
        "benigns = [line.strip() for line in lines]\n",
        "\n",
        "file_name = \"Twibot20/sybils.txt\"\n",
        "with open(file_name, \"r\") as file:\n",
        "    lines = file.readlines()\n",
        "sybils = [line.strip() for line in lines]\n",
        "\n",
        "file_name = \"Twibot20/trainNodes.txt\"\n",
        "with open(file_name, \"r\") as file:\n",
        "    lines = file.readlines()\n",
        "trainNodes = [line.strip() for line in lines]\n",
        "\n",
        "file_name = \"Twibot20/testNodes.txt\"\n",
        "with open(file_name, \"r\") as file:\n",
        "    lines = file.readlines()\n",
        "testNodes = [line.strip() for line in lines]\n",
        "\n",
        "edges = []\n",
        "file_name = \"Twibot20/edges.txt\"\n",
        "\n",
        "with open(file_name, \"r\") as file:\n",
        "    edges = [tuple( line.strip().split()) for line in file]"
      ],
      "metadata": {
        "id": "Q26Uxz-Sev40"
      },
      "execution_count": 13,
      "outputs": []
    },
    {
      "cell_type": "code",
      "source": [
        "def renumber_nodes(trainNodes, testNodes, benigns, sybils, edges):\n",
        "    train_mapping = {node: idx for idx, node in enumerate(trainNodes)}\n",
        "    test_start_idx = len(trainNodes)\n",
        "    test_mapping = {node: idx for idx, node in enumerate(testNodes, start=test_start_idx)}\n",
        "    node_mapping = {**train_mapping, **test_mapping}\n",
        "    updated_trainNodes = [node_mapping[node] for node in trainNodes]\n",
        "    updated_testNodes = [node_mapping[node] for node in testNodes]\n",
        "    updated_benigns = [node_mapping[node] for node in benigns if node in node_mapping]\n",
        "    updated_sybils = [node_mapping[node] for node in sybils if node in node_mapping]\n",
        "    updated_edges = [(node_mapping[src], node_mapping[dst]) for src, dst in edges if src in node_mapping and dst in node_mapping]\n",
        "    return updated_trainNodes, updated_testNodes, updated_benigns, updated_sybils, updated_edges\n",
        "\n",
        "trainNodes, testNodes, benigns, sybils, edges = renumber_nodes(trainNodes, testNodes, benigns, sybils, edges)"
      ],
      "metadata": {
        "id": "xMQP4d7QzO5T"
      },
      "execution_count": 77,
      "outputs": []
    },
    {
      "cell_type": "markdown",
      "source": [
        "# Models"
      ],
      "metadata": {
        "id": "3ob3inB4o3VB"
      }
    },
    {
      "cell_type": "code",
      "source": [
        "class GCN(torch.nn.Module):\n",
        "    def __init__(self, input_dim, hidden_dim, output_dim, num_layers, dropout=True):\n",
        "        super(GCN, self).__init__()\n",
        "        self.dropout = dropout\n",
        "        self.convs = torch.nn.ModuleList()\n",
        "        self.num_classes = output_dim\n",
        "        for i in range(num_layers):\n",
        "            if i == 0:  # First layer\n",
        "                self.convs.append(GCNConv(input_dim, hidden_dim, bias=True))\n",
        "            elif i == num_layers - 1:  # Last layer\n",
        "                self.convs.append(GCNConv(hidden_dim, output_dim, bias=True))\n",
        "            else:  # Middle layers\n",
        "                self.convs.append(GCNConv(hidden_dim, hidden_dim, bias=True))\n",
        "\n",
        "    def forward(self, x, edge_index):\n",
        "        h = x\n",
        "        i = 0\n",
        "        for conv in self.convs:\n",
        "            if self.dropout:\n",
        "                h = F.dropout(h, p=0.5, training=self.training)\n",
        "            h = conv(h, edge_index)\n",
        "            if i < len(self.convs) - 1:\n",
        "                h = F.tanh(h)\n",
        "            i += 1\n",
        "\n",
        "        if self.num_classes == 1:\n",
        "            return F.sigmoid(h)\n",
        "        else:\n",
        "            return F.softmax(h, dim=1)"
      ],
      "metadata": {
        "id": "kPXzs3NuoIog"
      },
      "execution_count": 173,
      "outputs": []
    },
    {
      "cell_type": "code",
      "source": [
        "class GAT(torch.nn.Module):\n",
        "    def __init__(self, input_dim, hidden_dim, output_dim, num_layers, heads=1, dropout=True):\n",
        "        super(GAT, self).__init__()\n",
        "        self.dropout = dropout\n",
        "        self.convs = torch.nn.ModuleList()\n",
        "        self.num_classes = output_dim\n",
        "        self.heads = heads\n",
        "\n",
        "        for i in range(num_layers):\n",
        "            if i == 0:  # First layer\n",
        "                self.convs.append(GATConv(input_dim, hidden_dim, heads=heads, concat=True, bias=True))\n",
        "            elif i == num_layers - 1:  # Last layer\n",
        "                self.convs.append(GATConv(hidden_dim * heads, output_dim, heads=1, concat=False, bias=True))\n",
        "            else:  # Middle layers\n",
        "                self.convs.append(GATConv(hidden_dim * heads, hidden_dim, heads=heads, concat=True, bias=True))\n",
        "\n",
        "    def forward(self, x, edge_index):\n",
        "        h = x\n",
        "        for i, conv in enumerate(self.convs):\n",
        "            if self.dropout:\n",
        "                h = F.dropout(h, p=0.5, training=self.training)\n",
        "            h = conv(h, edge_index)\n",
        "            if i < len(self.convs) - 1:  # Apply activation only for hidden layers\n",
        "                h = F.elu(h)  # ELU is often preferred for GAT\n",
        "        if self.num_classes == 1:\n",
        "            return F.sigmoid(h)\n",
        "        else:\n",
        "            return F.log_softmax(h, dim=1)"
      ],
      "metadata": {
        "id": "aqipr2zkoJGe"
      },
      "execution_count": 174,
      "outputs": []
    },
    {
      "cell_type": "code",
      "source": [
        "def create_datasets(all_nodes, train_nodes, test_nodes, benign_nodes, sybil_nodes, ratio_of_known_trains, ratio_of_known_tests,SEED):\n",
        "\n",
        "    random.seed(SEED)\n",
        "\n",
        "    labels = {node: 0.5 for node in all_nodes}  # Unknown nodes default to 0.5\n",
        "    for node in benign_nodes:\n",
        "        labels[node] = 0\n",
        "    for node in sybil_nodes:\n",
        "        labels[node] = 1\n",
        "\n",
        "    train_x = [labels[node] for node in train_nodes]\n",
        "    for i in range(len(train_x)):\n",
        "        if train_x[i] != 0.5:\n",
        "            if random.random()>ratio_of_known_trains:\n",
        "                train_x[i] = 0.5\n",
        "    train_y = [labels[node] for node in train_nodes]\n",
        "\n",
        "\n",
        "    test_x = [labels[node] for node in test_nodes]\n",
        "    for i in range(len(test_x)):\n",
        "        if test_x[i] != 0.5:\n",
        "            if random.random()>ratio_of_known_tests:\n",
        "                test_x[i] = 0.5\n",
        "    test_y = [labels[node] for node in test_nodes]\n",
        "\n",
        "    mask_test = [i != 0.5 for i in test_y]\n",
        "    mask_test_sybils = [i == 1 for i in test_y]\n",
        "\n",
        "\n",
        "    train_x = torch.tensor(train_x, dtype=torch.float).reshape(-1,1)\n",
        "    train_y = torch.tensor(train_y, dtype=torch.float).reshape(-1,1)\n",
        "    test_x = torch.tensor(test_x, dtype=torch.float).reshape(-1,1)\n",
        "    test_y = torch.tensor(test_y, dtype=torch.float).reshape(-1,1)\n",
        "\n",
        "    return train_x, test_x, train_y, test_y, mask_test, mask_test_sybils"
      ],
      "metadata": {
        "id": "9IujKHivqV6m"
      },
      "execution_count": 175,
      "outputs": []
    },
    {
      "cell_type": "code",
      "source": [
        "train_x, test_x, train_y, test_y, mask_test, mask_test_sybils = create_datasets(all_nodes = trainNodes + testNodes,\n",
        "                                                                                train_nodes = trainNodes,\n",
        "                                                                                test_nodes = testNodes,\n",
        "                                                                                benign_nodes = benigns,\n",
        "                                                                                sybil_nodes = sybils,\n",
        "                                                                                ratio_of_known_trains = 0.5,\n",
        "                                                                                ratio_of_known_tests = 0.5,\n",
        "                                                                                SEED = 1)"
      ],
      "metadata": {
        "id": "L5AQS7gRs19O"
      },
      "execution_count": 176,
      "outputs": []
    },
    {
      "cell_type": "code",
      "source": [],
      "metadata": {
        "id": "E7VHWQdr0GMZ"
      },
      "execution_count": 176,
      "outputs": []
    },
    {
      "cell_type": "code",
      "source": [
        "g = nx.Graph()\n",
        "g.add_edges_from(edges)\n",
        "\n",
        "\n",
        "temp = list(g.subgraph(trainNodes).edges())\n",
        "trainEdges = [[i[0] for i in temp],[i[1] for i in temp[:]]]\n",
        "temp = list(g.subgraph(testNodes).edges())\n",
        "testEdges = [[i[0] for i in temp],[i[1] for i in temp[:]]]\n",
        "\n",
        "trainEdges = torch.tensor(trainEdges, dtype=torch.long)\n",
        "testEdges = torch.tensor(testEdges, dtype=torch.long)\n"
      ],
      "metadata": {
        "id": "leEQYBkev5VJ"
      },
      "execution_count": 177,
      "outputs": []
    },
    {
      "cell_type": "code",
      "source": [
        "def train_model(model, train_x, train_y, train_edge_index, epochs=100, lr=0.01):\n",
        "\n",
        "    optimizer = torch.optim.Adam(model.parameters(), lr=lr)\n",
        "    # loss_fn = torch.nn.CrossEntropyLoss()\n",
        "    loss_fn = torch.nn.MSELoss()\n",
        "\n",
        "\n",
        "    model.train()\n",
        "    for epoch in tqdm(range(epochs)):\n",
        "        optimizer.zero_grad()\n",
        "        output = model(train_x, train_edge_index)\n",
        "        loss = loss_fn(output, train_y)\n",
        "        loss.backward()\n",
        "        optimizer.step()\n",
        "\n",
        "        if (epoch + 1) % 20 == 0 or epoch == 0:\n",
        "            print(f'Epoch {epoch + 1}/{epochs}, Loss: {loss.item():.4f}')\n",
        "\n",
        "    return model\n",
        "\n"
      ],
      "metadata": {
        "id": "IiLUYrzMurL7"
      },
      "execution_count": 178,
      "outputs": []
    },
    {
      "cell_type": "code",
      "source": [],
      "metadata": {
        "id": "iJ4EO9cv3F_3"
      },
      "execution_count": 178,
      "outputs": []
    },
    {
      "cell_type": "code",
      "source": [
        "def test_model(model, test_x, test_y, test_edge_index, mask=None, threshold=None):\n",
        "    model.eval()\n",
        "    with torch.no_grad():\n",
        "        output = model(test_x, test_edge_index)\n",
        "\n",
        "        # Apply mask if provided\n",
        "        if mask is not None:\n",
        "            output = output[mask]\n",
        "            test_y = test_y[mask]\n",
        "\n",
        "        # If output has shape [batch_size, 1], use the single column\n",
        "        output = output.squeeze(1)  # Converts shape [batch_size, 1] -> [batch_size]\n",
        "\n",
        "        # Compute AUC and find optimal threshold\n",
        "        try:\n",
        "            auc_score = roc_auc_score(test_y.cpu(), output.cpu())  # Adjust for single-class output\n",
        "            # Compute ROC curve\n",
        "            fpr, tpr, thresholds = roc_curve(test_y.cpu(), output.cpu())\n",
        "            # Find optimal threshold using Youden's J statistic\n",
        "            j_scores = tpr - fpr\n",
        "            optimal_idx = j_scores.argmax()\n",
        "            if threshold is None:\n",
        "                threshold = thresholds[optimal_idx]\n",
        "\n",
        "        except Exception as e:\n",
        "            auc_score = None\n",
        "            if threshold is None:\n",
        "                threshold = 0.5  # Default threshold if AUC computation fails\n",
        "\n",
        "        # Apply the threshold to classify predictions\n",
        "        threshold_predictions = (output >= threshold).int().cpu()\n",
        "\n",
        "        # Compute accuracy using the threshold\n",
        "        accuracy_with_threshold = accuracy_score(test_y.cpu(), threshold_predictions)\n",
        "\n",
        "        # Compute confusion matrix\n",
        "        conf_matrix = confusion_matrix(test_y.cpu(), threshold_predictions)\n",
        "        normalized_cm = conf_matrix.astype('float') / len(test_y)\n",
        "\n",
        "        # Prepare metrics\n",
        "        metrics = {\n",
        "            \"accuracy\": accuracy_with_threshold,\n",
        "            \"auc\": auc_score,\n",
        "            \"optimal_threshold\": threshold,\n",
        "            \"confusion_matrix\": normalized_cm\n",
        "        }\n",
        "\n",
        "        # Print metrics\n",
        "        try:\n",
        "            print(f\"AUC: {auc_score:.3f}\")\n",
        "        except:\n",
        "            pass\n",
        "        # print(f\"Optimal Threshold: {threshold}\")\n",
        "        print(f\"ACC: {accuracy_with_threshold:.3f}\")\n",
        "        print(\"Confusion Matrix (Normalized):\")\n",
        "        print(f\"                      Predicted Negative                       Predicted Positive\")\n",
        "        print(f\"Actual Negative       {normalized_cm[0, 0]:.3f}                {normalized_cm[0, 1]:.3f}\")\n",
        "        print(f\"Actual Positive       {normalized_cm[1, 0]:.3f}                {normalized_cm[1, 1]:.3f}\")\n",
        "\n",
        "        return metrics, threshold\n"
      ],
      "metadata": {
        "id": "0eN8z2I6wL0S"
      },
      "execution_count": 203,
      "outputs": []
    },
    {
      "cell_type": "code",
      "source": [
        "input_dim = 1\n",
        "hidden_dim = 16\n",
        "output_dim = 1\n",
        "model = GCN(input_dim, hidden_dim, output_dim, num_layers=3)\n",
        "\n",
        "model = train_model(model, train_x, train_y, trainEdges, epochs=100, lr=0.01)\n",
        "\n",
        "\n",
        "\n",
        "print(\"based on auc th\")\n",
        "metric,th = test_model(model, test_x, test_y, testEdges-len(train_x), mask = mask_test)\n",
        "metric,th = test_model(model, test_x, test_y, testEdges-len(train_x), mask = mask_test_sybils, threshold = th)\n",
        "print(\"\\n\\n\")\n",
        "print(\"based on 0.5\")\n",
        "metric,th = test_model(model, test_x, test_y, testEdges-len(train_x), mask = mask_test, threshold = 0.5)\n",
        "metric,th = test_model(model, test_x, test_y, testEdges-len(train_x), mask = mask_test_sybils, threshold = 0.5)"
      ],
      "metadata": {
        "colab": {
          "base_uri": "https://localhost:8080/"
        },
        "id": "0F1QX6yk_HNT",
        "outputId": "d4891f74-95d1-43f7-bd22-5e8f357fec1b"
      },
      "execution_count": 204,
      "outputs": [
        {
          "output_type": "stream",
          "name": "stderr",
          "text": [
            "  4%|▍         | 4/100 [00:00<00:05, 16.41it/s]"
          ]
        },
        {
          "output_type": "stream",
          "name": "stdout",
          "text": [
            "Epoch 1/100, Loss: 0.0221\n"
          ]
        },
        {
          "output_type": "stream",
          "name": "stderr",
          "text": [
            " 22%|██▏       | 22/100 [00:01<00:04, 16.24it/s]"
          ]
        },
        {
          "output_type": "stream",
          "name": "stdout",
          "text": [
            "Epoch 20/100, Loss: 0.0172\n"
          ]
        },
        {
          "output_type": "stream",
          "name": "stderr",
          "text": [
            " 42%|████▏     | 42/100 [00:02<00:03, 16.94it/s]"
          ]
        },
        {
          "output_type": "stream",
          "name": "stdout",
          "text": [
            "Epoch 40/100, Loss: 0.0170\n"
          ]
        },
        {
          "output_type": "stream",
          "name": "stderr",
          "text": [
            " 62%|██████▏   | 62/100 [00:03<00:02, 17.12it/s]"
          ]
        },
        {
          "output_type": "stream",
          "name": "stdout",
          "text": [
            "Epoch 60/100, Loss: 0.0169\n"
          ]
        },
        {
          "output_type": "stream",
          "name": "stderr",
          "text": [
            " 82%|████████▏ | 82/100 [00:04<00:01, 16.59it/s]"
          ]
        },
        {
          "output_type": "stream",
          "name": "stdout",
          "text": [
            "Epoch 80/100, Loss: 0.0169\n"
          ]
        },
        {
          "output_type": "stream",
          "name": "stderr",
          "text": [
            "100%|██████████| 100/100 [00:06<00:00, 16.26it/s]\n"
          ]
        },
        {
          "output_type": "stream",
          "name": "stdout",
          "text": [
            "Epoch 100/100, Loss: 0.0169\n",
            "based on auc th\n",
            "AUC: 0.661\n",
            "ACC: 0.613\n",
            "Confusion Matrix (Normalized):\n",
            "                      Predicted Negative                       Predicted Positive\n",
            "Actual Negative       0.276                0.143\n",
            "Actual Positive       0.244                0.337\n",
            "ACC: 0.580\n",
            "Confusion Matrix (Normalized):\n",
            "                      Predicted Negative                       Predicted Positive\n",
            "Actual Negative       0.000                0.000\n",
            "Actual Positive       0.420                0.580\n",
            "\n",
            "\n",
            "\n",
            "based on 0.5\n",
            "AUC: 0.661\n",
            "ACC: 0.463\n",
            "Confusion Matrix (Normalized):\n",
            "                      Predicted Negative                       Predicted Positive\n",
            "Actual Negative       0.374                0.045\n",
            "Actual Positive       0.492                0.089\n",
            "ACC: 0.154\n",
            "Confusion Matrix (Normalized):\n",
            "                      Predicted Negative                       Predicted Positive\n",
            "Actual Negative       0.000                0.000\n",
            "Actual Positive       0.846                0.154\n"
          ]
        }
      ]
    },
    {
      "cell_type": "code",
      "source": [
        "input_dim = 1\n",
        "hidden_dim = 16\n",
        "output_dim = 1\n",
        "model = GAT(input_dim, hidden_dim, output_dim, num_layers=3, heads = 4)\n",
        "\n",
        "model = train_model(model, train_x, train_y, trainEdges, epochs=100, lr=0.01)\n",
        "\n",
        "\n",
        "print(\"based on auc th\")\n",
        "\n",
        "metric,th = test_model(model, test_x, test_y, testEdges-len(train_x), mask = mask_test)\n",
        "metric,th = test_model(model, test_x, test_y, testEdges-len(train_x), mask = mask_test_sybils, threshold = th)\n",
        "print(\"\\n\\n\")\n",
        "print(\"based on 0.5\")\n",
        "metric,th = test_model(model, test_x, test_y, testEdges-len(train_x), mask = mask_test, threshold = 0.5)\n",
        "metric,th = test_model(model, test_x, test_y, testEdges-len(train_x), mask = mask_test_sybils, threshold = 0.5)"
      ],
      "metadata": {
        "colab": {
          "base_uri": "https://localhost:8080/"
        },
        "id": "0FseYH_swL-C",
        "outputId": "c6781f6f-9b5e-4834-87b5-a8bfe034eccd"
      },
      "execution_count": 206,
      "outputs": [
        {
          "output_type": "stream",
          "name": "stderr",
          "text": [
            "  1%|          | 1/100 [00:00<00:38,  2.59it/s]"
          ]
        },
        {
          "output_type": "stream",
          "name": "stdout",
          "text": [
            "Epoch 1/100, Loss: 0.0199\n"
          ]
        },
        {
          "output_type": "stream",
          "name": "stderr",
          "text": [
            " 20%|██        | 20/100 [00:06<00:26,  3.02it/s]"
          ]
        },
        {
          "output_type": "stream",
          "name": "stdout",
          "text": [
            "Epoch 20/100, Loss: 0.0177\n"
          ]
        },
        {
          "output_type": "stream",
          "name": "stderr",
          "text": [
            " 40%|████      | 40/100 [00:13<00:17,  3.43it/s]"
          ]
        },
        {
          "output_type": "stream",
          "name": "stdout",
          "text": [
            "Epoch 40/100, Loss: 0.0170\n"
          ]
        },
        {
          "output_type": "stream",
          "name": "stderr",
          "text": [
            " 60%|██████    | 60/100 [00:18<00:11,  3.48it/s]"
          ]
        },
        {
          "output_type": "stream",
          "name": "stdout",
          "text": [
            "Epoch 60/100, Loss: 0.0170\n"
          ]
        },
        {
          "output_type": "stream",
          "name": "stderr",
          "text": [
            " 80%|████████  | 80/100 [00:25<00:06,  2.93it/s]"
          ]
        },
        {
          "output_type": "stream",
          "name": "stdout",
          "text": [
            "Epoch 80/100, Loss: 0.0169\n"
          ]
        },
        {
          "output_type": "stream",
          "name": "stderr",
          "text": [
            "100%|██████████| 100/100 [00:31<00:00,  3.15it/s]"
          ]
        },
        {
          "output_type": "stream",
          "name": "stdout",
          "text": [
            "Epoch 100/100, Loss: 0.0169\n",
            "based on auc th\n"
          ]
        },
        {
          "output_type": "stream",
          "name": "stderr",
          "text": [
            "\n"
          ]
        },
        {
          "output_type": "stream",
          "name": "stdout",
          "text": [
            "AUC: 0.745\n",
            "ACC: 0.660\n",
            "Confusion Matrix (Normalized):\n",
            "                      Predicted Negative                       Predicted Positive\n",
            "Actual Negative       0.321                0.097\n",
            "Actual Positive       0.243                0.339\n",
            "ACC: 0.582\n",
            "Confusion Matrix (Normalized):\n",
            "                      Predicted Negative                       Predicted Positive\n",
            "Actual Negative       0.000                0.000\n",
            "Actual Positive       0.418                0.582\n",
            "\n",
            "\n",
            "\n",
            "based on 0.5\n",
            "AUC: 0.745\n",
            "ACC: 0.496\n",
            "Confusion Matrix (Normalized):\n",
            "                      Predicted Negative                       Predicted Positive\n",
            "Actual Negative       0.412                0.006\n",
            "Actual Positive       0.498                0.084\n",
            "ACC: 0.144\n",
            "Confusion Matrix (Normalized):\n",
            "                      Predicted Negative                       Predicted Positive\n",
            "Actual Negative       0.000                0.000\n",
            "Actual Positive       0.856                0.144\n"
          ]
        }
      ]
    },
    {
      "cell_type": "code",
      "source": [
        "input_dim = 1\n",
        "hidden_dim = 8\n",
        "output_dim = 1\n",
        "model = GAT(input_dim, hidden_dim, output_dim, num_layers=4, heads = 4)\n",
        "\n",
        "model = train_model(model, train_x, train_y, trainEdges, epochs=100, lr=0.01)\n",
        "\n",
        "\n",
        "print(\"based on auc th\")\n",
        "\n",
        "metric,th = test_model(model, test_x, test_y, testEdges-len(train_x), mask = mask_test)\n",
        "metric,th = test_model(model, test_x, test_y, testEdges-len(train_x), mask = mask_test_sybils, threshold = th)\n",
        "print(\"\\n\\n\")\n",
        "print(\"based on 0.5\")\n",
        "metric,th = test_model(model, test_x, test_y, testEdges-len(train_x), mask = mask_test, threshold = 0.5)\n",
        "metric,th = test_model(model, test_x, test_y, testEdges-len(train_x), mask = mask_test_sybils, threshold = 0.5)"
      ],
      "metadata": {
        "colab": {
          "base_uri": "https://localhost:8080/"
        },
        "id": "CjwxZTes7sJ5",
        "outputId": "eb53c20c-6ba3-433a-85b7-982f591df34f"
      },
      "execution_count": 207,
      "outputs": [
        {
          "output_type": "stream",
          "name": "stderr",
          "text": [
            "  1%|          | 1/100 [00:00<00:53,  1.84it/s]"
          ]
        },
        {
          "output_type": "stream",
          "name": "stdout",
          "text": [
            "Epoch 1/100, Loss: 0.0232\n"
          ]
        },
        {
          "output_type": "stream",
          "name": "stderr",
          "text": [
            " 20%|██        | 20/100 [00:10<00:46,  1.72it/s]"
          ]
        },
        {
          "output_type": "stream",
          "name": "stdout",
          "text": [
            "Epoch 20/100, Loss: 0.0172\n"
          ]
        },
        {
          "output_type": "stream",
          "name": "stderr",
          "text": [
            " 40%|████      | 40/100 [00:17<00:18,  3.18it/s]"
          ]
        },
        {
          "output_type": "stream",
          "name": "stdout",
          "text": [
            "Epoch 40/100, Loss: 0.0170\n"
          ]
        },
        {
          "output_type": "stream",
          "name": "stderr",
          "text": [
            " 60%|██████    | 60/100 [00:24<00:13,  2.88it/s]"
          ]
        },
        {
          "output_type": "stream",
          "name": "stdout",
          "text": [
            "Epoch 60/100, Loss: 0.0170\n"
          ]
        },
        {
          "output_type": "stream",
          "name": "stderr",
          "text": [
            " 80%|████████  | 80/100 [00:32<00:07,  2.82it/s]"
          ]
        },
        {
          "output_type": "stream",
          "name": "stdout",
          "text": [
            "Epoch 80/100, Loss: 0.0169\n"
          ]
        },
        {
          "output_type": "stream",
          "name": "stderr",
          "text": [
            "100%|██████████| 100/100 [00:44<00:00,  2.25it/s]"
          ]
        },
        {
          "output_type": "stream",
          "name": "stdout",
          "text": [
            "Epoch 100/100, Loss: 0.0169\n",
            "based on auc th\n"
          ]
        },
        {
          "output_type": "stream",
          "name": "stderr",
          "text": [
            "\n"
          ]
        },
        {
          "output_type": "stream",
          "name": "stdout",
          "text": [
            "AUC: 0.720\n",
            "ACC: 0.647\n",
            "Confusion Matrix (Normalized):\n",
            "                      Predicted Negative                       Predicted Positive\n",
            "Actual Negative       0.308                0.110\n",
            "Actual Positive       0.243                0.339\n",
            "ACC: 0.582\n",
            "Confusion Matrix (Normalized):\n",
            "                      Predicted Negative                       Predicted Positive\n",
            "Actual Negative       0.000                0.000\n",
            "Actual Positive       0.418                0.582\n",
            "\n",
            "\n",
            "\n",
            "based on 0.5\n",
            "AUC: 0.720\n",
            "ACC: 0.418\n",
            "Confusion Matrix (Normalized):\n",
            "                      Predicted Negative                       Predicted Positive\n",
            "Actual Negative       0.418                0.000\n",
            "Actual Positive       0.582                0.000\n",
            "ACC: 0.000\n",
            "Confusion Matrix (Normalized):\n",
            "                      Predicted Negative                       Predicted Positive\n",
            "Actual Negative       0.000                0.000\n",
            "Actual Positive       1.000                0.000\n"
          ]
        }
      ]
    },
    {
      "cell_type": "code",
      "source": [
        "input_dim = 1\n",
        "hidden_dim = 8\n",
        "output_dim = 1\n",
        "model = GAT(input_dim, hidden_dim, output_dim, num_layers=4, heads = 4)\n",
        "\n",
        "model = train_model(model, train_x, train_y, trainEdges, epochs=500, lr=0.01)\n",
        "\n",
        "\n",
        "print(\"based on auc th\")\n",
        "\n",
        "metric,th = test_model(model, test_x, test_y, testEdges-len(train_x), mask = mask_test)\n",
        "metric,th = test_model(model, test_x, test_y, testEdges-len(train_x), mask = mask_test_sybils, threshold = th)\n",
        "print(\"\\n\\n\")\n",
        "print(\"based on 0.5\")\n",
        "metric,th = test_model(model, test_x, test_y, testEdges-len(train_x), mask = mask_test, threshold = 0.5)\n",
        "metric,th = test_model(model, test_x, test_y, testEdges-len(train_x), mask = mask_test_sybils, threshold = 0.5)"
      ],
      "metadata": {
        "colab": {
          "base_uri": "https://localhost:8080/"
        },
        "id": "KyalfOZEBMlt",
        "outputId": "a32ee8a2-06fd-49bc-b5cd-6e3ca763e41a"
      },
      "execution_count": 209,
      "outputs": [
        {
          "output_type": "stream",
          "name": "stderr",
          "text": [
            "  0%|          | 1/500 [00:00<06:19,  1.32it/s]"
          ]
        },
        {
          "output_type": "stream",
          "name": "stdout",
          "text": [
            "Epoch 1/500, Loss: 0.0293\n"
          ]
        },
        {
          "output_type": "stream",
          "name": "stderr",
          "text": [
            "  4%|▍         | 20/500 [00:08<02:35,  3.09it/s]"
          ]
        },
        {
          "output_type": "stream",
          "name": "stdout",
          "text": [
            "Epoch 20/500, Loss: 0.0177\n"
          ]
        },
        {
          "output_type": "stream",
          "name": "stderr",
          "text": [
            "  8%|▊         | 40/500 [00:15<03:16,  2.34it/s]"
          ]
        },
        {
          "output_type": "stream",
          "name": "stdout",
          "text": [
            "Epoch 40/500, Loss: 0.0171\n"
          ]
        },
        {
          "output_type": "stream",
          "name": "stderr",
          "text": [
            " 12%|█▏        | 60/500 [00:22<02:21,  3.12it/s]"
          ]
        },
        {
          "output_type": "stream",
          "name": "stdout",
          "text": [
            "Epoch 60/500, Loss: 0.0170\n"
          ]
        },
        {
          "output_type": "stream",
          "name": "stderr",
          "text": [
            " 16%|█▌        | 80/500 [00:29<03:01,  2.31it/s]"
          ]
        },
        {
          "output_type": "stream",
          "name": "stdout",
          "text": [
            "Epoch 80/500, Loss: 0.0170\n"
          ]
        },
        {
          "output_type": "stream",
          "name": "stderr",
          "text": [
            " 20%|██        | 100/500 [00:35<02:06,  3.16it/s]"
          ]
        },
        {
          "output_type": "stream",
          "name": "stdout",
          "text": [
            "Epoch 100/500, Loss: 0.0170\n"
          ]
        },
        {
          "output_type": "stream",
          "name": "stderr",
          "text": [
            " 24%|██▍       | 120/500 [00:42<02:49,  2.24it/s]"
          ]
        },
        {
          "output_type": "stream",
          "name": "stdout",
          "text": [
            "Epoch 120/500, Loss: 0.0169\n"
          ]
        },
        {
          "output_type": "stream",
          "name": "stderr",
          "text": [
            " 28%|██▊       | 140/500 [00:49<01:54,  3.14it/s]"
          ]
        },
        {
          "output_type": "stream",
          "name": "stdout",
          "text": [
            "Epoch 140/500, Loss: 0.0169\n"
          ]
        },
        {
          "output_type": "stream",
          "name": "stderr",
          "text": [
            " 32%|███▏      | 160/500 [00:56<02:29,  2.27it/s]"
          ]
        },
        {
          "output_type": "stream",
          "name": "stdout",
          "text": [
            "Epoch 160/500, Loss: 0.0169\n"
          ]
        },
        {
          "output_type": "stream",
          "name": "stderr",
          "text": [
            " 36%|███▌      | 180/500 [01:03<01:42,  3.13it/s]"
          ]
        },
        {
          "output_type": "stream",
          "name": "stdout",
          "text": [
            "Epoch 180/500, Loss: 0.0169\n"
          ]
        },
        {
          "output_type": "stream",
          "name": "stderr",
          "text": [
            " 40%|████      | 200/500 [01:10<02:10,  2.31it/s]"
          ]
        },
        {
          "output_type": "stream",
          "name": "stdout",
          "text": [
            "Epoch 200/500, Loss: 0.0169\n"
          ]
        },
        {
          "output_type": "stream",
          "name": "stderr",
          "text": [
            " 44%|████▍     | 220/500 [01:17<01:27,  3.20it/s]"
          ]
        },
        {
          "output_type": "stream",
          "name": "stdout",
          "text": [
            "Epoch 220/500, Loss: 0.0169\n"
          ]
        },
        {
          "output_type": "stream",
          "name": "stderr",
          "text": [
            " 48%|████▊     | 240/500 [01:24<01:59,  2.18it/s]"
          ]
        },
        {
          "output_type": "stream",
          "name": "stdout",
          "text": [
            "Epoch 240/500, Loss: 0.0169\n"
          ]
        },
        {
          "output_type": "stream",
          "name": "stderr",
          "text": [
            " 52%|█████▏    | 260/500 [01:31<01:17,  3.10it/s]"
          ]
        },
        {
          "output_type": "stream",
          "name": "stdout",
          "text": [
            "Epoch 260/500, Loss: 0.0169\n"
          ]
        },
        {
          "output_type": "stream",
          "name": "stderr",
          "text": [
            " 56%|█████▌    | 280/500 [01:38<01:37,  2.27it/s]"
          ]
        },
        {
          "output_type": "stream",
          "name": "stdout",
          "text": [
            "Epoch 280/500, Loss: 0.0169\n"
          ]
        },
        {
          "output_type": "stream",
          "name": "stderr",
          "text": [
            " 60%|██████    | 300/500 [01:44<01:01,  3.24it/s]"
          ]
        },
        {
          "output_type": "stream",
          "name": "stdout",
          "text": [
            "Epoch 300/500, Loss: 0.0169\n"
          ]
        },
        {
          "output_type": "stream",
          "name": "stderr",
          "text": [
            " 64%|██████▍   | 320/500 [01:51<01:18,  2.30it/s]"
          ]
        },
        {
          "output_type": "stream",
          "name": "stdout",
          "text": [
            "Epoch 320/500, Loss: 0.0169\n"
          ]
        },
        {
          "output_type": "stream",
          "name": "stderr",
          "text": [
            " 68%|██████▊   | 340/500 [01:58<00:49,  3.26it/s]"
          ]
        },
        {
          "output_type": "stream",
          "name": "stdout",
          "text": [
            "Epoch 340/500, Loss: 0.0169\n"
          ]
        },
        {
          "output_type": "stream",
          "name": "stderr",
          "text": [
            " 72%|███████▏  | 360/500 [02:05<01:00,  2.31it/s]"
          ]
        },
        {
          "output_type": "stream",
          "name": "stdout",
          "text": [
            "Epoch 360/500, Loss: 0.0169\n"
          ]
        },
        {
          "output_type": "stream",
          "name": "stderr",
          "text": [
            " 76%|███████▌  | 380/500 [02:11<00:37,  3.18it/s]"
          ]
        },
        {
          "output_type": "stream",
          "name": "stdout",
          "text": [
            "Epoch 380/500, Loss: 0.0169\n"
          ]
        },
        {
          "output_type": "stream",
          "name": "stderr",
          "text": [
            " 80%|████████  | 400/500 [02:18<00:43,  2.27it/s]"
          ]
        },
        {
          "output_type": "stream",
          "name": "stdout",
          "text": [
            "Epoch 400/500, Loss: 0.0169\n"
          ]
        },
        {
          "output_type": "stream",
          "name": "stderr",
          "text": [
            " 84%|████████▍ | 420/500 [02:25<00:24,  3.26it/s]"
          ]
        },
        {
          "output_type": "stream",
          "name": "stdout",
          "text": [
            "Epoch 420/500, Loss: 0.0169\n"
          ]
        },
        {
          "output_type": "stream",
          "name": "stderr",
          "text": [
            " 88%|████████▊ | 440/500 [02:32<00:26,  2.26it/s]"
          ]
        },
        {
          "output_type": "stream",
          "name": "stdout",
          "text": [
            "Epoch 440/500, Loss: 0.0169\n"
          ]
        },
        {
          "output_type": "stream",
          "name": "stderr",
          "text": [
            " 92%|█████████▏| 460/500 [02:39<00:12,  3.11it/s]"
          ]
        },
        {
          "output_type": "stream",
          "name": "stdout",
          "text": [
            "Epoch 460/500, Loss: 0.0169\n"
          ]
        },
        {
          "output_type": "stream",
          "name": "stderr",
          "text": [
            " 96%|█████████▌| 480/500 [02:46<00:08,  2.30it/s]"
          ]
        },
        {
          "output_type": "stream",
          "name": "stdout",
          "text": [
            "Epoch 480/500, Loss: 0.0169\n"
          ]
        },
        {
          "output_type": "stream",
          "name": "stderr",
          "text": [
            "100%|██████████| 500/500 [02:52<00:00,  2.90it/s]"
          ]
        },
        {
          "output_type": "stream",
          "name": "stdout",
          "text": [
            "Epoch 500/500, Loss: 0.0169\n",
            "based on auc th\n"
          ]
        },
        {
          "output_type": "stream",
          "name": "stderr",
          "text": [
            "\n"
          ]
        },
        {
          "output_type": "stream",
          "name": "stdout",
          "text": [
            "AUC: 0.720\n",
            "ACC: 0.644\n",
            "Confusion Matrix (Normalized):\n",
            "                      Predicted Negative                       Predicted Positive\n",
            "Actual Negative       0.312                0.106\n",
            "Actual Positive       0.249                0.332\n",
            "ACC: 0.571\n",
            "Confusion Matrix (Normalized):\n",
            "                      Predicted Negative                       Predicted Positive\n",
            "Actual Negative       0.000                0.000\n",
            "Actual Positive       0.429                0.571\n",
            "\n",
            "\n",
            "\n",
            "based on 0.5\n",
            "AUC: 0.720\n",
            "ACC: 0.496\n",
            "Confusion Matrix (Normalized):\n",
            "                      Predicted Negative                       Predicted Positive\n",
            "Actual Negative       0.418                0.000\n",
            "Actual Positive       0.504                0.078\n",
            "ACC: 0.134\n",
            "Confusion Matrix (Normalized):\n",
            "                      Predicted Negative                       Predicted Positive\n",
            "Actual Negative       0.000                0.000\n",
            "Actual Positive       0.866                0.134\n"
          ]
        }
      ]
    },
    {
      "cell_type": "code",
      "source": [],
      "metadata": {
        "id": "CRvbcjl0BOR8"
      },
      "execution_count": null,
      "outputs": []
    }
  ]
}