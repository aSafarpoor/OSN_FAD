{
  "nbformat": 4,
  "nbformat_minor": 0,
  "metadata": {
    "colab": {
      "provenance": [],
      "authorship_tag": "ABX9TyNVEvnXLiJ24Ut976Ke2NjF",
      "include_colab_link": true
    },
    "kernelspec": {
      "name": "python3",
      "display_name": "Python 3"
    },
    "language_info": {
      "name": "python"
    }
  },
  "cells": [
    {
      "cell_type": "markdown",
      "metadata": {
        "id": "view-in-github",
        "colab_type": "text"
      },
      "source": [
        "<a href=\"https://colab.research.google.com/github/aSafarpoor/OSN_FAD/blob/main/CLS/FAD%2BNN%2BNode2Vec.ipynb\" target=\"_parent\"><img src=\"https://colab.research.google.com/assets/colab-badge.svg\" alt=\"Open In Colab\"/></a>"
      ]
    },
    {
      "cell_type": "code",
      "source": [
        "!pip install node2vec"
      ],
      "metadata": {
        "colab": {
          "base_uri": "https://localhost:8080/"
        },
        "id": "7gGZjWfcxb8w",
        "outputId": "f1c45caf-a066-483e-9ae5-18d34f8fc4da"
      },
      "execution_count": 1,
      "outputs": [
        {
          "output_type": "stream",
          "name": "stdout",
          "text": [
            "Collecting node2vec\n",
            "  Downloading node2vec-0.5.0-py3-none-any.whl.metadata (849 bytes)\n",
            "Requirement already satisfied: gensim<5.0.0,>=4.3.0 in /usr/local/lib/python3.10/dist-packages (from node2vec) (4.3.3)\n",
            "Requirement already satisfied: joblib<2.0.0,>=1.4.0 in /usr/local/lib/python3.10/dist-packages (from node2vec) (1.4.2)\n",
            "Requirement already satisfied: networkx<4.0.0,>=3.1.0 in /usr/local/lib/python3.10/dist-packages (from node2vec) (3.4.2)\n",
            "Requirement already satisfied: numpy<2.0.0,>=1.24.0 in /usr/local/lib/python3.10/dist-packages (from node2vec) (1.26.4)\n",
            "Requirement already satisfied: tqdm<5.0.0,>=4.66.1 in /usr/local/lib/python3.10/dist-packages (from node2vec) (4.66.6)\n",
            "Requirement already satisfied: scipy<1.14.0,>=1.7.0 in /usr/local/lib/python3.10/dist-packages (from gensim<5.0.0,>=4.3.0->node2vec) (1.13.1)\n",
            "Requirement already satisfied: smart-open>=1.8.1 in /usr/local/lib/python3.10/dist-packages (from gensim<5.0.0,>=4.3.0->node2vec) (7.0.5)\n",
            "Requirement already satisfied: wrapt in /usr/local/lib/python3.10/dist-packages (from smart-open>=1.8.1->gensim<5.0.0,>=4.3.0->node2vec) (1.16.0)\n",
            "Downloading node2vec-0.5.0-py3-none-any.whl (7.2 kB)\n",
            "Installing collected packages: node2vec\n",
            "Successfully installed node2vec-0.5.0\n"
          ]
        }
      ]
    },
    {
      "cell_type": "code",
      "source": [
        "!pip install torch_geometric"
      ],
      "metadata": {
        "colab": {
          "base_uri": "https://localhost:8080/"
        },
        "id": "haFRmjjq3Ixj",
        "outputId": "58a8b771-c05d-4082-dbcd-d1bee609348c"
      },
      "execution_count": 2,
      "outputs": [
        {
          "output_type": "stream",
          "name": "stdout",
          "text": [
            "Collecting torch_geometric\n",
            "  Downloading torch_geometric-2.6.1-py3-none-any.whl.metadata (63 kB)\n",
            "\u001b[?25l     \u001b[90m━━━━━━━━━━━━━━━━━━━━━━━━━━━━━━━━━━━━━━━━\u001b[0m \u001b[32m0.0/63.1 kB\u001b[0m \u001b[31m?\u001b[0m eta \u001b[36m-:--:--\u001b[0m\r\u001b[2K     \u001b[91m━━━━━━━━━━━━━━━━━━━━━━━━━━━━━━━━━━━━━━\u001b[0m\u001b[91m╸\u001b[0m\u001b[90m━\u001b[0m \u001b[32m61.4/63.1 kB\u001b[0m \u001b[31m3.1 MB/s\u001b[0m eta \u001b[36m0:00:01\u001b[0m\r\u001b[2K     \u001b[90m━━━━━━━━━━━━━━━━━━━━━━━━━━━━━━━━━━━━━━━━\u001b[0m \u001b[32m63.1/63.1 kB\u001b[0m \u001b[31m1.3 MB/s\u001b[0m eta \u001b[36m0:00:00\u001b[0m\n",
            "\u001b[?25hRequirement already satisfied: aiohttp in /usr/local/lib/python3.10/dist-packages (from torch_geometric) (3.10.10)\n",
            "Requirement already satisfied: fsspec in /usr/local/lib/python3.10/dist-packages (from torch_geometric) (2024.10.0)\n",
            "Requirement already satisfied: jinja2 in /usr/local/lib/python3.10/dist-packages (from torch_geometric) (3.1.4)\n",
            "Requirement already satisfied: numpy in /usr/local/lib/python3.10/dist-packages (from torch_geometric) (1.26.4)\n",
            "Requirement already satisfied: psutil>=5.8.0 in /usr/local/lib/python3.10/dist-packages (from torch_geometric) (5.9.5)\n",
            "Requirement already satisfied: pyparsing in /usr/local/lib/python3.10/dist-packages (from torch_geometric) (3.2.0)\n",
            "Requirement already satisfied: requests in /usr/local/lib/python3.10/dist-packages (from torch_geometric) (2.32.3)\n",
            "Requirement already satisfied: tqdm in /usr/local/lib/python3.10/dist-packages (from torch_geometric) (4.66.6)\n",
            "Requirement already satisfied: aiohappyeyeballs>=2.3.0 in /usr/local/lib/python3.10/dist-packages (from aiohttp->torch_geometric) (2.4.3)\n",
            "Requirement already satisfied: aiosignal>=1.1.2 in /usr/local/lib/python3.10/dist-packages (from aiohttp->torch_geometric) (1.3.1)\n",
            "Requirement already satisfied: attrs>=17.3.0 in /usr/local/lib/python3.10/dist-packages (from aiohttp->torch_geometric) (24.2.0)\n",
            "Requirement already satisfied: frozenlist>=1.1.1 in /usr/local/lib/python3.10/dist-packages (from aiohttp->torch_geometric) (1.5.0)\n",
            "Requirement already satisfied: multidict<7.0,>=4.5 in /usr/local/lib/python3.10/dist-packages (from aiohttp->torch_geometric) (6.1.0)\n",
            "Requirement already satisfied: yarl<2.0,>=1.12.0 in /usr/local/lib/python3.10/dist-packages (from aiohttp->torch_geometric) (1.17.1)\n",
            "Requirement already satisfied: async-timeout<5.0,>=4.0 in /usr/local/lib/python3.10/dist-packages (from aiohttp->torch_geometric) (4.0.3)\n",
            "Requirement already satisfied: MarkupSafe>=2.0 in /usr/local/lib/python3.10/dist-packages (from jinja2->torch_geometric) (3.0.2)\n",
            "Requirement already satisfied: charset-normalizer<4,>=2 in /usr/local/lib/python3.10/dist-packages (from requests->torch_geometric) (3.4.0)\n",
            "Requirement already satisfied: idna<4,>=2.5 in /usr/local/lib/python3.10/dist-packages (from requests->torch_geometric) (3.10)\n",
            "Requirement already satisfied: urllib3<3,>=1.21.1 in /usr/local/lib/python3.10/dist-packages (from requests->torch_geometric) (2.2.3)\n",
            "Requirement already satisfied: certifi>=2017.4.17 in /usr/local/lib/python3.10/dist-packages (from requests->torch_geometric) (2024.8.30)\n",
            "Requirement already satisfied: typing-extensions>=4.1.0 in /usr/local/lib/python3.10/dist-packages (from multidict<7.0,>=4.5->aiohttp->torch_geometric) (4.12.2)\n",
            "Requirement already satisfied: propcache>=0.2.0 in /usr/local/lib/python3.10/dist-packages (from yarl<2.0,>=1.12.0->aiohttp->torch_geometric) (0.2.0)\n",
            "Downloading torch_geometric-2.6.1-py3-none-any.whl (1.1 MB)\n",
            "\u001b[2K   \u001b[90m━━━━━━━━━━━━━━━━━━━━━━━━━━━━━━━━━━━━━━━━\u001b[0m \u001b[32m1.1/1.1 MB\u001b[0m \u001b[31m15.4 MB/s\u001b[0m eta \u001b[36m0:00:00\u001b[0m\n",
            "\u001b[?25hInstalling collected packages: torch_geometric\n",
            "Successfully installed torch_geometric-2.6.1\n"
          ]
        }
      ]
    },
    {
      "cell_type": "code",
      "source": [
        "import networkx as nx\n",
        "import numpy as np\n",
        "from tqdm import tqdm\n",
        "from matplotlib import pyplot as plt\n",
        "from node2vec import Node2Vec\n",
        "import random\n",
        "SEED = 10"
      ],
      "metadata": {
        "id": "EgVWNp2RwH1r"
      },
      "execution_count": 3,
      "outputs": []
    },
    {
      "cell_type": "code",
      "source": [
        "import torch\n",
        "import torch.nn.functional as F\n",
        "from torch_geometric.nn import GCNConv, GATConv, GINConv\n",
        "from sklearn.metrics import roc_curve,accuracy_score, roc_auc_score, confusion_matrix\n",
        "import torch.nn as nn\n"
      ],
      "metadata": {
        "id": "MjmKIOzU3HOZ"
      },
      "execution_count": 53,
      "outputs": []
    },
    {
      "cell_type": "markdown",
      "source": [
        "# read data"
      ],
      "metadata": {
        "id": "CgcI8ABbv_Z7"
      }
    },
    {
      "cell_type": "code",
      "execution_count": 5,
      "metadata": {
        "id": "zX5hqr37umKQ"
      },
      "outputs": [],
      "source": [
        "edges = []\n",
        "with open('graph.txt', 'r') as file:\n",
        "    for line in file:\n",
        "        # Split each line into two numbers and convert them to integers\n",
        "        pair = list(map(int, line.strip().split()))\n",
        "        edges.append(pair)\n",
        "\n",
        "\n",
        "with open('train.txt', 'r') as file:\n",
        "    lines = file.readlines()\n",
        "    btrain = list(map(float, lines[0].strip().split()))\n",
        "    strain = list(map(float, lines[1].strip().split()))\n",
        "\n",
        "with open('test.txt', 'r') as file:\n",
        "    lines = file.readlines()\n",
        "    btest = list(map(float, lines[0].strip().split()))\n",
        "    stest = list(map(float, lines[1].strip().split()))"
      ]
    },
    {
      "cell_type": "code",
      "source": [
        "print(\"Length of edges:\", len(edges),\n",
        "      \"| Length of btrain:\", len(btrain),\n",
        "      \"| Length of btest:\", len(btest),\n",
        "      \"| Length of strain:\", len(strain),\n",
        "      \"| Length of stest:\", len(stest))"
      ],
      "metadata": {
        "colab": {
          "base_uri": "https://localhost:8080/"
        },
        "id": "fnW9_Dy_vsFB",
        "outputId": "7189e530-00c3-49e2-e2d9-33d89b897896"
      },
      "execution_count": 6,
      "outputs": [
        {
          "output_type": "stream",
          "name": "stdout",
          "text": [
            "Length of edges: 6818501 | Length of btrain: 20000 | Length of btest: 158377 | Length of strain: 10000 | Length of stest: 81263\n"
          ]
        }
      ]
    },
    {
      "cell_type": "markdown",
      "source": [
        "# data preparation"
      ],
      "metadata": {
        "id": "8SU1c25fwCqY"
      }
    },
    {
      "cell_type": "code",
      "source": [
        "bigG = nx.Graph()\n",
        "bigG.add_edges_from(edges)"
      ],
      "metadata": {
        "id": "fyIw0zUmv6hf"
      },
      "execution_count": 7,
      "outputs": []
    },
    {
      "cell_type": "code",
      "source": [
        "trainG = bigG.subgraph(btrain+strain).copy()\n",
        "testG = bigG.subgraph(btest+stest).copy()"
      ],
      "metadata": {
        "id": "I4o9aiC5waFz"
      },
      "execution_count": 8,
      "outputs": []
    },
    {
      "cell_type": "code",
      "source": [
        "print(len(bigG.nodes()),len(trainG.nodes()),len(testG.nodes()))"
      ],
      "metadata": {
        "colab": {
          "base_uri": "https://localhost:8080/"
        },
        "id": "Q06KncG38N1m",
        "outputId": "ee75eaf7-b061-434e-fa50-0bb93716ab3a"
      },
      "execution_count": 9,
      "outputs": [
        {
          "output_type": "stream",
          "name": "stdout",
          "text": [
            "269640 30000 239640\n"
          ]
        }
      ]
    },
    {
      "cell_type": "code",
      "source": [
        "def reindex_graph_and_dictionaries(G, train, test):\n",
        "    new_index_mapping = {old_index: new_index for new_index, old_index in enumerate(G.nodes())}\n",
        "    G_reindexed = nx.relabel_nodes(G, new_index_mapping)\n",
        "\n",
        "    train = [new_index_mapping[int(node)] for node in train]\n",
        "    test =  [new_index_mapping[int(node)] for node in test]\n",
        "\n",
        "    return G_reindexed, train, test"
      ],
      "metadata": {
        "id": "ngN-8QLy6BEr"
      },
      "execution_count": 10,
      "outputs": []
    },
    {
      "cell_type": "code",
      "source": [
        "trainG,btrain,strain =reindex_graph_and_dictionaries(trainG, btrain,strain)\n",
        "testG,btest,stest =reindex_graph_and_dictionaries(testG, btest,stest)"
      ],
      "metadata": {
        "id": "X_YRW5E_9n1h"
      },
      "execution_count": 11,
      "outputs": []
    },
    {
      "cell_type": "code",
      "source": [
        "trainDictionaryX = {}\n",
        "trainDictionaryY = {}\n",
        "testDictionaryX = {}\n",
        "testDictionaryY = {}\n",
        "\n",
        "random.seed(SEED)\n",
        "\n",
        "c=0\n",
        "for node in btrain:\n",
        "    if random.random() < 0.20:\n",
        "        c+=1\n",
        "        trainDictionaryX[node] = [0]\n",
        "    else:\n",
        "        trainDictionaryX[node] = [0.5]\n",
        "    trainDictionaryY[node] = 0\n",
        "print(c)\n",
        "\n",
        "c=0\n",
        "for node in strain:\n",
        "    if random.random() < 0.20:\n",
        "        c+=1\n",
        "        trainDictionaryX[node] = [1]\n",
        "    else:\n",
        "        trainDictionaryX[node] = [0.5]\n",
        "    trainDictionaryY[node] = 1\n",
        "print(c)\n",
        "\n",
        "c=0\n",
        "for node in btest:\n",
        "    if random.random() < 0.1:\n",
        "        c+=1\n",
        "        testDictionaryX[node] = [0]\n",
        "    else:\n",
        "        testDictionaryX[node] = [0.5]\n",
        "    testDictionaryY[node] = 0\n",
        "print(c)\n",
        "\n",
        "c=0\n",
        "for node in stest:\n",
        "    if random.random() < 0.1:\n",
        "        c+=1\n",
        "        testDictionaryX[node] = [1]\n",
        "    else:\n",
        "        testDictionaryX[node] = [0.5]\n",
        "    testDictionaryY[node] = 1\n",
        "print(c)"
      ],
      "metadata": {
        "id": "JBbGkflLwncB",
        "colab": {
          "base_uri": "https://localhost:8080/"
        },
        "outputId": "b1182929-4e1a-4f42-813f-734ab2363386"
      },
      "execution_count": 12,
      "outputs": [
        {
          "output_type": "stream",
          "name": "stdout",
          "text": [
            "4038\n",
            "1986\n",
            "15631\n",
            "8053\n"
          ]
        }
      ]
    },
    {
      "cell_type": "code",
      "source": [
        "# print(len(btrain))\n",
        "# print(len(strain))\n",
        "# print(len(btest))\n",
        "# print(len(stest))\n"
      ],
      "metadata": {
        "id": "trTy5my5TKmA"
      },
      "execution_count": null,
      "outputs": []
    },
    {
      "cell_type": "markdown",
      "source": [
        "#model"
      ],
      "metadata": {
        "id": "DeK6WQGZ3GfY"
      }
    },
    {
      "cell_type": "code",
      "source": [
        "# Prepare data (assuming PyTorch Geometric format for graphs)\n",
        "def prepare_data(graph, dictionaryX, dictionaryY):\n",
        "    x = torch.tensor([dictionaryX[node] for node in graph.nodes()], dtype=torch.float)\n",
        "    y = torch.tensor([dictionaryY[node] for node in graph.nodes()], dtype=torch.long)\n",
        "    # edge_index = torch.tensor(list(graph.edges())).t().contiguous()\n",
        "    edge_index = torch.tensor(list(graph.edges()), dtype=torch.long).t().contiguous()\n",
        "    return x, y, edge_index"
      ],
      "metadata": {
        "id": "8vMqaJny3Htr"
      },
      "execution_count": 13,
      "outputs": []
    },
    {
      "cell_type": "code",
      "source": [],
      "metadata": {
        "id": "b09R-ELwOUc1"
      },
      "execution_count": 13,
      "outputs": []
    },
    {
      "cell_type": "code",
      "source": [
        "def pure_sybil_test(test_x, test_y):\n",
        "    print(len(test_x))\n",
        "    mask = (test_y == 1)\n",
        "    x = test_x[mask]\n",
        "    y = test_y[mask]\n",
        "    print(len(x))\n",
        "    return x, y, mask"
      ],
      "metadata": {
        "id": "hPBrJe9eOVjD"
      },
      "execution_count": 14,
      "outputs": []
    },
    {
      "cell_type": "code",
      "source": [
        "train_x, train_y, train_edge_index = prepare_data(trainG, trainDictionaryX, trainDictionaryY)\n",
        "test_x, test_y, test_edge_index = prepare_data(testG, testDictionaryX, testDictionaryY)\n",
        "test_x2, test_y2, mask2 = pure_sybil_test(test_x, test_y)\n"
      ],
      "metadata": {
        "id": "awhrP4TK4hDH",
        "colab": {
          "base_uri": "https://localhost:8080/"
        },
        "outputId": "ab1ee71a-0d7a-421c-94f3-0d33f6e3c0ea"
      },
      "execution_count": 15,
      "outputs": [
        {
          "output_type": "stream",
          "name": "stdout",
          "text": [
            "239640\n",
            "81263\n"
          ]
        }
      ]
    },
    {
      "cell_type": "markdown",
      "source": [
        "## spiker"
      ],
      "metadata": {
        "id": "N-T6lbloNRSz"
      }
    },
    {
      "cell_type": "code",
      "source": [
        "class InputSpikingLayer(nn.Module):\n",
        "    def __init__(self, threshold=0.5):\n",
        "        super(InputSpikingLayer, self).__init__()\n",
        "        self.threshold = threshold\n",
        "\n",
        "    def forward(self, x):\n",
        "        # Apply simple spiking to the input features only\n",
        "        spikes = (x > self.threshold).float()\n",
        "        return spikes * x\n",
        "\n",
        "class GATWithInputSpiking(nn.Module):\n",
        "    def __init__(self, input_dim, hidden_dim, output_dim, heads=1, threshold=0.5):\n",
        "        super(GATWithInputSpiking, self).__init__()\n",
        "        self.spike_input = InputSpikingLayer(threshold=threshold)  # Apply spiking only to the input\n",
        "        self.conv1 = GATConv(input_dim, hidden_dim, heads=heads)\n",
        "        self.conv2 = GATConv(hidden_dim * heads, output_dim, heads=1)  # Single head in the final layer\n",
        "\n",
        "    def forward(self, x, edge_index):\n",
        "        # Apply spiking to input only\n",
        "        x = self.spike_input(x)  # Apply spiking only at the input layer\n",
        "        x = self.conv1(x, edge_index)\n",
        "        x = F.elu(x)  # ELU activation\n",
        "        x = self.conv2(x, edge_index)\n",
        "        return F.log_softmax(x, dim=1)\n",
        "\n"
      ],
      "metadata": {
        "id": "D4tiK_DByYRN"
      },
      "execution_count": 58,
      "outputs": []
    },
    {
      "cell_type": "markdown",
      "source": [
        "## other models"
      ],
      "metadata": {
        "id": "WMNaAW63NXqY"
      }
    },
    {
      "cell_type": "code",
      "source": [
        "class GCN(torch.nn.Module):\n",
        "    def __init__(self, input_dim, hidden_dim, output_dim, num_layers, dropout=True):\n",
        "        super(GCN, self).__init__()\n",
        "        self.dropout = dropout\n",
        "        self.convs = torch.nn.ModuleList()\n",
        "        self.num_classes = output_dim\n",
        "        for i in range(num_layers):\n",
        "            if i == 0:  # First layer\n",
        "                self.convs.append(GCNConv(input_dim, hidden_dim, bias=True))\n",
        "            elif i == num_layers - 1:  # Last layer\n",
        "                self.convs.append(GCNConv(hidden_dim, output_dim, bias=True))\n",
        "            else:  # Middle layers\n",
        "                self.convs.append(GCNConv(hidden_dim, hidden_dim, bias=True))\n",
        "\n",
        "    def forward(self, x, edge_index):\n",
        "        h = x\n",
        "        i = 0\n",
        "        for conv in self.convs:\n",
        "            if self.dropout:\n",
        "                h = F.dropout(h, p=0.5, training=self.training)\n",
        "            h = conv(h, edge_index)\n",
        "            if i < len(self.convs) - 1:\n",
        "                h = F.tanh(h)\n",
        "            i += 1\n",
        "\n",
        "        if self.num_classes == 1:\n",
        "            return F.sigmoid(h), h\n",
        "        else:\n",
        "            return F.softmax(h, dim=1)\n",
        "\n",
        "\n",
        "\n",
        "\n",
        "class GAT(torch.nn.Module):\n",
        "    def __init__(self, input_dim, hidden_dim, output_dim, heads=1):\n",
        "        super(GAT, self).__init__()\n",
        "        self.conv1 = GATConv(input_dim, hidden_dim, heads=heads)\n",
        "        self.conv2 = GATConv(hidden_dim * heads, output_dim, heads=1)  # Single head in the final layer\n",
        "\n",
        "    def forward(self, x, edge_index):\n",
        "        x = self.conv1(x, edge_index)\n",
        "        x = F.elu(x)  # ELU is commonly used in GAT models instead of ReLU\n",
        "        x = self.conv2(x, edge_index)\n",
        "        return F.log_softmax(x, dim=1)"
      ],
      "metadata": {
        "id": "n2y5RCQ2xs0i"
      },
      "execution_count": 16,
      "outputs": []
    },
    {
      "cell_type": "code",
      "source": [
        "class GINGATHybrid(torch.nn.Module):\n",
        "    def __init__(self, input_dim, hidden_dim, output_dim, gin_hidden_dim, gat_heads=1):\n",
        "        super(GINGATHybrid, self).__init__()\n",
        "        # Define GIN layer with an MLP\n",
        "        self.gin_mlp = nn.Sequential(\n",
        "            nn.Linear(input_dim, gin_hidden_dim),\n",
        "            nn.ReLU(),\n",
        "            nn.Linear(gin_hidden_dim, hidden_dim)\n",
        "        )\n",
        "        self.gin_conv = GINConv(self.gin_mlp)\n",
        "\n",
        "        # Define GAT layers\n",
        "        self.gat_conv1 = GATConv(hidden_dim, hidden_dim, heads=gat_heads)\n",
        "        self.gat_conv2 = GATConv(hidden_dim * gat_heads, output_dim, heads=1)  # Single head in final layer\n",
        "\n",
        "    def forward(self, x, edge_index):\n",
        "        # Apply GIN convolution\n",
        "        x = self.gin_conv(x, edge_index)\n",
        "        x = F.elu(x)  # Activation after GIN layer\n",
        "\n",
        "        # Apply GAT layers\n",
        "        x = self.gat_conv1(x, edge_index)\n",
        "        x = F.elu(x)  # Activation after GAT layer\n",
        "        x = self.gat_conv2(x, edge_index)\n",
        "\n",
        "        # Final output\n",
        "        return F.log_softmax(x, dim=1)\n",
        "\n",
        "\n"
      ],
      "metadata": {
        "id": "7PZ9H8yQM8Kz"
      },
      "execution_count": 62,
      "outputs": []
    },
    {
      "cell_type": "code",
      "source": [
        "def run_model(model,epoch_number):\n",
        "    optimizer = torch.optim.Adam(model.parameters(), lr=0.01)\n",
        "    loss_fn = torch.nn.CrossEntropyLoss()\n",
        "\n",
        "    model.train()\n",
        "    for epoch in tqdm(range(epoch_number)):\n",
        "        optimizer.zero_grad()\n",
        "        out = model(train_x, train_edge_index)\n",
        "        loss = loss_fn(out, train_y)\n",
        "        loss.backward()\n",
        "        optimizer.step()\n",
        "        if (epoch+1)%20 == 0 or epoch==0:\n",
        "            print(f'Epoch {epoch + 1}, Loss: {loss.item()}')\n",
        "\n",
        "    model.eval()\n",
        "    with torch.no_grad():\n",
        "        test_out = model(test_x, test_edge_index)\n",
        "        pred = test_out.argmax(dim=1).cpu()\n",
        "\n",
        "        # Compute metrics\n",
        "        acc = accuracy_score(test_y, pred)\n",
        "        auc = roc_auc_score(test_y, test_out[:, 1], multi_class='ovo')  # Adjust depending on binary or multi-class\n",
        "        cm = confusion_matrix(test_y, pred)\n",
        "        cm = cm.astype('float') / len(pred)\n",
        "\n",
        "\n",
        "        print(f'Accuracy: {acc:.3f}')\n",
        "        print(f'AUC: {auc:.3f}')\n",
        "        print('Confusion Matrix:')\n",
        "        print(f\"                  Predicted Negative    Predicted Positive\")\n",
        "        print(f\"Actual Negative       {cm[0, 0]:.3f}           {cm[0, 1]:.3f}\")\n",
        "        print(f\"Actual Positive       {cm[1, 0]:.3f}           {cm[1, 1]:.3f}\")\n",
        "\n",
        "        print(\"\\n--------------------------just sybils-----------------------------\\n\")\n",
        "\n",
        "        test_out = model(test_x, test_edge_index)\n",
        "        test_out = test_out[mask2]\n",
        "        pred = test_out.argmax(dim=1).cpu()\n",
        "        acc = accuracy_score(test_y2, pred)\n",
        "        print(f'Accuracy: {acc:.3f}')\n",
        "\n",
        "\n",
        "    with torch.no_grad():\n",
        "        test_out = model(test_x, test_edge_index)\n",
        "        pred = test_out.argmax(dim=1).cpu()\n",
        "\n",
        "        # Compute AUC score as usual\n",
        "        auc = roc_auc_score(test_y, test_out[:, 1], multi_class='ovo')\n",
        "        fpr, tpr, thresholds = roc_curve(test_y, test_out[:, 1])\n",
        "        j_scores = tpr - fpr\n",
        "        optimal_threshold = thresholds[j_scores.argmax()]\n",
        "        pred = (test_out[:, 1] >= optimal_threshold)\n",
        "        acc = accuracy_score(test_y, pred)\n",
        "\n",
        "        # just sybil\n",
        "        test_out = test_out[mask2]\n",
        "        pred = (test_out[:, 1] >= optimal_threshold)\n",
        "        acc_sybils = accuracy_score(test_y2, pred)\n",
        "        print(\"Accuracy with optimal threshold:\", acc)\n",
        "        print(\"Accuracy with optimal threshold just for sybils:\", acc_sybils)"
      ],
      "metadata": {
        "id": "eYKz6trrnhMU"
      },
      "execution_count": 22,
      "outputs": []
    },
    {
      "cell_type": "code",
      "source": [
        "\n",
        "input_dim = 1\n",
        "hidden_dim = 16\n",
        "output_dim = 2\n",
        "gin_hidden_dim = 32\n",
        "gat_heads = 4\n",
        "\n",
        "model = GINGATHybrid(input_dim, hidden_dim, output_dim, gin_hidden_dim, gat_heads)\n",
        "print(model)\n",
        "run_model(model,epoch_number=300)"
      ],
      "metadata": {
        "colab": {
          "base_uri": "https://localhost:8080/"
        },
        "id": "jIi4_JraM-tV",
        "outputId": "b7f8d251-92c8-4c58-f306-5da244f33b69"
      },
      "execution_count": 65,
      "outputs": [
        {
          "output_type": "stream",
          "name": "stdout",
          "text": [
            "GINGATHybrid(\n",
            "  (gin_mlp): Sequential(\n",
            "    (0): Linear(in_features=1, out_features=32, bias=True)\n",
            "    (1): ReLU()\n",
            "    (2): Linear(in_features=32, out_features=16, bias=True)\n",
            "  )\n",
            "  (gin_conv): GINConv(nn=Sequential(\n",
            "    (0): Linear(in_features=1, out_features=32, bias=True)\n",
            "    (1): ReLU()\n",
            "    (2): Linear(in_features=32, out_features=16, bias=True)\n",
            "  ))\n",
            "  (gat_conv1): GATConv(16, 16, heads=4)\n",
            "  (gat_conv2): GATConv(64, 2, heads=1)\n",
            ")\n"
          ]
        },
        {
          "output_type": "stream",
          "name": "stderr",
          "text": [
            "  0%|          | 1/300 [00:01<07:25,  1.49s/it]"
          ]
        },
        {
          "output_type": "stream",
          "name": "stdout",
          "text": [
            "Epoch 1, Loss: 0.8596888780593872\n"
          ]
        },
        {
          "output_type": "stream",
          "name": "stderr",
          "text": [
            "  7%|▋         | 20/300 [00:12<02:58,  1.57it/s]"
          ]
        },
        {
          "output_type": "stream",
          "name": "stdout",
          "text": [
            "Epoch 20, Loss: 0.629577100276947\n"
          ]
        },
        {
          "output_type": "stream",
          "name": "stderr",
          "text": [
            " 13%|█▎        | 40/300 [00:24<02:20,  1.85it/s]"
          ]
        },
        {
          "output_type": "stream",
          "name": "stdout",
          "text": [
            "Epoch 40, Loss: 0.5684300661087036\n"
          ]
        },
        {
          "output_type": "stream",
          "name": "stderr",
          "text": [
            " 20%|██        | 60/300 [00:36<02:10,  1.84it/s]"
          ]
        },
        {
          "output_type": "stream",
          "name": "stdout",
          "text": [
            "Epoch 60, Loss: 0.5333305597305298\n"
          ]
        },
        {
          "output_type": "stream",
          "name": "stderr",
          "text": [
            " 27%|██▋       | 80/300 [00:48<02:00,  1.82it/s]"
          ]
        },
        {
          "output_type": "stream",
          "name": "stdout",
          "text": [
            "Epoch 80, Loss: 0.520940899848938\n"
          ]
        },
        {
          "output_type": "stream",
          "name": "stderr",
          "text": [
            " 33%|███▎      | 100/300 [01:00<01:49,  1.82it/s]"
          ]
        },
        {
          "output_type": "stream",
          "name": "stdout",
          "text": [
            "Epoch 100, Loss: 0.5105202198028564\n"
          ]
        },
        {
          "output_type": "stream",
          "name": "stderr",
          "text": [
            " 40%|████      | 120/300 [01:12<01:44,  1.72it/s]"
          ]
        },
        {
          "output_type": "stream",
          "name": "stdout",
          "text": [
            "Epoch 120, Loss: 0.5158120393753052\n"
          ]
        },
        {
          "output_type": "stream",
          "name": "stderr",
          "text": [
            " 47%|████▋     | 140/300 [01:24<01:46,  1.50it/s]"
          ]
        },
        {
          "output_type": "stream",
          "name": "stdout",
          "text": [
            "Epoch 140, Loss: 0.49690762162208557\n"
          ]
        },
        {
          "output_type": "stream",
          "name": "stderr",
          "text": [
            " 53%|█████▎    | 160/300 [01:36<01:38,  1.42it/s]"
          ]
        },
        {
          "output_type": "stream",
          "name": "stdout",
          "text": [
            "Epoch 160, Loss: 0.5043821930885315\n"
          ]
        },
        {
          "output_type": "stream",
          "name": "stderr",
          "text": [
            " 60%|██████    | 180/300 [01:47<01:07,  1.78it/s]"
          ]
        },
        {
          "output_type": "stream",
          "name": "stdout",
          "text": [
            "Epoch 180, Loss: 0.4914276599884033\n"
          ]
        },
        {
          "output_type": "stream",
          "name": "stderr",
          "text": [
            " 67%|██████▋   | 200/300 [01:59<00:54,  1.83it/s]"
          ]
        },
        {
          "output_type": "stream",
          "name": "stdout",
          "text": [
            "Epoch 200, Loss: 0.48476943373680115\n"
          ]
        },
        {
          "output_type": "stream",
          "name": "stderr",
          "text": [
            " 73%|███████▎  | 220/300 [02:11<00:43,  1.83it/s]"
          ]
        },
        {
          "output_type": "stream",
          "name": "stdout",
          "text": [
            "Epoch 220, Loss: 0.4963274598121643\n"
          ]
        },
        {
          "output_type": "stream",
          "name": "stderr",
          "text": [
            " 80%|████████  | 240/300 [02:23<00:32,  1.82it/s]"
          ]
        },
        {
          "output_type": "stream",
          "name": "stdout",
          "text": [
            "Epoch 240, Loss: 0.48645469546318054\n"
          ]
        },
        {
          "output_type": "stream",
          "name": "stderr",
          "text": [
            " 87%|████████▋ | 260/300 [02:35<00:22,  1.77it/s]"
          ]
        },
        {
          "output_type": "stream",
          "name": "stdout",
          "text": [
            "Epoch 260, Loss: 0.479224294424057\n"
          ]
        },
        {
          "output_type": "stream",
          "name": "stderr",
          "text": [
            " 93%|█████████▎| 280/300 [02:47<00:12,  1.65it/s]"
          ]
        },
        {
          "output_type": "stream",
          "name": "stdout",
          "text": [
            "Epoch 280, Loss: 0.4736780822277069\n"
          ]
        },
        {
          "output_type": "stream",
          "name": "stderr",
          "text": [
            "100%|██████████| 300/300 [02:59<00:00,  1.67it/s]"
          ]
        },
        {
          "output_type": "stream",
          "name": "stdout",
          "text": [
            "Epoch 300, Loss: 0.5141963958740234\n"
          ]
        },
        {
          "output_type": "stream",
          "name": "stderr",
          "text": [
            "\n"
          ]
        },
        {
          "output_type": "stream",
          "name": "stdout",
          "text": [
            "Accuracy: 0.496\n",
            "AUC: 0.637\n",
            "Confusion Matrix:\n",
            "                  Predicted Negative    Predicted Positive\n",
            "Actual Negative       0.251           0.410\n",
            "Actual Positive       0.094           0.245\n",
            "\n",
            "--------------------------just sybils-----------------------------\n",
            "\n",
            "Accuracy: 0.723\n",
            "Accuracy with optimal threshold: 0.7091428809881489\n",
            "Accuracy with optimal threshold just for sybils: 0.4054981972115231\n"
          ]
        }
      ]
    },
    {
      "cell_type": "code",
      "source": [
        "# Example of usage\n",
        "input_dim = 1\n",
        "hidden_dim = 16\n",
        "output_dim = len(set(trainDictionaryY.values()))\n",
        "\n",
        "model = GATWithInputSpiking(input_dim,hidden_dim,output_dim, heads=4, threshold=0.5)\n",
        "print(model)\n",
        "run_model(model,epoch_number=300)"
      ],
      "metadata": {
        "id": "McTwG_aFQI6O",
        "colab": {
          "base_uri": "https://localhost:8080/"
        },
        "outputId": "e402f932-6f07-4957-bd6f-d025ca720861"
      },
      "execution_count": 39,
      "outputs": [
        {
          "output_type": "stream",
          "name": "stdout",
          "text": [
            "GATWithInputSpiking(\n",
            "  (spike_input): InputSpikingLayer()\n",
            "  (conv1): GATConv(1, 16, heads=4)\n",
            "  (conv2): GATConv(64, 2, heads=1)\n",
            ")\n"
          ]
        },
        {
          "output_type": "stream",
          "name": "stderr",
          "text": [
            "  0%|          | 1/300 [00:00<04:24,  1.13it/s]"
          ]
        },
        {
          "output_type": "stream",
          "name": "stdout",
          "text": [
            "Epoch 1, Loss: 0.7006401419639587\n"
          ]
        },
        {
          "output_type": "stream",
          "name": "stderr",
          "text": [
            "  7%|▋         | 20/300 [00:14<02:27,  1.90it/s]"
          ]
        },
        {
          "output_type": "stream",
          "name": "stdout",
          "text": [
            "Epoch 20, Loss: 0.5670578479766846\n"
          ]
        },
        {
          "output_type": "stream",
          "name": "stderr",
          "text": [
            " 13%|█▎        | 40/300 [00:26<02:38,  1.64it/s]"
          ]
        },
        {
          "output_type": "stream",
          "name": "stdout",
          "text": [
            "Epoch 40, Loss: 0.5123280882835388\n"
          ]
        },
        {
          "output_type": "stream",
          "name": "stderr",
          "text": [
            " 20%|██        | 60/300 [00:42<02:29,  1.60it/s]"
          ]
        },
        {
          "output_type": "stream",
          "name": "stdout",
          "text": [
            "Epoch 60, Loss: 0.5058006048202515\n"
          ]
        },
        {
          "output_type": "stream",
          "name": "stderr",
          "text": [
            " 27%|██▋       | 80/300 [01:00<02:33,  1.44it/s]"
          ]
        },
        {
          "output_type": "stream",
          "name": "stdout",
          "text": [
            "Epoch 80, Loss: 0.504779577255249\n"
          ]
        },
        {
          "output_type": "stream",
          "name": "stderr",
          "text": [
            " 33%|███▎      | 100/300 [01:13<02:14,  1.48it/s]"
          ]
        },
        {
          "output_type": "stream",
          "name": "stdout",
          "text": [
            "Epoch 100, Loss: 0.5047159194946289\n"
          ]
        },
        {
          "output_type": "stream",
          "name": "stderr",
          "text": [
            " 40%|████      | 120/300 [01:24<01:50,  1.63it/s]"
          ]
        },
        {
          "output_type": "stream",
          "name": "stdout",
          "text": [
            "Epoch 120, Loss: 0.5046308040618896\n"
          ]
        },
        {
          "output_type": "stream",
          "name": "stderr",
          "text": [
            " 47%|████▋     | 140/300 [01:41<03:28,  1.31s/it]"
          ]
        },
        {
          "output_type": "stream",
          "name": "stdout",
          "text": [
            "Epoch 140, Loss: 0.5045755505561829\n"
          ]
        },
        {
          "output_type": "stream",
          "name": "stderr",
          "text": [
            " 53%|█████▎    | 160/300 [01:59<01:21,  1.72it/s]"
          ]
        },
        {
          "output_type": "stream",
          "name": "stdout",
          "text": [
            "Epoch 160, Loss: 0.5045275092124939\n"
          ]
        },
        {
          "output_type": "stream",
          "name": "stderr",
          "text": [
            " 60%|██████    | 180/300 [02:10<01:23,  1.44it/s]"
          ]
        },
        {
          "output_type": "stream",
          "name": "stdout",
          "text": [
            "Epoch 180, Loss: 0.5044828653335571\n"
          ]
        },
        {
          "output_type": "stream",
          "name": "stderr",
          "text": [
            " 67%|██████▋   | 200/300 [02:20<00:51,  1.94it/s]"
          ]
        },
        {
          "output_type": "stream",
          "name": "stdout",
          "text": [
            "Epoch 200, Loss: 0.5044488310813904\n"
          ]
        },
        {
          "output_type": "stream",
          "name": "stderr",
          "text": [
            " 73%|███████▎  | 220/300 [02:32<00:41,  1.95it/s]"
          ]
        },
        {
          "output_type": "stream",
          "name": "stdout",
          "text": [
            "Epoch 220, Loss: 0.5044134259223938\n"
          ]
        },
        {
          "output_type": "stream",
          "name": "stderr",
          "text": [
            " 80%|████████  | 240/300 [02:43<00:31,  1.91it/s]"
          ]
        },
        {
          "output_type": "stream",
          "name": "stdout",
          "text": [
            "Epoch 240, Loss: 0.5043637156486511\n"
          ]
        },
        {
          "output_type": "stream",
          "name": "stderr",
          "text": [
            " 87%|████████▋ | 260/300 [02:54<00:21,  1.88it/s]"
          ]
        },
        {
          "output_type": "stream",
          "name": "stdout",
          "text": [
            "Epoch 260, Loss: 0.5043269991874695\n"
          ]
        },
        {
          "output_type": "stream",
          "name": "stderr",
          "text": [
            " 93%|█████████▎| 280/300 [03:06<00:12,  1.62it/s]"
          ]
        },
        {
          "output_type": "stream",
          "name": "stdout",
          "text": [
            "Epoch 280, Loss: 0.5043070912361145\n"
          ]
        },
        {
          "output_type": "stream",
          "name": "stderr",
          "text": [
            "100%|██████████| 300/300 [03:17<00:00,  1.52it/s]"
          ]
        },
        {
          "output_type": "stream",
          "name": "stdout",
          "text": [
            "Epoch 300, Loss: 0.5042979121208191\n"
          ]
        },
        {
          "output_type": "stream",
          "name": "stderr",
          "text": [
            "\n"
          ]
        },
        {
          "output_type": "stream",
          "name": "stdout",
          "text": [
            "Accuracy: 0.836\n",
            "AUC: 0.876\n",
            "Confusion Matrix:\n",
            "                  Predicted Negative    Predicted Positive\n",
            "Actual Negative       0.636           0.025\n",
            "Actual Positive       0.139           0.200\n",
            "\n",
            "--------------------------just sybils-----------------------------\n",
            "\n",
            "Accuracy: 0.591\n",
            "Accuracy with optimal threshold: 0.8624561842764146\n",
            "Accuracy with optimal threshold just for sybils: 0.7989244797755436\n"
          ]
        }
      ]
    },
    {
      "cell_type": "code",
      "source": [
        "# Example of usage\n",
        "input_dim = 1\n",
        "hidden_dim = 32\n",
        "output_dim = len(set(trainDictionaryY.values()))\n",
        "\n",
        "model = GATWithInputSpiking(input_dim,hidden_dim,output_dim, heads=4, threshold=0.5)\n",
        "print(model)\n",
        "run_model(model,epoch_number=300)"
      ],
      "metadata": {
        "colab": {
          "base_uri": "https://localhost:8080/"
        },
        "id": "yYmigNHr8xcA",
        "outputId": "022951f7-10ea-482a-a266-d3d473f879e6"
      },
      "execution_count": 43,
      "outputs": [
        {
          "output_type": "stream",
          "name": "stdout",
          "text": [
            "GATWithInputSpiking(\n",
            "  (spike_input): InputSpikingLayer()\n",
            "  (conv1): GATConv(1, 32, heads=4)\n",
            "  (conv2): GATConv(128, 2, heads=1)\n",
            ")\n"
          ]
        },
        {
          "output_type": "stream",
          "name": "stderr",
          "text": [
            "  0%|          | 1/300 [00:01<08:32,  1.71s/it]"
          ]
        },
        {
          "output_type": "stream",
          "name": "stdout",
          "text": [
            "Epoch 1, Loss: 0.6914362907409668\n"
          ]
        },
        {
          "output_type": "stream",
          "name": "stderr",
          "text": [
            "  7%|▋         | 20/300 [00:20<04:33,  1.02it/s]"
          ]
        },
        {
          "output_type": "stream",
          "name": "stdout",
          "text": [
            "Epoch 20, Loss: 0.5113051533699036\n"
          ]
        },
        {
          "output_type": "stream",
          "name": "stderr",
          "text": [
            " 13%|█▎        | 40/300 [00:39<03:52,  1.12it/s]"
          ]
        },
        {
          "output_type": "stream",
          "name": "stdout",
          "text": [
            "Epoch 40, Loss: 0.506126344203949\n"
          ]
        },
        {
          "output_type": "stream",
          "name": "stderr",
          "text": [
            " 20%|██        | 60/300 [00:58<04:16,  1.07s/it]"
          ]
        },
        {
          "output_type": "stream",
          "name": "stdout",
          "text": [
            "Epoch 60, Loss: 0.5047684907913208\n"
          ]
        },
        {
          "output_type": "stream",
          "name": "stderr",
          "text": [
            " 27%|██▋       | 80/300 [01:17<03:20,  1.10it/s]"
          ]
        },
        {
          "output_type": "stream",
          "name": "stdout",
          "text": [
            "Epoch 80, Loss: 0.504551112651825\n"
          ]
        },
        {
          "output_type": "stream",
          "name": "stderr",
          "text": [
            " 33%|███▎      | 100/300 [01:36<02:54,  1.15it/s]"
          ]
        },
        {
          "output_type": "stream",
          "name": "stdout",
          "text": [
            "Epoch 100, Loss: 0.5044715404510498\n"
          ]
        },
        {
          "output_type": "stream",
          "name": "stderr",
          "text": [
            " 40%|████      | 120/300 [01:55<02:58,  1.01it/s]"
          ]
        },
        {
          "output_type": "stream",
          "name": "stdout",
          "text": [
            "Epoch 120, Loss: 0.5044174790382385\n"
          ]
        },
        {
          "output_type": "stream",
          "name": "stderr",
          "text": [
            " 47%|████▋     | 140/300 [02:14<02:23,  1.11it/s]"
          ]
        },
        {
          "output_type": "stream",
          "name": "stdout",
          "text": [
            "Epoch 140, Loss: 0.5043846964836121\n"
          ]
        },
        {
          "output_type": "stream",
          "name": "stderr",
          "text": [
            " 53%|█████▎    | 160/300 [02:33<02:29,  1.07s/it]"
          ]
        },
        {
          "output_type": "stream",
          "name": "stdout",
          "text": [
            "Epoch 160, Loss: 0.5043570399284363\n"
          ]
        },
        {
          "output_type": "stream",
          "name": "stderr",
          "text": [
            " 60%|██████    | 180/300 [02:52<01:48,  1.11it/s]"
          ]
        },
        {
          "output_type": "stream",
          "name": "stdout",
          "text": [
            "Epoch 180, Loss: 0.5043335556983948\n"
          ]
        },
        {
          "output_type": "stream",
          "name": "stderr",
          "text": [
            " 67%|██████▋   | 200/300 [03:11<01:26,  1.15it/s]"
          ]
        },
        {
          "output_type": "stream",
          "name": "stdout",
          "text": [
            "Epoch 200, Loss: 0.5043203234672546\n"
          ]
        },
        {
          "output_type": "stream",
          "name": "stderr",
          "text": [
            " 73%|███████▎  | 220/300 [03:30<01:20,  1.01s/it]"
          ]
        },
        {
          "output_type": "stream",
          "name": "stdout",
          "text": [
            "Epoch 220, Loss: 0.5043127536773682\n"
          ]
        },
        {
          "output_type": "stream",
          "name": "stderr",
          "text": [
            " 80%|████████  | 240/300 [03:48<00:52,  1.14it/s]"
          ]
        },
        {
          "output_type": "stream",
          "name": "stdout",
          "text": [
            "Epoch 240, Loss: 0.5043050646781921\n"
          ]
        },
        {
          "output_type": "stream",
          "name": "stderr",
          "text": [
            " 87%|████████▋ | 260/300 [04:06<00:36,  1.09it/s]"
          ]
        },
        {
          "output_type": "stream",
          "name": "stdout",
          "text": [
            "Epoch 260, Loss: 0.504295289516449\n"
          ]
        },
        {
          "output_type": "stream",
          "name": "stderr",
          "text": [
            " 93%|█████████▎| 280/300 [04:26<00:18,  1.06it/s]"
          ]
        },
        {
          "output_type": "stream",
          "name": "stdout",
          "text": [
            "Epoch 280, Loss: 0.504282534122467\n"
          ]
        },
        {
          "output_type": "stream",
          "name": "stderr",
          "text": [
            "100%|██████████| 300/300 [04:44<00:00,  1.05it/s]"
          ]
        },
        {
          "output_type": "stream",
          "name": "stdout",
          "text": [
            "Epoch 300, Loss: 0.5042658448219299\n"
          ]
        },
        {
          "output_type": "stream",
          "name": "stderr",
          "text": [
            "\n"
          ]
        },
        {
          "output_type": "stream",
          "name": "stdout",
          "text": [
            "Accuracy: 0.835\n",
            "AUC: 0.875\n",
            "Confusion Matrix:\n",
            "                  Predicted Negative    Predicted Positive\n",
            "Actual Negative       0.637           0.024\n",
            "Actual Positive       0.142           0.197\n",
            "\n",
            "--------------------------just sybils-----------------------------\n",
            "\n",
            "Accuracy: 0.582\n",
            "Accuracy with optimal threshold: 0.8586838591220164\n",
            "Accuracy with optimal threshold just for sybils: 0.8040436607065946\n"
          ]
        }
      ]
    },
    {
      "cell_type": "code",
      "source": [
        "# Initialize model, optimizer, and loss function\n",
        "input_dim = 1\n",
        "hidden_dim = 16\n",
        "output_dim = len(set(trainDictionaryY.values()))  # Number of classes\n",
        "\n",
        "model = GCN(input_dim, hidden_dim, output_dim, num_layers=3)\n",
        "run_model(model,epoch_number=300)"
      ],
      "metadata": {
        "id": "En9Mj7nQnsFO",
        "outputId": "a6936507-7d0f-492d-a9d0-b8d998bbdff8",
        "colab": {
          "base_uri": "https://localhost:8080/"
        }
      },
      "execution_count": 25,
      "outputs": [
        {
          "output_type": "stream",
          "name": "stderr",
          "text": [
            "  1%|          | 2/300 [00:00<00:57,  5.22it/s]"
          ]
        },
        {
          "output_type": "stream",
          "name": "stdout",
          "text": [
            "Epoch 1, Loss: 0.7097325325012207\n"
          ]
        },
        {
          "output_type": "stream",
          "name": "stderr",
          "text": [
            "  7%|▋         | 21/300 [00:04<01:02,  4.46it/s]"
          ]
        },
        {
          "output_type": "stream",
          "name": "stdout",
          "text": [
            "Epoch 20, Loss: 0.6364270448684692\n"
          ]
        },
        {
          "output_type": "stream",
          "name": "stderr",
          "text": [
            " 14%|█▎        | 41/300 [00:08<00:45,  5.75it/s]"
          ]
        },
        {
          "output_type": "stream",
          "name": "stdout",
          "text": [
            "Epoch 40, Loss: 0.6369479894638062\n"
          ]
        },
        {
          "output_type": "stream",
          "name": "stderr",
          "text": [
            " 20%|██        | 61/300 [00:11<00:41,  5.80it/s]"
          ]
        },
        {
          "output_type": "stream",
          "name": "stdout",
          "text": [
            "Epoch 60, Loss: 0.635244607925415\n"
          ]
        },
        {
          "output_type": "stream",
          "name": "stderr",
          "text": [
            " 27%|██▋       | 80/300 [00:14<00:42,  5.18it/s]"
          ]
        },
        {
          "output_type": "stream",
          "name": "stdout",
          "text": [
            "Epoch 80, Loss: 0.6325083374977112\n"
          ]
        },
        {
          "output_type": "stream",
          "name": "stderr",
          "text": [
            " 34%|███▎      | 101/300 [00:19<00:35,  5.53it/s]"
          ]
        },
        {
          "output_type": "stream",
          "name": "stdout",
          "text": [
            "Epoch 100, Loss: 0.6349645256996155\n"
          ]
        },
        {
          "output_type": "stream",
          "name": "stderr",
          "text": [
            " 40%|████      | 121/300 [00:22<00:30,  5.91it/s]"
          ]
        },
        {
          "output_type": "stream",
          "name": "stdout",
          "text": [
            "Epoch 120, Loss: 0.6342428922653198\n"
          ]
        },
        {
          "output_type": "stream",
          "name": "stderr",
          "text": [
            " 47%|████▋     | 141/300 [00:26<00:26,  5.97it/s]"
          ]
        },
        {
          "output_type": "stream",
          "name": "stdout",
          "text": [
            "Epoch 140, Loss: 0.6306250095367432\n"
          ]
        },
        {
          "output_type": "stream",
          "name": "stderr",
          "text": [
            " 53%|█████▎    | 160/300 [00:30<00:34,  4.09it/s]"
          ]
        },
        {
          "output_type": "stream",
          "name": "stdout",
          "text": [
            "Epoch 160, Loss: 0.6282750368118286\n"
          ]
        },
        {
          "output_type": "stream",
          "name": "stderr",
          "text": [
            " 60%|██████    | 181/300 [00:34<00:19,  6.00it/s]"
          ]
        },
        {
          "output_type": "stream",
          "name": "stdout",
          "text": [
            "Epoch 180, Loss: 0.62074875831604\n"
          ]
        },
        {
          "output_type": "stream",
          "name": "stderr",
          "text": [
            " 67%|██████▋   | 201/300 [00:37<00:16,  5.86it/s]"
          ]
        },
        {
          "output_type": "stream",
          "name": "stdout",
          "text": [
            "Epoch 200, Loss: 0.6247141361236572\n"
          ]
        },
        {
          "output_type": "stream",
          "name": "stderr",
          "text": [
            " 74%|███████▎  | 221/300 [00:41<00:13,  5.95it/s]"
          ]
        },
        {
          "output_type": "stream",
          "name": "stdout",
          "text": [
            "Epoch 220, Loss: 0.6265990734100342\n"
          ]
        },
        {
          "output_type": "stream",
          "name": "stderr",
          "text": [
            " 80%|████████  | 240/300 [00:45<00:14,  4.07it/s]"
          ]
        },
        {
          "output_type": "stream",
          "name": "stdout",
          "text": [
            "Epoch 240, Loss: 0.6248955130577087\n"
          ]
        },
        {
          "output_type": "stream",
          "name": "stderr",
          "text": [
            " 87%|████████▋ | 261/300 [00:48<00:06,  6.21it/s]"
          ]
        },
        {
          "output_type": "stream",
          "name": "stdout",
          "text": [
            "Epoch 260, Loss: 0.6174145340919495\n"
          ]
        },
        {
          "output_type": "stream",
          "name": "stderr",
          "text": [
            " 94%|█████████▎| 281/300 [00:51<00:03,  6.07it/s]"
          ]
        },
        {
          "output_type": "stream",
          "name": "stdout",
          "text": [
            "Epoch 280, Loss: 0.6271883249282837\n"
          ]
        },
        {
          "output_type": "stream",
          "name": "stderr",
          "text": [
            "100%|██████████| 300/300 [00:55<00:00,  5.44it/s]\n"
          ]
        },
        {
          "output_type": "stream",
          "name": "stdout",
          "text": [
            "Epoch 300, Loss: 0.6209688782691956\n",
            "Accuracy: 0.661\n",
            "AUC: 0.402\n",
            "Confusion Matrix:\n",
            "                  Predicted Negative    Predicted Positive\n",
            "Actual Negative       0.661           0.000\n",
            "Actual Positive       0.339           0.000\n",
            "\n",
            "--------------------------just sybils-----------------------------\n",
            "\n",
            "Accuracy: 0.000\n",
            "Accuracy with optimal threshold: 0.34184610248706393\n",
            "Accuracy with optimal threshold just for sybils: 0.9961360028549279\n"
          ]
        }
      ]
    },
    {
      "cell_type": "code",
      "source": [
        "input_dim = 1\n",
        "hidden_dim = 4\n",
        "output_dim = len(set(trainDictionaryY.values()))  # Number of classes\n",
        "\n",
        "model = GCN(input_dim, hidden_dim, output_dim, num_layers=4)\n",
        "run_model(model,epoch_number=300)"
      ],
      "metadata": {
        "id": "YLz0Xc5DnsIS",
        "outputId": "7761bfe2-63a3-4c68-9dee-c4de3854f039",
        "colab": {
          "base_uri": "https://localhost:8080/"
        }
      },
      "execution_count": 26,
      "outputs": [
        {
          "output_type": "stream",
          "name": "stderr",
          "text": [
            "  0%|          | 1/300 [00:00<00:39,  7.63it/s]"
          ]
        },
        {
          "output_type": "stream",
          "name": "stdout",
          "text": [
            "Epoch 1, Loss: 0.7020566463470459\n"
          ]
        },
        {
          "output_type": "stream",
          "name": "stderr",
          "text": [
            "  7%|▋         | 21/300 [00:02<00:37,  7.35it/s]"
          ]
        },
        {
          "output_type": "stream",
          "name": "stdout",
          "text": [
            "Epoch 20, Loss: 0.6369262337684631\n"
          ]
        },
        {
          "output_type": "stream",
          "name": "stderr",
          "text": [
            " 14%|█▎        | 41/300 [00:05<00:35,  7.21it/s]"
          ]
        },
        {
          "output_type": "stream",
          "name": "stdout",
          "text": [
            "Epoch 40, Loss: 0.6326708793640137\n"
          ]
        },
        {
          "output_type": "stream",
          "name": "stderr",
          "text": [
            " 20%|██        | 60/300 [00:09<00:54,  4.41it/s]"
          ]
        },
        {
          "output_type": "stream",
          "name": "stdout",
          "text": [
            "Epoch 60, Loss: 0.6333014369010925\n"
          ]
        },
        {
          "output_type": "stream",
          "name": "stderr",
          "text": [
            " 27%|██▋       | 81/300 [00:12<00:30,  7.23it/s]"
          ]
        },
        {
          "output_type": "stream",
          "name": "stdout",
          "text": [
            "Epoch 80, Loss: 0.6361758708953857\n"
          ]
        },
        {
          "output_type": "stream",
          "name": "stderr",
          "text": [
            " 34%|███▎      | 101/300 [00:15<00:28,  6.98it/s]"
          ]
        },
        {
          "output_type": "stream",
          "name": "stdout",
          "text": [
            "Epoch 100, Loss: 0.6292307376861572\n"
          ]
        },
        {
          "output_type": "stream",
          "name": "stderr",
          "text": [
            " 40%|████      | 121/300 [00:18<00:25,  7.00it/s]"
          ]
        },
        {
          "output_type": "stream",
          "name": "stdout",
          "text": [
            "Epoch 120, Loss: 0.6282334923744202\n"
          ]
        },
        {
          "output_type": "stream",
          "name": "stderr",
          "text": [
            " 47%|████▋     | 140/300 [00:21<00:35,  4.55it/s]"
          ]
        },
        {
          "output_type": "stream",
          "name": "stdout",
          "text": [
            "Epoch 140, Loss: 0.6291611790657043\n"
          ]
        },
        {
          "output_type": "stream",
          "name": "stderr",
          "text": [
            " 54%|█████▎    | 161/300 [00:25<00:20,  6.89it/s]"
          ]
        },
        {
          "output_type": "stream",
          "name": "stdout",
          "text": [
            "Epoch 160, Loss: 0.6282703876495361\n"
          ]
        },
        {
          "output_type": "stream",
          "name": "stderr",
          "text": [
            " 60%|██████    | 181/300 [00:28<00:16,  7.41it/s]"
          ]
        },
        {
          "output_type": "stream",
          "name": "stdout",
          "text": [
            "Epoch 180, Loss: 0.6280746459960938\n"
          ]
        },
        {
          "output_type": "stream",
          "name": "stderr",
          "text": [
            " 67%|██████▋   | 201/300 [00:30<00:13,  7.42it/s]"
          ]
        },
        {
          "output_type": "stream",
          "name": "stdout",
          "text": [
            "Epoch 200, Loss: 0.6273845434188843\n"
          ]
        },
        {
          "output_type": "stream",
          "name": "stderr",
          "text": [
            " 74%|███████▎  | 221/300 [00:33<00:10,  7.34it/s]"
          ]
        },
        {
          "output_type": "stream",
          "name": "stdout",
          "text": [
            "Epoch 220, Loss: 0.6268188953399658\n"
          ]
        },
        {
          "output_type": "stream",
          "name": "stderr",
          "text": [
            " 80%|████████  | 241/300 [00:37<00:12,  4.85it/s]"
          ]
        },
        {
          "output_type": "stream",
          "name": "stdout",
          "text": [
            "Epoch 240, Loss: 0.6216350793838501\n"
          ]
        },
        {
          "output_type": "stream",
          "name": "stderr",
          "text": [
            " 87%|████████▋ | 261/300 [00:40<00:05,  7.26it/s]"
          ]
        },
        {
          "output_type": "stream",
          "name": "stdout",
          "text": [
            "Epoch 260, Loss: 0.6267896890640259\n"
          ]
        },
        {
          "output_type": "stream",
          "name": "stderr",
          "text": [
            " 94%|█████████▎| 281/300 [00:43<00:02,  7.34it/s]"
          ]
        },
        {
          "output_type": "stream",
          "name": "stdout",
          "text": [
            "Epoch 280, Loss: 0.6267450451850891\n"
          ]
        },
        {
          "output_type": "stream",
          "name": "stderr",
          "text": [
            "100%|██████████| 300/300 [00:46<00:00,  6.52it/s]\n"
          ]
        },
        {
          "output_type": "stream",
          "name": "stdout",
          "text": [
            "Epoch 300, Loss: 0.6215488910675049\n",
            "Accuracy: 0.661\n",
            "AUC: 0.445\n",
            "Confusion Matrix:\n",
            "                  Predicted Negative    Predicted Positive\n",
            "Actual Negative       0.661           0.000\n",
            "Actual Positive       0.339           0.000\n",
            "\n",
            "--------------------------just sybils-----------------------------\n",
            "\n",
            "Accuracy: 0.000\n",
            "Accuracy with optimal threshold: 0.3431772658988483\n",
            "Accuracy with optimal threshold just for sybils: 0.9957545254297774\n"
          ]
        }
      ]
    },
    {
      "cell_type": "code",
      "source": [
        "input_dim = 1\n",
        "hidden_dim = 16\n",
        "output_dim = len(set(trainDictionaryY.values()))  # Number of classes\n",
        "\n",
        "model = GAT(input_dim, hidden_dim, output_dim, heads=4)\n",
        "run_model(model,epoch_number=300)"
      ],
      "metadata": {
        "id": "qBLnmIbRnsLX",
        "outputId": "01c980fb-f96b-4916-baf9-531b2b6ab444",
        "colab": {
          "base_uri": "https://localhost:8080/"
        }
      },
      "execution_count": 27,
      "outputs": [
        {
          "output_type": "stream",
          "name": "stderr",
          "text": [
            "  0%|          | 1/300 [00:00<02:37,  1.90it/s]"
          ]
        },
        {
          "output_type": "stream",
          "name": "stdout",
          "text": [
            "Epoch 1, Loss: 0.687141478061676\n"
          ]
        },
        {
          "output_type": "stream",
          "name": "stderr",
          "text": [
            "  7%|▋         | 20/300 [00:10<02:59,  1.56it/s]"
          ]
        },
        {
          "output_type": "stream",
          "name": "stdout",
          "text": [
            "Epoch 20, Loss: 0.6101386547088623\n"
          ]
        },
        {
          "output_type": "stream",
          "name": "stderr",
          "text": [
            " 13%|█▎        | 40/300 [00:21<02:17,  1.89it/s]"
          ]
        },
        {
          "output_type": "stream",
          "name": "stdout",
          "text": [
            "Epoch 40, Loss: 0.533576250076294\n"
          ]
        },
        {
          "output_type": "stream",
          "name": "stderr",
          "text": [
            " 20%|██        | 60/300 [00:33<02:05,  1.91it/s]"
          ]
        },
        {
          "output_type": "stream",
          "name": "stdout",
          "text": [
            "Epoch 60, Loss: 0.47737038135528564\n"
          ]
        },
        {
          "output_type": "stream",
          "name": "stderr",
          "text": [
            " 27%|██▋       | 80/300 [00:45<01:54,  1.92it/s]"
          ]
        },
        {
          "output_type": "stream",
          "name": "stdout",
          "text": [
            "Epoch 80, Loss: 0.45161497592926025\n"
          ]
        },
        {
          "output_type": "stream",
          "name": "stderr",
          "text": [
            " 33%|███▎      | 100/300 [00:57<02:14,  1.49it/s]"
          ]
        },
        {
          "output_type": "stream",
          "name": "stdout",
          "text": [
            "Epoch 100, Loss: 0.42147353291511536\n"
          ]
        },
        {
          "output_type": "stream",
          "name": "stderr",
          "text": [
            " 40%|████      | 120/300 [01:17<02:28,  1.21it/s]"
          ]
        },
        {
          "output_type": "stream",
          "name": "stdout",
          "text": [
            "Epoch 120, Loss: 0.4142594337463379\n"
          ]
        },
        {
          "output_type": "stream",
          "name": "stderr",
          "text": [
            " 47%|████▋     | 140/300 [01:31<01:22,  1.94it/s]"
          ]
        },
        {
          "output_type": "stream",
          "name": "stdout",
          "text": [
            "Epoch 140, Loss: 0.4129149615764618\n"
          ]
        },
        {
          "output_type": "stream",
          "name": "stderr",
          "text": [
            " 53%|█████▎    | 160/300 [01:53<03:27,  1.48s/it]"
          ]
        },
        {
          "output_type": "stream",
          "name": "stdout",
          "text": [
            "Epoch 160, Loss: 0.41207101941108704\n"
          ]
        },
        {
          "output_type": "stream",
          "name": "stderr",
          "text": [
            " 60%|██████    | 180/300 [02:06<01:08,  1.75it/s]"
          ]
        },
        {
          "output_type": "stream",
          "name": "stdout",
          "text": [
            "Epoch 180, Loss: 0.4114893674850464\n"
          ]
        },
        {
          "output_type": "stream",
          "name": "stderr",
          "text": [
            " 67%|██████▋   | 200/300 [02:17<01:09,  1.45it/s]"
          ]
        },
        {
          "output_type": "stream",
          "name": "stdout",
          "text": [
            "Epoch 200, Loss: 0.4109462797641754\n"
          ]
        },
        {
          "output_type": "stream",
          "name": "stderr",
          "text": [
            " 73%|███████▎  | 220/300 [02:27<00:41,  1.93it/s]"
          ]
        },
        {
          "output_type": "stream",
          "name": "stdout",
          "text": [
            "Epoch 220, Loss: 0.41037169098854065\n"
          ]
        },
        {
          "output_type": "stream",
          "name": "stderr",
          "text": [
            " 80%|████████  | 240/300 [02:39<00:30,  1.94it/s]"
          ]
        },
        {
          "output_type": "stream",
          "name": "stdout",
          "text": [
            "Epoch 240, Loss: 0.40973085165023804\n"
          ]
        },
        {
          "output_type": "stream",
          "name": "stderr",
          "text": [
            " 87%|████████▋ | 260/300 [02:51<00:21,  1.90it/s]"
          ]
        },
        {
          "output_type": "stream",
          "name": "stdout",
          "text": [
            "Epoch 260, Loss: 0.408929705619812\n"
          ]
        },
        {
          "output_type": "stream",
          "name": "stderr",
          "text": [
            " 93%|█████████▎| 280/300 [03:02<00:10,  1.87it/s]"
          ]
        },
        {
          "output_type": "stream",
          "name": "stdout",
          "text": [
            "Epoch 280, Loss: 0.407958984375\n"
          ]
        },
        {
          "output_type": "stream",
          "name": "stderr",
          "text": [
            "100%|██████████| 300/300 [03:20<00:00,  1.50it/s]"
          ]
        },
        {
          "output_type": "stream",
          "name": "stdout",
          "text": [
            "Epoch 300, Loss: 0.4067078232765198\n"
          ]
        },
        {
          "output_type": "stream",
          "name": "stderr",
          "text": [
            "\n"
          ]
        },
        {
          "output_type": "stream",
          "name": "stdout",
          "text": [
            "Accuracy: 0.858\n",
            "AUC: 0.896\n",
            "Confusion Matrix:\n",
            "                  Predicted Negative    Predicted Positive\n",
            "Actual Negative       0.614           0.047\n",
            "Actual Positive       0.095           0.244\n",
            "\n",
            "--------------------------just sybils-----------------------------\n",
            "\n",
            "Accuracy: 0.720\n",
            "Accuracy with optimal threshold: 0.8569979969954933\n",
            "Accuracy with optimal threshold just for sybils: 0.7242410445098015\n"
          ]
        }
      ]
    },
    {
      "cell_type": "code",
      "source": [
        "input_dim = 1\n",
        "hidden_dim = 4\n",
        "output_dim = len(set(trainDictionaryY.values()))  # Number of classes\n",
        "\n",
        "model = GAT(input_dim, hidden_dim, output_dim, heads=4)\n",
        "run_model(model,epoch_number=300)"
      ],
      "metadata": {
        "colab": {
          "base_uri": "https://localhost:8080/"
        },
        "id": "9b9cLf8y5Jbr",
        "outputId": "9628000f-73f5-4a4b-bf84-8e395175636f"
      },
      "execution_count": 28,
      "outputs": [
        {
          "output_type": "stream",
          "name": "stderr",
          "text": [
            "  0%|          | 1/300 [00:00<01:12,  4.10it/s]"
          ]
        },
        {
          "output_type": "stream",
          "name": "stdout",
          "text": [
            "Epoch 1, Loss: 0.7162822484970093\n"
          ]
        },
        {
          "output_type": "stream",
          "name": "stderr",
          "text": [
            "  7%|▋         | 20/300 [00:04<01:07,  4.18it/s]"
          ]
        },
        {
          "output_type": "stream",
          "name": "stdout",
          "text": [
            "Epoch 20, Loss: 0.6333376169204712\n"
          ]
        },
        {
          "output_type": "stream",
          "name": "stderr",
          "text": [
            " 13%|█▎        | 40/300 [00:10<01:08,  3.81it/s]"
          ]
        },
        {
          "output_type": "stream",
          "name": "stdout",
          "text": [
            "Epoch 40, Loss: 0.6058732867240906\n"
          ]
        },
        {
          "output_type": "stream",
          "name": "stderr",
          "text": [
            " 20%|██        | 60/300 [00:15<00:55,  4.34it/s]"
          ]
        },
        {
          "output_type": "stream",
          "name": "stdout",
          "text": [
            "Epoch 60, Loss: 0.5660220980644226\n"
          ]
        },
        {
          "output_type": "stream",
          "name": "stderr",
          "text": [
            " 27%|██▋       | 80/300 [00:20<01:06,  3.32it/s]"
          ]
        },
        {
          "output_type": "stream",
          "name": "stdout",
          "text": [
            "Epoch 80, Loss: 0.5248236060142517\n"
          ]
        },
        {
          "output_type": "stream",
          "name": "stderr",
          "text": [
            " 33%|███▎      | 100/300 [00:26<00:49,  4.05it/s]"
          ]
        },
        {
          "output_type": "stream",
          "name": "stdout",
          "text": [
            "Epoch 100, Loss: 0.49794042110443115\n"
          ]
        },
        {
          "output_type": "stream",
          "name": "stderr",
          "text": [
            " 40%|████      | 120/300 [00:31<00:42,  4.25it/s]"
          ]
        },
        {
          "output_type": "stream",
          "name": "stdout",
          "text": [
            "Epoch 120, Loss: 0.481512188911438\n"
          ]
        },
        {
          "output_type": "stream",
          "name": "stderr",
          "text": [
            " 47%|████▋     | 140/300 [00:37<00:48,  3.31it/s]"
          ]
        },
        {
          "output_type": "stream",
          "name": "stdout",
          "text": [
            "Epoch 140, Loss: 0.4664395749568939\n"
          ]
        },
        {
          "output_type": "stream",
          "name": "stderr",
          "text": [
            " 53%|█████▎    | 160/300 [00:42<00:34,  4.10it/s]"
          ]
        },
        {
          "output_type": "stream",
          "name": "stdout",
          "text": [
            "Epoch 160, Loss: 0.449917197227478\n"
          ]
        },
        {
          "output_type": "stream",
          "name": "stderr",
          "text": [
            " 60%|██████    | 180/300 [00:47<00:31,  3.78it/s]"
          ]
        },
        {
          "output_type": "stream",
          "name": "stdout",
          "text": [
            "Epoch 180, Loss: 0.43131911754608154\n"
          ]
        },
        {
          "output_type": "stream",
          "name": "stderr",
          "text": [
            " 67%|██████▋   | 200/300 [00:53<00:24,  4.08it/s]"
          ]
        },
        {
          "output_type": "stream",
          "name": "stdout",
          "text": [
            "Epoch 200, Loss: 0.41920700669288635\n"
          ]
        },
        {
          "output_type": "stream",
          "name": "stderr",
          "text": [
            " 73%|███████▎  | 220/300 [00:58<00:19,  4.20it/s]"
          ]
        },
        {
          "output_type": "stream",
          "name": "stdout",
          "text": [
            "Epoch 220, Loss: 0.41584593057632446\n"
          ]
        },
        {
          "output_type": "stream",
          "name": "stderr",
          "text": [
            " 80%|████████  | 240/300 [01:05<00:26,  2.25it/s]"
          ]
        },
        {
          "output_type": "stream",
          "name": "stdout",
          "text": [
            "Epoch 240, Loss: 0.41453585028648376\n"
          ]
        },
        {
          "output_type": "stream",
          "name": "stderr",
          "text": [
            " 87%|████████▋ | 260/300 [01:10<00:09,  4.08it/s]"
          ]
        },
        {
          "output_type": "stream",
          "name": "stdout",
          "text": [
            "Epoch 260, Loss: 0.41340580582618713\n"
          ]
        },
        {
          "output_type": "stream",
          "name": "stderr",
          "text": [
            " 93%|█████████▎| 280/300 [01:14<00:04,  4.26it/s]"
          ]
        },
        {
          "output_type": "stream",
          "name": "stdout",
          "text": [
            "Epoch 280, Loss: 0.4124368131160736\n"
          ]
        },
        {
          "output_type": "stream",
          "name": "stderr",
          "text": [
            "100%|██████████| 300/300 [01:21<00:00,  3.70it/s]"
          ]
        },
        {
          "output_type": "stream",
          "name": "stdout",
          "text": [
            "Epoch 300, Loss: 0.41146260499954224\n"
          ]
        },
        {
          "output_type": "stream",
          "name": "stderr",
          "text": [
            "\n"
          ]
        },
        {
          "output_type": "stream",
          "name": "stdout",
          "text": [
            "Accuracy: 0.855\n",
            "AUC: 0.895\n",
            "Confusion Matrix:\n",
            "                  Predicted Negative    Predicted Positive\n",
            "Actual Negative       0.611           0.050\n",
            "Actual Positive       0.094           0.245\n",
            "\n",
            "--------------------------just sybils-----------------------------\n",
            "\n",
            "Accuracy: 0.721\n",
            "Accuracy with optimal threshold: 0.8555291270238692\n",
            "Accuracy with optimal threshold just for sybils: 0.7221859887033459\n"
          ]
        }
      ]
    },
    {
      "cell_type": "code",
      "source": [],
      "metadata": {
        "id": "hnJH81aTy9Oj"
      },
      "execution_count": 28,
      "outputs": []
    }
  ]
}