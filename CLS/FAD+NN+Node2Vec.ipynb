{
  "nbformat": 4,
  "nbformat_minor": 0,
  "metadata": {
    "colab": {
      "provenance": [],
      "authorship_tag": "ABX9TyN+P+OYcspo1DCG1nPleSFe",
      "include_colab_link": true
    },
    "kernelspec": {
      "name": "python3",
      "display_name": "Python 3"
    },
    "language_info": {
      "name": "python"
    }
  },
  "cells": [
    {
      "cell_type": "markdown",
      "metadata": {
        "id": "view-in-github",
        "colab_type": "text"
      },
      "source": [
        "<a href=\"https://colab.research.google.com/github/aSafarpoor/OSN_FAD/blob/main/CLS/FAD%2BNN%2BNode2Vec.ipynb\" target=\"_parent\"><img src=\"https://colab.research.google.com/assets/colab-badge.svg\" alt=\"Open In Colab\"/></a>"
      ]
    },
    {
      "cell_type": "code",
      "source": [
        "!pip install node2vec"
      ],
      "metadata": {
        "colab": {
          "base_uri": "https://localhost:8080/"
        },
        "id": "7gGZjWfcxb8w",
        "outputId": "ef4f2137-667b-4ac9-f0ce-3963cb856392"
      },
      "execution_count": 1,
      "outputs": [
        {
          "output_type": "stream",
          "name": "stdout",
          "text": [
            "Collecting node2vec\n",
            "  Downloading node2vec-0.5.0-py3-none-any.whl.metadata (849 bytes)\n",
            "Requirement already satisfied: gensim<5.0.0,>=4.3.0 in /usr/local/lib/python3.10/dist-packages (from node2vec) (4.3.3)\n",
            "Requirement already satisfied: joblib<2.0.0,>=1.4.0 in /usr/local/lib/python3.10/dist-packages (from node2vec) (1.4.2)\n",
            "Requirement already satisfied: networkx<4.0.0,>=3.1.0 in /usr/local/lib/python3.10/dist-packages (from node2vec) (3.4.2)\n",
            "Requirement already satisfied: numpy<2.0.0,>=1.24.0 in /usr/local/lib/python3.10/dist-packages (from node2vec) (1.26.4)\n",
            "Requirement already satisfied: tqdm<5.0.0,>=4.66.1 in /usr/local/lib/python3.10/dist-packages (from node2vec) (4.66.6)\n",
            "Requirement already satisfied: scipy<1.14.0,>=1.7.0 in /usr/local/lib/python3.10/dist-packages (from gensim<5.0.0,>=4.3.0->node2vec) (1.13.1)\n",
            "Requirement already satisfied: smart-open>=1.8.1 in /usr/local/lib/python3.10/dist-packages (from gensim<5.0.0,>=4.3.0->node2vec) (7.0.5)\n",
            "Requirement already satisfied: wrapt in /usr/local/lib/python3.10/dist-packages (from smart-open>=1.8.1->gensim<5.0.0,>=4.3.0->node2vec) (1.16.0)\n",
            "Downloading node2vec-0.5.0-py3-none-any.whl (7.2 kB)\n",
            "Installing collected packages: node2vec\n",
            "Successfully installed node2vec-0.5.0\n"
          ]
        }
      ]
    },
    {
      "cell_type": "code",
      "source": [
        "!pip install torch_geometric"
      ],
      "metadata": {
        "colab": {
          "base_uri": "https://localhost:8080/"
        },
        "id": "haFRmjjq3Ixj",
        "outputId": "2fc15233-e0c0-4bfd-90ad-5a34f6df97cd"
      },
      "execution_count": 2,
      "outputs": [
        {
          "output_type": "stream",
          "name": "stdout",
          "text": [
            "Collecting torch_geometric\n",
            "  Downloading torch_geometric-2.6.1-py3-none-any.whl.metadata (63 kB)\n",
            "\u001b[?25l     \u001b[90m━━━━━━━━━━━━━━━━━━━━━━━━━━━━━━━━━━━━━━━━\u001b[0m \u001b[32m0.0/63.1 kB\u001b[0m \u001b[31m?\u001b[0m eta \u001b[36m-:--:--\u001b[0m\r\u001b[2K     \u001b[91m━━━━━━━━━━━━━━━━━━━━━━━━━━━━━━━━━━━━━━\u001b[0m\u001b[91m╸\u001b[0m\u001b[90m━\u001b[0m \u001b[32m61.4/63.1 kB\u001b[0m \u001b[31m4.2 MB/s\u001b[0m eta \u001b[36m0:00:01\u001b[0m\r\u001b[2K     \u001b[90m━━━━━━━━━━━━━━━━━━━━━━━━━━━━━━━━━━━━━━━━\u001b[0m \u001b[32m63.1/63.1 kB\u001b[0m \u001b[31m1.4 MB/s\u001b[0m eta \u001b[36m0:00:00\u001b[0m\n",
            "\u001b[?25hRequirement already satisfied: aiohttp in /usr/local/lib/python3.10/dist-packages (from torch_geometric) (3.10.10)\n",
            "Requirement already satisfied: fsspec in /usr/local/lib/python3.10/dist-packages (from torch_geometric) (2024.10.0)\n",
            "Requirement already satisfied: jinja2 in /usr/local/lib/python3.10/dist-packages (from torch_geometric) (3.1.4)\n",
            "Requirement already satisfied: numpy in /usr/local/lib/python3.10/dist-packages (from torch_geometric) (1.26.4)\n",
            "Requirement already satisfied: psutil>=5.8.0 in /usr/local/lib/python3.10/dist-packages (from torch_geometric) (5.9.5)\n",
            "Requirement already satisfied: pyparsing in /usr/local/lib/python3.10/dist-packages (from torch_geometric) (3.2.0)\n",
            "Requirement already satisfied: requests in /usr/local/lib/python3.10/dist-packages (from torch_geometric) (2.32.3)\n",
            "Requirement already satisfied: tqdm in /usr/local/lib/python3.10/dist-packages (from torch_geometric) (4.66.6)\n",
            "Requirement already satisfied: aiohappyeyeballs>=2.3.0 in /usr/local/lib/python3.10/dist-packages (from aiohttp->torch_geometric) (2.4.3)\n",
            "Requirement already satisfied: aiosignal>=1.1.2 in /usr/local/lib/python3.10/dist-packages (from aiohttp->torch_geometric) (1.3.1)\n",
            "Requirement already satisfied: attrs>=17.3.0 in /usr/local/lib/python3.10/dist-packages (from aiohttp->torch_geometric) (24.2.0)\n",
            "Requirement already satisfied: frozenlist>=1.1.1 in /usr/local/lib/python3.10/dist-packages (from aiohttp->torch_geometric) (1.5.0)\n",
            "Requirement already satisfied: multidict<7.0,>=4.5 in /usr/local/lib/python3.10/dist-packages (from aiohttp->torch_geometric) (6.1.0)\n",
            "Requirement already satisfied: yarl<2.0,>=1.12.0 in /usr/local/lib/python3.10/dist-packages (from aiohttp->torch_geometric) (1.17.1)\n",
            "Requirement already satisfied: async-timeout<5.0,>=4.0 in /usr/local/lib/python3.10/dist-packages (from aiohttp->torch_geometric) (4.0.3)\n",
            "Requirement already satisfied: MarkupSafe>=2.0 in /usr/local/lib/python3.10/dist-packages (from jinja2->torch_geometric) (3.0.2)\n",
            "Requirement already satisfied: charset-normalizer<4,>=2 in /usr/local/lib/python3.10/dist-packages (from requests->torch_geometric) (3.4.0)\n",
            "Requirement already satisfied: idna<4,>=2.5 in /usr/local/lib/python3.10/dist-packages (from requests->torch_geometric) (3.10)\n",
            "Requirement already satisfied: urllib3<3,>=1.21.1 in /usr/local/lib/python3.10/dist-packages (from requests->torch_geometric) (2.2.3)\n",
            "Requirement already satisfied: certifi>=2017.4.17 in /usr/local/lib/python3.10/dist-packages (from requests->torch_geometric) (2024.8.30)\n",
            "Requirement already satisfied: typing-extensions>=4.1.0 in /usr/local/lib/python3.10/dist-packages (from multidict<7.0,>=4.5->aiohttp->torch_geometric) (4.12.2)\n",
            "Requirement already satisfied: propcache>=0.2.0 in /usr/local/lib/python3.10/dist-packages (from yarl<2.0,>=1.12.0->aiohttp->torch_geometric) (0.2.0)\n",
            "Downloading torch_geometric-2.6.1-py3-none-any.whl (1.1 MB)\n",
            "\u001b[2K   \u001b[90m━━━━━━━━━━━━━━━━━━━━━━━━━━━━━━━━━━━━━━━━\u001b[0m \u001b[32m1.1/1.1 MB\u001b[0m \u001b[31m12.4 MB/s\u001b[0m eta \u001b[36m0:00:00\u001b[0m\n",
            "\u001b[?25hInstalling collected packages: torch_geometric\n",
            "Successfully installed torch_geometric-2.6.1\n"
          ]
        }
      ]
    },
    {
      "cell_type": "code",
      "source": [
        "import networkx as nx\n",
        "import numpy as np\n",
        "from tqdm import tqdm\n",
        "from matplotlib import pyplot as plt\n",
        "from node2vec import Node2Vec\n",
        "import random\n",
        "SEED = 10"
      ],
      "metadata": {
        "id": "EgVWNp2RwH1r"
      },
      "execution_count": 3,
      "outputs": []
    },
    {
      "cell_type": "code",
      "source": [
        "import torch\n",
        "import torch.nn.functional as F\n",
        "from torch_geometric.nn import GCNConv, GATConv\n",
        "from sklearn.metrics import roc_curve,accuracy_score, roc_auc_score, confusion_matrix\n",
        "\n"
      ],
      "metadata": {
        "id": "MjmKIOzU3HOZ"
      },
      "execution_count": 4,
      "outputs": []
    },
    {
      "cell_type": "markdown",
      "source": [
        "# read data"
      ],
      "metadata": {
        "id": "CgcI8ABbv_Z7"
      }
    },
    {
      "cell_type": "code",
      "execution_count": 6,
      "metadata": {
        "id": "zX5hqr37umKQ"
      },
      "outputs": [],
      "source": [
        "edges = []\n",
        "with open('graph.txt', 'r') as file:\n",
        "    for line in file:\n",
        "        # Split each line into two numbers and convert them to integers\n",
        "        pair = list(map(int, line.strip().split()))\n",
        "        edges.append(pair)\n",
        "\n",
        "\n",
        "with open('train.txt', 'r') as file:\n",
        "    lines = file.readlines()\n",
        "    btrain = list(map(float, lines[0].strip().split()))\n",
        "    strain = list(map(float, lines[1].strip().split()))\n",
        "\n",
        "with open('test.txt', 'r') as file:\n",
        "    lines = file.readlines()\n",
        "    btest = list(map(float, lines[0].strip().split()))\n",
        "    stest = list(map(float, lines[1].strip().split()))"
      ]
    },
    {
      "cell_type": "code",
      "source": [
        "print(\"Length of edges:\", len(edges),\n",
        "      \"| Length of btrain:\", len(btrain),\n",
        "      \"| Length of btest:\", len(btest),\n",
        "      \"| Length of strain:\", len(strain),\n",
        "      \"| Length of stest:\", len(stest))"
      ],
      "metadata": {
        "colab": {
          "base_uri": "https://localhost:8080/"
        },
        "id": "fnW9_Dy_vsFB",
        "outputId": "8f1012ad-636a-45d8-a123-39c30d3a5f36"
      },
      "execution_count": 7,
      "outputs": [
        {
          "output_type": "stream",
          "name": "stdout",
          "text": [
            "Length of edges: 6818501 | Length of btrain: 20000 | Length of btest: 158377 | Length of strain: 10000 | Length of stest: 81263\n"
          ]
        }
      ]
    },
    {
      "cell_type": "markdown",
      "source": [
        "# data preparation"
      ],
      "metadata": {
        "id": "8SU1c25fwCqY"
      }
    },
    {
      "cell_type": "code",
      "source": [
        "bigG = nx.Graph()\n",
        "bigG.add_edges_from(edges)"
      ],
      "metadata": {
        "id": "fyIw0zUmv6hf"
      },
      "execution_count": 8,
      "outputs": []
    },
    {
      "cell_type": "code",
      "source": [
        "trainG = bigG.subgraph(btrain+strain).copy()\n",
        "testG = bigG.subgraph(btest+stest).copy()"
      ],
      "metadata": {
        "id": "I4o9aiC5waFz"
      },
      "execution_count": 9,
      "outputs": []
    },
    {
      "cell_type": "code",
      "source": [
        "print(len(bigG.nodes()),len(trainG.nodes()),len(testG.nodes()))"
      ],
      "metadata": {
        "colab": {
          "base_uri": "https://localhost:8080/"
        },
        "id": "Q06KncG38N1m",
        "outputId": "94b6589d-bd34-4d50-bc48-dc4a8944afda"
      },
      "execution_count": 10,
      "outputs": [
        {
          "output_type": "stream",
          "name": "stdout",
          "text": [
            "269640 30000 239640\n"
          ]
        }
      ]
    },
    {
      "cell_type": "code",
      "source": [
        "def reindex_graph_and_dictionaries(G, train, test):\n",
        "    new_index_mapping = {old_index: new_index for new_index, old_index in enumerate(G.nodes())}\n",
        "    G_reindexed = nx.relabel_nodes(G, new_index_mapping)\n",
        "\n",
        "    train = [new_index_mapping[int(node)] for node in train]\n",
        "    test =  [new_index_mapping[int(node)] for node in test]\n",
        "\n",
        "    return G_reindexed, train, test"
      ],
      "metadata": {
        "id": "ngN-8QLy6BEr"
      },
      "execution_count": 11,
      "outputs": []
    },
    {
      "cell_type": "code",
      "source": [
        "trainG,btrain,strain =reindex_graph_and_dictionaries(trainG, btrain,strain)\n",
        "testG,btest,stest =reindex_graph_and_dictionaries(testG, btest,stest)"
      ],
      "metadata": {
        "id": "X_YRW5E_9n1h"
      },
      "execution_count": 12,
      "outputs": []
    },
    {
      "cell_type": "code",
      "source": [
        "trainDictionaryX = {}\n",
        "trainDictionaryY = {}\n",
        "testDictionaryX = {}\n",
        "testDictionaryY = {}\n",
        "\n",
        "random.seed(SEED)\n",
        "\n",
        "c=0\n",
        "for node in btrain:\n",
        "    if random.random() < 0.20:\n",
        "        c+=1\n",
        "        trainDictionaryX[node] = [0]\n",
        "    else:\n",
        "        trainDictionaryX[node] = [0.5]\n",
        "    trainDictionaryY[node] = 0\n",
        "print(c)\n",
        "\n",
        "c=0\n",
        "for node in strain:\n",
        "    if random.random() < 0.20:\n",
        "        c+=1\n",
        "        trainDictionaryX[node] = [1]\n",
        "    else:\n",
        "        trainDictionaryX[node] = [0.5]\n",
        "    trainDictionaryY[node] = 1\n",
        "print(c)\n",
        "\n",
        "c=0\n",
        "for node in btest:\n",
        "    if random.random() < 0.1:\n",
        "        c+=1\n",
        "        testDictionaryX[node] = [0]\n",
        "    else:\n",
        "        testDictionaryX[node] = [0.5]\n",
        "    testDictionaryY[node] = 0\n",
        "print(c)\n",
        "\n",
        "c=0\n",
        "for node in stest:\n",
        "    if random.random() < 0.1:\n",
        "        c+=1\n",
        "        testDictionaryX[node] = [1]\n",
        "    else:\n",
        "        testDictionaryX[node] = [0.5]\n",
        "    testDictionaryY[node] = 1\n",
        "print(c)"
      ],
      "metadata": {
        "id": "JBbGkflLwncB",
        "colab": {
          "base_uri": "https://localhost:8080/"
        },
        "outputId": "eee549e9-331b-413b-b947-bdfddd3ea06f"
      },
      "execution_count": 13,
      "outputs": [
        {
          "output_type": "stream",
          "name": "stdout",
          "text": [
            "4038\n",
            "1986\n",
            "15631\n",
            "8053\n"
          ]
        }
      ]
    },
    {
      "cell_type": "code",
      "source": [
        "# print(len(btrain))\n",
        "# print(len(strain))\n",
        "# print(len(btest))\n",
        "# print(len(stest))\n"
      ],
      "metadata": {
        "id": "trTy5my5TKmA"
      },
      "execution_count": 14,
      "outputs": []
    },
    {
      "cell_type": "markdown",
      "source": [
        "#model"
      ],
      "metadata": {
        "id": "DeK6WQGZ3GfY"
      }
    },
    {
      "cell_type": "code",
      "source": [
        "# Prepare data (assuming PyTorch Geometric format for graphs)\n",
        "def prepare_data(graph, dictionaryX, dictionaryY):\n",
        "    x = torch.tensor([dictionaryX[node] for node in graph.nodes()], dtype=torch.float)\n",
        "    y = torch.tensor([dictionaryY[node] for node in graph.nodes()], dtype=torch.long)\n",
        "    # edge_index = torch.tensor(list(graph.edges())).t().contiguous()\n",
        "    edge_index = torch.tensor(list(graph.edges()), dtype=torch.long).t().contiguous()\n",
        "    return x, y, edge_index"
      ],
      "metadata": {
        "id": "8vMqaJny3Htr"
      },
      "execution_count": 15,
      "outputs": []
    },
    {
      "cell_type": "code",
      "source": [],
      "metadata": {
        "id": "b09R-ELwOUc1"
      },
      "execution_count": 15,
      "outputs": []
    },
    {
      "cell_type": "code",
      "source": [
        "def pure_sybil_test(test_x, test_y):\n",
        "    print(len(test_x))\n",
        "    mask = (test_y == 1)\n",
        "    x = test_x[mask]\n",
        "    y = test_y[mask]\n",
        "    print(len(x))\n",
        "    return x, y, mask"
      ],
      "metadata": {
        "id": "hPBrJe9eOVjD"
      },
      "execution_count": 16,
      "outputs": []
    },
    {
      "cell_type": "code",
      "source": [
        "train_x, train_y, train_edge_index = prepare_data(trainG, trainDictionaryX, trainDictionaryY)\n",
        "test_x, test_y, test_edge_index = prepare_data(testG, testDictionaryX, testDictionaryY)\n",
        "test_x2, test_y2, mask2 = pure_sybil_test(test_x, test_y)\n"
      ],
      "metadata": {
        "id": "awhrP4TK4hDH",
        "colab": {
          "base_uri": "https://localhost:8080/"
        },
        "outputId": "24f73172-f1df-40f4-ef02-b5f46323309d"
      },
      "execution_count": 17,
      "outputs": [
        {
          "output_type": "stream",
          "name": "stdout",
          "text": [
            "239640\n",
            "81263\n"
          ]
        }
      ]
    },
    {
      "cell_type": "code",
      "source": [
        "class GCN(torch.nn.Module):\n",
        "    def __init__(self, input_dim, hidden_dim, output_dim, num_layers, dropout=True):\n",
        "        super(GCN, self).__init__()\n",
        "        self.dropout = dropout\n",
        "        self.convs = torch.nn.ModuleList()\n",
        "        self.num_classes = output_dim\n",
        "        for i in range(num_layers):\n",
        "            if i == 0:  # First layer\n",
        "                self.convs.append(GCNConv(input_dim, hidden_dim, bias=True))\n",
        "            elif i == num_layers - 1:  # Last layer\n",
        "                self.convs.append(GCNConv(hidden_dim, output_dim, bias=True))\n",
        "            else:  # Middle layers\n",
        "                self.convs.append(GCNConv(hidden_dim, hidden_dim, bias=True))\n",
        "\n",
        "    def forward(self, x, edge_index):\n",
        "        h = x\n",
        "        i = 0\n",
        "        for conv in self.convs:\n",
        "            if self.dropout:\n",
        "                h = F.dropout(h, p=0.5, training=self.training)\n",
        "            h = conv(h, edge_index)\n",
        "            if i < len(self.convs) - 1:\n",
        "                h = F.tanh(h)\n",
        "            i += 1\n",
        "\n",
        "        if self.num_classes == 1:\n",
        "            return F.sigmoid(h), h\n",
        "        else:\n",
        "            return F.softmax(h, dim=1)\n",
        "\n",
        "\n",
        "\n",
        "\n",
        "class GAT(torch.nn.Module):\n",
        "    def __init__(self, input_dim, hidden_dim, output_dim, heads=1):\n",
        "        super(GAT, self).__init__()\n",
        "        self.conv1 = GATConv(input_dim, hidden_dim, heads=heads)\n",
        "        self.conv2 = GATConv(hidden_dim * heads, output_dim, heads=1)  # Single head in the final layer\n",
        "\n",
        "    def forward(self, x, edge_index):\n",
        "        x = self.conv1(x, edge_index)\n",
        "        x = F.elu(x)  # ELU is commonly used in GAT models instead of ReLU\n",
        "        x = self.conv2(x, edge_index)\n",
        "        return F.log_softmax(x, dim=1)"
      ],
      "metadata": {
        "id": "n2y5RCQ2xs0i"
      },
      "execution_count": 18,
      "outputs": []
    },
    {
      "cell_type": "code",
      "source": [
        "def run_model(model,epoch_number):\n",
        "    optimizer = torch.optim.Adam(model.parameters(), lr=0.01)\n",
        "    loss_fn = torch.nn.CrossEntropyLoss()\n",
        "\n",
        "    model.train()\n",
        "    for epoch in tqdm(range(epoch_number)):\n",
        "        optimizer.zero_grad()\n",
        "        out = model(train_x, train_edge_index)\n",
        "        loss = loss_fn(out, train_y)\n",
        "        loss.backward()\n",
        "        optimizer.step()\n",
        "        if (epoch+1)%20 == 0 or epoch==0:\n",
        "            print(f'Epoch {epoch + 1}, Loss: {loss.item()}')\n",
        "\n",
        "    model.eval()\n",
        "    with torch.no_grad():\n",
        "        test_out = model(test_x, test_edge_index)\n",
        "        pred = test_out.argmax(dim=1).cpu()\n",
        "\n",
        "        # Compute metrics\n",
        "        acc = accuracy_score(test_y, pred)\n",
        "        auc = roc_auc_score(test_y, test_out[:, 1], multi_class='ovo')  # Adjust depending on binary or multi-class\n",
        "        cm = confusion_matrix(test_y, pred)\n",
        "        cm = cm.astype('float') / len(pred)\n",
        "\n",
        "\n",
        "        print(f'Accuracy: {acc:.3f}')\n",
        "        print(f'AUC: {auc:.3f}')\n",
        "        print('Confusion Matrix:')\n",
        "        print(f\"                  Predicted Negative    Predicted Positive\")\n",
        "        print(f\"Actual Negative       {cm[0, 0]:.3f}           {cm[0, 1]:.3f}\")\n",
        "        print(f\"Actual Positive       {cm[1, 0]:.3f}           {cm[1, 1]:.3f}\")\n",
        "\n",
        "        print(\"\\n--------------------------just sybils-----------------------------\\n\")\n",
        "\n",
        "        test_out = model(test_x, test_edge_index)\n",
        "        test_out = test_out[mask2]\n",
        "        pred = test_out.argmax(dim=1).cpu()\n",
        "        acc = accuracy_score(test_y2, pred)\n",
        "        print(f'Accuracy: {acc:.3f}')\n",
        "\n",
        "\n",
        "    with torch.no_grad():\n",
        "        test_out = model(test_x, test_edge_index)\n",
        "        pred = test_out.argmax(dim=1).cpu()\n",
        "\n",
        "        # Compute AUC score as usual\n",
        "        auc = roc_auc_score(test_y, test_out[:, 1], multi_class='ovo')\n",
        "        fpr, tpr, thresholds = roc_curve(test_y, test_out[:, 1])\n",
        "        j_scores = tpr - fpr\n",
        "        optimal_threshold = thresholds[j_scores.argmax()]\n",
        "        pred = (test_out[:, 1] >= optimal_threshold)\n",
        "        acc = accuracy_score(test_y, pred)\n",
        "\n",
        "        # just sybil\n",
        "        test_out = test_out[mask2]\n",
        "        pred = (test_out[:, 1] >= optimal_threshold)\n",
        "        acc_sybils = accuracy_score(test_y2, pred)\n",
        "        print(\"Accuracy with optimal threshold:\", acc)\n",
        "        print(\"Accuracy with optimal threshold just for sybils:\", acc_sybils)"
      ],
      "metadata": {
        "id": "eYKz6trrnhMU"
      },
      "execution_count": 19,
      "outputs": []
    },
    {
      "cell_type": "code",
      "source": [
        "# Initialize model, optimizer, and loss function\n",
        "input_dim = 1\n",
        "hidden_dim = 16\n",
        "output_dim = len(set(trainDictionaryY.values()))  # Number of classes\n",
        "\n",
        "model = GCN(input_dim, hidden_dim, output_dim, num_layers=3)\n",
        "run_model(model,epoch_number=300)"
      ],
      "metadata": {
        "id": "En9Mj7nQnsFO",
        "outputId": "13c05f96-9919-438f-8b09-92e00b2f08a7",
        "colab": {
          "base_uri": "https://localhost:8080/"
        }
      },
      "execution_count": 25,
      "outputs": [
        {
          "output_type": "stream",
          "name": "stderr",
          "text": [
            "  0%|          | 1/300 [00:00<00:50,  5.98it/s]"
          ]
        },
        {
          "output_type": "stream",
          "name": "stdout",
          "text": [
            "Epoch 1, Loss: 0.6947438716888428\n"
          ]
        },
        {
          "output_type": "stream",
          "name": "stderr",
          "text": [
            "  7%|▋         | 21/300 [00:03<00:50,  5.53it/s]"
          ]
        },
        {
          "output_type": "stream",
          "name": "stdout",
          "text": [
            "Epoch 20, Loss: 0.632820188999176\n"
          ]
        },
        {
          "output_type": "stream",
          "name": "stderr",
          "text": [
            " 14%|█▎        | 41/300 [00:07<00:45,  5.74it/s]"
          ]
        },
        {
          "output_type": "stream",
          "name": "stdout",
          "text": [
            "Epoch 40, Loss: 0.6359561085700989\n"
          ]
        },
        {
          "output_type": "stream",
          "name": "stderr",
          "text": [
            " 20%|██        | 60/300 [00:11<01:02,  3.87it/s]"
          ]
        },
        {
          "output_type": "stream",
          "name": "stdout",
          "text": [
            "Epoch 60, Loss: 0.6329337358474731\n"
          ]
        },
        {
          "output_type": "stream",
          "name": "stderr",
          "text": [
            " 27%|██▋       | 81/300 [00:15<00:39,  5.54it/s]"
          ]
        },
        {
          "output_type": "stream",
          "name": "stdout",
          "text": [
            "Epoch 80, Loss: 0.6336530447006226\n"
          ]
        },
        {
          "output_type": "stream",
          "name": "stderr",
          "text": [
            " 34%|███▎      | 101/300 [00:19<00:35,  5.68it/s]"
          ]
        },
        {
          "output_type": "stream",
          "name": "stdout",
          "text": [
            "Epoch 100, Loss: 0.6335083246231079\n"
          ]
        },
        {
          "output_type": "stream",
          "name": "stderr",
          "text": [
            " 40%|████      | 120/300 [00:22<00:39,  4.51it/s]"
          ]
        },
        {
          "output_type": "stream",
          "name": "stdout",
          "text": [
            "Epoch 120, Loss: 0.6328360438346863\n"
          ]
        },
        {
          "output_type": "stream",
          "name": "stderr",
          "text": [
            " 47%|████▋     | 141/300 [00:27<00:28,  5.57it/s]"
          ]
        },
        {
          "output_type": "stream",
          "name": "stdout",
          "text": [
            "Epoch 140, Loss: 0.6314420104026794\n"
          ]
        },
        {
          "output_type": "stream",
          "name": "stderr",
          "text": [
            " 54%|█████▎    | 161/300 [00:30<00:24,  5.65it/s]"
          ]
        },
        {
          "output_type": "stream",
          "name": "stdout",
          "text": [
            "Epoch 160, Loss: 0.6339887380599976\n"
          ]
        },
        {
          "output_type": "stream",
          "name": "stderr",
          "text": [
            " 60%|██████    | 181/300 [00:34<00:20,  5.78it/s]"
          ]
        },
        {
          "output_type": "stream",
          "name": "stdout",
          "text": [
            "Epoch 180, Loss: 0.633427619934082\n"
          ]
        },
        {
          "output_type": "stream",
          "name": "stderr",
          "text": [
            " 67%|██████▋   | 200/300 [00:38<00:25,  3.95it/s]"
          ]
        },
        {
          "output_type": "stream",
          "name": "stdout",
          "text": [
            "Epoch 200, Loss: 0.6300966143608093\n"
          ]
        },
        {
          "output_type": "stream",
          "name": "stderr",
          "text": [
            " 74%|███████▎  | 221/300 [00:42<00:13,  5.73it/s]"
          ]
        },
        {
          "output_type": "stream",
          "name": "stdout",
          "text": [
            "Epoch 220, Loss: 0.6294932961463928\n"
          ]
        },
        {
          "output_type": "stream",
          "name": "stderr",
          "text": [
            " 80%|████████  | 241/300 [00:45<00:10,  5.72it/s]"
          ]
        },
        {
          "output_type": "stream",
          "name": "stdout",
          "text": [
            "Epoch 240, Loss: 0.6286304593086243\n"
          ]
        },
        {
          "output_type": "stream",
          "name": "stderr",
          "text": [
            " 87%|████████▋ | 261/300 [00:49<00:06,  5.66it/s]"
          ]
        },
        {
          "output_type": "stream",
          "name": "stdout",
          "text": [
            "Epoch 260, Loss: 0.6280556917190552\n"
          ]
        },
        {
          "output_type": "stream",
          "name": "stderr",
          "text": [
            " 94%|█████████▎| 281/300 [00:54<00:03,  5.19it/s]"
          ]
        },
        {
          "output_type": "stream",
          "name": "stdout",
          "text": [
            "Epoch 280, Loss: 0.62641841173172\n"
          ]
        },
        {
          "output_type": "stream",
          "name": "stderr",
          "text": [
            "100%|██████████| 300/300 [00:57<00:00,  5.21it/s]\n"
          ]
        },
        {
          "output_type": "stream",
          "name": "stdout",
          "text": [
            "Epoch 300, Loss: 0.6229791641235352\n",
            "Accuracy: 0.661\n",
            "AUC: 0.392\n",
            "Confusion Matrix:\n",
            "                  Predicted Negative    Predicted Positive\n",
            "Actual Negative       0.661           0.000\n",
            "Actual Positive       0.339           0.000\n",
            "\n",
            "--------------------------just sybils-----------------------------\n",
            "\n",
            "Accuracy: 0.000\n",
            "Accuracy with optimal threshold: 0.3394132865965615\n",
            "Accuracy with optimal threshold just for sybils: 0.9997046626385933\n"
          ]
        }
      ]
    },
    {
      "cell_type": "code",
      "source": [
        "input_dim = 1\n",
        "hidden_dim = 4\n",
        "output_dim = len(set(trainDictionaryY.values()))  # Number of classes\n",
        "\n",
        "model = GCN(input_dim, hidden_dim, output_dim, num_layers=4)\n",
        "run_model(model,epoch_number=300)"
      ],
      "metadata": {
        "id": "YLz0Xc5DnsIS",
        "outputId": "682f1e53-f7a4-4319-df03-cc55a291e27b",
        "colab": {
          "base_uri": "https://localhost:8080/"
        }
      },
      "execution_count": 26,
      "outputs": [
        {
          "output_type": "stream",
          "name": "stderr",
          "text": [
            "  0%|          | 1/300 [00:00<00:44,  6.67it/s]"
          ]
        },
        {
          "output_type": "stream",
          "name": "stdout",
          "text": [
            "Epoch 1, Loss: 0.6918877363204956\n"
          ]
        },
        {
          "output_type": "stream",
          "name": "stderr",
          "text": [
            "  7%|▋         | 21/300 [00:02<00:39,  7.15it/s]"
          ]
        },
        {
          "output_type": "stream",
          "name": "stdout",
          "text": [
            "Epoch 20, Loss: 0.6674107909202576\n"
          ]
        },
        {
          "output_type": "stream",
          "name": "stderr",
          "text": [
            " 14%|█▎        | 41/300 [00:05<00:35,  7.30it/s]"
          ]
        },
        {
          "output_type": "stream",
          "name": "stdout",
          "text": [
            "Epoch 40, Loss: 0.6276900768280029\n"
          ]
        },
        {
          "output_type": "stream",
          "name": "stderr",
          "text": [
            " 20%|██        | 60/300 [00:08<00:44,  5.37it/s]"
          ]
        },
        {
          "output_type": "stream",
          "name": "stdout",
          "text": [
            "Epoch 60, Loss: 0.6300861835479736\n"
          ]
        },
        {
          "output_type": "stream",
          "name": "stderr",
          "text": [
            " 27%|██▋       | 81/300 [00:13<00:35,  6.18it/s]"
          ]
        },
        {
          "output_type": "stream",
          "name": "stdout",
          "text": [
            "Epoch 80, Loss: 0.6221268773078918\n"
          ]
        },
        {
          "output_type": "stream",
          "name": "stderr",
          "text": [
            " 34%|███▎      | 101/300 [00:15<00:28,  7.09it/s]"
          ]
        },
        {
          "output_type": "stream",
          "name": "stdout",
          "text": [
            "Epoch 100, Loss: 0.6249790787696838\n"
          ]
        },
        {
          "output_type": "stream",
          "name": "stderr",
          "text": [
            " 40%|████      | 121/300 [00:18<00:25,  7.10it/s]"
          ]
        },
        {
          "output_type": "stream",
          "name": "stdout",
          "text": [
            "Epoch 120, Loss: 0.6227192282676697\n"
          ]
        },
        {
          "output_type": "stream",
          "name": "stderr",
          "text": [
            " 47%|████▋     | 141/300 [00:21<00:22,  7.00it/s]"
          ]
        },
        {
          "output_type": "stream",
          "name": "stdout",
          "text": [
            "Epoch 140, Loss: 0.6238486170768738\n"
          ]
        },
        {
          "output_type": "stream",
          "name": "stderr",
          "text": [
            " 53%|█████▎    | 160/300 [00:25<00:32,  4.30it/s]"
          ]
        },
        {
          "output_type": "stream",
          "name": "stdout",
          "text": [
            "Epoch 160, Loss: 0.6247026920318604\n"
          ]
        },
        {
          "output_type": "stream",
          "name": "stderr",
          "text": [
            " 60%|██████    | 181/300 [00:28<00:16,  7.26it/s]"
          ]
        },
        {
          "output_type": "stream",
          "name": "stdout",
          "text": [
            "Epoch 180, Loss: 0.6215833425521851\n"
          ]
        },
        {
          "output_type": "stream",
          "name": "stderr",
          "text": [
            " 67%|██████▋   | 201/300 [00:31<00:14,  7.03it/s]"
          ]
        },
        {
          "output_type": "stream",
          "name": "stdout",
          "text": [
            "Epoch 200, Loss: 0.6178641319274902\n"
          ]
        },
        {
          "output_type": "stream",
          "name": "stderr",
          "text": [
            " 74%|███████▎  | 221/300 [00:34<00:11,  7.12it/s]"
          ]
        },
        {
          "output_type": "stream",
          "name": "stdout",
          "text": [
            "Epoch 220, Loss: 0.6166728138923645\n"
          ]
        },
        {
          "output_type": "stream",
          "name": "stderr",
          "text": [
            " 80%|████████  | 240/300 [00:37<00:12,  4.84it/s]"
          ]
        },
        {
          "output_type": "stream",
          "name": "stdout",
          "text": [
            "Epoch 240, Loss: 0.6196548342704773\n"
          ]
        },
        {
          "output_type": "stream",
          "name": "stderr",
          "text": [
            " 87%|████████▋ | 261/300 [00:41<00:05,  6.73it/s]"
          ]
        },
        {
          "output_type": "stream",
          "name": "stdout",
          "text": [
            "Epoch 260, Loss: 0.618475079536438\n"
          ]
        },
        {
          "output_type": "stream",
          "name": "stderr",
          "text": [
            " 94%|█████████▎| 281/300 [00:44<00:02,  7.06it/s]"
          ]
        },
        {
          "output_type": "stream",
          "name": "stdout",
          "text": [
            "Epoch 280, Loss: 0.619096577167511\n"
          ]
        },
        {
          "output_type": "stream",
          "name": "stderr",
          "text": [
            "100%|██████████| 300/300 [00:47<00:00,  6.38it/s]\n"
          ]
        },
        {
          "output_type": "stream",
          "name": "stdout",
          "text": [
            "Epoch 300, Loss: 0.6183600425720215\n",
            "Accuracy: 0.661\n",
            "AUC: 0.406\n",
            "Confusion Matrix:\n",
            "                  Predicted Negative    Predicted Positive\n",
            "Actual Negative       0.661           0.000\n",
            "Actual Positive       0.339           0.000\n",
            "\n",
            "--------------------------just sybils-----------------------------\n",
            "\n",
            "Accuracy: 0.000\n",
            "Accuracy with optimal threshold: 0.3422091470539142\n",
            "Accuracy with optimal threshold just for sybils: 0.9971696836198516\n"
          ]
        }
      ]
    },
    {
      "cell_type": "code",
      "source": [
        "input_dim = 1\n",
        "hidden_dim = 16\n",
        "output_dim = len(set(trainDictionaryY.values()))  # Number of classes\n",
        "\n",
        "model = GAT(input_dim, hidden_dim, output_dim, heads=4)\n",
        "run_model(model,epoch_number=300)"
      ],
      "metadata": {
        "id": "qBLnmIbRnsLX",
        "outputId": "ee1bbee5-4113-494c-a148-1fd9f0b1f507",
        "colab": {
          "base_uri": "https://localhost:8080/"
        }
      },
      "execution_count": 23,
      "outputs": [
        {
          "output_type": "stream",
          "name": "stderr",
          "text": [
            "  0%|          | 1/300 [00:01<08:37,  1.73s/it]"
          ]
        },
        {
          "output_type": "stream",
          "name": "stdout",
          "text": [
            "Epoch 1, Loss: 0.7306354641914368\n"
          ]
        },
        {
          "output_type": "stream",
          "name": "stderr",
          "text": [
            "  7%|▋         | 20/300 [00:33<10:30,  2.25s/it]"
          ]
        },
        {
          "output_type": "stream",
          "name": "stdout",
          "text": [
            "Epoch 20, Loss: 0.6242342591285706\n"
          ]
        },
        {
          "output_type": "stream",
          "name": "stderr",
          "text": [
            " 13%|█▎        | 40/300 [00:56<02:55,  1.48it/s]"
          ]
        },
        {
          "output_type": "stream",
          "name": "stdout",
          "text": [
            "Epoch 40, Loss: 0.5630982518196106\n"
          ]
        },
        {
          "output_type": "stream",
          "name": "stderr",
          "text": [
            " 20%|██        | 60/300 [01:09<02:11,  1.82it/s]"
          ]
        },
        {
          "output_type": "stream",
          "name": "stdout",
          "text": [
            "Epoch 60, Loss: 0.4854258596897125\n"
          ]
        },
        {
          "output_type": "stream",
          "name": "stderr",
          "text": [
            " 27%|██▋       | 80/300 [01:21<02:01,  1.81it/s]"
          ]
        },
        {
          "output_type": "stream",
          "name": "stdout",
          "text": [
            "Epoch 80, Loss: 0.4491177499294281\n"
          ]
        },
        {
          "output_type": "stream",
          "name": "stderr",
          "text": [
            " 33%|███▎      | 100/300 [01:33<01:54,  1.75it/s]"
          ]
        },
        {
          "output_type": "stream",
          "name": "stdout",
          "text": [
            "Epoch 100, Loss: 0.43628302216529846\n"
          ]
        },
        {
          "output_type": "stream",
          "name": "stderr",
          "text": [
            " 40%|████      | 120/300 [01:45<01:51,  1.62it/s]"
          ]
        },
        {
          "output_type": "stream",
          "name": "stdout",
          "text": [
            "Epoch 120, Loss: 0.42377105355262756\n"
          ]
        },
        {
          "output_type": "stream",
          "name": "stderr",
          "text": [
            " 47%|████▋     | 140/300 [01:57<01:59,  1.34it/s]"
          ]
        },
        {
          "output_type": "stream",
          "name": "stdout",
          "text": [
            "Epoch 140, Loss: 0.4041675329208374\n"
          ]
        },
        {
          "output_type": "stream",
          "name": "stderr",
          "text": [
            " 53%|█████▎    | 160/300 [02:09<01:37,  1.44it/s]"
          ]
        },
        {
          "output_type": "stream",
          "name": "stdout",
          "text": [
            "Epoch 160, Loss: 0.40137889981269836\n"
          ]
        },
        {
          "output_type": "stream",
          "name": "stderr",
          "text": [
            " 60%|██████    | 180/300 [02:27<02:47,  1.40s/it]"
          ]
        },
        {
          "output_type": "stream",
          "name": "stdout",
          "text": [
            "Epoch 180, Loss: 0.400587260723114\n"
          ]
        },
        {
          "output_type": "stream",
          "name": "stderr",
          "text": [
            " 67%|██████▋   | 200/300 [02:40<01:14,  1.34it/s]"
          ]
        },
        {
          "output_type": "stream",
          "name": "stdout",
          "text": [
            "Epoch 200, Loss: 0.40021809935569763\n"
          ]
        },
        {
          "output_type": "stream",
          "name": "stderr",
          "text": [
            " 73%|███████▎  | 220/300 [02:52<00:57,  1.40it/s]"
          ]
        },
        {
          "output_type": "stream",
          "name": "stdout",
          "text": [
            "Epoch 220, Loss: 0.39993348717689514\n"
          ]
        },
        {
          "output_type": "stream",
          "name": "stderr",
          "text": [
            " 80%|████████  | 240/300 [03:04<00:36,  1.63it/s]"
          ]
        },
        {
          "output_type": "stream",
          "name": "stdout",
          "text": [
            "Epoch 240, Loss: 0.3996928632259369\n"
          ]
        },
        {
          "output_type": "stream",
          "name": "stderr",
          "text": [
            " 87%|████████▋ | 260/300 [03:17<00:22,  1.79it/s]"
          ]
        },
        {
          "output_type": "stream",
          "name": "stdout",
          "text": [
            "Epoch 260, Loss: 0.399457186460495\n"
          ]
        },
        {
          "output_type": "stream",
          "name": "stderr",
          "text": [
            " 93%|█████████▎| 280/300 [03:29<00:11,  1.76it/s]"
          ]
        },
        {
          "output_type": "stream",
          "name": "stdout",
          "text": [
            "Epoch 280, Loss: 0.3992132842540741\n"
          ]
        },
        {
          "output_type": "stream",
          "name": "stderr",
          "text": [
            "100%|██████████| 300/300 [03:43<00:00,  1.34it/s]"
          ]
        },
        {
          "output_type": "stream",
          "name": "stdout",
          "text": [
            "Epoch 300, Loss: 0.39895614981651306\n"
          ]
        },
        {
          "output_type": "stream",
          "name": "stderr",
          "text": [
            "\n"
          ]
        },
        {
          "output_type": "stream",
          "name": "stdout",
          "text": [
            "Accuracy: 0.803\n",
            "AUC: 0.903\n",
            "Confusion Matrix:\n",
            "                  Predicted Negative    Predicted Positive\n",
            "Actual Negative       0.531           0.130\n",
            "Actual Positive       0.067           0.272\n",
            "\n",
            "--------------------------just sybils-----------------------------\n",
            "\n",
            "Accuracy: 0.802\n",
            "Accuracy with optimal threshold: 0.8589467534635287\n",
            "Accuracy with optimal threshold just for sybils: 0.7359683989023295\n"
          ]
        }
      ]
    },
    {
      "cell_type": "code",
      "source": [
        "input_dim = 1\n",
        "hidden_dim = 4\n",
        "output_dim = len(set(trainDictionaryY.values()))  # Number of classes\n",
        "\n",
        "model = GAT(input_dim, hidden_dim, output_dim, heads=4)\n",
        "run_model(model,epoch_number=300)"
      ],
      "metadata": {
        "colab": {
          "base_uri": "https://localhost:8080/"
        },
        "id": "9b9cLf8y5Jbr",
        "outputId": "a1e51c40-1e7a-4972-85b0-2c7c1f735a9c"
      },
      "execution_count": 24,
      "outputs": [
        {
          "output_type": "stream",
          "name": "stderr",
          "text": [
            "  0%|          | 1/300 [00:00<01:13,  4.05it/s]"
          ]
        },
        {
          "output_type": "stream",
          "name": "stdout",
          "text": [
            "Epoch 1, Loss: 0.744617760181427\n"
          ]
        },
        {
          "output_type": "stream",
          "name": "stderr",
          "text": [
            "  7%|▋         | 20/300 [00:05<01:40,  2.78it/s]"
          ]
        },
        {
          "output_type": "stream",
          "name": "stdout",
          "text": [
            "Epoch 20, Loss: 0.6390350461006165\n"
          ]
        },
        {
          "output_type": "stream",
          "name": "stderr",
          "text": [
            " 13%|█▎        | 40/300 [00:11<01:06,  3.90it/s]"
          ]
        },
        {
          "output_type": "stream",
          "name": "stdout",
          "text": [
            "Epoch 40, Loss: 0.616067111492157\n"
          ]
        },
        {
          "output_type": "stream",
          "name": "stderr",
          "text": [
            " 20%|██        | 60/300 [00:16<00:59,  4.04it/s]"
          ]
        },
        {
          "output_type": "stream",
          "name": "stdout",
          "text": [
            "Epoch 60, Loss: 0.583609938621521\n"
          ]
        },
        {
          "output_type": "stream",
          "name": "stderr",
          "text": [
            " 27%|██▋       | 80/300 [00:22<00:54,  4.03it/s]"
          ]
        },
        {
          "output_type": "stream",
          "name": "stdout",
          "text": [
            "Epoch 80, Loss: 0.530661940574646\n"
          ]
        },
        {
          "output_type": "stream",
          "name": "stderr",
          "text": [
            " 33%|███▎      | 100/300 [00:27<00:49,  4.05it/s]"
          ]
        },
        {
          "output_type": "stream",
          "name": "stdout",
          "text": [
            "Epoch 100, Loss: 0.46302366256713867\n"
          ]
        },
        {
          "output_type": "stream",
          "name": "stderr",
          "text": [
            " 40%|████      | 120/300 [00:33<01:05,  2.75it/s]"
          ]
        },
        {
          "output_type": "stream",
          "name": "stdout",
          "text": [
            "Epoch 120, Loss: 0.43701252341270447\n"
          ]
        },
        {
          "output_type": "stream",
          "name": "stderr",
          "text": [
            " 47%|████▋     | 140/300 [00:38<00:40,  3.97it/s]"
          ]
        },
        {
          "output_type": "stream",
          "name": "stdout",
          "text": [
            "Epoch 140, Loss: 0.4301377236843109\n"
          ]
        },
        {
          "output_type": "stream",
          "name": "stderr",
          "text": [
            " 53%|█████▎    | 160/300 [00:43<00:35,  3.92it/s]"
          ]
        },
        {
          "output_type": "stream",
          "name": "stdout",
          "text": [
            "Epoch 160, Loss: 0.41961246728897095\n"
          ]
        },
        {
          "output_type": "stream",
          "name": "stderr",
          "text": [
            " 60%|██████    | 180/300 [00:50<00:30,  3.94it/s]"
          ]
        },
        {
          "output_type": "stream",
          "name": "stdout",
          "text": [
            "Epoch 180, Loss: 0.406279057264328\n"
          ]
        },
        {
          "output_type": "stream",
          "name": "stderr",
          "text": [
            " 67%|██████▋   | 200/300 [00:55<00:25,  3.91it/s]"
          ]
        },
        {
          "output_type": "stream",
          "name": "stdout",
          "text": [
            "Epoch 200, Loss: 0.4030618369579315\n"
          ]
        },
        {
          "output_type": "stream",
          "name": "stderr",
          "text": [
            " 73%|███████▎  | 220/300 [01:01<00:29,  2.75it/s]"
          ]
        },
        {
          "output_type": "stream",
          "name": "stdout",
          "text": [
            "Epoch 220, Loss: 0.4017576575279236\n"
          ]
        },
        {
          "output_type": "stream",
          "name": "stderr",
          "text": [
            " 80%|████████  | 240/300 [01:06<00:15,  3.85it/s]"
          ]
        },
        {
          "output_type": "stream",
          "name": "stdout",
          "text": [
            "Epoch 240, Loss: 0.40109580755233765\n"
          ]
        },
        {
          "output_type": "stream",
          "name": "stderr",
          "text": [
            " 87%|████████▋ | 260/300 [01:11<00:09,  4.13it/s]"
          ]
        },
        {
          "output_type": "stream",
          "name": "stdout",
          "text": [
            "Epoch 260, Loss: 0.4006361663341522\n"
          ]
        },
        {
          "output_type": "stream",
          "name": "stderr",
          "text": [
            " 93%|█████████▎| 280/300 [01:18<00:05,  3.81it/s]"
          ]
        },
        {
          "output_type": "stream",
          "name": "stdout",
          "text": [
            "Epoch 280, Loss: 0.400273859500885\n"
          ]
        },
        {
          "output_type": "stream",
          "name": "stderr",
          "text": [
            "100%|██████████| 300/300 [01:23<00:00,  3.61it/s]"
          ]
        },
        {
          "output_type": "stream",
          "name": "stdout",
          "text": [
            "Epoch 300, Loss: 0.39999303221702576\n"
          ]
        },
        {
          "output_type": "stream",
          "name": "stderr",
          "text": [
            "\n"
          ]
        },
        {
          "output_type": "stream",
          "name": "stdout",
          "text": [
            "Accuracy: 0.859\n",
            "AUC: 0.902\n",
            "Confusion Matrix:\n",
            "                  Predicted Negative    Predicted Positive\n",
            "Actual Negative       0.611           0.050\n",
            "Actual Positive       0.091           0.248\n",
            "\n",
            "--------------------------just sybils-----------------------------\n",
            "\n",
            "Accuracy: 0.731\n",
            "Accuracy with optimal threshold: 0.8592805875479886\n",
            "Accuracy with optimal threshold just for sybils: 0.7314891155876598\n"
          ]
        }
      ]
    },
    {
      "cell_type": "code",
      "source": [],
      "metadata": {
        "id": "McTwG_aFQI6O"
      },
      "execution_count": null,
      "outputs": []
    },
    {
      "cell_type": "code",
      "source": [],
      "metadata": {
        "id": "ilawlC1wZxEc"
      },
      "execution_count": null,
      "outputs": []
    }
  ]
}