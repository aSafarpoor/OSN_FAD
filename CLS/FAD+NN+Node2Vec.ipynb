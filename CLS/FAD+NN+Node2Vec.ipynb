{
  "nbformat": 4,
  "nbformat_minor": 0,
  "metadata": {
    "colab": {
      "provenance": [],
      "authorship_tag": "ABX9TyMvDqmMdeKIrHmGYa7eCtLn",
      "include_colab_link": true
    },
    "kernelspec": {
      "name": "python3",
      "display_name": "Python 3"
    },
    "language_info": {
      "name": "python"
    }
  },
  "cells": [
    {
      "cell_type": "markdown",
      "metadata": {
        "id": "view-in-github",
        "colab_type": "text"
      },
      "source": [
        "<a href=\"https://colab.research.google.com/github/aSafarpoor/OSN_FAD/blob/main/CLS/FAD%2BNN%2BNode2Vec.ipynb\" target=\"_parent\"><img src=\"https://colab.research.google.com/assets/colab-badge.svg\" alt=\"Open In Colab\"/></a>"
      ]
    },
    {
      "cell_type": "code",
      "source": [
        "!pip install node2vec"
      ],
      "metadata": {
        "colab": {
          "base_uri": "https://localhost:8080/"
        },
        "id": "7gGZjWfcxb8w",
        "outputId": "d49d1208-6d62-4e11-e515-7dde49a96174"
      },
      "execution_count": 155,
      "outputs": [
        {
          "output_type": "stream",
          "name": "stdout",
          "text": [
            "Requirement already satisfied: node2vec in /usr/local/lib/python3.10/dist-packages (0.5.0)\n",
            "Requirement already satisfied: gensim<5.0.0,>=4.3.0 in /usr/local/lib/python3.10/dist-packages (from node2vec) (4.3.3)\n",
            "Requirement already satisfied: joblib<2.0.0,>=1.4.0 in /usr/local/lib/python3.10/dist-packages (from node2vec) (1.4.2)\n",
            "Requirement already satisfied: networkx<4.0.0,>=3.1.0 in /usr/local/lib/python3.10/dist-packages (from node2vec) (3.4.2)\n",
            "Requirement already satisfied: numpy<2.0.0,>=1.24.0 in /usr/local/lib/python3.10/dist-packages (from node2vec) (1.26.4)\n",
            "Requirement already satisfied: tqdm<5.0.0,>=4.66.1 in /usr/local/lib/python3.10/dist-packages (from node2vec) (4.66.6)\n",
            "Requirement already satisfied: scipy<1.14.0,>=1.7.0 in /usr/local/lib/python3.10/dist-packages (from gensim<5.0.0,>=4.3.0->node2vec) (1.13.1)\n",
            "Requirement already satisfied: smart-open>=1.8.1 in /usr/local/lib/python3.10/dist-packages (from gensim<5.0.0,>=4.3.0->node2vec) (7.0.5)\n",
            "Requirement already satisfied: wrapt in /usr/local/lib/python3.10/dist-packages (from smart-open>=1.8.1->gensim<5.0.0,>=4.3.0->node2vec) (1.16.0)\n"
          ]
        }
      ]
    },
    {
      "cell_type": "code",
      "source": [
        "!pip install torch_geometric"
      ],
      "metadata": {
        "colab": {
          "base_uri": "https://localhost:8080/"
        },
        "id": "haFRmjjq3Ixj",
        "outputId": "453394a7-a023-44c8-aab5-1173855e7033"
      },
      "execution_count": 156,
      "outputs": [
        {
          "output_type": "stream",
          "name": "stdout",
          "text": [
            "Requirement already satisfied: torch_geometric in /usr/local/lib/python3.10/dist-packages (2.6.1)\n",
            "Requirement already satisfied: aiohttp in /usr/local/lib/python3.10/dist-packages (from torch_geometric) (3.10.10)\n",
            "Requirement already satisfied: fsspec in /usr/local/lib/python3.10/dist-packages (from torch_geometric) (2024.10.0)\n",
            "Requirement already satisfied: jinja2 in /usr/local/lib/python3.10/dist-packages (from torch_geometric) (3.1.4)\n",
            "Requirement already satisfied: numpy in /usr/local/lib/python3.10/dist-packages (from torch_geometric) (1.26.4)\n",
            "Requirement already satisfied: psutil>=5.8.0 in /usr/local/lib/python3.10/dist-packages (from torch_geometric) (5.9.5)\n",
            "Requirement already satisfied: pyparsing in /usr/local/lib/python3.10/dist-packages (from torch_geometric) (3.2.0)\n",
            "Requirement already satisfied: requests in /usr/local/lib/python3.10/dist-packages (from torch_geometric) (2.32.3)\n",
            "Requirement already satisfied: tqdm in /usr/local/lib/python3.10/dist-packages (from torch_geometric) (4.66.6)\n",
            "Requirement already satisfied: aiohappyeyeballs>=2.3.0 in /usr/local/lib/python3.10/dist-packages (from aiohttp->torch_geometric) (2.4.3)\n",
            "Requirement already satisfied: aiosignal>=1.1.2 in /usr/local/lib/python3.10/dist-packages (from aiohttp->torch_geometric) (1.3.1)\n",
            "Requirement already satisfied: attrs>=17.3.0 in /usr/local/lib/python3.10/dist-packages (from aiohttp->torch_geometric) (24.2.0)\n",
            "Requirement already satisfied: frozenlist>=1.1.1 in /usr/local/lib/python3.10/dist-packages (from aiohttp->torch_geometric) (1.5.0)\n",
            "Requirement already satisfied: multidict<7.0,>=4.5 in /usr/local/lib/python3.10/dist-packages (from aiohttp->torch_geometric) (6.1.0)\n",
            "Requirement already satisfied: yarl<2.0,>=1.12.0 in /usr/local/lib/python3.10/dist-packages (from aiohttp->torch_geometric) (1.17.1)\n",
            "Requirement already satisfied: async-timeout<5.0,>=4.0 in /usr/local/lib/python3.10/dist-packages (from aiohttp->torch_geometric) (4.0.3)\n",
            "Requirement already satisfied: MarkupSafe>=2.0 in /usr/local/lib/python3.10/dist-packages (from jinja2->torch_geometric) (3.0.2)\n",
            "Requirement already satisfied: charset-normalizer<4,>=2 in /usr/local/lib/python3.10/dist-packages (from requests->torch_geometric) (3.4.0)\n",
            "Requirement already satisfied: idna<4,>=2.5 in /usr/local/lib/python3.10/dist-packages (from requests->torch_geometric) (3.10)\n",
            "Requirement already satisfied: urllib3<3,>=1.21.1 in /usr/local/lib/python3.10/dist-packages (from requests->torch_geometric) (2.2.3)\n",
            "Requirement already satisfied: certifi>=2017.4.17 in /usr/local/lib/python3.10/dist-packages (from requests->torch_geometric) (2024.8.30)\n",
            "Requirement already satisfied: typing-extensions>=4.1.0 in /usr/local/lib/python3.10/dist-packages (from multidict<7.0,>=4.5->aiohttp->torch_geometric) (4.12.2)\n",
            "Requirement already satisfied: propcache>=0.2.0 in /usr/local/lib/python3.10/dist-packages (from yarl<2.0,>=1.12.0->aiohttp->torch_geometric) (0.2.0)\n"
          ]
        }
      ]
    },
    {
      "cell_type": "code",
      "source": [
        "import networkx as nx\n",
        "import numpy as np\n",
        "from tqdm import tqdm\n",
        "from matplotlib import pyplot as plt\n",
        "from node2vec import Node2Vec\n",
        "import random\n",
        "SEED = 10"
      ],
      "metadata": {
        "id": "EgVWNp2RwH1r"
      },
      "execution_count": 172,
      "outputs": []
    },
    {
      "cell_type": "code",
      "source": [
        "import torch\n",
        "import torch.nn.functional as F\n",
        "from torch_geometric.nn import GCNConv, GATConv\n",
        "from sklearn.metrics import roc_curve,accuracy_score, roc_auc_score, confusion_matrix\n",
        "\n"
      ],
      "metadata": {
        "id": "MjmKIOzU3HOZ"
      },
      "execution_count": 190,
      "outputs": []
    },
    {
      "cell_type": "markdown",
      "source": [
        "# read data"
      ],
      "metadata": {
        "id": "CgcI8ABbv_Z7"
      }
    },
    {
      "cell_type": "code",
      "execution_count": 159,
      "metadata": {
        "id": "zX5hqr37umKQ"
      },
      "outputs": [],
      "source": [
        "edges = []\n",
        "with open('graph.txt', 'r') as file:\n",
        "    for line in file:\n",
        "        # Split each line into two numbers and convert them to integers\n",
        "        pair = list(map(int, line.strip().split()))\n",
        "        edges.append(pair)\n",
        "\n",
        "\n",
        "with open('train.txt', 'r') as file:\n",
        "    lines = file.readlines()\n",
        "    btrain = list(map(float, lines[0].strip().split()))\n",
        "    strain = list(map(float, lines[1].strip().split()))\n",
        "\n",
        "with open('test.txt', 'r') as file:\n",
        "    lines = file.readlines()\n",
        "    btest = list(map(float, lines[0].strip().split()))\n",
        "    stest = list(map(float, lines[1].strip().split()))"
      ]
    },
    {
      "cell_type": "code",
      "source": [
        "print(\"Length of edges:\", len(edges),\n",
        "      \"| Length of btrain:\", len(btrain),\n",
        "      \"| Length of btest:\", len(btest),\n",
        "      \"| Length of strain:\", len(strain),\n",
        "      \"| Length of stest:\", len(stest))"
      ],
      "metadata": {
        "colab": {
          "base_uri": "https://localhost:8080/"
        },
        "id": "fnW9_Dy_vsFB",
        "outputId": "bec12829-3ad8-41a8-8b8a-d1739efc1122"
      },
      "execution_count": 160,
      "outputs": [
        {
          "output_type": "stream",
          "name": "stdout",
          "text": [
            "Length of edges: 6818501 | Length of btrain: 20000 | Length of btest: 158377 | Length of strain: 10000 | Length of stest: 81263\n"
          ]
        }
      ]
    },
    {
      "cell_type": "markdown",
      "source": [
        "# data preparation"
      ],
      "metadata": {
        "id": "8SU1c25fwCqY"
      }
    },
    {
      "cell_type": "code",
      "source": [
        "bigG = nx.Graph()\n",
        "bigG.add_edges_from(edges)"
      ],
      "metadata": {
        "id": "fyIw0zUmv6hf"
      },
      "execution_count": 161,
      "outputs": []
    },
    {
      "cell_type": "code",
      "source": [
        "trainG = bigG.subgraph(btrain+strain).copy()\n",
        "testG = bigG.subgraph(btest+stest).copy()"
      ],
      "metadata": {
        "id": "I4o9aiC5waFz"
      },
      "execution_count": 162,
      "outputs": []
    },
    {
      "cell_type": "code",
      "source": [
        "print(len(bigG.nodes()),len(trainG.nodes()),len(testG.nodes()))"
      ],
      "metadata": {
        "colab": {
          "base_uri": "https://localhost:8080/"
        },
        "id": "Q06KncG38N1m",
        "outputId": "ec6259b0-3246-425e-afcc-f7f42da7ba1a"
      },
      "execution_count": 163,
      "outputs": [
        {
          "output_type": "stream",
          "name": "stdout",
          "text": [
            "269640 30000 239640\n"
          ]
        }
      ]
    },
    {
      "cell_type": "code",
      "source": [
        "def reindex_graph_and_dictionaries(G, train, test):\n",
        "    new_index_mapping = {old_index: new_index for new_index, old_index in enumerate(G.nodes())}\n",
        "    G_reindexed = nx.relabel_nodes(G, new_index_mapping)\n",
        "\n",
        "    train = [new_index_mapping[int(node)] for node in train]\n",
        "    test =  [new_index_mapping[int(node)] for node in test]\n",
        "\n",
        "    return G_reindexed, train, test"
      ],
      "metadata": {
        "id": "ngN-8QLy6BEr"
      },
      "execution_count": 164,
      "outputs": []
    },
    {
      "cell_type": "code",
      "source": [
        "trainG,btrain,strain =reindex_graph_and_dictionaries(trainG, btrain,strain)\n",
        "testG,btest,stest =reindex_graph_and_dictionaries(testG, btest,stest)"
      ],
      "metadata": {
        "id": "X_YRW5E_9n1h"
      },
      "execution_count": 165,
      "outputs": []
    },
    {
      "cell_type": "code",
      "source": [
        "trainDictionaryX = {}\n",
        "trainDictionaryY = {}\n",
        "testDictionaryX = {}\n",
        "testDictionaryY = {}\n",
        "\n",
        "random.seed(SEED)\n",
        "\n",
        "c=0\n",
        "for node in btrain:\n",
        "    if random.random() < 0.20:\n",
        "        c+=1\n",
        "        trainDictionaryX[node] = [0]\n",
        "    else:\n",
        "        trainDictionaryX[node] = [0.5]\n",
        "    trainDictionaryY[node] = 0\n",
        "print(c)\n",
        "\n",
        "c=0\n",
        "for node in strain:\n",
        "    if random.random() < 0.20:\n",
        "        c+=1\n",
        "        trainDictionaryX[node] = [1]\n",
        "    else:\n",
        "        trainDictionaryX[node] = [0.5]\n",
        "    trainDictionaryY[node] = 1\n",
        "print(c)\n",
        "\n",
        "c=0\n",
        "for node in btest:\n",
        "    if random.random() < 0.1:\n",
        "        c+=1\n",
        "        testDictionaryX[node] = [0]\n",
        "    else:\n",
        "        testDictionaryX[node] = [0.5]\n",
        "    testDictionaryY[node] = 0\n",
        "print(c)\n",
        "\n",
        "c=0\n",
        "for node in stest:\n",
        "    if random.random() < 0.1:\n",
        "        c+=1\n",
        "        testDictionaryX[node] = [1]\n",
        "    else:\n",
        "        testDictionaryX[node] = [0.5]\n",
        "    testDictionaryY[node] = 1\n",
        "print(c)"
      ],
      "metadata": {
        "id": "JBbGkflLwncB",
        "colab": {
          "base_uri": "https://localhost:8080/"
        },
        "outputId": "e4f3f841-2909-4008-ca9c-f82aa0d2c368"
      },
      "execution_count": 176,
      "outputs": [
        {
          "output_type": "stream",
          "name": "stdout",
          "text": [
            "4038\n",
            "1986\n",
            "15631\n",
            "8053\n"
          ]
        }
      ]
    },
    {
      "cell_type": "code",
      "source": [
        "# print(len(btrain))\n",
        "# print(len(strain))\n",
        "# print(len(btest))\n",
        "# print(len(stest))\n"
      ],
      "metadata": {
        "id": "trTy5my5TKmA"
      },
      "execution_count": 178,
      "outputs": []
    },
    {
      "cell_type": "markdown",
      "source": [
        "#model"
      ],
      "metadata": {
        "id": "DeK6WQGZ3GfY"
      }
    },
    {
      "cell_type": "code",
      "source": [
        "# Prepare data (assuming PyTorch Geometric format for graphs)\n",
        "def prepare_data(graph, dictionaryX, dictionaryY):\n",
        "    x = torch.tensor([dictionaryX[node] for node in graph.nodes()], dtype=torch.float)\n",
        "    y = torch.tensor([dictionaryY[node] for node in graph.nodes()], dtype=torch.long)\n",
        "    # edge_index = torch.tensor(list(graph.edges())).t().contiguous()\n",
        "    edge_index = torch.tensor(list(graph.edges()), dtype=torch.long).t().contiguous()\n",
        "    return x, y, edge_index"
      ],
      "metadata": {
        "id": "8vMqaJny3Htr"
      },
      "execution_count": 179,
      "outputs": []
    },
    {
      "cell_type": "code",
      "source": [],
      "metadata": {
        "id": "b09R-ELwOUc1"
      },
      "execution_count": 179,
      "outputs": []
    },
    {
      "cell_type": "code",
      "source": [
        "def pure_sybil_test(test_x, test_y):\n",
        "    print(len(test_x))\n",
        "    mask = (test_y == 1)\n",
        "    x = test_x[mask]\n",
        "    y = test_y[mask]\n",
        "    print(len(x))\n",
        "    return x, y, mask"
      ],
      "metadata": {
        "id": "hPBrJe9eOVjD"
      },
      "execution_count": 180,
      "outputs": []
    },
    {
      "cell_type": "code",
      "source": [
        "train_x, train_y, train_edge_index = prepare_data(trainG, trainDictionaryX, trainDictionaryY)\n",
        "test_x, test_y, test_edge_index = prepare_data(testG, testDictionaryX, testDictionaryY)\n",
        "test_x2, test_y2, mask2 = pure_sybil_test(test_x, test_y)\n"
      ],
      "metadata": {
        "id": "awhrP4TK4hDH",
        "colab": {
          "base_uri": "https://localhost:8080/"
        },
        "outputId": "7595af0f-feff-4f4c-f21e-c27902ddb357"
      },
      "execution_count": 181,
      "outputs": [
        {
          "output_type": "stream",
          "name": "stdout",
          "text": [
            "239640\n",
            "81263\n"
          ]
        }
      ]
    },
    {
      "cell_type": "code",
      "source": [
        "class GCN(torch.nn.Module):\n",
        "    def __init__(self, input_dim, hidden_dim, output_dim, num_layers, dropout=True):\n",
        "        super(GCN, self).__init__()\n",
        "        self.dropout = dropout\n",
        "        self.convs = torch.nn.ModuleList()\n",
        "        self.num_classes = output_dim\n",
        "        for i in range(num_layers):\n",
        "            if i == 0:  # First layer\n",
        "                self.convs.append(GCNConv(input_dim, hidden_dim, bias=False))\n",
        "            elif i == num_layers - 1:  # Last layer\n",
        "                self.convs.append(GCNConv(hidden_dim, output_dim, bias=False))\n",
        "            else:  # Middle layers\n",
        "                self.convs.append(GCNConv(hidden_dim, hidden_dim, bias=False))\n",
        "\n",
        "    def forward(self, x, edge_index):\n",
        "        h = x\n",
        "        i = 0\n",
        "        for conv in self.convs:\n",
        "            if self.dropout:\n",
        "                h = F.dropout(h, p=0.5, training=self.training)\n",
        "            h = conv(h, edge_index)\n",
        "            if i < len(self.convs) - 1:\n",
        "                h = F.tanh(h)\n",
        "            i += 1\n",
        "\n",
        "        if self.num_classes == 1:\n",
        "            return F.sigmoid(h), h\n",
        "        else:\n",
        "            return F.softmax(h, dim=1)\n",
        "\n",
        "\n",
        "\n",
        "\n",
        "class GAT(torch.nn.Module):\n",
        "    def __init__(self, input_dim, hidden_dim, output_dim, heads=1):\n",
        "        super(GAT, self).__init__()\n",
        "        self.conv1 = GATConv(input_dim, hidden_dim, heads=heads)\n",
        "        self.conv2 = GATConv(hidden_dim * heads, output_dim, heads=1)  # Single head in the final layer\n",
        "\n",
        "    def forward(self, x, edge_index):\n",
        "        x = self.conv1(x, edge_index)\n",
        "        x = F.elu(x)  # ELU is commonly used in GAT models instead of ReLU\n",
        "        x = self.conv2(x, edge_index)\n",
        "        return F.log_softmax(x, dim=1)"
      ],
      "metadata": {
        "id": "n2y5RCQ2xs0i"
      },
      "execution_count": 205,
      "outputs": []
    },
    {
      "cell_type": "code",
      "source": [
        "# Initialize model, optimizer, and loss function\n",
        "input_dim = 1\n",
        "hidden_dim = 16\n",
        "output_dim = len(set(trainDictionaryY.values()))  # Number of classes\n",
        "\n",
        "model = GCN(input_dim, hidden_dim, output_dim, num_layers=3)\n",
        "optimizer = torch.optim.Adam(model.parameters(), lr=0.01)\n",
        "loss_fn = torch.nn.CrossEntropyLoss()\n",
        "\n",
        "model.train()\n",
        "for epoch in tqdm(range(400)):\n",
        "    optimizer.zero_grad()\n",
        "    out = model(train_x, train_edge_index)\n",
        "    loss = loss_fn(out, train_y)\n",
        "    loss.backward()\n",
        "    optimizer.step()\n",
        "    if (epoch+1)%20 == 0 or epoch==0:\n",
        "        print(f'Epoch {epoch + 1}, Loss: {loss.item()}')\n",
        "\n",
        "model.eval()\n",
        "with torch.no_grad():\n",
        "    test_out = model(test_x, test_edge_index)\n",
        "    pred = test_out.argmax(dim=1).cpu()\n",
        "\n",
        "    # Compute metrics\n",
        "    acc = accuracy_score(test_y, pred)\n",
        "    auc = roc_auc_score(test_y, test_out[:, 1], multi_class='ovo')  # Adjust depending on binary or multi-class\n",
        "    cm = confusion_matrix(test_y, pred)\n",
        "    cm = cm.astype('float') / len(pred)\n",
        "\n",
        "\n",
        "    print(f'Accuracy: {acc:.3f}')\n",
        "    print(f'AUC: {auc:.3f}')\n",
        "    print('Confusion Matrix:')\n",
        "    print(f\"                  Predicted Negative    Predicted Positive\")\n",
        "    print(f\"Actual Negative       {cm[0, 0]:.3f}           {cm[0, 1]:.3f}\")\n",
        "    print(f\"Actual Positive       {cm[1, 0]:.3f}           {cm[1, 1]:.3f}\")\n",
        "\n",
        "    print(\"\\n--------------------------just sybils-----------------------------\\n\")\n",
        "\n",
        "    test_out = model(test_x, test_edge_index)\n",
        "    test_out = test_out[mask2]\n",
        "    pred = test_out.argmax(dim=1).cpu()\n",
        "    acc = accuracy_score(test_y2, pred)\n",
        "    print(f'Accuracy: {acc:.3f}')\n",
        "\n",
        "\n",
        "with torch.no_grad():\n",
        "    test_out = model(test_x, test_edge_index)\n",
        "    pred = test_out.argmax(dim=1).cpu()\n",
        "\n",
        "    # Compute AUC score as usual\n",
        "    auc = roc_auc_score(test_y, test_out[:, 1], multi_class='ovo')\n",
        "    fpr, tpr, thresholds = roc_curve(test_y, test_out[:, 1])\n",
        "    j_scores = tpr - fpr\n",
        "    optimal_threshold = thresholds[j_scores.argmax()]\n",
        "    pred = (test_out[:, 1] >= optimal_threshold)\n",
        "    acc = accuracy_score(test_y, pred)\n",
        "\n",
        "    # just sybil\n",
        "    test_out = test_out[mask2]\n",
        "    pred = (test_out[:, 1] >= optimal_threshold)\n",
        "    acc_sybils = accuracy_score(test_y2, pred)\n",
        "    print(\"Accuracy with optimal threshold:\", acc)\n",
        "    print(\"Accuracy with optimal threshold just for sybils:\", acc_sybils)"
      ],
      "metadata": {
        "colab": {
          "base_uri": "https://localhost:8080/"
        },
        "id": "9b9cLf8y5Jbr",
        "outputId": "36c77043-2b9d-4acb-c656-1bf191390ec7"
      },
      "execution_count": 204,
      "outputs": [
        {
          "output_type": "stream",
          "name": "stderr",
          "text": [
            "  0%|          | 1/400 [00:00<02:43,  2.44it/s]"
          ]
        },
        {
          "output_type": "stream",
          "name": "stdout",
          "text": [
            "Epoch 1, Loss: 0.7187546491622925\n"
          ]
        },
        {
          "output_type": "stream",
          "name": "stderr",
          "text": [
            "  5%|▌         | 21/400 [00:06<01:41,  3.75it/s]"
          ]
        },
        {
          "output_type": "stream",
          "name": "stdout",
          "text": [
            "Epoch 20, Loss: 0.6340564489364624\n"
          ]
        },
        {
          "output_type": "stream",
          "name": "stderr",
          "text": [
            " 10%|█         | 41/400 [00:10<00:57,  6.23it/s]"
          ]
        },
        {
          "output_type": "stream",
          "name": "stdout",
          "text": [
            "Epoch 40, Loss: 0.6338817477226257\n"
          ]
        },
        {
          "output_type": "stream",
          "name": "stderr",
          "text": [
            " 15%|█▌        | 61/400 [00:13<00:53,  6.35it/s]"
          ]
        },
        {
          "output_type": "stream",
          "name": "stdout",
          "text": [
            "Epoch 60, Loss: 0.6338405609130859\n"
          ]
        },
        {
          "output_type": "stream",
          "name": "stderr",
          "text": [
            " 20%|██        | 81/400 [00:16<00:51,  6.24it/s]"
          ]
        },
        {
          "output_type": "stream",
          "name": "stdout",
          "text": [
            "Epoch 80, Loss: 0.6350160241127014\n"
          ]
        },
        {
          "output_type": "stream",
          "name": "stderr",
          "text": [
            " 25%|██▌       | 101/400 [00:20<00:55,  5.39it/s]"
          ]
        },
        {
          "output_type": "stream",
          "name": "stdout",
          "text": [
            "Epoch 100, Loss: 0.6301419734954834\n"
          ]
        },
        {
          "output_type": "stream",
          "name": "stderr",
          "text": [
            " 30%|███       | 121/400 [00:24<00:44,  6.21it/s]"
          ]
        },
        {
          "output_type": "stream",
          "name": "stdout",
          "text": [
            "Epoch 120, Loss: 0.6343177556991577\n"
          ]
        },
        {
          "output_type": "stream",
          "name": "stderr",
          "text": [
            " 35%|███▌      | 141/400 [00:27<00:41,  6.20it/s]"
          ]
        },
        {
          "output_type": "stream",
          "name": "stdout",
          "text": [
            "Epoch 140, Loss: 0.6323092579841614\n"
          ]
        },
        {
          "output_type": "stream",
          "name": "stderr",
          "text": [
            " 40%|████      | 160/400 [00:30<00:39,  6.06it/s]"
          ]
        },
        {
          "output_type": "stream",
          "name": "stdout",
          "text": [
            "Epoch 160, Loss: 0.6329246759414673\n"
          ]
        },
        {
          "output_type": "stream",
          "name": "stderr",
          "text": [
            " 45%|████▌     | 181/400 [00:34<00:39,  5.60it/s]"
          ]
        },
        {
          "output_type": "stream",
          "name": "stdout",
          "text": [
            "Epoch 180, Loss: 0.6335758566856384\n"
          ]
        },
        {
          "output_type": "stream",
          "name": "stderr",
          "text": [
            " 50%|█████     | 201/400 [00:38<00:31,  6.24it/s]"
          ]
        },
        {
          "output_type": "stream",
          "name": "stdout",
          "text": [
            "Epoch 200, Loss: 0.631949782371521\n"
          ]
        },
        {
          "output_type": "stream",
          "name": "stderr",
          "text": [
            " 55%|█████▌    | 221/400 [00:41<00:27,  6.43it/s]"
          ]
        },
        {
          "output_type": "stream",
          "name": "stdout",
          "text": [
            "Epoch 220, Loss: 0.6313079595565796\n"
          ]
        },
        {
          "output_type": "stream",
          "name": "stderr",
          "text": [
            " 60%|██████    | 240/400 [00:44<00:27,  5.84it/s]"
          ]
        },
        {
          "output_type": "stream",
          "name": "stdout",
          "text": [
            "Epoch 240, Loss: 0.6334832906723022\n"
          ]
        },
        {
          "output_type": "stream",
          "name": "stderr",
          "text": [
            " 65%|██████▌   | 261/400 [00:49<00:24,  5.69it/s]"
          ]
        },
        {
          "output_type": "stream",
          "name": "stdout",
          "text": [
            "Epoch 260, Loss: 0.6303413510322571\n"
          ]
        },
        {
          "output_type": "stream",
          "name": "stderr",
          "text": [
            " 70%|███████   | 281/400 [00:52<00:19,  6.12it/s]"
          ]
        },
        {
          "output_type": "stream",
          "name": "stdout",
          "text": [
            "Epoch 280, Loss: 0.6301495432853699\n"
          ]
        },
        {
          "output_type": "stream",
          "name": "stderr",
          "text": [
            " 75%|███████▌  | 301/400 [00:55<00:15,  6.19it/s]"
          ]
        },
        {
          "output_type": "stream",
          "name": "stdout",
          "text": [
            "Epoch 300, Loss: 0.627575159072876\n"
          ]
        },
        {
          "output_type": "stream",
          "name": "stderr",
          "text": [
            " 80%|████████  | 320/400 [00:58<00:15,  5.13it/s]"
          ]
        },
        {
          "output_type": "stream",
          "name": "stdout",
          "text": [
            "Epoch 320, Loss: 0.6246885061264038\n"
          ]
        },
        {
          "output_type": "stream",
          "name": "stderr",
          "text": [
            " 85%|████████▌ | 341/400 [01:03<00:09,  6.00it/s]"
          ]
        },
        {
          "output_type": "stream",
          "name": "stdout",
          "text": [
            "Epoch 340, Loss: 0.6261425018310547\n"
          ]
        },
        {
          "output_type": "stream",
          "name": "stderr",
          "text": [
            " 90%|█████████ | 361/400 [01:06<00:06,  6.12it/s]"
          ]
        },
        {
          "output_type": "stream",
          "name": "stdout",
          "text": [
            "Epoch 360, Loss: 0.6259609460830688\n"
          ]
        },
        {
          "output_type": "stream",
          "name": "stderr",
          "text": [
            " 95%|█████████▌| 381/400 [01:09<00:03,  6.23it/s]"
          ]
        },
        {
          "output_type": "stream",
          "name": "stdout",
          "text": [
            "Epoch 380, Loss: 0.6282768845558167\n"
          ]
        },
        {
          "output_type": "stream",
          "name": "stderr",
          "text": [
            "100%|██████████| 400/400 [01:13<00:00,  5.48it/s]"
          ]
        },
        {
          "output_type": "stream",
          "name": "stdout",
          "text": [
            "Epoch 400, Loss: 0.621724009513855\n"
          ]
        },
        {
          "output_type": "stream",
          "name": "stderr",
          "text": [
            "\n"
          ]
        },
        {
          "output_type": "stream",
          "name": "stdout",
          "text": [
            "Accuracy: 0.661\n",
            "AUC: 0.393\n",
            "Confusion Matrix:\n",
            "                  Predicted Negative    Predicted Positive\n",
            "Actual Negative       0.661           0.000\n",
            "Actual Positive       0.339           0.000\n",
            "\n",
            "--------------------------just sybils-----------------------------\n",
            "\n",
            "Accuracy: 0.000\n",
            "Accuracy with optimal threshold: 0.339555166082457\n",
            "Accuracy with optimal threshold just for sybils: 0.9996308282982415\n"
          ]
        }
      ]
    },
    {
      "cell_type": "code",
      "source": [],
      "metadata": {
        "id": "McTwG_aFQI6O"
      },
      "execution_count": 183,
      "outputs": []
    },
    {
      "cell_type": "code",
      "source": [
        "# Initialize model, optimizer, and loss function\n",
        "input_dim = 1\n",
        "hidden_dim = 4\n",
        "output_dim = len(set(trainDictionaryY.values()))  # Number of classes\n",
        "\n",
        "model = GCN(input_dim, hidden_dim, output_dim, num_layers=4)\n",
        "optimizer = torch.optim.Adam(model.parameters(), lr=0.01)\n",
        "loss_fn = torch.nn.CrossEntropyLoss()\n",
        "\n",
        "model.train()\n",
        "for epoch in tqdm(range(900)):\n",
        "    optimizer.zero_grad()\n",
        "    out = model(train_x, train_edge_index)\n",
        "    loss = loss_fn(out, train_y)\n",
        "    loss.backward()\n",
        "    optimizer.step()\n",
        "    if (epoch+1)%20 == 0 or epoch==0:\n",
        "        print(f'Epoch {epoch + 1}, Loss: {loss.item()}')\n",
        "\n",
        "model.eval()\n",
        "with torch.no_grad():\n",
        "    test_out = model(test_x, test_edge_index)\n",
        "    pred = test_out.argmax(dim=1).cpu()\n",
        "\n",
        "    # Compute metrics\n",
        "    acc = accuracy_score(test_y, pred)\n",
        "    auc = roc_auc_score(test_y, test_out[:, 1], multi_class='ovo')  # Adjust depending on binary or multi-class\n",
        "    cm = confusion_matrix(test_y, pred)\n",
        "    cm = cm.astype('float') / len(pred)\n",
        "\n",
        "\n",
        "    print(f'Accuracy: {acc:.3f}')\n",
        "    print(f'AUC: {auc:.3f}')\n",
        "    print('Confusion Matrix:')\n",
        "    print(f\"                  Predicted Negative    Predicted Positive\")\n",
        "    print(f\"Actual Negative       {cm[0, 0]:.3f}           {cm[0, 1]:.3f}\")\n",
        "    print(f\"Actual Positive       {cm[1, 0]:.3f}           {cm[1, 1]:.3f}\")\n",
        "\n",
        "    print(\"\\n--------------------------just sybils-----------------------------\\n\")\n",
        "\n",
        "    test_out = model(test_x, test_edge_index)\n",
        "    test_out = test_out[mask2]\n",
        "    pred = test_out.argmax(dim=1).cpu()\n",
        "    acc = accuracy_score(test_y2, pred)\n",
        "    print(f'Accuracy: {acc:.3f}')\n",
        "\n",
        "# model.eval()\n",
        "with torch.no_grad():\n",
        "    test_out = model(test_x, test_edge_index)\n",
        "    pred = test_out.argmax(dim=1).cpu()\n",
        "\n",
        "    # Compute AUC score as usual\n",
        "    auc = roc_auc_score(test_y, test_out[:, 1], multi_class='ovo')\n",
        "    fpr, tpr, thresholds = roc_curve(test_y, test_out[:, 1])\n",
        "    j_scores = tpr - fpr\n",
        "    optimal_threshold = thresholds[j_scores.argmax()]\n",
        "    pred = (test_out[:, 1] >= optimal_threshold)\n",
        "    acc = accuracy_score(test_y, pred)\n",
        "\n",
        "    # just sybil\n",
        "    test_out = test_out[mask2]\n",
        "    pred = (test_out[:, 1] >= optimal_threshold)\n",
        "    acc_sybils = accuracy_score(test_y2, pred)\n",
        "    print(\"Accuracy with optimal threshold:\", acc)\n",
        "    print(\"Accuracy with optimal threshold just for sybils:\", acc_sybils)"
      ],
      "metadata": {
        "colab": {
          "base_uri": "https://localhost:8080/"
        },
        "id": "vEyO71HeINtw",
        "outputId": "cd099ebd-2ae7-48bd-d84a-225c355c2aec"
      },
      "execution_count": 200,
      "outputs": [
        {
          "output_type": "stream",
          "name": "stderr",
          "text": [
            "  0%|          | 1/900 [00:00<01:57,  7.66it/s]"
          ]
        },
        {
          "output_type": "stream",
          "name": "stdout",
          "text": [
            "Epoch 1, Loss: 0.6871949434280396\n"
          ]
        },
        {
          "output_type": "stream",
          "name": "stderr",
          "text": [
            "  2%|▏         | 21/900 [00:02<01:58,  7.42it/s]"
          ]
        },
        {
          "output_type": "stream",
          "name": "stdout",
          "text": [
            "Epoch 20, Loss: 0.6314573287963867\n"
          ]
        },
        {
          "output_type": "stream",
          "name": "stderr",
          "text": [
            "  5%|▍         | 41/900 [00:05<01:54,  7.51it/s]"
          ]
        },
        {
          "output_type": "stream",
          "name": "stdout",
          "text": [
            "Epoch 40, Loss: 0.6228500008583069\n"
          ]
        },
        {
          "output_type": "stream",
          "name": "stderr",
          "text": [
            "  7%|▋         | 60/900 [00:08<02:06,  6.62it/s]"
          ]
        },
        {
          "output_type": "stream",
          "name": "stdout",
          "text": [
            "Epoch 60, Loss: 0.6245721578598022\n"
          ]
        },
        {
          "output_type": "stream",
          "name": "stderr",
          "text": [
            "  9%|▉         | 81/900 [00:12<02:15,  6.05it/s]"
          ]
        },
        {
          "output_type": "stream",
          "name": "stdout",
          "text": [
            "Epoch 80, Loss: 0.6214005947113037\n"
          ]
        },
        {
          "output_type": "stream",
          "name": "stderr",
          "text": [
            " 11%|█         | 101/900 [00:15<01:47,  7.44it/s]"
          ]
        },
        {
          "output_type": "stream",
          "name": "stdout",
          "text": [
            "Epoch 100, Loss: 0.6169861555099487\n"
          ]
        },
        {
          "output_type": "stream",
          "name": "stderr",
          "text": [
            " 13%|█▎        | 121/900 [00:18<01:45,  7.39it/s]"
          ]
        },
        {
          "output_type": "stream",
          "name": "stdout",
          "text": [
            "Epoch 120, Loss: 0.6191636323928833\n"
          ]
        },
        {
          "output_type": "stream",
          "name": "stderr",
          "text": [
            " 16%|█▌        | 141/900 [00:20<01:41,  7.44it/s]"
          ]
        },
        {
          "output_type": "stream",
          "name": "stdout",
          "text": [
            "Epoch 140, Loss: 0.6228303909301758\n"
          ]
        },
        {
          "output_type": "stream",
          "name": "stderr",
          "text": [
            " 18%|█▊        | 160/900 [00:24<02:40,  4.61it/s]"
          ]
        },
        {
          "output_type": "stream",
          "name": "stdout",
          "text": [
            "Epoch 160, Loss: 0.6204693913459778\n"
          ]
        },
        {
          "output_type": "stream",
          "name": "stderr",
          "text": [
            " 20%|██        | 181/900 [00:27<01:39,  7.22it/s]"
          ]
        },
        {
          "output_type": "stream",
          "name": "stdout",
          "text": [
            "Epoch 180, Loss: 0.6202832460403442\n"
          ]
        },
        {
          "output_type": "stream",
          "name": "stderr",
          "text": [
            " 22%|██▏       | 201/900 [00:30<01:34,  7.42it/s]"
          ]
        },
        {
          "output_type": "stream",
          "name": "stdout",
          "text": [
            "Epoch 200, Loss: 0.620721161365509\n"
          ]
        },
        {
          "output_type": "stream",
          "name": "stderr",
          "text": [
            " 25%|██▍       | 221/900 [00:33<01:31,  7.44it/s]"
          ]
        },
        {
          "output_type": "stream",
          "name": "stdout",
          "text": [
            "Epoch 220, Loss: 0.6184046864509583\n"
          ]
        },
        {
          "output_type": "stream",
          "name": "stderr",
          "text": [
            " 27%|██▋       | 241/900 [00:35<01:30,  7.32it/s]"
          ]
        },
        {
          "output_type": "stream",
          "name": "stdout",
          "text": [
            "Epoch 240, Loss: 0.6186428666114807\n"
          ]
        },
        {
          "output_type": "stream",
          "name": "stderr",
          "text": [
            " 29%|██▉       | 260/900 [00:39<02:22,  4.48it/s]"
          ]
        },
        {
          "output_type": "stream",
          "name": "stdout",
          "text": [
            "Epoch 260, Loss: 0.6182431578636169\n"
          ]
        },
        {
          "output_type": "stream",
          "name": "stderr",
          "text": [
            " 31%|███       | 281/900 [00:43<01:22,  7.54it/s]"
          ]
        },
        {
          "output_type": "stream",
          "name": "stdout",
          "text": [
            "Epoch 280, Loss: 0.6174297332763672\n"
          ]
        },
        {
          "output_type": "stream",
          "name": "stderr",
          "text": [
            " 33%|███▎      | 301/900 [00:45<01:19,  7.51it/s]"
          ]
        },
        {
          "output_type": "stream",
          "name": "stdout",
          "text": [
            "Epoch 300, Loss: 0.6148807406425476\n"
          ]
        },
        {
          "output_type": "stream",
          "name": "stderr",
          "text": [
            " 36%|███▌      | 321/900 [00:48<01:18,  7.33it/s]"
          ]
        },
        {
          "output_type": "stream",
          "name": "stdout",
          "text": [
            "Epoch 320, Loss: 0.6166278719902039\n"
          ]
        },
        {
          "output_type": "stream",
          "name": "stderr",
          "text": [
            " 38%|███▊      | 340/900 [00:51<01:41,  5.50it/s]"
          ]
        },
        {
          "output_type": "stream",
          "name": "stdout",
          "text": [
            "Epoch 340, Loss: 0.6175216436386108\n"
          ]
        },
        {
          "output_type": "stream",
          "name": "stderr",
          "text": [
            " 40%|████      | 361/900 [00:55<01:20,  6.71it/s]"
          ]
        },
        {
          "output_type": "stream",
          "name": "stdout",
          "text": [
            "Epoch 360, Loss: 0.6193756461143494\n"
          ]
        },
        {
          "output_type": "stream",
          "name": "stderr",
          "text": [
            " 42%|████▏     | 381/900 [00:58<01:10,  7.38it/s]"
          ]
        },
        {
          "output_type": "stream",
          "name": "stdout",
          "text": [
            "Epoch 380, Loss: 0.61679607629776\n"
          ]
        },
        {
          "output_type": "stream",
          "name": "stderr",
          "text": [
            " 45%|████▍     | 401/900 [01:00<01:08,  7.30it/s]"
          ]
        },
        {
          "output_type": "stream",
          "name": "stdout",
          "text": [
            "Epoch 400, Loss: 0.6189859509468079\n"
          ]
        },
        {
          "output_type": "stream",
          "name": "stderr",
          "text": [
            " 47%|████▋     | 421/900 [01:03<01:04,  7.47it/s]"
          ]
        },
        {
          "output_type": "stream",
          "name": "stdout",
          "text": [
            "Epoch 420, Loss: 0.6173849105834961\n"
          ]
        },
        {
          "output_type": "stream",
          "name": "stderr",
          "text": [
            " 49%|████▉     | 440/900 [01:06<01:39,  4.62it/s]"
          ]
        },
        {
          "output_type": "stream",
          "name": "stdout",
          "text": [
            "Epoch 440, Loss: 0.6181730628013611\n"
          ]
        },
        {
          "output_type": "stream",
          "name": "stderr",
          "text": [
            " 51%|█████     | 461/900 [01:10<00:59,  7.33it/s]"
          ]
        },
        {
          "output_type": "stream",
          "name": "stdout",
          "text": [
            "Epoch 460, Loss: 0.6133067011833191\n"
          ]
        },
        {
          "output_type": "stream",
          "name": "stderr",
          "text": [
            " 53%|█████▎    | 481/900 [01:13<00:57,  7.34it/s]"
          ]
        },
        {
          "output_type": "stream",
          "name": "stdout",
          "text": [
            "Epoch 480, Loss: 0.6160266399383545\n"
          ]
        },
        {
          "output_type": "stream",
          "name": "stderr",
          "text": [
            " 56%|█████▌    | 501/900 [01:16<00:53,  7.39it/s]"
          ]
        },
        {
          "output_type": "stream",
          "name": "stdout",
          "text": [
            "Epoch 500, Loss: 0.6191539764404297\n"
          ]
        },
        {
          "output_type": "stream",
          "name": "stderr",
          "text": [
            " 58%|█████▊    | 521/900 [01:18<00:51,  7.43it/s]"
          ]
        },
        {
          "output_type": "stream",
          "name": "stdout",
          "text": [
            "Epoch 520, Loss: 0.6186871528625488\n"
          ]
        },
        {
          "output_type": "stream",
          "name": "stderr",
          "text": [
            " 60%|██████    | 541/900 [01:23<01:08,  5.26it/s]"
          ]
        },
        {
          "output_type": "stream",
          "name": "stdout",
          "text": [
            "Epoch 540, Loss: 0.619486927986145\n"
          ]
        },
        {
          "output_type": "stream",
          "name": "stderr",
          "text": [
            " 62%|██████▏   | 561/900 [01:25<00:46,  7.32it/s]"
          ]
        },
        {
          "output_type": "stream",
          "name": "stdout",
          "text": [
            "Epoch 560, Loss: 0.6150709390640259\n"
          ]
        },
        {
          "output_type": "stream",
          "name": "stderr",
          "text": [
            " 65%|██████▍   | 581/900 [01:28<00:43,  7.33it/s]"
          ]
        },
        {
          "output_type": "stream",
          "name": "stdout",
          "text": [
            "Epoch 580, Loss: 0.6174647212028503\n"
          ]
        },
        {
          "output_type": "stream",
          "name": "stderr",
          "text": [
            " 67%|██████▋   | 601/900 [01:31<00:39,  7.51it/s]"
          ]
        },
        {
          "output_type": "stream",
          "name": "stdout",
          "text": [
            "Epoch 600, Loss: 0.6207337379455566\n"
          ]
        },
        {
          "output_type": "stream",
          "name": "stderr",
          "text": [
            " 69%|██████▉   | 620/900 [01:34<01:01,  4.54it/s]"
          ]
        },
        {
          "output_type": "stream",
          "name": "stdout",
          "text": [
            "Epoch 620, Loss: 0.618650496006012\n"
          ]
        },
        {
          "output_type": "stream",
          "name": "stderr",
          "text": [
            " 71%|███████   | 641/900 [01:38<00:36,  7.18it/s]"
          ]
        },
        {
          "output_type": "stream",
          "name": "stdout",
          "text": [
            "Epoch 640, Loss: 0.6127781271934509\n"
          ]
        },
        {
          "output_type": "stream",
          "name": "stderr",
          "text": [
            " 73%|███████▎  | 661/900 [01:41<00:32,  7.43it/s]"
          ]
        },
        {
          "output_type": "stream",
          "name": "stdout",
          "text": [
            "Epoch 660, Loss: 0.6161658763885498\n"
          ]
        },
        {
          "output_type": "stream",
          "name": "stderr",
          "text": [
            " 76%|███████▌  | 681/900 [01:43<00:29,  7.33it/s]"
          ]
        },
        {
          "output_type": "stream",
          "name": "stdout",
          "text": [
            "Epoch 680, Loss: 0.6125075817108154\n"
          ]
        },
        {
          "output_type": "stream",
          "name": "stderr",
          "text": [
            " 78%|███████▊  | 701/900 [01:46<00:27,  7.15it/s]"
          ]
        },
        {
          "output_type": "stream",
          "name": "stdout",
          "text": [
            "Epoch 700, Loss: 0.6184164881706238\n"
          ]
        },
        {
          "output_type": "stream",
          "name": "stderr",
          "text": [
            " 80%|████████  | 720/900 [01:50<00:38,  4.65it/s]"
          ]
        },
        {
          "output_type": "stream",
          "name": "stdout",
          "text": [
            "Epoch 720, Loss: 0.6168346405029297\n"
          ]
        },
        {
          "output_type": "stream",
          "name": "stderr",
          "text": [
            " 82%|████████▏ | 741/900 [01:53<00:21,  7.40it/s]"
          ]
        },
        {
          "output_type": "stream",
          "name": "stdout",
          "text": [
            "Epoch 740, Loss: 0.6147407293319702\n"
          ]
        },
        {
          "output_type": "stream",
          "name": "stderr",
          "text": [
            " 85%|████████▍ | 761/900 [01:56<00:18,  7.49it/s]"
          ]
        },
        {
          "output_type": "stream",
          "name": "stdout",
          "text": [
            "Epoch 760, Loss: 0.6142576336860657\n"
          ]
        },
        {
          "output_type": "stream",
          "name": "stderr",
          "text": [
            " 87%|████████▋ | 781/900 [01:59<00:16,  7.29it/s]"
          ]
        },
        {
          "output_type": "stream",
          "name": "stdout",
          "text": [
            "Epoch 780, Loss: 0.6166989207267761\n"
          ]
        },
        {
          "output_type": "stream",
          "name": "stderr",
          "text": [
            " 89%|████████▉ | 800/900 [02:01<00:18,  5.30it/s]"
          ]
        },
        {
          "output_type": "stream",
          "name": "stdout",
          "text": [
            "Epoch 800, Loss: 0.6165232062339783\n"
          ]
        },
        {
          "output_type": "stream",
          "name": "stderr",
          "text": [
            " 91%|█████████ | 821/900 [02:06<00:11,  6.85it/s]"
          ]
        },
        {
          "output_type": "stream",
          "name": "stdout",
          "text": [
            "Epoch 820, Loss: 0.618055522441864\n"
          ]
        },
        {
          "output_type": "stream",
          "name": "stderr",
          "text": [
            " 93%|█████████▎| 841/900 [02:08<00:08,  7.28it/s]"
          ]
        },
        {
          "output_type": "stream",
          "name": "stdout",
          "text": [
            "Epoch 840, Loss: 0.6180877685546875\n"
          ]
        },
        {
          "output_type": "stream",
          "name": "stderr",
          "text": [
            " 96%|█████████▌| 861/900 [02:11<00:05,  7.20it/s]"
          ]
        },
        {
          "output_type": "stream",
          "name": "stdout",
          "text": [
            "Epoch 860, Loss: 0.6161966919898987\n"
          ]
        },
        {
          "output_type": "stream",
          "name": "stderr",
          "text": [
            " 98%|█████████▊| 881/900 [02:14<00:02,  7.43it/s]"
          ]
        },
        {
          "output_type": "stream",
          "name": "stdout",
          "text": [
            "Epoch 880, Loss: 0.617091715335846\n"
          ]
        },
        {
          "output_type": "stream",
          "name": "stderr",
          "text": [
            "100%|██████████| 900/900 [02:17<00:00,  6.52it/s]"
          ]
        },
        {
          "output_type": "stream",
          "name": "stdout",
          "text": [
            "Epoch 900, Loss: 0.619329035282135\n"
          ]
        },
        {
          "output_type": "stream",
          "name": "stderr",
          "text": [
            "\n"
          ]
        },
        {
          "output_type": "stream",
          "name": "stdout",
          "text": [
            "Accuracy: 0.661\n",
            "AUC: 0.402\n",
            "Confusion Matrix:\n",
            "                  Predicted Negative    Predicted Positive\n",
            "Actual Negative       0.661           0.000\n",
            "Actual Positive       0.339           0.000\n",
            "\n",
            "--------------------------just sybils-----------------------------\n",
            "\n",
            "Accuracy: 0.000\n",
            "Accuracy with optimal threshold: 0.3423844099482557\n",
            "Accuracy with optimal threshold just for sybils: 0.9957422197063854\n"
          ]
        }
      ]
    },
    {
      "cell_type": "code",
      "source": [
        "# Initialize model, optimizer, and loss function\n",
        "input_dim = 1\n",
        "hidden_dim = 16\n",
        "output_dim = len(set(trainDictionaryY.values()))  # Number of classes\n",
        "\n",
        "model = GAT(input_dim, hidden_dim, output_dim, heads=4)\n",
        "\n",
        "optimizer = torch.optim.Adam(model.parameters(), lr=0.01)\n",
        "loss_fn = torch.nn.CrossEntropyLoss()\n",
        "\n",
        "model.train()\n",
        "for epoch in tqdm(range(400)):\n",
        "    optimizer.zero_grad()\n",
        "    out = model(train_x, train_edge_index)\n",
        "    loss = loss_fn(out, train_y)\n",
        "    loss.backward()\n",
        "    optimizer.step()\n",
        "    if (epoch+1)%20 == 0 or epoch==0:\n",
        "        print(f'Epoch {epoch + 1}, Loss: {loss.item()}')\n",
        "\n",
        "model.eval()\n",
        "with torch.no_grad():\n",
        "    test_out = model(test_x, test_edge_index)\n",
        "    pred = test_out.argmax(dim=1).cpu()\n",
        "\n",
        "    # Compute metrics\n",
        "    acc = accuracy_score(test_y, pred)\n",
        "    auc = roc_auc_score(test_y, test_out[:, 1], multi_class='ovo')  # Adjust depending on binary or multi-class\n",
        "    cm = confusion_matrix(test_y, pred)\n",
        "    cm = cm.astype('float') / len(pred)\n",
        "\n",
        "\n",
        "    print(f'Accuracy: {acc:.3f}')\n",
        "    print(f'AUC: {auc:.3f}')\n",
        "    print('Confusion Matrix:')\n",
        "    print(f\"                  Predicted Negative    Predicted Positive\")\n",
        "    print(f\"Actual Negative       {cm[0, 0]:.3f}           {cm[0, 1]:.3f}\")\n",
        "    print(f\"Actual Positive       {cm[1, 0]:.3f}           {cm[1, 1]:.3f}\")\n",
        "\n",
        "\n",
        "    print(\"\\n--------------------------just sybils-----------------------------\\n\")\n",
        "\n",
        "    test_out = model(test_x, test_edge_index)\n",
        "    test_out = test_out[mask2]\n",
        "    pred = test_out.argmax(dim=1).cpu()\n",
        "    acc = accuracy_score(test_y2, pred)\n",
        "    print(f'Accuracy: {acc:.3f}')\n",
        "\n",
        "# model.eval()\n",
        "with torch.no_grad():\n",
        "    test_out = model(test_x, test_edge_index)\n",
        "    pred = test_out.argmax(dim=1).cpu()\n",
        "\n",
        "    # Compute AUC score as usual\n",
        "    auc = roc_auc_score(test_y, test_out[:, 1], multi_class='ovo')\n",
        "    fpr, tpr, thresholds = roc_curve(test_y, test_out[:, 1])\n",
        "    j_scores = tpr - fpr\n",
        "    optimal_threshold = thresholds[j_scores.argmax()]\n",
        "    pred = (test_out[:, 1] >= optimal_threshold)\n",
        "    acc = accuracy_score(test_y, pred)\n",
        "\n",
        "    # just sybil\n",
        "    test_out = test_out[mask2]\n",
        "    pred = (test_out[:, 1] >= optimal_threshold)\n",
        "    acc_sybils = accuracy_score(test_y2, pred)\n",
        "    print(\"Accuracy with optimal threshold:\", acc)\n",
        "    print(\"Accuracy with optimal threshold just for sybils:\", acc_sybils)"
      ],
      "metadata": {
        "colab": {
          "base_uri": "https://localhost:8080/"
        },
        "id": "-NmFqT285NNM",
        "outputId": "5c490ced-b63b-49d5-f250-138940529602"
      },
      "execution_count": 201,
      "outputs": [
        {
          "output_type": "stream",
          "name": "stderr",
          "text": [
            "  0%|          | 1/400 [00:00<03:31,  1.89it/s]"
          ]
        },
        {
          "output_type": "stream",
          "name": "stdout",
          "text": [
            "Epoch 1, Loss: 0.7374464869499207\n"
          ]
        },
        {
          "output_type": "stream",
          "name": "stderr",
          "text": [
            "  5%|▌         | 20/400 [00:11<03:53,  1.63it/s]"
          ]
        },
        {
          "output_type": "stream",
          "name": "stdout",
          "text": [
            "Epoch 20, Loss: 0.6248778700828552\n"
          ]
        },
        {
          "output_type": "stream",
          "name": "stderr",
          "text": [
            " 10%|█         | 40/400 [00:22<04:01,  1.49it/s]"
          ]
        },
        {
          "output_type": "stream",
          "name": "stdout",
          "text": [
            "Epoch 40, Loss: 0.5681548714637756\n"
          ]
        },
        {
          "output_type": "stream",
          "name": "stderr",
          "text": [
            " 15%|█▌        | 60/400 [00:33<02:56,  1.93it/s]"
          ]
        },
        {
          "output_type": "stream",
          "name": "stdout",
          "text": [
            "Epoch 60, Loss: 0.4933188855648041\n"
          ]
        },
        {
          "output_type": "stream",
          "name": "stderr",
          "text": [
            " 20%|██        | 80/400 [00:45<02:47,  1.91it/s]"
          ]
        },
        {
          "output_type": "stream",
          "name": "stdout",
          "text": [
            "Epoch 80, Loss: 0.4526253938674927\n"
          ]
        },
        {
          "output_type": "stream",
          "name": "stderr",
          "text": [
            " 25%|██▌       | 100/400 [00:57<02:37,  1.91it/s]"
          ]
        },
        {
          "output_type": "stream",
          "name": "stdout",
          "text": [
            "Epoch 100, Loss: 0.4361429214477539\n"
          ]
        },
        {
          "output_type": "stream",
          "name": "stderr",
          "text": [
            " 30%|███       | 120/400 [01:09<02:34,  1.81it/s]"
          ]
        },
        {
          "output_type": "stream",
          "name": "stdout",
          "text": [
            "Epoch 120, Loss: 0.4259282648563385\n"
          ]
        },
        {
          "output_type": "stream",
          "name": "stderr",
          "text": [
            " 35%|███▌      | 140/400 [01:20<03:01,  1.43it/s]"
          ]
        },
        {
          "output_type": "stream",
          "name": "stdout",
          "text": [
            "Epoch 140, Loss: 0.40881094336509705\n"
          ]
        },
        {
          "output_type": "stream",
          "name": "stderr",
          "text": [
            " 40%|████      | 160/400 [01:31<02:25,  1.64it/s]"
          ]
        },
        {
          "output_type": "stream",
          "name": "stdout",
          "text": [
            "Epoch 160, Loss: 0.4012042284011841\n"
          ]
        },
        {
          "output_type": "stream",
          "name": "stderr",
          "text": [
            " 45%|████▌     | 180/400 [01:42<01:54,  1.92it/s]"
          ]
        },
        {
          "output_type": "stream",
          "name": "stdout",
          "text": [
            "Epoch 180, Loss: 0.40029650926589966\n"
          ]
        },
        {
          "output_type": "stream",
          "name": "stderr",
          "text": [
            " 50%|█████     | 200/400 [01:54<01:46,  1.88it/s]"
          ]
        },
        {
          "output_type": "stream",
          "name": "stdout",
          "text": [
            "Epoch 200, Loss: 0.3997192978858948\n"
          ]
        },
        {
          "output_type": "stream",
          "name": "stderr",
          "text": [
            " 55%|█████▌    | 220/400 [02:06<01:37,  1.85it/s]"
          ]
        },
        {
          "output_type": "stream",
          "name": "stdout",
          "text": [
            "Epoch 220, Loss: 0.39928925037384033\n"
          ]
        },
        {
          "output_type": "stream",
          "name": "stderr",
          "text": [
            " 60%|██████    | 240/400 [02:18<01:36,  1.66it/s]"
          ]
        },
        {
          "output_type": "stream",
          "name": "stdout",
          "text": [
            "Epoch 240, Loss: 0.3989126682281494\n"
          ]
        },
        {
          "output_type": "stream",
          "name": "stderr",
          "text": [
            " 65%|██████▌   | 260/400 [02:29<01:36,  1.44it/s]"
          ]
        },
        {
          "output_type": "stream",
          "name": "stdout",
          "text": [
            "Epoch 260, Loss: 0.3985716700553894\n"
          ]
        },
        {
          "output_type": "stream",
          "name": "stderr",
          "text": [
            " 70%|███████   | 280/400 [02:40<01:02,  1.91it/s]"
          ]
        },
        {
          "output_type": "stream",
          "name": "stdout",
          "text": [
            "Epoch 280, Loss: 0.39825472235679626\n"
          ]
        },
        {
          "output_type": "stream",
          "name": "stderr",
          "text": [
            " 75%|███████▌  | 300/400 [02:53<00:52,  1.91it/s]"
          ]
        },
        {
          "output_type": "stream",
          "name": "stdout",
          "text": [
            "Epoch 300, Loss: 0.3979615569114685\n"
          ]
        },
        {
          "output_type": "stream",
          "name": "stderr",
          "text": [
            " 80%|████████  | 320/400 [03:04<00:41,  1.92it/s]"
          ]
        },
        {
          "output_type": "stream",
          "name": "stdout",
          "text": [
            "Epoch 320, Loss: 0.39769700169563293\n"
          ]
        },
        {
          "output_type": "stream",
          "name": "stderr",
          "text": [
            " 85%|████████▌ | 340/400 [03:16<00:32,  1.86it/s]"
          ]
        },
        {
          "output_type": "stream",
          "name": "stdout",
          "text": [
            "Epoch 340, Loss: 0.39745011925697327\n"
          ]
        },
        {
          "output_type": "stream",
          "name": "stderr",
          "text": [
            " 90%|█████████ | 360/400 [03:28<00:23,  1.70it/s]"
          ]
        },
        {
          "output_type": "stream",
          "name": "stdout",
          "text": [
            "Epoch 360, Loss: 0.39723384380340576\n"
          ]
        },
        {
          "output_type": "stream",
          "name": "stderr",
          "text": [
            " 95%|█████████▌| 380/400 [03:39<00:13,  1.44it/s]"
          ]
        },
        {
          "output_type": "stream",
          "name": "stdout",
          "text": [
            "Epoch 380, Loss: 0.397045373916626\n"
          ]
        },
        {
          "output_type": "stream",
          "name": "stderr",
          "text": [
            "100%|██████████| 400/400 [03:50<00:00,  1.74it/s]"
          ]
        },
        {
          "output_type": "stream",
          "name": "stdout",
          "text": [
            "Epoch 400, Loss: 0.3968808352947235\n"
          ]
        },
        {
          "output_type": "stream",
          "name": "stderr",
          "text": [
            "\n"
          ]
        },
        {
          "output_type": "stream",
          "name": "stdout",
          "text": [
            "Accuracy: 0.859\n",
            "AUC: 0.902\n",
            "Confusion Matrix:\n",
            "                  Predicted Negative    Predicted Positive\n",
            "Actual Negative       0.611           0.050\n",
            "Actual Positive       0.091           0.248\n",
            "\n",
            "--------------------------just sybils-----------------------------\n",
            "\n",
            "Accuracy: 0.731\n",
            "Accuracy with optimal threshold: 0.8589091971290269\n",
            "Accuracy with optimal threshold just for sybils: 0.7313414469069565\n"
          ]
        }
      ]
    },
    {
      "cell_type": "code",
      "source": [
        "# Initialize model, optimizer, and loss function\n",
        "input_dim = 1\n",
        "hidden_dim = 4\n",
        "output_dim = len(set(trainDictionaryY.values()))  # Number of classes\n",
        "\n",
        "model = GAT(input_dim, hidden_dim, output_dim, heads=4)\n",
        "\n",
        "optimizer = torch.optim.Adam(model.parameters(), lr=0.01)\n",
        "loss_fn = torch.nn.CrossEntropyLoss()\n",
        "\n",
        "model.train()\n",
        "for epoch in tqdm(range(400)):\n",
        "    optimizer.zero_grad()\n",
        "    out = model(train_x, train_edge_index)\n",
        "    loss = loss_fn(out, train_y)\n",
        "    loss.backward()\n",
        "    optimizer.step()\n",
        "    if (epoch+1)%20 == 0 or epoch==0:\n",
        "        print(f'Epoch {epoch + 1}, Loss: {loss.item()}')\n",
        "\n",
        "model.eval()\n",
        "with torch.no_grad():\n",
        "    test_out = model(test_x, test_edge_index)\n",
        "    pred = test_out.argmax(dim=1).cpu()\n",
        "\n",
        "    # Compute metrics\n",
        "    acc = accuracy_score(test_y, pred)\n",
        "    auc = roc_auc_score(test_y, test_out[:, 1], multi_class='ovo')  # Adjust depending on binary or multi-class\n",
        "    cm = confusion_matrix(test_y, pred)\n",
        "    cm = cm.astype('float') / len(pred)\n",
        "\n",
        "\n",
        "    print(f'Accuracy: {acc:.3f}')\n",
        "    print(f'AUC: {auc:.3f}')\n",
        "    print('Confusion Matrix:')\n",
        "    print(f\"                  Predicted Negative    Predicted Positive\")\n",
        "    print(f\"Actual Negative       {cm[0, 0]:.3f}           {cm[0, 1]:.3f}\")\n",
        "    print(f\"Actual Positive       {cm[1, 0]:.3f}           {cm[1, 1]:.3f}\")\n",
        "\n",
        "\n",
        "    print(\"\\n--------------------------just sybils-----------------------------\\n\")\n",
        "\n",
        "    test_out = model(test_x, test_edge_index)\n",
        "    test_out = test_out[mask2]\n",
        "    pred = test_out.argmax(dim=1).cpu()\n",
        "    acc = accuracy_score(test_y2, pred)\n",
        "    print(f'Accuracy: {acc:.3f}')\n",
        "\n",
        "# model.eval()\n",
        "with torch.no_grad():\n",
        "    test_out = model(test_x, test_edge_index)\n",
        "    pred = test_out.argmax(dim=1).cpu()\n",
        "\n",
        "    # Compute AUC score as usual\n",
        "    auc = roc_auc_score(test_y, test_out[:, 1], multi_class='ovo')\n",
        "    fpr, tpr, thresholds = roc_curve(test_y, test_out[:, 1])\n",
        "    j_scores = tpr - fpr\n",
        "    optimal_threshold = thresholds[j_scores.argmax()]\n",
        "    pred = (test_out[:, 1] >= optimal_threshold)\n",
        "    acc = accuracy_score(test_y, pred)\n",
        "\n",
        "    # just sybil\n",
        "    test_out = test_out[mask2]\n",
        "    pred = (test_out[:, 1] >= optimal_threshold)\n",
        "    acc_sybils = accuracy_score(test_y2, pred)\n",
        "    print(\"Accuracy with optimal threshold:\", acc)\n",
        "    print(\"Accuracy with optimal threshold just for sybils:\", acc_sybils)"
      ],
      "metadata": {
        "id": "ygbr53xx61EG",
        "colab": {
          "base_uri": "https://localhost:8080/"
        },
        "outputId": "835b5b9c-3311-420a-9cc9-ca097c50367a"
      },
      "execution_count": 202,
      "outputs": [
        {
          "output_type": "stream",
          "name": "stderr",
          "text": [
            "  0%|          | 1/400 [00:00<01:25,  4.67it/s]"
          ]
        },
        {
          "output_type": "stream",
          "name": "stdout",
          "text": [
            "Epoch 1, Loss: 0.676198422908783\n"
          ]
        },
        {
          "output_type": "stream",
          "name": "stderr",
          "text": [
            "  5%|▌         | 20/400 [00:04<01:23,  4.54it/s]"
          ]
        },
        {
          "output_type": "stream",
          "name": "stdout",
          "text": [
            "Epoch 20, Loss: 0.6228294968605042\n"
          ]
        },
        {
          "output_type": "stream",
          "name": "stderr",
          "text": [
            " 10%|█         | 40/400 [00:08<01:30,  3.97it/s]"
          ]
        },
        {
          "output_type": "stream",
          "name": "stdout",
          "text": [
            "Epoch 40, Loss: 0.5681564807891846\n"
          ]
        },
        {
          "output_type": "stream",
          "name": "stderr",
          "text": [
            " 15%|█▌        | 60/400 [00:14<01:15,  4.51it/s]"
          ]
        },
        {
          "output_type": "stream",
          "name": "stdout",
          "text": [
            "Epoch 60, Loss: 0.5039029717445374\n"
          ]
        },
        {
          "output_type": "stream",
          "name": "stderr",
          "text": [
            " 20%|██        | 80/400 [00:19<01:09,  4.58it/s]"
          ]
        },
        {
          "output_type": "stream",
          "name": "stdout",
          "text": [
            "Epoch 80, Loss: 0.45633450150489807\n"
          ]
        },
        {
          "output_type": "stream",
          "name": "stderr",
          "text": [
            " 25%|██▌       | 100/400 [00:23<01:31,  3.27it/s]"
          ]
        },
        {
          "output_type": "stream",
          "name": "stdout",
          "text": [
            "Epoch 100, Loss: 0.43924203515052795\n"
          ]
        },
        {
          "output_type": "stream",
          "name": "stderr",
          "text": [
            " 30%|███       | 120/400 [00:29<01:01,  4.53it/s]"
          ]
        },
        {
          "output_type": "stream",
          "name": "stdout",
          "text": [
            "Epoch 120, Loss: 0.4339584708213806\n"
          ]
        },
        {
          "output_type": "stream",
          "name": "stderr",
          "text": [
            " 35%|███▌      | 140/400 [00:33<00:57,  4.52it/s]"
          ]
        },
        {
          "output_type": "stream",
          "name": "stdout",
          "text": [
            "Epoch 140, Loss: 0.428366094827652\n"
          ]
        },
        {
          "output_type": "stream",
          "name": "stderr",
          "text": [
            " 40%|████      | 160/400 [00:39<01:21,  2.95it/s]"
          ]
        },
        {
          "output_type": "stream",
          "name": "stdout",
          "text": [
            "Epoch 160, Loss: 0.4185997247695923\n"
          ]
        },
        {
          "output_type": "stream",
          "name": "stderr",
          "text": [
            " 45%|████▌     | 180/400 [00:44<00:48,  4.55it/s]"
          ]
        },
        {
          "output_type": "stream",
          "name": "stdout",
          "text": [
            "Epoch 180, Loss: 0.4045342206954956\n"
          ]
        },
        {
          "output_type": "stream",
          "name": "stderr",
          "text": [
            " 50%|█████     | 200/400 [00:48<00:43,  4.60it/s]"
          ]
        },
        {
          "output_type": "stream",
          "name": "stdout",
          "text": [
            "Epoch 200, Loss: 0.40143516659736633\n"
          ]
        },
        {
          "output_type": "stream",
          "name": "stderr",
          "text": [
            " 55%|█████▌    | 220/400 [00:54<01:02,  2.89it/s]"
          ]
        },
        {
          "output_type": "stream",
          "name": "stdout",
          "text": [
            "Epoch 220, Loss: 0.4009459912776947\n"
          ]
        },
        {
          "output_type": "stream",
          "name": "stderr",
          "text": [
            " 60%|██████    | 240/400 [00:59<00:35,  4.55it/s]"
          ]
        },
        {
          "output_type": "stream",
          "name": "stdout",
          "text": [
            "Epoch 240, Loss: 0.4006095826625824\n"
          ]
        },
        {
          "output_type": "stream",
          "name": "stderr",
          "text": [
            " 65%|██████▌   | 260/400 [01:03<00:30,  4.57it/s]"
          ]
        },
        {
          "output_type": "stream",
          "name": "stdout",
          "text": [
            "Epoch 260, Loss: 0.40040311217308044\n"
          ]
        },
        {
          "output_type": "stream",
          "name": "stderr",
          "text": [
            " 70%|███████   | 280/400 [01:09<00:38,  3.11it/s]"
          ]
        },
        {
          "output_type": "stream",
          "name": "stdout",
          "text": [
            "Epoch 280, Loss: 0.4002630114555359\n"
          ]
        },
        {
          "output_type": "stream",
          "name": "stderr",
          "text": [
            " 75%|███████▌  | 300/400 [01:13<00:21,  4.55it/s]"
          ]
        },
        {
          "output_type": "stream",
          "name": "stdout",
          "text": [
            "Epoch 300, Loss: 0.4001624286174774\n"
          ]
        },
        {
          "output_type": "stream",
          "name": "stderr",
          "text": [
            " 80%|████████  | 320/400 [01:18<00:17,  4.56it/s]"
          ]
        },
        {
          "output_type": "stream",
          "name": "stdout",
          "text": [
            "Epoch 320, Loss: 0.40007513761520386\n"
          ]
        },
        {
          "output_type": "stream",
          "name": "stderr",
          "text": [
            " 85%|████████▌ | 340/400 [01:24<00:15,  3.88it/s]"
          ]
        },
        {
          "output_type": "stream",
          "name": "stdout",
          "text": [
            "Epoch 340, Loss: 0.3999920189380646\n"
          ]
        },
        {
          "output_type": "stream",
          "name": "stderr",
          "text": [
            " 90%|█████████ | 360/400 [01:28<00:08,  4.62it/s]"
          ]
        },
        {
          "output_type": "stream",
          "name": "stdout",
          "text": [
            "Epoch 360, Loss: 0.39991021156311035\n"
          ]
        },
        {
          "output_type": "stream",
          "name": "stderr",
          "text": [
            " 95%|█████████▌| 380/400 [01:33<00:04,  4.53it/s]"
          ]
        },
        {
          "output_type": "stream",
          "name": "stdout",
          "text": [
            "Epoch 380, Loss: 0.3998268246650696\n"
          ]
        },
        {
          "output_type": "stream",
          "name": "stderr",
          "text": [
            "100%|██████████| 400/400 [01:38<00:00,  4.04it/s]"
          ]
        },
        {
          "output_type": "stream",
          "name": "stdout",
          "text": [
            "Epoch 400, Loss: 0.3997393548488617\n"
          ]
        },
        {
          "output_type": "stream",
          "name": "stderr",
          "text": [
            "\n"
          ]
        },
        {
          "output_type": "stream",
          "name": "stdout",
          "text": [
            "Accuracy: 0.802\n",
            "AUC: 0.902\n",
            "Confusion Matrix:\n",
            "                  Predicted Negative    Predicted Positive\n",
            "Actual Negative       0.532           0.129\n",
            "Actual Positive       0.069           0.270\n",
            "\n",
            "--------------------------just sybils-----------------------------\n",
            "\n",
            "Accuracy: 0.796\n",
            "Accuracy with optimal threshold: 0.8590302119846436\n",
            "Accuracy with optimal threshold just for sybils: 0.7281542645484415\n"
          ]
        }
      ]
    },
    {
      "cell_type": "code",
      "source": [],
      "metadata": {
        "id": "zWOUrjRTGhNT"
      },
      "execution_count": 202,
      "outputs": []
    },
    {
      "cell_type": "code",
      "source": [],
      "metadata": {
        "id": "s6RE8pssZvqf"
      },
      "execution_count": 202,
      "outputs": []
    },
    {
      "cell_type": "code",
      "source": [],
      "metadata": {
        "id": "ilawlC1wZxEc"
      },
      "execution_count": 202,
      "outputs": []
    }
  ]
}