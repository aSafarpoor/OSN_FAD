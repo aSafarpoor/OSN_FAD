{
  "nbformat": 4,
  "nbformat_minor": 0,
  "metadata": {
    "colab": {
      "provenance": [],
      "authorship_tag": "ABX9TyPiYTt/fCrKBkC58I37BVVb",
      "include_colab_link": true
    },
    "kernelspec": {
      "name": "python3",
      "display_name": "Python 3"
    },
    "language_info": {
      "name": "python"
    }
  },
  "cells": [
    {
      "cell_type": "markdown",
      "metadata": {
        "id": "view-in-github",
        "colab_type": "text"
      },
      "source": [
        "<a href=\"https://colab.research.google.com/github/aSafarpoor/OSN_FAD/blob/main/CLS/FAD%2BNN%2BNode2Vec.ipynb\" target=\"_parent\"><img src=\"https://colab.research.google.com/assets/colab-badge.svg\" alt=\"Open In Colab\"/></a>"
      ]
    },
    {
      "cell_type": "code",
      "source": [
        "!pip install node2vec"
      ],
      "metadata": {
        "colab": {
          "base_uri": "https://localhost:8080/"
        },
        "id": "7gGZjWfcxb8w",
        "outputId": "e63db04e-4f05-4d0f-872d-caf79d0e1417"
      },
      "execution_count": 6,
      "outputs": [
        {
          "output_type": "stream",
          "name": "stdout",
          "text": [
            "Collecting node2vec\n",
            "  Downloading node2vec-0.5.0-py3-none-any.whl.metadata (849 bytes)\n",
            "Requirement already satisfied: gensim<5.0.0,>=4.3.0 in /usr/local/lib/python3.10/dist-packages (from node2vec) (4.3.3)\n",
            "Requirement already satisfied: joblib<2.0.0,>=1.4.0 in /usr/local/lib/python3.10/dist-packages (from node2vec) (1.4.2)\n",
            "Requirement already satisfied: networkx<4.0.0,>=3.1.0 in /usr/local/lib/python3.10/dist-packages (from node2vec) (3.4.2)\n",
            "Requirement already satisfied: numpy<2.0.0,>=1.24.0 in /usr/local/lib/python3.10/dist-packages (from node2vec) (1.26.4)\n",
            "Requirement already satisfied: tqdm<5.0.0,>=4.66.1 in /usr/local/lib/python3.10/dist-packages (from node2vec) (4.66.6)\n",
            "Requirement already satisfied: scipy<1.14.0,>=1.7.0 in /usr/local/lib/python3.10/dist-packages (from gensim<5.0.0,>=4.3.0->node2vec) (1.13.1)\n",
            "Requirement already satisfied: smart-open>=1.8.1 in /usr/local/lib/python3.10/dist-packages (from gensim<5.0.0,>=4.3.0->node2vec) (7.0.5)\n",
            "Requirement already satisfied: wrapt in /usr/local/lib/python3.10/dist-packages (from smart-open>=1.8.1->gensim<5.0.0,>=4.3.0->node2vec) (1.16.0)\n",
            "Downloading node2vec-0.5.0-py3-none-any.whl (7.2 kB)\n",
            "Installing collected packages: node2vec\n",
            "Successfully installed node2vec-0.5.0\n"
          ]
        }
      ]
    },
    {
      "cell_type": "code",
      "source": [
        "!pip install torch_geometric"
      ],
      "metadata": {
        "colab": {
          "base_uri": "https://localhost:8080/"
        },
        "id": "haFRmjjq3Ixj",
        "outputId": "7aedd7e1-553f-4888-bb09-070b666b3eb3"
      },
      "execution_count": 10,
      "outputs": [
        {
          "output_type": "stream",
          "name": "stdout",
          "text": [
            "Collecting torch_geometric\n",
            "  Downloading torch_geometric-2.6.1-py3-none-any.whl.metadata (63 kB)\n",
            "\u001b[?25l     \u001b[90m━━━━━━━━━━━━━━━━━━━━━━━━━━━━━━━━━━━━━━━━\u001b[0m \u001b[32m0.0/63.1 kB\u001b[0m \u001b[31m?\u001b[0m eta \u001b[36m-:--:--\u001b[0m\r\u001b[2K     \u001b[90m━━━━━━━━━━━━━━━━━━━━━━━━━━━━━━━━━━━━━━━━\u001b[0m \u001b[32m63.1/63.1 kB\u001b[0m \u001b[31m1.9 MB/s\u001b[0m eta \u001b[36m0:00:00\u001b[0m\n",
            "\u001b[?25hRequirement already satisfied: aiohttp in /usr/local/lib/python3.10/dist-packages (from torch_geometric) (3.10.10)\n",
            "Requirement already satisfied: fsspec in /usr/local/lib/python3.10/dist-packages (from torch_geometric) (2024.10.0)\n",
            "Requirement already satisfied: jinja2 in /usr/local/lib/python3.10/dist-packages (from torch_geometric) (3.1.4)\n",
            "Requirement already satisfied: numpy in /usr/local/lib/python3.10/dist-packages (from torch_geometric) (1.26.4)\n",
            "Requirement already satisfied: psutil>=5.8.0 in /usr/local/lib/python3.10/dist-packages (from torch_geometric) (5.9.5)\n",
            "Requirement already satisfied: pyparsing in /usr/local/lib/python3.10/dist-packages (from torch_geometric) (3.2.0)\n",
            "Requirement already satisfied: requests in /usr/local/lib/python3.10/dist-packages (from torch_geometric) (2.32.3)\n",
            "Requirement already satisfied: tqdm in /usr/local/lib/python3.10/dist-packages (from torch_geometric) (4.66.6)\n",
            "Requirement already satisfied: aiohappyeyeballs>=2.3.0 in /usr/local/lib/python3.10/dist-packages (from aiohttp->torch_geometric) (2.4.3)\n",
            "Requirement already satisfied: aiosignal>=1.1.2 in /usr/local/lib/python3.10/dist-packages (from aiohttp->torch_geometric) (1.3.1)\n",
            "Requirement already satisfied: attrs>=17.3.0 in /usr/local/lib/python3.10/dist-packages (from aiohttp->torch_geometric) (24.2.0)\n",
            "Requirement already satisfied: frozenlist>=1.1.1 in /usr/local/lib/python3.10/dist-packages (from aiohttp->torch_geometric) (1.5.0)\n",
            "Requirement already satisfied: multidict<7.0,>=4.5 in /usr/local/lib/python3.10/dist-packages (from aiohttp->torch_geometric) (6.1.0)\n",
            "Requirement already satisfied: yarl<2.0,>=1.12.0 in /usr/local/lib/python3.10/dist-packages (from aiohttp->torch_geometric) (1.17.1)\n",
            "Requirement already satisfied: async-timeout<5.0,>=4.0 in /usr/local/lib/python3.10/dist-packages (from aiohttp->torch_geometric) (4.0.3)\n",
            "Requirement already satisfied: MarkupSafe>=2.0 in /usr/local/lib/python3.10/dist-packages (from jinja2->torch_geometric) (3.0.2)\n",
            "Requirement already satisfied: charset-normalizer<4,>=2 in /usr/local/lib/python3.10/dist-packages (from requests->torch_geometric) (3.4.0)\n",
            "Requirement already satisfied: idna<4,>=2.5 in /usr/local/lib/python3.10/dist-packages (from requests->torch_geometric) (3.10)\n",
            "Requirement already satisfied: urllib3<3,>=1.21.1 in /usr/local/lib/python3.10/dist-packages (from requests->torch_geometric) (2.2.3)\n",
            "Requirement already satisfied: certifi>=2017.4.17 in /usr/local/lib/python3.10/dist-packages (from requests->torch_geometric) (2024.8.30)\n",
            "Requirement already satisfied: typing-extensions>=4.1.0 in /usr/local/lib/python3.10/dist-packages (from multidict<7.0,>=4.5->aiohttp->torch_geometric) (4.12.2)\n",
            "Requirement already satisfied: propcache>=0.2.0 in /usr/local/lib/python3.10/dist-packages (from yarl<2.0,>=1.12.0->aiohttp->torch_geometric) (0.2.0)\n",
            "Downloading torch_geometric-2.6.1-py3-none-any.whl (1.1 MB)\n",
            "\u001b[2K   \u001b[90m━━━━━━━━━━━━━━━━━━━━━━━━━━━━━━━━━━━━━━━━\u001b[0m \u001b[32m1.1/1.1 MB\u001b[0m \u001b[31m18.5 MB/s\u001b[0m eta \u001b[36m0:00:00\u001b[0m\n",
            "\u001b[?25hInstalling collected packages: torch_geometric\n",
            "Successfully installed torch_geometric-2.6.1\n"
          ]
        }
      ]
    },
    {
      "cell_type": "code",
      "source": [
        "import networkx as nx\n",
        "import numpy as np\n",
        "from tqdm import tqdm\n",
        "from matplotlib import pyplot as plt\n",
        "from node2vec import Node2Vec\n",
        "import random\n",
        "SEED = 1"
      ],
      "metadata": {
        "id": "EgVWNp2RwH1r"
      },
      "execution_count": 13,
      "outputs": []
    },
    {
      "cell_type": "code",
      "source": [
        "import torch\n",
        "import torch.nn.functional as F\n",
        "from torch_geometric.nn import GCNConv\n",
        "from sklearn.metrics import accuracy_score, roc_auc_score, confusion_matrix"
      ],
      "metadata": {
        "id": "MjmKIOzU3HOZ"
      },
      "execution_count": 22,
      "outputs": []
    },
    {
      "cell_type": "markdown",
      "source": [
        "# read data"
      ],
      "metadata": {
        "id": "CgcI8ABbv_Z7"
      }
    },
    {
      "cell_type": "code",
      "execution_count": 1,
      "metadata": {
        "id": "zX5hqr37umKQ"
      },
      "outputs": [],
      "source": [
        "edges = []\n",
        "with open('graph.txt', 'r') as file:\n",
        "    for line in file:\n",
        "        # Split each line into two numbers and convert them to integers\n",
        "        pair = list(map(int, line.strip().split()))\n",
        "        edges.append(pair)\n",
        "\n",
        "\n",
        "with open('train.txt', 'r') as file:\n",
        "    lines = file.readlines()\n",
        "    btrain = list(map(float, lines[0].strip().split()))\n",
        "    strain = list(map(float, lines[1].strip().split()))\n",
        "\n",
        "with open('test.txt', 'r') as file:\n",
        "    lines = file.readlines()\n",
        "    btest = list(map(float, lines[0].strip().split()))\n",
        "    stest = list(map(float, lines[1].strip().split()))"
      ]
    },
    {
      "cell_type": "code",
      "source": [
        "print(\"Length of edges:\", len(edges),\n",
        "      \"| Length of btrain:\", len(btrain),\n",
        "      \"| Length of btest:\", len(btest),\n",
        "      \"| Length of strain:\", len(strain),\n",
        "      \"| Length of stest:\", len(stest))"
      ],
      "metadata": {
        "colab": {
          "base_uri": "https://localhost:8080/"
        },
        "id": "fnW9_Dy_vsFB",
        "outputId": "fb441922-e23e-4080-9231-54ebfbaa5c6a"
      },
      "execution_count": 2,
      "outputs": [
        {
          "output_type": "stream",
          "name": "stdout",
          "text": [
            "Length of edges: 6818501 | Length of btrain: 20000 | Length of btest: 158377 | Length of strain: 10000 | Length of stest: 81263\n"
          ]
        }
      ]
    },
    {
      "cell_type": "markdown",
      "source": [
        "# data preparation"
      ],
      "metadata": {
        "id": "8SU1c25fwCqY"
      }
    },
    {
      "cell_type": "code",
      "source": [
        "bigG = nx.Graph()\n",
        "bigG.add_edges_from(edges)"
      ],
      "metadata": {
        "id": "fyIw0zUmv6hf"
      },
      "execution_count": 53,
      "outputs": []
    },
    {
      "cell_type": "code",
      "source": [
        "trainG = bigG.subgraph(btrain+strain).copy()\n",
        "testG = bigG.subgraph(btest+stest).copy()"
      ],
      "metadata": {
        "id": "I4o9aiC5waFz"
      },
      "execution_count": 72,
      "outputs": []
    },
    {
      "cell_type": "code",
      "source": [
        "print(len(bigG.nodes()),len(trainG.nodes()),len(testG.nodes()))"
      ],
      "metadata": {
        "colab": {
          "base_uri": "https://localhost:8080/"
        },
        "id": "Q06KncG38N1m",
        "outputId": "7bec3041-6f1e-48ce-847c-409b476a3041"
      },
      "execution_count": 73,
      "outputs": [
        {
          "output_type": "stream",
          "name": "stdout",
          "text": [
            "269640 30000 239640\n"
          ]
        }
      ]
    },
    {
      "cell_type": "code",
      "source": [
        "def reindex_graph_and_dictionaries(G, train, test):\n",
        "    new_index_mapping = {old_index: new_index for new_index, old_index in enumerate(G.nodes())}\n",
        "    G_reindexed = nx.relabel_nodes(G, new_index_mapping)\n",
        "\n",
        "    train = [new_index_mapping[int(node)] for node in train]\n",
        "    test =  [new_index_mapping[int(node)] for node in test]\n",
        "\n",
        "    return G_reindexed, train, test"
      ],
      "metadata": {
        "id": "ngN-8QLy6BEr"
      },
      "execution_count": 74,
      "outputs": []
    },
    {
      "cell_type": "code",
      "source": [
        "trainG,btrain,strain =reindex_graph_and_dictionaries(trainG, btrain,strain)\n",
        "testG,btest,stest =reindex_graph_and_dictionaries(testG, btest,stest)"
      ],
      "metadata": {
        "id": "X_YRW5E_9n1h"
      },
      "execution_count": 75,
      "outputs": []
    },
    {
      "cell_type": "code",
      "source": [
        "trainDictionaryX = {}\n",
        "trainDictionaryY = {}\n",
        "testDictionaryX = {}\n",
        "testDictionaryY = {}\n",
        "\n",
        "random.seed(SEED)\n",
        "\n",
        "for node in btrain:\n",
        "    if random.random() < 0.8:\n",
        "        trainDictionaryX[node] = [0]\n",
        "    else:\n",
        "        trainDictionaryX[node] = [0.5]\n",
        "    trainDictionaryY[node] = 0\n",
        "\n",
        "for node in strain:\n",
        "    if random.random() < 0.8:\n",
        "        trainDictionaryX[node] = [1]\n",
        "    else:\n",
        "        trainDictionaryX[node] = [0.5]\n",
        "    trainDictionaryY[node] = 1\n",
        "\n",
        "for node in btest:\n",
        "    if random.random() < 0.8:\n",
        "        testDictionaryX[node] = [0]\n",
        "    else:\n",
        "        testDictionaryX[node] = [0.5]\n",
        "    testDictionaryY[node] = 0\n",
        "\n",
        "for node in stest:\n",
        "    if random.random() < 0.8:\n",
        "        testDictionaryX[node] = [1]\n",
        "    else:\n",
        "        testDictionaryX[node] = [0.5]\n",
        "    testDictionaryY[node] = 1"
      ],
      "metadata": {
        "id": "JBbGkflLwncB"
      },
      "execution_count": 91,
      "outputs": []
    },
    {
      "cell_type": "markdown",
      "source": [
        "#model"
      ],
      "metadata": {
        "id": "DeK6WQGZ3GfY"
      }
    },
    {
      "cell_type": "code",
      "source": [
        "class GCN(torch.nn.Module):\n",
        "    def __init__(self, input_dim, hidden_dim, output_dim):\n",
        "        super(GCN, self).__init__()\n",
        "        self.conv1 = GCNConv(input_dim, hidden_dim)\n",
        "        self.conv2 = GCNConv(hidden_dim, output_dim)\n",
        "\n",
        "    def forward(self, x, edge_index):\n",
        "        x = self.conv1(x, edge_index)\n",
        "        x = F.relu(x)\n",
        "        x = self.conv2(x, edge_index)\n",
        "        return F.log_softmax(x, dim=1)"
      ],
      "metadata": {
        "id": "n2y5RCQ2xs0i"
      },
      "execution_count": 92,
      "outputs": []
    },
    {
      "cell_type": "code",
      "source": [
        "# Prepare data (assuming PyTorch Geometric format for graphs)\n",
        "def prepare_data(graph, dictionaryX, dictionaryY):\n",
        "    x = torch.tensor([dictionaryX[node] for node in graph.nodes()], dtype=torch.float)\n",
        "    y = torch.tensor([dictionaryY[node] for node in graph.nodes()], dtype=torch.long)\n",
        "    # edge_index = torch.tensor(list(graph.edges())).t().contiguous()\n",
        "    edge_index = torch.tensor(list(graph.edges()), dtype=torch.long).t().contiguous()\n",
        "    return x, y, edge_index"
      ],
      "metadata": {
        "id": "8vMqaJny3Htr"
      },
      "execution_count": 93,
      "outputs": []
    },
    {
      "cell_type": "code",
      "source": [
        "train_x, train_y, train_edge_index = prepare_data(trainG, trainDictionaryX, trainDictionaryY)\n",
        "test_x, test_y, test_edge_index = prepare_data(testG, testDictionaryX, testDictionaryY)"
      ],
      "metadata": {
        "id": "awhrP4TK4hDH"
      },
      "execution_count": 94,
      "outputs": []
    },
    {
      "cell_type": "code",
      "source": [
        "# Initialize model, optimizer, and loss function\n",
        "input_dim = 1\n",
        "hidden_dim = 16\n",
        "output_dim = len(set(trainDictionaryY.values()))  # Number of classes\n",
        "\n",
        "model = GCN(input_dim, hidden_dim, output_dim)\n",
        "optimizer = torch.optim.Adam(model.parameters(), lr=0.01)\n",
        "loss_fn = torch.nn.CrossEntropyLoss()\n",
        "\n",
        "model.train()\n",
        "for epoch in tqdm(range(300)):\n",
        "    optimizer.zero_grad()\n",
        "    out = model(train_x, train_edge_index)\n",
        "    loss = loss_fn(out, train_y)\n",
        "    loss.backward()\n",
        "    optimizer.step()\n",
        "    if (epoch+1)%20 == 0 or epoch==0:\n",
        "        print(f'Epoch {epoch + 1}, Loss: {loss.item()}')\n"
      ],
      "metadata": {
        "colab": {
          "base_uri": "https://localhost:8080/"
        },
        "id": "9b9cLf8y5Jbr",
        "outputId": "0243b8cf-dc9b-4717-e2b5-a40bda0f6213"
      },
      "execution_count": 95,
      "outputs": [
        {
          "output_type": "stream",
          "name": "stderr",
          "text": [
            "  1%|          | 2/300 [00:00<00:27, 10.65it/s]"
          ]
        },
        {
          "output_type": "stream",
          "name": "stdout",
          "text": [
            "Epoch 1, Loss: 0.7179412245750427\n"
          ]
        },
        {
          "output_type": "stream",
          "name": "stderr",
          "text": [
            "  7%|▋         | 22/300 [00:02<00:27, 10.18it/s]"
          ]
        },
        {
          "output_type": "stream",
          "name": "stdout",
          "text": [
            "Epoch 20, Loss: 0.5448640584945679\n"
          ]
        },
        {
          "output_type": "stream",
          "name": "stderr",
          "text": [
            " 14%|█▍        | 42/300 [00:04<00:25, 10.05it/s]"
          ]
        },
        {
          "output_type": "stream",
          "name": "stdout",
          "text": [
            "Epoch 40, Loss: 0.42602235078811646\n"
          ]
        },
        {
          "output_type": "stream",
          "name": "stderr",
          "text": [
            " 21%|██        | 62/300 [00:06<00:23, 10.09it/s]"
          ]
        },
        {
          "output_type": "stream",
          "name": "stdout",
          "text": [
            "Epoch 60, Loss: 0.35117241740226746\n"
          ]
        },
        {
          "output_type": "stream",
          "name": "stderr",
          "text": [
            " 27%|██▋       | 81/300 [00:08<00:30,  7.13it/s]"
          ]
        },
        {
          "output_type": "stream",
          "name": "stdout",
          "text": [
            "Epoch 80, Loss: 0.31953153014183044\n"
          ]
        },
        {
          "output_type": "stream",
          "name": "stderr",
          "text": [
            " 33%|███▎      | 100/300 [00:11<00:25,  7.73it/s]"
          ]
        },
        {
          "output_type": "stream",
          "name": "stdout",
          "text": [
            "Epoch 100, Loss: 0.3089323937892914\n"
          ]
        },
        {
          "output_type": "stream",
          "name": "stderr",
          "text": [
            " 41%|████      | 122/300 [00:13<00:17,  9.93it/s]"
          ]
        },
        {
          "output_type": "stream",
          "name": "stdout",
          "text": [
            "Epoch 120, Loss: 0.3060009777545929\n"
          ]
        },
        {
          "output_type": "stream",
          "name": "stderr",
          "text": [
            " 47%|████▋     | 142/300 [00:15<00:15,  9.93it/s]"
          ]
        },
        {
          "output_type": "stream",
          "name": "stdout",
          "text": [
            "Epoch 140, Loss: 0.30529454350471497\n"
          ]
        },
        {
          "output_type": "stream",
          "name": "stderr",
          "text": [
            " 54%|█████▎    | 161/300 [00:17<00:13,  9.95it/s]"
          ]
        },
        {
          "output_type": "stream",
          "name": "stdout",
          "text": [
            "Epoch 160, Loss: 0.3051179349422455\n"
          ]
        },
        {
          "output_type": "stream",
          "name": "stderr",
          "text": [
            " 60%|██████    | 181/300 [00:19<00:12,  9.86it/s]"
          ]
        },
        {
          "output_type": "stream",
          "name": "stdout",
          "text": [
            "Epoch 180, Loss: 0.30504146218299866\n"
          ]
        },
        {
          "output_type": "stream",
          "name": "stderr",
          "text": [
            " 67%|██████▋   | 201/300 [00:21<00:12,  7.69it/s]"
          ]
        },
        {
          "output_type": "stream",
          "name": "stdout",
          "text": [
            "Epoch 200, Loss: 0.3049876093864441\n"
          ]
        },
        {
          "output_type": "stream",
          "name": "stderr",
          "text": [
            " 74%|███████▎  | 221/300 [00:24<00:11,  6.66it/s]"
          ]
        },
        {
          "output_type": "stream",
          "name": "stdout",
          "text": [
            "Epoch 220, Loss: 0.3049410581588745\n"
          ]
        },
        {
          "output_type": "stream",
          "name": "stderr",
          "text": [
            " 80%|████████  | 241/300 [00:26<00:05, 10.21it/s]"
          ]
        },
        {
          "output_type": "stream",
          "name": "stdout",
          "text": [
            "Epoch 240, Loss: 0.30489930510520935\n"
          ]
        },
        {
          "output_type": "stream",
          "name": "stderr",
          "text": [
            " 87%|████████▋ | 261/300 [00:28<00:03, 10.08it/s]"
          ]
        },
        {
          "output_type": "stream",
          "name": "stdout",
          "text": [
            "Epoch 260, Loss: 0.30486178398132324\n"
          ]
        },
        {
          "output_type": "stream",
          "name": "stderr",
          "text": [
            " 94%|█████████▎| 281/300 [00:30<00:01,  9.95it/s]"
          ]
        },
        {
          "output_type": "stream",
          "name": "stdout",
          "text": [
            "Epoch 280, Loss: 0.3048284947872162\n"
          ]
        },
        {
          "output_type": "stream",
          "name": "stderr",
          "text": [
            "100%|██████████| 300/300 [00:32<00:00,  9.18it/s]"
          ]
        },
        {
          "output_type": "stream",
          "name": "stdout",
          "text": [
            "Epoch 300, Loss: 0.3047991394996643\n"
          ]
        },
        {
          "output_type": "stream",
          "name": "stderr",
          "text": [
            "\n"
          ]
        }
      ]
    },
    {
      "cell_type": "code",
      "source": [
        "model.eval()\n",
        "with torch.no_grad():\n",
        "    test_out = model(test_x, test_edge_index)\n",
        "    pred = test_out.argmax(dim=1).cpu()\n",
        "\n",
        "    # Compute metrics\n",
        "    acc = accuracy_score(test_y, pred)\n",
        "    auc = roc_auc_score(test_y, test_out[:, 1], multi_class='ovo')  # Adjust depending on binary or multi-class\n",
        "    cm = confusion_matrix(test_y, pred)\n",
        "    cm = cm.astype('float') / len(pred)\n",
        "\n",
        "\n",
        "    print(f'Accuracy: {acc:.3f}')\n",
        "    print(f'AUC: {auc:.3f}')\n",
        "    print('Confusion Matrix:')\n",
        "    print(f\"                  Predicted Negative    Predicted Positive\")\n",
        "    print(f\"Actual Negative       {cm[0, 0]:.3f}           {cm[0, 1]:.3f}\")\n",
        "    print(f\"Actual Positive       {cm[1, 0]:.3f}           {cm[1, 1]:.3f}\")"
      ],
      "metadata": {
        "colab": {
          "base_uri": "https://localhost:8080/"
        },
        "id": "-NmFqT285NNM",
        "outputId": "cb845b95-d626-4b2b-98bd-b1725d4812e5"
      },
      "execution_count": 96,
      "outputs": [
        {
          "output_type": "stream",
          "name": "stdout",
          "text": [
            "Accuracy: 0.865\n",
            "AUC: 0.924\n",
            "Confusion Matrix:\n",
            "                  Predicted Negative    Predicted Positive\n",
            "Actual Negative       0.640           0.021\n",
            "Actual Positive       0.114           0.225\n"
          ]
        }
      ]
    },
    {
      "cell_type": "code",
      "source": [],
      "metadata": {
        "id": "ygbr53xx61EG"
      },
      "execution_count": null,
      "outputs": []
    }
  ]
}