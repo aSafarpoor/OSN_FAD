{
  "nbformat": 4,
  "nbformat_minor": 0,
  "metadata": {
    "colab": {
      "provenance": [],
      "authorship_tag": "ABX9TyMc3gyzvoPATrXSSoffQmmT",
      "include_colab_link": true
    },
    "kernelspec": {
      "name": "python3",
      "display_name": "Python 3"
    },
    "language_info": {
      "name": "python"
    }
  },
  "cells": [
    {
      "cell_type": "markdown",
      "metadata": {
        "id": "view-in-github",
        "colab_type": "text"
      },
      "source": [
        "<a href=\"https://colab.research.google.com/github/aSafarpoor/OSN_FAD/blob/main/ADA/Adversaries.ipynb\" target=\"_parent\"><img src=\"https://colab.research.google.com/assets/colab-badge.svg\" alt=\"Open In Colab\"/></a>"
      ]
    },
    {
      "cell_type": "markdown",
      "source": [
        "#initialization"
      ],
      "metadata": {
        "id": "ykq_cCfPCvxs"
      }
    },
    {
      "cell_type": "code",
      "source": [
        "SEED = 1"
      ],
      "metadata": {
        "id": "OJ6DL8EkUhnx"
      },
      "execution_count": 70,
      "outputs": []
    },
    {
      "cell_type": "code",
      "execution_count": 71,
      "metadata": {
        "id": "6Bmy_NooCrlB"
      },
      "outputs": [],
      "source": [
        "import numpy as np\n",
        "import random\n",
        "from sklearn.metrics import confusion_matrix, accuracy_score\n",
        "import networkx as nx\n",
        "from tqdm import tqdm"
      ]
    },
    {
      "cell_type": "code",
      "source": [
        "def load_txt_file(filename):\n",
        "\ttry:\n",
        "\t\twith open(filename, 'r') as file:\n",
        "\t\t\treturn [int(line.strip()) for line in file]\n",
        "\texcept:\n",
        "\t\twith open(filename, 'r') as file:\n",
        "\t\t\tfirst_line = file.readline().strip()  # Read only the first line\n",
        "\t\t\treturn [int(num) for num in first_line.split()]\n",
        "\n",
        "def load_txt_file_for_edges(filename):\n",
        "\tc = 0\n",
        "\twith open(filename, 'r') as file:\n",
        "\t\treturn [list(map(int,line.strip().split())) for line in file]"
      ],
      "metadata": {
        "id": "zk_pjq_AC_GF"
      },
      "execution_count": 72,
      "outputs": []
    },
    {
      "cell_type": "code",
      "source": [
        "def partitioner(x,ratio,do_shuffle=True):\n",
        "    midpoint = int(len(x) * ratio)\n",
        "\n",
        "    # Split the list into two parts\n",
        "    if do_shuffle:\n",
        "        random.seed(SEED)\n",
        "        random.shuffle(x)\n",
        "    return x[:midpoint], x[midpoint:]\n",
        ""
      ],
      "metadata": {
        "id": "3cShMceaC_JF"
      },
      "execution_count": 73,
      "outputs": []
    },
    {
      "cell_type": "code",
      "source": [
        "edges = load_txt_file_for_edges('edges.txt')"
      ],
      "metadata": {
        "id": "r7MzjkS_DLB5"
      },
      "execution_count": 143,
      "outputs": []
    },
    {
      "cell_type": "code",
      "source": [
        "bknown = load_txt_file('btrain.txt')\n",
        "sknown = load_txt_file('strain.txt')\n",
        "\n",
        "\n",
        "btest = load_txt_file('btest.txt')\n",
        "stest = load_txt_file('stest.txt')\n",
        "\n",
        "nodes = list(set(np.array(edges).reshape(-1)))\n",
        "num_nodes = len(nodes)\n",
        "\n",
        "print(len(bknown),len(sknown),len(btest),len(stest))"
      ],
      "metadata": {
        "colab": {
          "base_uri": "https://localhost:8080/"
        },
        "id": "y-ZwDvFwDLFF",
        "outputId": "5d77ddd4-24b4-4b83-eed2-6fb3db6b1a19"
      },
      "execution_count": 144,
      "outputs": [
        {
          "output_type": "stream",
          "name": "stdout",
          "text": [
            "80 80 323 323\n"
          ]
        }
      ]
    },
    {
      "cell_type": "markdown",
      "source": [
        "# Data Generation"
      ],
      "metadata": {
        "id": "NrBtPTx6CzvA"
      }
    },
    {
      "cell_type": "code",
      "source": [
        "def remap_graph_and_update_lists(g,nodes_in_order, list_of_lists):\n",
        "    # This function rename nodes to have n nodes with names {0,1,...,n-1}\n",
        "    # and update edges based on that\n",
        "\n",
        "    nodes = nodes_in_order\n",
        "    node_mapping = {old_node: new_index for new_index, old_node in enumerate(nodes)}\n",
        "\n",
        "    g_mapped = nx.relabel_nodes(g, node_mapping)\n",
        "\n",
        "    outlists = []\n",
        "    for list_i in list_of_lists:\n",
        "        temp = [node_mapping[node] for node in list_i if node in node_mapping]\n",
        "        outlists.append(temp[:])\n",
        "\n",
        "    return g_mapped, outlists"
      ],
      "metadata": {
        "id": "XeloWoz4C1WB"
      },
      "execution_count": 145,
      "outputs": []
    },
    {
      "cell_type": "markdown",
      "source": [
        "We will have:\n",
        "+ bknown_test(part of trainset moved for known in test),btrain,btest(labels)\n",
        "+ sknown_test(part of trainset moved for known in test),strain,stest(labels)\n",
        "+ unknowntrain,unknowntest\n",
        "+ target (part of sybils, can be in test or train)\n",
        "+ trainX,testX,trainY,testY\n",
        "+ train_edges,test_edges\n",
        "\n",
        "we seperated main btrain and strain to know nodes for train and test.\n",
        "\n",
        "It is generally for inductive learning. For transductive you can add xknown_test back to ktrain\n"
      ],
      "metadata": {
        "id": "FaWnDsbzH71K"
      }
    },
    {
      "cell_type": "code",
      "source": [
        "def sample_targets(stest,sknown,ratio):\n",
        "\n",
        "    sybils = list(set(stest+sknown))\n",
        "\n",
        "    random.seed(SEED)\n",
        "    targets = random.sample(sybils[:], int(len(sybils)*ratio))\n",
        "\n",
        "    return targets"
      ],
      "metadata": {
        "id": "s7Vh6PeDTWhV"
      },
      "execution_count": 146,
      "outputs": []
    },
    {
      "cell_type": "code",
      "source": [
        "def partitioner_transductive_inductive(bknown,sknow,btest,stest,edges,nodes,ratio,is_transductive):\n",
        "    btrain,bknown_test = partitioner(bknown, ratio = ratio)\n",
        "    strain,sknown_test = partitioner(sknown, ratio = ratio)\n",
        "\n",
        "    knownset = set(bknown+sknown)\n",
        "    unknownset = set(nodes)- knownset\n",
        "\n",
        "    unknowntrain,unknowntest = partitioner(list(unknownset)[:], ratio = ratio)\n",
        "    del(unknownset)\n",
        "\n",
        "    trainX = btrain+strain+unknowntrain\n",
        "    trainY = [0 for i in btrain]+[1 for i in strain]+[[-1 for i in unknowntrain]]\n",
        "    testX = btest+stest+unknowntest+bknown_test+sknown_test+trainX\n",
        "    textCompleteY = [0 for i in btest]+[1 for i in stest]+[-1 for i in unknowntest]+[0 for i in bknown_test]+[1 for i in sknown_test]+trainY\n",
        "    textInitY = [-1 for i in btest]+[-1 for i in stest]+[-1 for i in unknowntest]+[0 for i in bknown_test]+[1 for i in sknown_test]+trainY\n",
        "\n",
        "    if is_transductive:\n",
        "        return (bknown_test,\n",
        "                btrain,\n",
        "                btest,\n",
        "                sknown_test,\n",
        "                strain,\n",
        "                stest,\n",
        "                unknowntrain,\n",
        "                unknowntest,\n",
        "                bknown_test,\n",
        "                sknown_test,\n",
        "                edges,\n",
        "                trainX,\n",
        "                trainY,\n",
        "                testX,\n",
        "                textCompleteY,\n",
        "                textInitY\n",
        "                )\n",
        "\n",
        "    else:\n",
        "        g = nx.Graph()\n",
        "        g.add_edges_from(edges)\n",
        "\n",
        "\n",
        "        gtrain = g.subgraph(trainX)\n",
        "        gtest = g.subgraph(testX)\n",
        "\n",
        "        gtrain, [btrain,strain,unknowntrain] = remap_graph_and_update_lists(g=gtrain,\n",
        "                                                                            nodes_in_order = trainX,\n",
        "                                                                            list_of_lists = [btrain,strain,unknowntrain])\n",
        "\n",
        "        gtest, [btest,stest,unknowntest,bknown_test,sknown_test] = remap_graph_and_update_lists(g=gtest,\n",
        "                                                                                                nodes_in_order=testX,\n",
        "                                                                                                list_of_lists=[btest,stest,unknowntest,bknown_test,sknown_test])\n",
        "\n",
        "        train_edges = list(gtrain.edges())\n",
        "        test_edges = list(gtest.edges())\n",
        "\n",
        "        return (bknown_test,\n",
        "                btrain,\n",
        "                btest,\n",
        "                sknown_test,\n",
        "                strain,\n",
        "                stest,\n",
        "                unknowntrain,\n",
        "                unknowntest,\n",
        "                bknown_test,\n",
        "                sknown_test,\n",
        "                train_edges,\n",
        "                test_edges,\n",
        "                trainX,\n",
        "                trainY,\n",
        "                testX,\n",
        "                textCompleteY,\n",
        "                textInitY\n",
        "                )\n"
      ],
      "metadata": {
        "id": "ZIstRd59ETWu"
      },
      "execution_count": 147,
      "outputs": []
    },
    {
      "cell_type": "markdown",
      "source": [
        "# Adversarial Attacks"
      ],
      "metadata": {
        "id": "ZcUVfFCQC3Mj"
      }
    },
    {
      "cell_type": "markdown",
      "source": [
        "## Changing Edges Random"
      ],
      "metadata": {
        "id": "cKMcb2RRPDJe"
      }
    },
    {
      "cell_type": "code",
      "source": [
        "def changing_edges_random(g,targets,addbudget,removebudget):\n",
        "    random.seed(SEED)\n",
        "    G = g.copy()\n",
        "\n",
        "    allnodes = list(G.nodes())\n",
        "    edge_dictionary = {}\n",
        "    for t in targets:\n",
        "        edge_dictionary[t] = [v for u, v in G.out_edges(t)]\n",
        "\n",
        "    c = 0\n",
        "    while c < addbudget:\n",
        "        x,y = random.sample(targets, 2)\n",
        "        if G.has_edge(x, y):\n",
        "            pass\n",
        "        else:\n",
        "            G.add_edge(x,y)\n",
        "            c+=1\n",
        "    c = 0\n",
        "    while c < removebudget:\n",
        "        x = random.sample(targets,1)[0]\n",
        "\n",
        "        y = random.sample(edge_dictionary[x],1)[0]\n",
        "        try:\n",
        "            G.remove_edge(x,y)\n",
        "            c+=1\n",
        "        except:\n",
        "            pass\n",
        "\n",
        "    return G,list(G.edges())\n",
        "\n"
      ],
      "metadata": {
        "id": "sijuUn6WOyAy"
      },
      "execution_count": 151,
      "outputs": []
    },
    {
      "cell_type": "code",
      "source": [
        "def virtual_nodes_random(g,targets,edge_budget,node_budget,probability_of_virtual_to_virtual):\n",
        "    random.seed(SEED)\n",
        "    G = g.copy()\n",
        "\n",
        "    allnodes = list(G.nodes())\n",
        "    maxallnodes = max(allnodes)\n",
        "\n",
        "    virtualnodes = [i+maxallnodes for i in range(1,node_budget+1)]\n",
        "    G.add_nodes_from(virtualnodes)\n",
        "\n",
        "    random.seed(SEED)\n",
        "\n",
        "    c = 0\n",
        "    while c < edge_budget:\n",
        "        x = random.sample(virtualnodes,1)[0]\n",
        "        if random.random() < probability_of_virtual_to_virtual:\n",
        "            y = random.sample(virtualnodes,1)\n",
        "            while(x==y):\n",
        "                y = random.sample(virtualnodes,1)\n",
        "        else:\n",
        "            y = random.sample(targets,1)\n",
        "\n",
        "        y = y[0]\n",
        "        if G.has_edge(x,y):\n",
        "            pass\n",
        "        else:\n",
        "            c+=1\n",
        "            G.add_edge(x,y)\n",
        "\n",
        "    return G,list(G.edges()),virtualnodes"
      ],
      "metadata": {
        "id": "35R_gpxuluns"
      },
      "execution_count": 176,
      "outputs": []
    },
    {
      "cell_type": "code",
      "source": [
        "g = nx.DiGraph()\n",
        "g.add_edges_from(edges)\n",
        "\n",
        "random.seed(SEED)\n",
        "targets = sample_targets(stest,sknown,ratio=0.1)\n",
        "G1,es = changing_edges_random(g,targets,addbudget=100,removebudget=100)\n"
      ],
      "metadata": {
        "id": "Xn_JyE-UUZQv"
      },
      "execution_count": 177,
      "outputs": []
    },
    {
      "cell_type": "code",
      "source": [
        "random.seed(SEED)\n",
        "G2,es,virtualnodes = virtual_nodes_random(G1,targets,edge_budget=100,node_budget=10,probability_of_virtual_to_virtual=0.8)"
      ],
      "metadata": {
        "id": "h5hLr0Lzolq2"
      },
      "execution_count": 178,
      "outputs": []
    },
    {
      "cell_type": "code",
      "source": [
        "#update other data based on vistualnodes\n",
        "# stest = stest+virtualnodes"
      ],
      "metadata": {
        "id": "7s8IZUMKrEq9"
      },
      "execution_count": null,
      "outputs": []
    },
    {
      "cell_type": "code",
      "source": [
        "(\n",
        "    bknown_test,\n",
        "    btrain,\n",
        "    btest,\n",
        "    sknown_test,\n",
        "    strain,\n",
        "    stest,\n",
        "    unknowntrain,\n",
        "    unknowntest,\n",
        "    bknown_test,\n",
        "    sknown_test,\n",
        "    edges,\n",
        "    trainX,\n",
        "    trainY,\n",
        "    testX,\n",
        "    textCompleteY,\n",
        "    textInitY\n",
        ") = partitioner_transductive_inductive(bknown[:], sknown[:], btest[:], stest[:]+virtualnodes[:], es[:], nodes[:], ratio=0.3, is_transductive=True)\n",
        "\n",
        "\n",
        "(\n",
        "    bknown_test,\n",
        "    btrain,\n",
        "    btest,\n",
        "    sknown_test,\n",
        "    strain,\n",
        "    stest,\n",
        "    unknowntrain,\n",
        "    unknowntest,\n",
        "    bknown_test,\n",
        "    sknown_test,\n",
        "    train_edges,\n",
        "    test_edges,\n",
        "    trainX,\n",
        "    trainY,\n",
        "    testX,\n",
        "    textCompleteY,\n",
        "    textInitY\n",
        ") = partitioner_transductive_inductive(bknown[:], sknown[:], btest[:], stest[:]+virtualnodes[:], es[:], nodes[:], ratio=0.3, is_transductive=False)"
      ],
      "metadata": {
        "id": "hm7wNl6FREwQ"
      },
      "execution_count": 179,
      "outputs": []
    },
    {
      "cell_type": "code",
      "source": [],
      "metadata": {
        "id": "-Xs3BKynb5Sd"
      },
      "execution_count": null,
      "outputs": []
    }
  ]
}