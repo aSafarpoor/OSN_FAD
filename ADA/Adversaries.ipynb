{
  "nbformat": 4,
  "nbformat_minor": 0,
  "metadata": {
    "colab": {
      "provenance": [],
      "gpuType": "T4",
      "authorship_tag": "ABX9TyOcQkP+yOn8mH5WjTObgIH3",
      "include_colab_link": true
    },
    "kernelspec": {
      "name": "python3",
      "display_name": "Python 3"
    },
    "language_info": {
      "name": "python"
    },
    "accelerator": "GPU"
  },
  "cells": [
    {
      "cell_type": "markdown",
      "metadata": {
        "id": "view-in-github",
        "colab_type": "text"
      },
      "source": [
        "<a href=\"https://colab.research.google.com/github/aSafarpoor/OSN_FAD/blob/main/ADA/Adversaries.ipynb\" target=\"_parent\"><img src=\"https://colab.research.google.com/assets/colab-badge.svg\" alt=\"Open In Colab\"/></a>"
      ]
    },
    {
      "cell_type": "markdown",
      "source": [
        "#initialization"
      ],
      "metadata": {
        "id": "ykq_cCfPCvxs"
      }
    },
    {
      "cell_type": "code",
      "source": [
        "SEED = 1"
      ],
      "metadata": {
        "id": "OJ6DL8EkUhnx"
      },
      "execution_count": 2,
      "outputs": []
    },
    {
      "cell_type": "code",
      "execution_count": 3,
      "metadata": {
        "id": "6Bmy_NooCrlB"
      },
      "outputs": [],
      "source": [
        "import numpy as np\n",
        "import random\n",
        "from sklearn.metrics import confusion_matrix, accuracy_score\n",
        "import networkx as nx\n",
        "from tqdm import tqdm"
      ]
    },
    {
      "cell_type": "code",
      "source": [
        "def load_txt_file(filename):\n",
        "\ttry:\n",
        "\t\twith open(filename, 'r') as file:\n",
        "\t\t\treturn [int(line.strip()) for line in file]\n",
        "\texcept:\n",
        "\t\twith open(filename, 'r') as file:\n",
        "\t\t\tfirst_line = file.readline().strip()  # Read only the first line\n",
        "\t\t\treturn [int(num) for num in first_line.split()]\n",
        "\n",
        "def load_txt_file_for_edges(filename):\n",
        "\tc = 0\n",
        "\twith open(filename, 'r') as file:\n",
        "\t\treturn [list(map(int,line.strip().split())) for line in file]"
      ],
      "metadata": {
        "id": "zk_pjq_AC_GF"
      },
      "execution_count": 4,
      "outputs": []
    },
    {
      "cell_type": "code",
      "source": [
        "def partitioner(x,ratio,do_shuffle=True):\n",
        "    midpoint = int(len(x) * ratio)\n",
        "\n",
        "    # Split the list into two parts\n",
        "    if do_shuffle:\n",
        "        random.seed(SEED)\n",
        "        random.shuffle(x)\n",
        "    return x[:midpoint], x[midpoint:]\n"
      ],
      "metadata": {
        "id": "3cShMceaC_JF"
      },
      "execution_count": 5,
      "outputs": []
    },
    {
      "cell_type": "code",
      "source": [
        "edges = load_txt_file_for_edges('edges.txt')"
      ],
      "metadata": {
        "id": "r7MzjkS_DLB5"
      },
      "execution_count": 6,
      "outputs": []
    },
    {
      "cell_type": "code",
      "source": [
        "bknown = load_txt_file('btrain.txt')\n",
        "sknown = load_txt_file('strain.txt')\n",
        "\n",
        "\n",
        "btest = load_txt_file('btest.txt')\n",
        "stest = load_txt_file('stest.txt')\n",
        "\n",
        "nodes = list(set(np.array(edges).reshape(-1)))\n",
        "num_nodes = len(nodes)\n",
        "\n",
        "print(len(bknown),len(sknown),len(btest),len(stest))"
      ],
      "metadata": {
        "colab": {
          "base_uri": "https://localhost:8080/"
        },
        "id": "y-ZwDvFwDLFF",
        "outputId": "2d92bbc2-9f63-4b12-9386-d3faa5fdb084"
      },
      "execution_count": 7,
      "outputs": [
        {
          "output_type": "stream",
          "name": "stdout",
          "text": [
            "20000 10000 158377 81263\n"
          ]
        }
      ]
    },
    {
      "cell_type": "markdown",
      "source": [
        "# Data Generation"
      ],
      "metadata": {
        "id": "NrBtPTx6CzvA"
      }
    },
    {
      "cell_type": "code",
      "source": [
        "def remap_graph_and_update_lists(g,nodes_in_order, list_of_lists):\n",
        "    # This function rename nodes to have n nodes with names {0,1,...,n-1}\n",
        "    # and update edges based on that\n",
        "\n",
        "    nodes = nodes_in_order\n",
        "    node_mapping = {old_node: new_index for new_index, old_node in tqdm(enumerate(nodes))}\n",
        "\n",
        "    g_mapped = nx.relabel_nodes(g, node_mapping)\n",
        "\n",
        "    outlists = []\n",
        "    for list_i in tqdm(list_of_lists):\n",
        "        temp = [node_mapping[node] for node in list_i if node in node_mapping]\n",
        "        outlists.append(temp[:])\n",
        "\n",
        "    return g_mapped, outlists"
      ],
      "metadata": {
        "id": "XeloWoz4C1WB"
      },
      "execution_count": 8,
      "outputs": []
    },
    {
      "cell_type": "markdown",
      "source": [
        "We will have:\n",
        "+ bknown_test(part of trainset moved for known in test),btrain,btest(labels)\n",
        "+ sknown_test(part of trainset moved for known in test),strain,stest(labels)\n",
        "+ unknowntrain,unknowntest\n",
        "+ target (part of sybils, can be in test or train)\n",
        "+ trainX,testX,trainY,testY\n",
        "+ train_edges,test_edges\n",
        "\n",
        "we seperated main btrain and strain to know nodes for train and test.\n",
        "\n",
        "It is generally for inductive learning. For transductive you can add xknown_test back to ktrain\n"
      ],
      "metadata": {
        "id": "FaWnDsbzH71K"
      }
    },
    {
      "cell_type": "code",
      "source": [
        "def sample_targets(stest,ratio):\n",
        "\n",
        "    sybils = list(set(stest))\n",
        "\n",
        "    random.seed(SEED)\n",
        "    targets = random.sample(sybils[:], int(len(sybils)*ratio))\n",
        "\n",
        "    return targets"
      ],
      "metadata": {
        "id": "s7Vh6PeDTWhV"
      },
      "execution_count": 9,
      "outputs": []
    },
    {
      "cell_type": "code",
      "source": [
        "def partitioner_transductive_inductive(bknown,sknow,btest,stest,edges,nodes,ratio,is_transductive):\n",
        "    btrain,bknown_test = partitioner(bknown, ratio = ratio)\n",
        "    strain,sknown_test = partitioner(sknown, ratio = ratio)\n",
        "\n",
        "    knownset = set(bknown+sknown)\n",
        "    unknownset = set(nodes)- knownset\n",
        "\n",
        "    unknowntrain,unknowntest = partitioner(list(unknownset)[:], ratio = ratio)\n",
        "    del(unknownset)\n",
        "\n",
        "    trainX = btrain+strain+unknowntrain\n",
        "    trainY = [0 for i in btrain]+[1 for i in strain]+[[-1 for i in unknowntrain]]\n",
        "    testX = btest+stest+unknowntest+bknown_test+sknown_test+trainX\n",
        "    textCompleteY = [0 for i in btest]+[1 for i in stest]+[-1 for i in unknowntest]+[0 for i in bknown_test]+[1 for i in sknown_test]+trainY\n",
        "    textInitY = [-1 for i in btest]+[-1 for i in stest]+[-1 for i in unknowntest]+[0 for i in bknown_test]+[1 for i in sknown_test]+trainY\n",
        "\n",
        "    if is_transductive:\n",
        "        return (bknown_test,\n",
        "                btrain,\n",
        "                btest,\n",
        "                sknown_test,\n",
        "                strain,\n",
        "                stest,\n",
        "                unknowntrain,\n",
        "                unknowntest,\n",
        "                bknown_test,\n",
        "                sknown_test,\n",
        "                edges,\n",
        "                trainX,\n",
        "                trainY,\n",
        "                testX,\n",
        "                textCompleteY,\n",
        "                textInitY\n",
        "                )\n",
        "\n",
        "    else:\n",
        "        g = nx.Graph()\n",
        "        g.add_edges_from(edges)\n",
        "\n",
        "\n",
        "        gtrain = g.subgraph(trainX)\n",
        "        gtest = g.subgraph(testX)\n",
        "\n",
        "        gtrain, [btrain,strain,unknowntrain] = remap_graph_and_update_lists(g=gtrain,\n",
        "                                                                            nodes_in_order = btrain+strain+unknowntrain,\n",
        "                                                                            list_of_lists = [btrain,strain,unknowntrain])\n",
        "\n",
        "        gtest, [btest,stest,unknowntest,bknown_test,sknown_test] = remap_graph_and_update_lists(g=gtest,\n",
        "                                                                                                nodes_in_order=btest+stest+unknowntest+bknown_test+sknown_test,\n",
        "                                                                                                list_of_lists=[btest,stest,unknowntest,bknown_test,sknown_test])\n",
        "\n",
        "        train_edges = list(gtrain.edges())\n",
        "        test_edges = list(gtest.edges())\n",
        "\n",
        "        trainX = btrain+strain+unknowntrain\n",
        "        trainY = [0 for i in btrain]+[1 for i in strain]+[-1 for i in unknowntrain]\n",
        "        testX = btest+stest+unknowntest+bknown_test+sknown_test\n",
        "        textCompleteY = [0 for i in btest]+[1 for i in stest]+[-1 for i in unknowntest]+[0 for i in bknown_test]+[1 for i in sknown_test]\n",
        "        textInitY = [-1 for i in btest]+[-1 for i in stest]+[-1 for i in unknowntest]+[0 for i in bknown_test]+[1 for i in sknown_test]\n",
        "\n",
        "        return (bknown_test,\n",
        "                btrain,\n",
        "                btest,\n",
        "                sknown_test,\n",
        "                strain,\n",
        "                stest,\n",
        "                unknowntrain,\n",
        "                unknowntest,\n",
        "                bknown_test,\n",
        "                sknown_test,\n",
        "                train_edges,\n",
        "                test_edges,\n",
        "                trainX,\n",
        "                trainY,\n",
        "                testX,\n",
        "                textCompleteY,\n",
        "                textInitY\n",
        "                )\n"
      ],
      "metadata": {
        "id": "ZIstRd59ETWu"
      },
      "execution_count": 10,
      "outputs": []
    },
    {
      "cell_type": "code",
      "source": [
        "# # (\n",
        "# #     bknown_test,\n",
        "# #     btrain,\n",
        "# #     btest,\n",
        "# #     sknown_test,\n",
        "# #     strain,\n",
        "# #     stest,\n",
        "# #     unknowntrain,\n",
        "# #     unknowntest,\n",
        "# #     bknown_test,\n",
        "# #     sknown_test,\n",
        "# #     edges,\n",
        "# #     trainX,\n",
        "# #     trainY,\n",
        "# #     testX,\n",
        "# #     textCompleteY,\n",
        "# #     textInitY\n",
        "# # ) = partitioner_transductive_inductive(bknown[:], sknown[:], btest[:], stest[:], edges[:], nodes[:], ratio=0.3, is_transductive=True)\n",
        "\n",
        "\n",
        "# (\n",
        "#     bknown_test,\n",
        "#     btrain,\n",
        "#     btest,\n",
        "#     sknown_test,\n",
        "#     strain,\n",
        "#     stest,\n",
        "#     unknowntrain,\n",
        "#     unknowntest,\n",
        "#     bknown_test,\n",
        "#     sknown_test,\n",
        "#     train_edges,\n",
        "#     test_edges,\n",
        "#     trainX,\n",
        "#     trainY,\n",
        "#     testX,\n",
        "#     textCompleteY,\n",
        "#     textInitY\n",
        "# ) = partitioner_transductive_inductive(bknown[:], sknown[:], btest[:], stest[:], edges[:], nodes[:], ratio=0.3, is_transductive=False)"
      ],
      "metadata": {
        "id": "hm7wNl6FREwQ"
      },
      "execution_count": 11,
      "outputs": []
    },
    {
      "cell_type": "markdown",
      "source": [
        "# Adversarial Attacks"
      ],
      "metadata": {
        "id": "ZcUVfFCQC3Mj"
      }
    },
    {
      "cell_type": "code",
      "source": [
        "def changing_edges_random(g,targets,addbudget,removebudget):\n",
        "    random.seed(SEED)\n",
        "    G = g.copy()\n",
        "\n",
        "    allnodes = list(G.nodes())\n",
        "    edge_dictionary = {}\n",
        "    for t in targets:\n",
        "        try:\n",
        "            edge_dictionary[t] = [v for u, v in G.out_edges(t)]\n",
        "        except:\n",
        "            edge_dictionary[t] = []\n",
        "    c = 0\n",
        "    while c < addbudget:\n",
        "        x,y = random.sample(targets, 2)\n",
        "        if G.has_edge(x, y):\n",
        "            pass\n",
        "        else:\n",
        "            G.add_edge(x,y)\n",
        "            c+=1\n",
        "    c = 0\n",
        "\n",
        "    while c < removebudget:\n",
        "        x = random.sample(targets,1)[0]\n",
        "\n",
        "        if len(edge_dictionary[x])==0:\n",
        "            continue\n",
        "\n",
        "        y = random.sample(edge_dictionary[x],1)[0]\n",
        "        try:\n",
        "            G.remove_edge(x,y)\n",
        "            edge_dictionary[x].remove(y)\n",
        "            c+=1\n",
        "        except:\n",
        "            pass\n",
        "\n",
        "    return G\n",
        "\n"
      ],
      "metadata": {
        "id": "sijuUn6WOyAy"
      },
      "execution_count": 12,
      "outputs": []
    },
    {
      "cell_type": "code",
      "source": [
        "def virtual_nodes_random(g,targets,edge_budget,node_budget,probability_of_virtual_to_virtual):\n",
        "    random.seed(SEED)\n",
        "    G = g.copy()\n",
        "\n",
        "    allnodes = list(G.nodes())\n",
        "    maxallnodes = max(allnodes)\n",
        "\n",
        "    virtualnodes = [i+maxallnodes for i in range(1,node_budget+1)]\n",
        "    G.add_nodes_from(virtualnodes)\n",
        "\n",
        "    random.seed(SEED)\n",
        "\n",
        "    c = 0\n",
        "    while c < edge_budget:\n",
        "        x = random.sample(virtualnodes,1)[0]\n",
        "        if random.random() < probability_of_virtual_to_virtual:\n",
        "            y = random.sample(virtualnodes,1)\n",
        "            while(x==y):\n",
        "                y = random.sample(virtualnodes,1)\n",
        "        else:\n",
        "            y = random.sample(targets,1)\n",
        "\n",
        "        y = y[0]\n",
        "        if G.has_edge(x,y):\n",
        "            pass\n",
        "        else:\n",
        "            c+=1\n",
        "            G.add_edge(x,y)\n",
        "\n",
        "    return G,virtualnodes"
      ],
      "metadata": {
        "id": "35R_gpxuluns"
      },
      "execution_count": 13,
      "outputs": []
    },
    {
      "cell_type": "code",
      "source": [
        "(\n",
        "    bknown_test,\n",
        "    btrain,\n",
        "    btest,\n",
        "    sknown_test,\n",
        "    strain,\n",
        "    stest,\n",
        "    unknowntrain,\n",
        "    unknowntest,\n",
        "    bknown_test,\n",
        "    sknown_test,\n",
        "    train_edges,\n",
        "    test_edges,\n",
        "    trainX,\n",
        "    trainY,\n",
        "    testX,\n",
        "    textCompleteY,\n",
        "    textInitY\n",
        ") = partitioner_transductive_inductive(bknown[:], sknown[:], btest[:], stest[:], edges[:], nodes[:], ratio=0.3, is_transductive=False)\n",
        "\n"
      ],
      "metadata": {
        "colab": {
          "base_uri": "https://localhost:8080/"
        },
        "id": "G1Csji93crSe",
        "outputId": "05de02f7-78a1-4685-dc02-8ff277f55385"
      },
      "execution_count": 14,
      "outputs": [
        {
          "output_type": "stream",
          "name": "stderr",
          "text": [
            "80892it [00:00, 1206833.82it/s]\n",
            "100%|██████████| 3/3 [00:00<00:00, 52.12it/s]\n",
            "428388it [00:00, 727699.10it/s]\n",
            "100%|██████████| 5/5 [00:00<00:00, 22.81it/s]\n"
          ]
        }
      ]
    },
    {
      "cell_type": "code",
      "source": [
        "\n",
        "g = nx.DiGraph()\n",
        "g.add_edges_from(test_edges)\n",
        "\n",
        "random.seed(SEED)\n",
        "targets = sample_targets(stest,ratio=0.1)\n",
        "\n",
        "\n",
        "\n",
        "random.seed(SEED)\n",
        "G1 = changing_edges_random(g,targets,addbudget=100,removebudget=100)\n",
        "\n",
        "random.seed(SEED)\n",
        "G2,virtualnodes = virtual_nodes_random(g,targets,edge_budget=100,node_budget=10,probability_of_virtual_to_virtual=0.8)\n",
        "\n",
        "random.seed(SEED)\n",
        "G3,virtualnodes = virtual_nodes_random(G1,targets,edge_budget=100,node_budget=10,probability_of_virtual_to_virtual=0.8)"
      ],
      "metadata": {
        "id": "CUU4W_U3aI3x"
      },
      "execution_count": 15,
      "outputs": []
    },
    {
      "cell_type": "code",
      "source": [
        "# g = nx.DiGraph()\n",
        "# g.add_edges_from(test_edges)\n",
        "\n",
        "# random.seed(SEED)\n",
        "# targets = sample_targets(stest,ratio=0.1)\n",
        "# G1 = changing_edges_random(g,targets,addbudget=100,removebudget=100)\n",
        "\n",
        "# random.seed(SEED)\n",
        "# G2,virtualnodes = virtual_nodes_random(G1,targets,edge_budget=100,node_budget=10,probability_of_virtual_to_virtual=0.8)"
      ],
      "metadata": {
        "id": "Xn_JyE-UUZQv"
      },
      "execution_count": 16,
      "outputs": []
    },
    {
      "cell_type": "markdown",
      "source": [
        "#classification experiance"
      ],
      "metadata": {
        "id": "C1wnPUIF2vqe"
      }
    },
    {
      "cell_type": "code",
      "source": [
        "!pip install torch-geometric"
      ],
      "metadata": {
        "id": "-Xs3BKynb5Sd",
        "colab": {
          "base_uri": "https://localhost:8080/"
        },
        "outputId": "9c9659e0-2499-4111-d5f0-d178ea2a2544"
      },
      "execution_count": 17,
      "outputs": [
        {
          "output_type": "stream",
          "name": "stdout",
          "text": [
            "Collecting torch-geometric\n",
            "  Downloading torch_geometric-2.6.1-py3-none-any.whl.metadata (63 kB)\n",
            "\u001b[?25l     \u001b[90m━━━━━━━━━━━━━━━━━━━━━━━━━━━━━━━━━━━━━━━━\u001b[0m \u001b[32m0.0/63.1 kB\u001b[0m \u001b[31m?\u001b[0m eta \u001b[36m-:--:--\u001b[0m\r\u001b[2K     \u001b[90m━━━━━━━━━━━━━━━━━━━━━━━━━━━━━━━━━━━━━━━━\u001b[0m \u001b[32m63.1/63.1 kB\u001b[0m \u001b[31m5.3 MB/s\u001b[0m eta \u001b[36m0:00:00\u001b[0m\n",
            "\u001b[?25hRequirement already satisfied: aiohttp in /usr/local/lib/python3.10/dist-packages (from torch-geometric) (3.10.10)\n",
            "Requirement already satisfied: fsspec in /usr/local/lib/python3.10/dist-packages (from torch-geometric) (2024.6.1)\n",
            "Requirement already satisfied: jinja2 in /usr/local/lib/python3.10/dist-packages (from torch-geometric) (3.1.4)\n",
            "Requirement already satisfied: numpy in /usr/local/lib/python3.10/dist-packages (from torch-geometric) (1.26.4)\n",
            "Requirement already satisfied: psutil>=5.8.0 in /usr/local/lib/python3.10/dist-packages (from torch-geometric) (5.9.5)\n",
            "Requirement already satisfied: pyparsing in /usr/local/lib/python3.10/dist-packages (from torch-geometric) (3.2.0)\n",
            "Requirement already satisfied: requests in /usr/local/lib/python3.10/dist-packages (from torch-geometric) (2.32.3)\n",
            "Requirement already satisfied: tqdm in /usr/local/lib/python3.10/dist-packages (from torch-geometric) (4.66.5)\n",
            "Requirement already satisfied: aiohappyeyeballs>=2.3.0 in /usr/local/lib/python3.10/dist-packages (from aiohttp->torch-geometric) (2.4.3)\n",
            "Requirement already satisfied: aiosignal>=1.1.2 in /usr/local/lib/python3.10/dist-packages (from aiohttp->torch-geometric) (1.3.1)\n",
            "Requirement already satisfied: attrs>=17.3.0 in /usr/local/lib/python3.10/dist-packages (from aiohttp->torch-geometric) (24.2.0)\n",
            "Requirement already satisfied: frozenlist>=1.1.1 in /usr/local/lib/python3.10/dist-packages (from aiohttp->torch-geometric) (1.4.1)\n",
            "Requirement already satisfied: multidict<7.0,>=4.5 in /usr/local/lib/python3.10/dist-packages (from aiohttp->torch-geometric) (6.1.0)\n",
            "Requirement already satisfied: yarl<2.0,>=1.12.0 in /usr/local/lib/python3.10/dist-packages (from aiohttp->torch-geometric) (1.16.0)\n",
            "Requirement already satisfied: async-timeout<5.0,>=4.0 in /usr/local/lib/python3.10/dist-packages (from aiohttp->torch-geometric) (4.0.3)\n",
            "Requirement already satisfied: MarkupSafe>=2.0 in /usr/local/lib/python3.10/dist-packages (from jinja2->torch-geometric) (3.0.2)\n",
            "Requirement already satisfied: charset-normalizer<4,>=2 in /usr/local/lib/python3.10/dist-packages (from requests->torch-geometric) (3.4.0)\n",
            "Requirement already satisfied: idna<4,>=2.5 in /usr/local/lib/python3.10/dist-packages (from requests->torch-geometric) (3.10)\n",
            "Requirement already satisfied: urllib3<3,>=1.21.1 in /usr/local/lib/python3.10/dist-packages (from requests->torch-geometric) (2.2.3)\n",
            "Requirement already satisfied: certifi>=2017.4.17 in /usr/local/lib/python3.10/dist-packages (from requests->torch-geometric) (2024.8.30)\n",
            "Requirement already satisfied: typing-extensions>=4.1.0 in /usr/local/lib/python3.10/dist-packages (from multidict<7.0,>=4.5->aiohttp->torch-geometric) (4.12.2)\n",
            "Requirement already satisfied: propcache>=0.2.0 in /usr/local/lib/python3.10/dist-packages (from yarl<2.0,>=1.12.0->aiohttp->torch-geometric) (0.2.0)\n",
            "Downloading torch_geometric-2.6.1-py3-none-any.whl (1.1 MB)\n",
            "\u001b[2K   \u001b[90m━━━━━━━━━━━━━━━━━━━━━━━━━━━━━━━━━━━━━━━━\u001b[0m \u001b[32m1.1/1.1 MB\u001b[0m \u001b[31m49.4 MB/s\u001b[0m eta \u001b[36m0:00:00\u001b[0m\n",
            "\u001b[?25hInstalling collected packages: torch-geometric\n",
            "Successfully installed torch-geometric-2.6.1\n"
          ]
        }
      ]
    },
    {
      "cell_type": "code",
      "source": [
        "import torch\n",
        "import torch.nn.functional as F\n",
        "from torch_geometric.nn import GCNConv\n",
        "from torch_geometric.data import Data\n",
        "import torch_geometric.utils as pyg_utils\n",
        "from torch_geometric.nn import GATConv\n",
        "from sklearn.metrics import accuracy_score\n",
        "\n",
        "from torch_geometric.utils import subgraph\n",
        "from torch_geometric.nn import SAGEConv"
      ],
      "metadata": {
        "id": "43nfcare24ew"
      },
      "execution_count": 18,
      "outputs": []
    },
    {
      "cell_type": "code",
      "source": [
        "class Edited_GCN_ETH(torch.nn.Module):\n",
        "    def __init__(self, num_node_features, num_layers, hidden_width, dropout=True):\n",
        "        super(Edited_GCN_ETH, self).__init__()\n",
        "\n",
        "        self.dropout = dropout\n",
        "        self.convs = torch.nn.ModuleList()\n",
        "        input_width = num_node_features\n",
        "        self.num_classes = 2  # Assuming binary classification\n",
        "\n",
        "        for i in range(num_layers):\n",
        "            if i == 0:\n",
        "                self.convs.append(GCNConv(input_width, hidden_width, bias=True))\n",
        "            elif i == num_layers - 1:\n",
        "                self.convs.append(GCNConv(hidden_width, self.num_classes, bias=True))\n",
        "            else:\n",
        "                self.convs.append(GCNConv(hidden_width, hidden_width, bias=True))\n",
        "\n",
        "    def forward(self, data):\n",
        "        x, edge_index = data.x, data.edge_index\n",
        "        h = x\n",
        "\n",
        "        for i, conv in enumerate(self.convs):\n",
        "            h = conv(h, edge_index)\n",
        "\n",
        "            if i < len(self.convs) - 1:  # Apply activation and dropout for all but last layer\n",
        "                h = F.relu(h)\n",
        "                if self.dropout:\n",
        "                    h = F.dropout(h, p=0.5, training=self.training)\n",
        "\n",
        "        return F.log_softmax(h, dim=1)\n",
        "\n",
        "\n",
        "class GAT_ETH(torch.nn.Module):\n",
        "    def __init__(self, input_width, num_layers, hidden_width, num_classes, num_heads, dropout: bool = True):\n",
        "        super().__init__()\n",
        "        self.dropout = dropout\n",
        "        self.num_classes = num_classes\n",
        "        self.convs = torch.nn.ModuleList()\n",
        "\n",
        "        for i in range(num_layers):\n",
        "            if i == 0:\n",
        "                self.convs.append(GATConv(input_width, hidden_width, heads=num_heads))\n",
        "            elif i == num_layers - 1:\n",
        "                self.convs.append(GATConv(hidden_width * num_heads, self.num_classes, heads=1))\n",
        "            else:\n",
        "                self.convs.append(GATConv(hidden_width * num_heads, hidden_width, heads=num_heads))\n",
        "\n",
        "    def forward(self, data):\n",
        "        x, edge_index = data.x, data.edge_index\n",
        "\n",
        "        h = x\n",
        "\n",
        "        i = 0\n",
        "        for conv in self.convs:\n",
        "            if self.dropout:\n",
        "                h = F.dropout(h, p=0.5, training=self.training)\n",
        "            h = conv(h, edge_index)\n",
        "            if i < len(self.convs) - 1:\n",
        "                h = F.tanh(h)\n",
        "                # h = F.elu(h)\n",
        "            i += 1\n",
        "\n",
        "        return F.log_softmax(h, dim=1)"
      ],
      "metadata": {
        "id": "cd6a5hhO27GD"
      },
      "execution_count": 19,
      "outputs": []
    },
    {
      "cell_type": "code",
      "source": [
        "def main_inductive(model,\n",
        "                   epochs,\n",
        "                   train_nodes,\n",
        "                   edge_index_train,\n",
        "                   test_nodes,\n",
        "                   edge_index_test,\n",
        "                   btrain,\n",
        "                   strain,\n",
        "                   btest,\n",
        "                   stest,\n",
        "                   trainY,\n",
        "                   testY,\n",
        "                   bknown_test,\n",
        "                   sknown_test,\n",
        "                   targets = [],\n",
        "                   virtualnodes = []):\n",
        "\n",
        "    labels_train = torch.tensor(trainY, dtype=torch.long)\n",
        "    labels_test = torch.tensor(testY, dtype=torch.long)\n",
        "\n",
        "    edge_index_train = torch.tensor([[e[0] for e in edge_index_train[:]], [e[1] for e in edge_index_train[:]]], dtype=torch.long)\n",
        "    edge_index_test = torch.tensor([[e[0] for e in edge_index_test[:]], [e[1] for e in edge_index_test[:]]], dtype=torch.long)\n",
        "\n",
        "\n",
        "\n",
        "    # Initialize the node features\n",
        "    x = torch.zeros((len(train_nodes), 1))  # 1-dimensional embeddings, all zeros initially\n",
        "    for node in train_nodes:\n",
        "        x[node] = 0.5  # Test nodes\n",
        "    for node in btrain:\n",
        "        x[node] = 0  # Benign training nodes\n",
        "    for node in strain:\n",
        "        x[node] = 1  # Sybil training nodes\n",
        "\n",
        "    # Create the PyTorch Geometric data object for training\n",
        "    data_train = Data(x=x, edge_index=edge_index_train, y=labels_train)\n",
        "\n",
        "\n",
        "    # Create modified node features for test phase\n",
        "    x = torch.zeros((len(test_nodes), 1))  # 1-dimensional embeddings, all zeros initially\n",
        "    for node in test_nodes:\n",
        "        x[node] = 0.5  # Test nodes\n",
        "    for node in bknown_test:\n",
        "        x[node] = 0  # Benign training nodes\n",
        "    for node in sknown_test:\n",
        "        x[node] = 1  # Sybil training nodes\n",
        "\n",
        "    # Create the PyTorch Geometric data object for testing\n",
        "    data_test = Data(x=x, edge_index=edge_index_test, y=labels_test)\n",
        "\n",
        "    # Define optimizer and loss function\n",
        "    optimizer = torch.optim.Adam(model.parameters(), lr=0.01, weight_decay=5e-4)\n",
        "    loss_fn = torch.nn.CrossEntropyLoss()\n",
        "\n",
        "    # Masks for training and testing\n",
        "    train_mask = torch.zeros(len(train_nodes), dtype=torch.bool)\n",
        "    test_mask = torch.zeros(len(test_nodes), dtype=torch.bool)\n",
        "    target_mask = torch.zeros(len(test_nodes), dtype=torch.bool)\n",
        "\n",
        "\n",
        "    # Assign masks for training and testing nodes\n",
        "    train_mask[btrain + strain] = True\n",
        "    test_mask[btest + stest] = True\n",
        "    target_mask[targets] = True\n",
        "\n",
        "\n",
        "    # Training loop\n",
        "    def train():\n",
        "        model.train()\n",
        "        optimizer.zero_grad()\n",
        "        out = model(data_train)\n",
        "        loss = loss_fn(out[train_mask], data_train.y[train_mask])  # Only consider training nodes for loss\n",
        "        loss.backward()\n",
        "        optimizer.step()\n",
        "        return loss.item()\n",
        "\n",
        "    # Testing function\n",
        "    def test():\n",
        "        model.eval()\n",
        "        out = model(data_test)\n",
        "        pred = out.argmax(dim=1)  # Get predictions\n",
        "        test_acc = accuracy_score(data_test.y[test_mask].cpu(), pred[test_mask].cpu())\n",
        "\n",
        "        out = model(data_train)\n",
        "        pred = out.argmax(dim=1)  # Get predictions\n",
        "        train_acc = accuracy_score(data_train.y[train_mask].cpu(), pred[train_mask].cpu())\n",
        "\n",
        "        out = model(data_test)\n",
        "        pred = out.argmax(dim=1)  # Get predictions\n",
        "        target_acc = accuracy_score(data_test.y[target_mask].cpu(), pred[target_mask].cpu())\n",
        "        return test_acc, train_acc, target_acc\n",
        "\n",
        "    # Training the model\n",
        "\n",
        "    for epoch in tqdm(range(epochs)):\n",
        "        loss = train()\n",
        "        test_acc, train_acc, target_acc = test()\n",
        "        if epoch % 10 == 0:\n",
        "            print(f\"Epoch {epoch}, Loss: {loss:.4f}, Test Accuracy: {test_acc:.4f}, Train Accuracy: {train_acc:.4f}, Target Accuracy: {target_acc:.4f}\")\n",
        "\n",
        "\n",
        "    # Final evaluation\n",
        "    testtest_acc, train_acc, target_acc = test()\n",
        "    print(f'Final Results - Test Accuracy: {test_acc:.4f}, Train Accuracy: {train_acc:.4f}, Target Accuracy: {target_acc:.4f}')\n",
        "\n",
        ""
      ],
      "metadata": {
        "id": "OyeTJZ2g3FmZ"
      },
      "execution_count": 20,
      "outputs": []
    },
    {
      "cell_type": "code",
      "source": [
        "# simple version\n",
        "main_inductive(model = Edited_GCN_ETH(num_node_features=1, num_layers=2, hidden_width=4),\n",
        "                epochs=1000,\n",
        "                train_nodes = trainX,\n",
        "                edge_index_train = train_edges,\n",
        "                test_nodes = testX,\n",
        "                edge_index_test = test_edges,\n",
        "                btrain = btrain,\n",
        "                strain = strain,\n",
        "                btest = btest,\n",
        "                stest = stest,\n",
        "                targets = targets,\n",
        "                trainY = trainY,\n",
        "                testY = textCompleteY,\n",
        "                bknown_test = bknown_test,\n",
        "                sknown_test = sknown_test)\n",
        "\n"
      ],
      "metadata": {
        "colab": {
          "base_uri": "https://localhost:8080/"
        },
        "id": "bTc3l0lk2_iT",
        "outputId": "9ec3baf8-e95b-4087-c9a7-02e71cbf0391"
      },
      "execution_count": 21,
      "outputs": [
        {
          "output_type": "stream",
          "name": "stderr",
          "text": [
            "  0%|          | 1/1000 [00:09<2:38:51,  9.54s/it]"
          ]
        },
        {
          "output_type": "stream",
          "name": "stdout",
          "text": [
            "Epoch 0, Loss: 0.6941, Test Accuracy: 0.1987, Train Accuracy: 0.6673, Target Accuracy: 0.0001\n"
          ]
        },
        {
          "output_type": "stream",
          "name": "stderr",
          "text": [
            "  1%|          | 11/1000 [00:45<53:07,  3.22s/it]"
          ]
        },
        {
          "output_type": "stream",
          "name": "stdout",
          "text": [
            "Epoch 10, Loss: 0.6472, Test Accuracy: 0.1986, Train Accuracy: 0.7474, Target Accuracy: 0.0002\n"
          ]
        },
        {
          "output_type": "stream",
          "name": "stderr",
          "text": [
            "  2%|▏         | 21/1000 [01:18<56:40,  3.47s/it]"
          ]
        },
        {
          "output_type": "stream",
          "name": "stdout",
          "text": [
            "Epoch 20, Loss: 0.6059, Test Accuracy: 0.1986, Train Accuracy: 0.7482, Target Accuracy: 0.0002\n"
          ]
        },
        {
          "output_type": "stream",
          "name": "stderr",
          "text": [
            "  3%|▎         | 31/1000 [01:52<1:00:30,  3.75s/it]"
          ]
        },
        {
          "output_type": "stream",
          "name": "stdout",
          "text": [
            "Epoch 30, Loss: 0.5695, Test Accuracy: 0.1989, Train Accuracy: 0.7512, Target Accuracy: 0.0022\n"
          ]
        },
        {
          "output_type": "stream",
          "name": "stderr",
          "text": [
            "  4%|▍         | 41/1000 [02:27<58:27,  3.66s/it]"
          ]
        },
        {
          "output_type": "stream",
          "name": "stdout",
          "text": [
            "Epoch 40, Loss: 0.5362, Test Accuracy: 0.2011, Train Accuracy: 0.7633, Target Accuracy: 0.0122\n"
          ]
        },
        {
          "output_type": "stream",
          "name": "stderr",
          "text": [
            "  5%|▌         | 51/1000 [03:01<52:53,  3.34s/it]"
          ]
        },
        {
          "output_type": "stream",
          "name": "stdout",
          "text": [
            "Epoch 50, Loss: 0.5131, Test Accuracy: 0.2036, Train Accuracy: 0.7718, Target Accuracy: 0.0273\n"
          ]
        },
        {
          "output_type": "stream",
          "name": "stderr",
          "text": [
            "  6%|▌         | 61/1000 [03:36<56:58,  3.64s/it]"
          ]
        },
        {
          "output_type": "stream",
          "name": "stdout",
          "text": [
            "Epoch 60, Loss: 0.4880, Test Accuracy: 0.2060, Train Accuracy: 0.7796, Target Accuracy: 0.0372\n"
          ]
        },
        {
          "output_type": "stream",
          "name": "stderr",
          "text": [
            "  7%|▋         | 71/1000 [04:11<54:52,  3.54s/it]"
          ]
        },
        {
          "output_type": "stream",
          "name": "stdout",
          "text": [
            "Epoch 70, Loss: 0.4780, Test Accuracy: 0.2072, Train Accuracy: 0.7969, Target Accuracy: 0.0534\n"
          ]
        },
        {
          "output_type": "stream",
          "name": "stderr",
          "text": [
            "  8%|▊         | 81/1000 [04:49<56:41,  3.70s/it]"
          ]
        },
        {
          "output_type": "stream",
          "name": "stdout",
          "text": [
            "Epoch 80, Loss: 0.4826, Test Accuracy: 0.2084, Train Accuracy: 0.8236, Target Accuracy: 0.0672\n"
          ]
        },
        {
          "output_type": "stream",
          "name": "stderr",
          "text": [
            "  9%|▉         | 91/1000 [05:27<58:25,  3.86s/it]"
          ]
        },
        {
          "output_type": "stream",
          "name": "stdout",
          "text": [
            "Epoch 90, Loss: 0.4573, Test Accuracy: 0.2087, Train Accuracy: 0.8366, Target Accuracy: 0.0703\n"
          ]
        },
        {
          "output_type": "stream",
          "name": "stderr",
          "text": [
            " 10%|█         | 101/1000 [06:02<50:49,  3.39s/it]"
          ]
        },
        {
          "output_type": "stream",
          "name": "stdout",
          "text": [
            "Epoch 100, Loss: 0.4543, Test Accuracy: 0.2086, Train Accuracy: 0.8488, Target Accuracy: 0.0759\n"
          ]
        },
        {
          "output_type": "stream",
          "name": "stderr",
          "text": [
            " 11%|█         | 111/1000 [06:39<51:39,  3.49s/it]"
          ]
        },
        {
          "output_type": "stream",
          "name": "stdout",
          "text": [
            "Epoch 110, Loss: 0.4473, Test Accuracy: 0.2083, Train Accuracy: 0.8634, Target Accuracy: 0.0854\n"
          ]
        },
        {
          "output_type": "stream",
          "name": "stderr",
          "text": [
            " 12%|█▏        | 121/1000 [07:16<56:36,  3.86s/it]"
          ]
        },
        {
          "output_type": "stream",
          "name": "stdout",
          "text": [
            "Epoch 120, Loss: 0.4269, Test Accuracy: 0.2083, Train Accuracy: 0.8646, Target Accuracy: 0.0847\n"
          ]
        },
        {
          "output_type": "stream",
          "name": "stderr",
          "text": [
            " 13%|█▎        | 131/1000 [07:52<52:25,  3.62s/it]"
          ]
        },
        {
          "output_type": "stream",
          "name": "stdout",
          "text": [
            "Epoch 130, Loss: 0.4479, Test Accuracy: 0.2074, Train Accuracy: 0.8721, Target Accuracy: 0.0929\n"
          ]
        },
        {
          "output_type": "stream",
          "name": "stderr",
          "text": [
            " 14%|█▍        | 141/1000 [08:31<52:29,  3.67s/it]"
          ]
        },
        {
          "output_type": "stream",
          "name": "stdout",
          "text": [
            "Epoch 140, Loss: 0.4206, Test Accuracy: 0.2073, Train Accuracy: 0.8733, Target Accuracy: 0.0932\n"
          ]
        },
        {
          "output_type": "stream",
          "name": "stderr",
          "text": [
            " 15%|█▌        | 151/1000 [09:09<55:03,  3.89s/it]"
          ]
        },
        {
          "output_type": "stream",
          "name": "stdout",
          "text": [
            "Epoch 150, Loss: 0.4311, Test Accuracy: 0.2056, Train Accuracy: 0.8850, Target Accuracy: 0.1071\n"
          ]
        },
        {
          "output_type": "stream",
          "name": "stderr",
          "text": [
            " 16%|█▌        | 161/1000 [09:42<42:30,  3.04s/it]"
          ]
        },
        {
          "output_type": "stream",
          "name": "stdout",
          "text": [
            "Epoch 160, Loss: 0.4328, Test Accuracy: 0.2059, Train Accuracy: 0.8836, Target Accuracy: 0.1056\n"
          ]
        },
        {
          "output_type": "stream",
          "name": "stderr",
          "text": [
            " 17%|█▋        | 171/1000 [10:19<51:12,  3.71s/it]"
          ]
        },
        {
          "output_type": "stream",
          "name": "stdout",
          "text": [
            "Epoch 170, Loss: 0.4176, Test Accuracy: 0.2054, Train Accuracy: 0.8852, Target Accuracy: 0.1073\n"
          ]
        },
        {
          "output_type": "stream",
          "name": "stderr",
          "text": [
            " 18%|█▊        | 181/1000 [10:54<46:04,  3.37s/it]"
          ]
        },
        {
          "output_type": "stream",
          "name": "stdout",
          "text": [
            "Epoch 180, Loss: 0.4169, Test Accuracy: 0.2064, Train Accuracy: 0.8819, Target Accuracy: 0.1003\n"
          ]
        },
        {
          "output_type": "stream",
          "name": "stderr",
          "text": [
            " 19%|█▉        | 191/1000 [11:29<48:37,  3.61s/it]"
          ]
        },
        {
          "output_type": "stream",
          "name": "stdout",
          "text": [
            "Epoch 190, Loss: 0.4147, Test Accuracy: 0.2033, Train Accuracy: 0.8930, Target Accuracy: 0.1223\n"
          ]
        },
        {
          "output_type": "stream",
          "name": "stderr",
          "text": [
            " 20%|██        | 201/1000 [12:03<44:29,  3.34s/it]"
          ]
        },
        {
          "output_type": "stream",
          "name": "stdout",
          "text": [
            "Epoch 200, Loss: 0.4154, Test Accuracy: 0.2034, Train Accuracy: 0.8927, Target Accuracy: 0.1179\n"
          ]
        },
        {
          "output_type": "stream",
          "name": "stderr",
          "text": [
            " 21%|██        | 211/1000 [12:37<44:24,  3.38s/it]"
          ]
        },
        {
          "output_type": "stream",
          "name": "stdout",
          "text": [
            "Epoch 210, Loss: 0.4053, Test Accuracy: 0.2039, Train Accuracy: 0.8918, Target Accuracy: 0.1137\n"
          ]
        },
        {
          "output_type": "stream",
          "name": "stderr",
          "text": [
            " 22%|██▏       | 221/1000 [13:11<42:25,  3.27s/it]"
          ]
        },
        {
          "output_type": "stream",
          "name": "stdout",
          "text": [
            "Epoch 220, Loss: 0.4104, Test Accuracy: 0.2036, Train Accuracy: 0.8927, Target Accuracy: 0.1173\n"
          ]
        },
        {
          "output_type": "stream",
          "name": "stderr",
          "text": [
            " 23%|██▎       | 231/1000 [13:47<46:00,  3.59s/it]"
          ]
        },
        {
          "output_type": "stream",
          "name": "stdout",
          "text": [
            "Epoch 230, Loss: 0.4053, Test Accuracy: 0.2032, Train Accuracy: 0.8936, Target Accuracy: 0.1189\n"
          ]
        },
        {
          "output_type": "stream",
          "name": "stderr",
          "text": [
            " 24%|██▍       | 241/1000 [14:21<42:47,  3.38s/it]"
          ]
        },
        {
          "output_type": "stream",
          "name": "stdout",
          "text": [
            "Epoch 240, Loss: 0.4194, Test Accuracy: 0.2046, Train Accuracy: 0.8881, Target Accuracy: 0.1074\n"
          ]
        },
        {
          "output_type": "stream",
          "name": "stderr",
          "text": [
            " 25%|██▌       | 251/1000 [14:58<45:00,  3.61s/it]"
          ]
        },
        {
          "output_type": "stream",
          "name": "stdout",
          "text": [
            "Epoch 250, Loss: 0.3929, Test Accuracy: 0.2017, Train Accuracy: 0.8951, Target Accuracy: 0.1247\n"
          ]
        },
        {
          "output_type": "stream",
          "name": "stderr",
          "text": [
            " 26%|██▌       | 261/1000 [15:35<49:39,  4.03s/it]"
          ]
        },
        {
          "output_type": "stream",
          "name": "stdout",
          "text": [
            "Epoch 260, Loss: 0.4143, Test Accuracy: 0.2003, Train Accuracy: 0.8958, Target Accuracy: 0.1334\n"
          ]
        },
        {
          "output_type": "stream",
          "name": "stderr",
          "text": [
            " 27%|██▋       | 271/1000 [16:10<39:43,  3.27s/it]"
          ]
        },
        {
          "output_type": "stream",
          "name": "stdout",
          "text": [
            "Epoch 270, Loss: 0.3790, Test Accuracy: 0.2010, Train Accuracy: 0.8943, Target Accuracy: 0.1236\n"
          ]
        },
        {
          "output_type": "stream",
          "name": "stderr",
          "text": [
            " 28%|██▊       | 281/1000 [16:46<42:38,  3.56s/it]"
          ]
        },
        {
          "output_type": "stream",
          "name": "stdout",
          "text": [
            "Epoch 280, Loss: 0.3725, Test Accuracy: 0.2001, Train Accuracy: 0.8941, Target Accuracy: 0.1242\n"
          ]
        },
        {
          "output_type": "stream",
          "name": "stderr",
          "text": [
            " 29%|██▉       | 291/1000 [17:21<39:40,  3.36s/it]"
          ]
        },
        {
          "output_type": "stream",
          "name": "stdout",
          "text": [
            "Epoch 290, Loss: 0.3479, Test Accuracy: 0.1990, Train Accuracy: 0.8960, Target Accuracy: 0.1303\n"
          ]
        },
        {
          "output_type": "stream",
          "name": "stderr",
          "text": [
            " 30%|███       | 301/1000 [17:58<41:36,  3.57s/it]"
          ]
        },
        {
          "output_type": "stream",
          "name": "stdout",
          "text": [
            "Epoch 300, Loss: 0.3590, Test Accuracy: 0.1992, Train Accuracy: 0.8953, Target Accuracy: 0.1281\n"
          ]
        },
        {
          "output_type": "stream",
          "name": "stderr",
          "text": [
            " 31%|███       | 311/1000 [18:35<45:00,  3.92s/it]"
          ]
        },
        {
          "output_type": "stream",
          "name": "stdout",
          "text": [
            "Epoch 310, Loss: 0.3643, Test Accuracy: 0.1990, Train Accuracy: 0.8956, Target Accuracy: 0.1276\n"
          ]
        },
        {
          "output_type": "stream",
          "name": "stderr",
          "text": [
            " 32%|███▏      | 321/1000 [19:09<38:17,  3.38s/it]"
          ]
        },
        {
          "output_type": "stream",
          "name": "stdout",
          "text": [
            "Epoch 320, Loss: 0.3697, Test Accuracy: 0.1979, Train Accuracy: 0.8957, Target Accuracy: 0.1325\n"
          ]
        },
        {
          "output_type": "stream",
          "name": "stderr",
          "text": [
            " 33%|███▎      | 331/1000 [19:47<41:39,  3.74s/it]"
          ]
        },
        {
          "output_type": "stream",
          "name": "stdout",
          "text": [
            "Epoch 330, Loss: 0.3523, Test Accuracy: 0.1981, Train Accuracy: 0.8956, Target Accuracy: 0.1290\n"
          ]
        },
        {
          "output_type": "stream",
          "name": "stderr",
          "text": [
            " 34%|███▍      | 341/1000 [20:25<44:16,  4.03s/it]"
          ]
        },
        {
          "output_type": "stream",
          "name": "stdout",
          "text": [
            "Epoch 340, Loss: 0.3599, Test Accuracy: 0.1981, Train Accuracy: 0.8956, Target Accuracy: 0.1281\n"
          ]
        },
        {
          "output_type": "stream",
          "name": "stderr",
          "text": [
            " 35%|███▌      | 351/1000 [20:59<37:06,  3.43s/it]"
          ]
        },
        {
          "output_type": "stream",
          "name": "stdout",
          "text": [
            "Epoch 350, Loss: 0.3683, Test Accuracy: 0.1975, Train Accuracy: 0.8974, Target Accuracy: 0.1327\n"
          ]
        },
        {
          "output_type": "stream",
          "name": "stderr",
          "text": [
            " 36%|███▌      | 361/1000 [21:35<39:50,  3.74s/it]"
          ]
        },
        {
          "output_type": "stream",
          "name": "stdout",
          "text": [
            "Epoch 360, Loss: 0.3640, Test Accuracy: 0.1985, Train Accuracy: 0.8951, Target Accuracy: 0.1263\n"
          ]
        },
        {
          "output_type": "stream",
          "name": "stderr",
          "text": [
            " 37%|███▋      | 371/1000 [22:09<35:00,  3.34s/it]"
          ]
        },
        {
          "output_type": "stream",
          "name": "stdout",
          "text": [
            "Epoch 370, Loss: 0.3242, Test Accuracy: 0.1965, Train Accuracy: 0.9006, Target Accuracy: 0.1434\n"
          ]
        },
        {
          "output_type": "stream",
          "name": "stderr",
          "text": [
            " 38%|███▊      | 381/1000 [22:44<38:51,  3.77s/it]"
          ]
        },
        {
          "output_type": "stream",
          "name": "stdout",
          "text": [
            "Epoch 380, Loss: 0.3347, Test Accuracy: 0.1978, Train Accuracy: 0.8978, Target Accuracy: 0.1282\n"
          ]
        },
        {
          "output_type": "stream",
          "name": "stderr",
          "text": [
            " 39%|███▉      | 391/1000 [23:19<35:32,  3.50s/it]"
          ]
        },
        {
          "output_type": "stream",
          "name": "stdout",
          "text": [
            "Epoch 390, Loss: 0.3240, Test Accuracy: 0.1953, Train Accuracy: 0.9019, Target Accuracy: 0.1478\n"
          ]
        },
        {
          "output_type": "stream",
          "name": "stderr",
          "text": [
            " 40%|████      | 401/1000 [23:56<37:05,  3.71s/it]"
          ]
        },
        {
          "output_type": "stream",
          "name": "stdout",
          "text": [
            "Epoch 400, Loss: 0.3143, Test Accuracy: 0.1959, Train Accuracy: 0.9003, Target Accuracy: 0.1381\n"
          ]
        },
        {
          "output_type": "stream",
          "name": "stderr",
          "text": [
            " 41%|████      | 411/1000 [24:33<36:09,  3.68s/it]"
          ]
        },
        {
          "output_type": "stream",
          "name": "stdout",
          "text": [
            "Epoch 410, Loss: 0.3476, Test Accuracy: 0.1949, Train Accuracy: 0.9021, Target Accuracy: 0.1451\n"
          ]
        },
        {
          "output_type": "stream",
          "name": "stderr",
          "text": [
            " 42%|████▏     | 421/1000 [25:09<33:58,  3.52s/it]"
          ]
        },
        {
          "output_type": "stream",
          "name": "stdout",
          "text": [
            "Epoch 420, Loss: 0.3183, Test Accuracy: 0.1947, Train Accuracy: 0.9017, Target Accuracy: 0.1423\n"
          ]
        },
        {
          "output_type": "stream",
          "name": "stderr",
          "text": [
            " 43%|████▎     | 431/1000 [25:47<35:44,  3.77s/it]"
          ]
        },
        {
          "output_type": "stream",
          "name": "stdout",
          "text": [
            "Epoch 430, Loss: 0.3183, Test Accuracy: 0.1936, Train Accuracy: 0.9023, Target Accuracy: 0.1483\n"
          ]
        },
        {
          "output_type": "stream",
          "name": "stderr",
          "text": [
            " 44%|████▍     | 441/1000 [26:24<36:13,  3.89s/it]"
          ]
        },
        {
          "output_type": "stream",
          "name": "stdout",
          "text": [
            "Epoch 440, Loss: 0.3470, Test Accuracy: 0.1952, Train Accuracy: 0.9003, Target Accuracy: 0.1359\n"
          ]
        },
        {
          "output_type": "stream",
          "name": "stderr",
          "text": [
            " 45%|████▌     | 451/1000 [27:00<32:19,  3.53s/it]"
          ]
        },
        {
          "output_type": "stream",
          "name": "stdout",
          "text": [
            "Epoch 450, Loss: 0.3268, Test Accuracy: 0.1949, Train Accuracy: 0.9012, Target Accuracy: 0.1391\n"
          ]
        },
        {
          "output_type": "stream",
          "name": "stderr",
          "text": [
            " 46%|████▌     | 461/1000 [27:37<33:29,  3.73s/it]"
          ]
        },
        {
          "output_type": "stream",
          "name": "stdout",
          "text": [
            "Epoch 460, Loss: 0.3318, Test Accuracy: 0.1941, Train Accuracy: 0.9020, Target Accuracy: 0.1440\n"
          ]
        },
        {
          "output_type": "stream",
          "name": "stderr",
          "text": [
            " 47%|████▋     | 471/1000 [28:13<31:49,  3.61s/it]"
          ]
        },
        {
          "output_type": "stream",
          "name": "stdout",
          "text": [
            "Epoch 470, Loss: 0.3403, Test Accuracy: 0.1953, Train Accuracy: 0.8999, Target Accuracy: 0.1319\n"
          ]
        },
        {
          "output_type": "stream",
          "name": "stderr",
          "text": [
            " 48%|████▊     | 481/1000 [28:49<30:39,  3.55s/it]"
          ]
        },
        {
          "output_type": "stream",
          "name": "stdout",
          "text": [
            "Epoch 480, Loss: 0.3412, Test Accuracy: 0.1939, Train Accuracy: 0.9022, Target Accuracy: 0.1437\n"
          ]
        },
        {
          "output_type": "stream",
          "name": "stderr",
          "text": [
            " 49%|████▉     | 491/1000 [29:27<31:56,  3.77s/it]"
          ]
        },
        {
          "output_type": "stream",
          "name": "stdout",
          "text": [
            "Epoch 490, Loss: 0.3341, Test Accuracy: 0.1977, Train Accuracy: 0.8969, Target Accuracy: 0.1227\n"
          ]
        },
        {
          "output_type": "stream",
          "name": "stderr",
          "text": [
            " 50%|█████     | 501/1000 [30:02<29:23,  3.53s/it]"
          ]
        },
        {
          "output_type": "stream",
          "name": "stdout",
          "text": [
            "Epoch 500, Loss: 0.3437, Test Accuracy: 0.1913, Train Accuracy: 0.9107, Target Accuracy: 0.1651\n"
          ]
        },
        {
          "output_type": "stream",
          "name": "stderr",
          "text": [
            " 51%|█████     | 511/1000 [30:40<29:55,  3.67s/it]"
          ]
        },
        {
          "output_type": "stream",
          "name": "stdout",
          "text": [
            "Epoch 510, Loss: 0.3614, Test Accuracy: 0.1951, Train Accuracy: 0.8998, Target Accuracy: 0.1333\n"
          ]
        },
        {
          "output_type": "stream",
          "name": "stderr",
          "text": [
            " 52%|█████▏    | 521/1000 [31:18<30:03,  3.76s/it]"
          ]
        },
        {
          "output_type": "stream",
          "name": "stdout",
          "text": [
            "Epoch 520, Loss: 0.3327, Test Accuracy: 0.1947, Train Accuracy: 0.9010, Target Accuracy: 0.1391\n"
          ]
        },
        {
          "output_type": "stream",
          "name": "stderr",
          "text": [
            " 53%|█████▎    | 531/1000 [31:56<30:50,  3.95s/it]"
          ]
        },
        {
          "output_type": "stream",
          "name": "stdout",
          "text": [
            "Epoch 530, Loss: 0.3462, Test Accuracy: 0.1936, Train Accuracy: 0.9024, Target Accuracy: 0.1474\n"
          ]
        },
        {
          "output_type": "stream",
          "name": "stderr",
          "text": [
            " 54%|█████▍    | 541/1000 [32:32<27:28,  3.59s/it]"
          ]
        },
        {
          "output_type": "stream",
          "name": "stdout",
          "text": [
            "Epoch 540, Loss: 0.3469, Test Accuracy: 0.1950, Train Accuracy: 0.9004, Target Accuracy: 0.1346\n"
          ]
        },
        {
          "output_type": "stream",
          "name": "stderr",
          "text": [
            " 55%|█████▌    | 551/1000 [33:09<27:47,  3.71s/it]"
          ]
        },
        {
          "output_type": "stream",
          "name": "stdout",
          "text": [
            "Epoch 550, Loss: 0.3360, Test Accuracy: 0.1941, Train Accuracy: 0.9022, Target Accuracy: 0.1448\n"
          ]
        },
        {
          "output_type": "stream",
          "name": "stderr",
          "text": [
            " 56%|█████▌    | 561/1000 [33:47<28:30,  3.90s/it]"
          ]
        },
        {
          "output_type": "stream",
          "name": "stdout",
          "text": [
            "Epoch 560, Loss: 0.3175, Test Accuracy: 0.1955, Train Accuracy: 0.8993, Target Accuracy: 0.1309\n"
          ]
        },
        {
          "output_type": "stream",
          "name": "stderr",
          "text": [
            " 57%|█████▋    | 571/1000 [34:23<26:18,  3.68s/it]"
          ]
        },
        {
          "output_type": "stream",
          "name": "stdout",
          "text": [
            "Epoch 570, Loss: 0.3216, Test Accuracy: 0.1936, Train Accuracy: 0.9026, Target Accuracy: 0.1473\n"
          ]
        },
        {
          "output_type": "stream",
          "name": "stderr",
          "text": [
            " 58%|█████▊    | 581/1000 [35:00<25:25,  3.64s/it]"
          ]
        },
        {
          "output_type": "stream",
          "name": "stdout",
          "text": [
            "Epoch 580, Loss: 0.3111, Test Accuracy: 0.1946, Train Accuracy: 0.9014, Target Accuracy: 0.1391\n"
          ]
        },
        {
          "output_type": "stream",
          "name": "stderr",
          "text": [
            " 59%|█████▉    | 591/1000 [35:37<25:14,  3.70s/it]"
          ]
        },
        {
          "output_type": "stream",
          "name": "stdout",
          "text": [
            "Epoch 590, Loss: 0.3430, Test Accuracy: 0.1949, Train Accuracy: 0.9008, Target Accuracy: 0.1370\n"
          ]
        },
        {
          "output_type": "stream",
          "name": "stderr",
          "text": [
            " 60%|██████    | 601/1000 [36:13<23:18,  3.50s/it]"
          ]
        },
        {
          "output_type": "stream",
          "name": "stdout",
          "text": [
            "Epoch 600, Loss: 0.3398, Test Accuracy: 0.1954, Train Accuracy: 0.9004, Target Accuracy: 0.1339\n"
          ]
        },
        {
          "output_type": "stream",
          "name": "stderr",
          "text": [
            " 61%|██████    | 611/1000 [36:51<24:26,  3.77s/it]"
          ]
        },
        {
          "output_type": "stream",
          "name": "stdout",
          "text": [
            "Epoch 610, Loss: 0.3255, Test Accuracy: 0.1944, Train Accuracy: 0.9022, Target Accuracy: 0.1444\n"
          ]
        },
        {
          "output_type": "stream",
          "name": "stderr",
          "text": [
            " 62%|██████▏   | 621/1000 [37:26<22:39,  3.59s/it]"
          ]
        },
        {
          "output_type": "stream",
          "name": "stdout",
          "text": [
            "Epoch 620, Loss: 0.3303, Test Accuracy: 0.1950, Train Accuracy: 0.9009, Target Accuracy: 0.1372\n"
          ]
        },
        {
          "output_type": "stream",
          "name": "stderr",
          "text": [
            " 63%|██████▎   | 631/1000 [38:03<22:27,  3.65s/it]"
          ]
        },
        {
          "output_type": "stream",
          "name": "stdout",
          "text": [
            "Epoch 630, Loss: 0.3228, Test Accuracy: 0.1941, Train Accuracy: 0.9020, Target Accuracy: 0.1432\n"
          ]
        },
        {
          "output_type": "stream",
          "name": "stderr",
          "text": [
            " 64%|██████▍   | 641/1000 [38:39<21:52,  3.66s/it]"
          ]
        },
        {
          "output_type": "stream",
          "name": "stdout",
          "text": [
            "Epoch 640, Loss: 0.3168, Test Accuracy: 0.1962, Train Accuracy: 0.8981, Target Accuracy: 0.1275\n"
          ]
        },
        {
          "output_type": "stream",
          "name": "stderr",
          "text": [
            " 65%|██████▌   | 651/1000 [39:15<20:40,  3.55s/it]"
          ]
        },
        {
          "output_type": "stream",
          "name": "stdout",
          "text": [
            "Epoch 650, Loss: 0.3454, Test Accuracy: 0.1943, Train Accuracy: 0.9022, Target Accuracy: 0.1448\n"
          ]
        },
        {
          "output_type": "stream",
          "name": "stderr",
          "text": [
            " 66%|██████▌   | 661/1000 [39:53<20:43,  3.67s/it]"
          ]
        },
        {
          "output_type": "stream",
          "name": "stdout",
          "text": [
            "Epoch 660, Loss: 0.3151, Test Accuracy: 0.1946, Train Accuracy: 0.9014, Target Accuracy: 0.1410\n"
          ]
        },
        {
          "output_type": "stream",
          "name": "stderr",
          "text": [
            " 67%|██████▋   | 671/1000 [40:30<21:08,  3.85s/it]"
          ]
        },
        {
          "output_type": "stream",
          "name": "stdout",
          "text": [
            "Epoch 670, Loss: 0.3180, Test Accuracy: 0.1952, Train Accuracy: 0.9003, Target Accuracy: 0.1344\n"
          ]
        },
        {
          "output_type": "stream",
          "name": "stderr",
          "text": [
            " 68%|██████▊   | 681/1000 [41:07<19:07,  3.60s/it]"
          ]
        },
        {
          "output_type": "stream",
          "name": "stdout",
          "text": [
            "Epoch 680, Loss: 0.3389, Test Accuracy: 0.1953, Train Accuracy: 0.9004, Target Accuracy: 0.1360\n"
          ]
        },
        {
          "output_type": "stream",
          "name": "stderr",
          "text": [
            " 69%|██████▉   | 691/1000 [41:44<18:38,  3.62s/it]"
          ]
        },
        {
          "output_type": "stream",
          "name": "stdout",
          "text": [
            "Epoch 690, Loss: 0.3254, Test Accuracy: 0.1944, Train Accuracy: 0.9020, Target Accuracy: 0.1435\n"
          ]
        },
        {
          "output_type": "stream",
          "name": "stderr",
          "text": [
            " 70%|███████   | 701/1000 [42:22<19:06,  3.83s/it]"
          ]
        },
        {
          "output_type": "stream",
          "name": "stdout",
          "text": [
            "Epoch 700, Loss: 0.3392, Test Accuracy: 0.1950, Train Accuracy: 0.9009, Target Accuracy: 0.1372\n"
          ]
        },
        {
          "output_type": "stream",
          "name": "stderr",
          "text": [
            " 71%|███████   | 711/1000 [42:59<18:03,  3.75s/it]"
          ]
        },
        {
          "output_type": "stream",
          "name": "stdout",
          "text": [
            "Epoch 710, Loss: 0.3257, Test Accuracy: 0.1945, Train Accuracy: 0.9017, Target Accuracy: 0.1419\n"
          ]
        },
        {
          "output_type": "stream",
          "name": "stderr",
          "text": [
            " 72%|███████▏  | 721/1000 [43:35<16:23,  3.52s/it]"
          ]
        },
        {
          "output_type": "stream",
          "name": "stdout",
          "text": [
            "Epoch 720, Loss: 0.3236, Test Accuracy: 0.1944, Train Accuracy: 0.9018, Target Accuracy: 0.1421\n"
          ]
        },
        {
          "output_type": "stream",
          "name": "stderr",
          "text": [
            " 73%|███████▎  | 731/1000 [44:13<16:55,  3.77s/it]"
          ]
        },
        {
          "output_type": "stream",
          "name": "stdout",
          "text": [
            "Epoch 730, Loss: 0.3294, Test Accuracy: 0.1948, Train Accuracy: 0.9012, Target Accuracy: 0.1392\n"
          ]
        },
        {
          "output_type": "stream",
          "name": "stderr",
          "text": [
            " 74%|███████▍  | 741/1000 [44:49<15:41,  3.63s/it]"
          ]
        },
        {
          "output_type": "stream",
          "name": "stdout",
          "text": [
            "Epoch 740, Loss: 0.3641, Test Accuracy: 0.1931, Train Accuracy: 0.9023, Target Accuracy: 0.1488\n"
          ]
        },
        {
          "output_type": "stream",
          "name": "stderr",
          "text": [
            " 75%|███████▌  | 751/1000 [45:26<15:02,  3.62s/it]"
          ]
        },
        {
          "output_type": "stream",
          "name": "stdout",
          "text": [
            "Epoch 750, Loss: 0.3519, Test Accuracy: 0.1952, Train Accuracy: 0.8999, Target Accuracy: 0.1325\n"
          ]
        },
        {
          "output_type": "stream",
          "name": "stderr",
          "text": [
            " 76%|███████▌  | 761/1000 [46:04<15:31,  3.90s/it]"
          ]
        },
        {
          "output_type": "stream",
          "name": "stdout",
          "text": [
            "Epoch 760, Loss: 0.3443, Test Accuracy: 0.1939, Train Accuracy: 0.9021, Target Accuracy: 0.1453\n"
          ]
        },
        {
          "output_type": "stream",
          "name": "stderr",
          "text": [
            " 77%|███████▋  | 771/1000 [46:42<15:11,  3.98s/it]"
          ]
        },
        {
          "output_type": "stream",
          "name": "stdout",
          "text": [
            "Epoch 770, Loss: 0.3480, Test Accuracy: 0.1954, Train Accuracy: 0.8997, Target Accuracy: 0.1322\n"
          ]
        },
        {
          "output_type": "stream",
          "name": "stderr",
          "text": [
            " 78%|███████▊  | 781/1000 [47:18<13:03,  3.58s/it]"
          ]
        },
        {
          "output_type": "stream",
          "name": "stdout",
          "text": [
            "Epoch 780, Loss: 0.3315, Test Accuracy: 0.1948, Train Accuracy: 0.9017, Target Accuracy: 0.1396\n"
          ]
        },
        {
          "output_type": "stream",
          "name": "stderr",
          "text": [
            " 79%|███████▉  | 791/1000 [47:56<13:02,  3.74s/it]"
          ]
        },
        {
          "output_type": "stream",
          "name": "stdout",
          "text": [
            "Epoch 790, Loss: 0.3230, Test Accuracy: 0.1952, Train Accuracy: 0.9008, Target Accuracy: 0.1365\n"
          ]
        },
        {
          "output_type": "stream",
          "name": "stderr",
          "text": [
            " 80%|████████  | 801/1000 [48:31<11:38,  3.51s/it]"
          ]
        },
        {
          "output_type": "stream",
          "name": "stdout",
          "text": [
            "Epoch 800, Loss: 0.3499, Test Accuracy: 0.1938, Train Accuracy: 0.9024, Target Accuracy: 0.1476\n"
          ]
        },
        {
          "output_type": "stream",
          "name": "stderr",
          "text": [
            " 81%|████████  | 811/1000 [49:06<10:41,  3.39s/it]"
          ]
        },
        {
          "output_type": "stream",
          "name": "stdout",
          "text": [
            "Epoch 810, Loss: 0.3100, Test Accuracy: 0.1954, Train Accuracy: 0.9003, Target Accuracy: 0.1341\n"
          ]
        },
        {
          "output_type": "stream",
          "name": "stderr",
          "text": [
            " 82%|████████▏ | 821/1000 [49:43<11:33,  3.87s/it]"
          ]
        },
        {
          "output_type": "stream",
          "name": "stdout",
          "text": [
            "Epoch 820, Loss: 0.3532, Test Accuracy: 0.1939, Train Accuracy: 0.9021, Target Accuracy: 0.1464\n"
          ]
        },
        {
          "output_type": "stream",
          "name": "stderr",
          "text": [
            " 83%|████████▎ | 831/1000 [50:18<09:42,  3.45s/it]"
          ]
        },
        {
          "output_type": "stream",
          "name": "stdout",
          "text": [
            "Epoch 830, Loss: 0.3575, Test Accuracy: 0.1945, Train Accuracy: 0.9014, Target Accuracy: 0.1404\n"
          ]
        },
        {
          "output_type": "stream",
          "name": "stderr",
          "text": [
            " 84%|████████▍ | 841/1000 [50:55<09:48,  3.70s/it]"
          ]
        },
        {
          "output_type": "stream",
          "name": "stdout",
          "text": [
            "Epoch 840, Loss: 0.3451, Test Accuracy: 0.1956, Train Accuracy: 0.8999, Target Accuracy: 0.1318\n"
          ]
        },
        {
          "output_type": "stream",
          "name": "stderr",
          "text": [
            " 85%|████████▌ | 851/1000 [51:31<09:03,  3.65s/it]"
          ]
        },
        {
          "output_type": "stream",
          "name": "stdout",
          "text": [
            "Epoch 850, Loss: 0.3371, Test Accuracy: 0.1932, Train Accuracy: 0.9027, Target Accuracy: 0.1506\n"
          ]
        },
        {
          "output_type": "stream",
          "name": "stderr",
          "text": [
            " 86%|████████▌ | 861/1000 [52:08<08:01,  3.46s/it]"
          ]
        },
        {
          "output_type": "stream",
          "name": "stdout",
          "text": [
            "Epoch 860, Loss: 0.3440, Test Accuracy: 0.1944, Train Accuracy: 0.9013, Target Accuracy: 0.1415\n"
          ]
        },
        {
          "output_type": "stream",
          "name": "stderr",
          "text": [
            " 87%|████████▋ | 871/1000 [52:45<08:06,  3.77s/it]"
          ]
        },
        {
          "output_type": "stream",
          "name": "stdout",
          "text": [
            "Epoch 870, Loss: 0.3355, Test Accuracy: 0.1942, Train Accuracy: 0.9019, Target Accuracy: 0.1423\n"
          ]
        },
        {
          "output_type": "stream",
          "name": "stderr",
          "text": [
            " 88%|████████▊ | 881/1000 [53:21<07:18,  3.69s/it]"
          ]
        },
        {
          "output_type": "stream",
          "name": "stdout",
          "text": [
            "Epoch 880, Loss: 0.3143, Test Accuracy: 0.1955, Train Accuracy: 0.8994, Target Accuracy: 0.1311\n"
          ]
        },
        {
          "output_type": "stream",
          "name": "stderr",
          "text": [
            " 89%|████████▉ | 891/1000 [53:58<06:34,  3.62s/it]"
          ]
        },
        {
          "output_type": "stream",
          "name": "stdout",
          "text": [
            "Epoch 890, Loss: 0.3411, Test Accuracy: 0.1929, Train Accuracy: 0.9114, Target Accuracy: 0.1520\n"
          ]
        },
        {
          "output_type": "stream",
          "name": "stderr",
          "text": [
            " 90%|█████████ | 901/1000 [54:34<05:57,  3.61s/it]"
          ]
        },
        {
          "output_type": "stream",
          "name": "stdout",
          "text": [
            "Epoch 900, Loss: 0.3400, Test Accuracy: 0.1947, Train Accuracy: 0.9011, Target Accuracy: 0.1388\n"
          ]
        },
        {
          "output_type": "stream",
          "name": "stderr",
          "text": [
            " 91%|█████████ | 911/1000 [55:27<09:36,  6.48s/it]"
          ]
        },
        {
          "output_type": "stream",
          "name": "stdout",
          "text": [
            "Epoch 910, Loss: 0.3280, Test Accuracy: 0.1954, Train Accuracy: 0.8996, Target Accuracy: 0.1325\n"
          ]
        },
        {
          "output_type": "stream",
          "name": "stderr",
          "text": [
            " 92%|█████████▏| 921/1000 [56:04<04:57,  3.77s/it]"
          ]
        },
        {
          "output_type": "stream",
          "name": "stdout",
          "text": [
            "Epoch 920, Loss: 0.3201, Test Accuracy: 0.1948, Train Accuracy: 0.9013, Target Accuracy: 0.1399\n"
          ]
        },
        {
          "output_type": "stream",
          "name": "stderr",
          "text": [
            " 93%|█████████▎| 931/1000 [56:42<04:12,  3.65s/it]"
          ]
        },
        {
          "output_type": "stream",
          "name": "stdout",
          "text": [
            "Epoch 930, Loss: 0.3481, Test Accuracy: 0.1942, Train Accuracy: 0.9022, Target Accuracy: 0.1448\n"
          ]
        },
        {
          "output_type": "stream",
          "name": "stderr",
          "text": [
            " 94%|█████████▍| 941/1000 [57:20<03:45,  3.82s/it]"
          ]
        },
        {
          "output_type": "stream",
          "name": "stdout",
          "text": [
            "Epoch 940, Loss: 0.3331, Test Accuracy: 0.1947, Train Accuracy: 0.9014, Target Accuracy: 0.1399\n"
          ]
        },
        {
          "output_type": "stream",
          "name": "stderr",
          "text": [
            " 95%|█████████▌| 951/1000 [57:56<02:52,  3.53s/it]"
          ]
        },
        {
          "output_type": "stream",
          "name": "stdout",
          "text": [
            "Epoch 950, Loss: 0.3306, Test Accuracy: 0.1960, Train Accuracy: 0.8988, Target Accuracy: 0.1285\n"
          ]
        },
        {
          "output_type": "stream",
          "name": "stderr",
          "text": [
            " 96%|█████████▌| 961/1000 [58:32<02:22,  3.66s/it]"
          ]
        },
        {
          "output_type": "stream",
          "name": "stdout",
          "text": [
            "Epoch 960, Loss: 0.3411, Test Accuracy: 0.1949, Train Accuracy: 0.9012, Target Accuracy: 0.1398\n"
          ]
        },
        {
          "output_type": "stream",
          "name": "stderr",
          "text": [
            " 97%|█████████▋| 971/1000 [59:10<01:51,  3.85s/it]"
          ]
        },
        {
          "output_type": "stream",
          "name": "stdout",
          "text": [
            "Epoch 970, Loss: 0.3489, Test Accuracy: 0.1946, Train Accuracy: 0.9012, Target Accuracy: 0.1413\n"
          ]
        },
        {
          "output_type": "stream",
          "name": "stderr",
          "text": [
            " 98%|█████████▊| 981/1000 [59:46<01:07,  3.55s/it]"
          ]
        },
        {
          "output_type": "stream",
          "name": "stdout",
          "text": [
            "Epoch 980, Loss: 0.3697, Test Accuracy: 0.1944, Train Accuracy: 0.9019, Target Accuracy: 0.1419\n"
          ]
        },
        {
          "output_type": "stream",
          "name": "stderr",
          "text": [
            " 99%|█████████▉| 991/1000 [1:00:23<00:33,  3.74s/it]"
          ]
        },
        {
          "output_type": "stream",
          "name": "stdout",
          "text": [
            "Epoch 990, Loss: 0.3326, Test Accuracy: 0.1955, Train Accuracy: 0.8994, Target Accuracy: 0.1308\n"
          ]
        },
        {
          "output_type": "stream",
          "name": "stderr",
          "text": [
            "100%|██████████| 1000/1000 [1:00:56<00:00,  3.66s/it]\n"
          ]
        },
        {
          "output_type": "stream",
          "name": "stdout",
          "text": [
            "Final Results - Test Accuracy: 0.1947, Train Accuracy: 0.9013, Target Accuracy: 0.1407\n"
          ]
        }
      ]
    },
    {
      "cell_type": "code",
      "source": [
        "\n",
        "# random add/remove\n",
        "main_inductive(model = Edited_GCN_ETH(num_node_features=1, num_layers=2, hidden_width=4),\n",
        "                epochs=1000,\n",
        "                train_nodes = trainX,\n",
        "                edge_index_train = train_edges,\n",
        "                test_nodes = testX,\n",
        "                edge_index_test = list(G1.edges),\n",
        "                btrain = btrain,\n",
        "                strain = strain,\n",
        "                targets = targets,\n",
        "                btest = btest,\n",
        "                stest = stest,\n",
        "                trainY = trainY,\n",
        "                testY = textCompleteY,\n",
        "                bknown_test = bknown_test,\n",
        "                sknown_test = sknown_test)\n"
      ],
      "metadata": {
        "colab": {
          "base_uri": "https://localhost:8080/"
        },
        "id": "hbgJW3vRSyam",
        "outputId": "7c4a622f-09a4-4173-a8fa-5e2765b7a484"
      },
      "execution_count": 22,
      "outputs": [
        {
          "output_type": "stream",
          "name": "stderr",
          "text": [
            "  0%|          | 1/1000 [00:04<1:15:12,  4.52s/it]"
          ]
        },
        {
          "output_type": "stream",
          "name": "stdout",
          "text": [
            "Epoch 0, Loss: 0.7125, Test Accuracy: 0.1987, Train Accuracy: 0.6667, Target Accuracy: 0.0000\n"
          ]
        },
        {
          "output_type": "stream",
          "name": "stderr",
          "text": [
            "  1%|          | 11/1000 [00:41<58:39,  3.56s/it]  "
          ]
        },
        {
          "output_type": "stream",
          "name": "stdout",
          "text": [
            "Epoch 10, Loss: 0.6733, Test Accuracy: 0.1987, Train Accuracy: 0.6667, Target Accuracy: 0.0000\n"
          ]
        },
        {
          "output_type": "stream",
          "name": "stderr",
          "text": [
            "  2%|▏         | 21/1000 [01:19<1:00:58,  3.74s/it]"
          ]
        },
        {
          "output_type": "stream",
          "name": "stdout",
          "text": [
            "Epoch 20, Loss: 0.6431, Test Accuracy: 0.1987, Train Accuracy: 0.6667, Target Accuracy: 0.0000\n"
          ]
        },
        {
          "output_type": "stream",
          "name": "stderr",
          "text": [
            "  3%|▎         | 31/1000 [01:56<1:02:10,  3.85s/it]"
          ]
        },
        {
          "output_type": "stream",
          "name": "stdout",
          "text": [
            "Epoch 30, Loss: 0.6180, Test Accuracy: 0.1987, Train Accuracy: 0.6667, Target Accuracy: 0.0000\n"
          ]
        },
        {
          "output_type": "stream",
          "name": "stderr",
          "text": [
            "  4%|▍         | 41/1000 [02:32<55:21,  3.46s/it]"
          ]
        },
        {
          "output_type": "stream",
          "name": "stdout",
          "text": [
            "Epoch 40, Loss: 0.5960, Test Accuracy: 0.1987, Train Accuracy: 0.6667, Target Accuracy: 0.0000\n"
          ]
        },
        {
          "output_type": "stream",
          "name": "stderr",
          "text": [
            "  5%|▌         | 51/1000 [03:10<59:03,  3.73s/it]  "
          ]
        },
        {
          "output_type": "stream",
          "name": "stdout",
          "text": [
            "Epoch 50, Loss: 0.5748, Test Accuracy: 0.1987, Train Accuracy: 0.6667, Target Accuracy: 0.0000\n"
          ]
        },
        {
          "output_type": "stream",
          "name": "stderr",
          "text": [
            "  6%|▌         | 61/1000 [03:51<1:01:01,  3.90s/it]"
          ]
        },
        {
          "output_type": "stream",
          "name": "stdout",
          "text": [
            "Epoch 60, Loss: 0.5588, Test Accuracy: 0.1987, Train Accuracy: 0.7478, Target Accuracy: 0.0001\n"
          ]
        },
        {
          "output_type": "stream",
          "name": "stderr",
          "text": [
            "  7%|▋         | 71/1000 [04:29<1:03:25,  4.10s/it]"
          ]
        },
        {
          "output_type": "stream",
          "name": "stdout",
          "text": [
            "Epoch 70, Loss: 0.5352, Test Accuracy: 0.1994, Train Accuracy: 0.7572, Target Accuracy: 0.0032\n"
          ]
        },
        {
          "output_type": "stream",
          "name": "stderr",
          "text": [
            "  8%|▊         | 81/1000 [05:05<51:42,  3.38s/it]"
          ]
        },
        {
          "output_type": "stream",
          "name": "stdout",
          "text": [
            "Epoch 80, Loss: 0.5112, Test Accuracy: 0.2028, Train Accuracy: 0.7661, Target Accuracy: 0.0170\n"
          ]
        },
        {
          "output_type": "stream",
          "name": "stderr",
          "text": [
            "  9%|▉         | 91/1000 [05:42<52:20,  3.46s/it]"
          ]
        },
        {
          "output_type": "stream",
          "name": "stdout",
          "text": [
            "Epoch 90, Loss: 0.4782, Test Accuracy: 0.2056, Train Accuracy: 0.7893, Target Accuracy: 0.0417\n"
          ]
        },
        {
          "output_type": "stream",
          "name": "stderr",
          "text": [
            " 10%|█         | 101/1000 [06:19<1:00:13,  4.02s/it]"
          ]
        },
        {
          "output_type": "stream",
          "name": "stdout",
          "text": [
            "Epoch 100, Loss: 0.4738, Test Accuracy: 0.2084, Train Accuracy: 0.8262, Target Accuracy: 0.0620\n"
          ]
        },
        {
          "output_type": "stream",
          "name": "stderr",
          "text": [
            " 11%|█         | 111/1000 [06:57<55:53,  3.77s/it]"
          ]
        },
        {
          "output_type": "stream",
          "name": "stdout",
          "text": [
            "Epoch 110, Loss: 0.4589, Test Accuracy: 0.2083, Train Accuracy: 0.8318, Target Accuracy: 0.0609\n"
          ]
        },
        {
          "output_type": "stream",
          "name": "stderr",
          "text": [
            " 12%|█▏        | 121/1000 [07:36<54:35,  3.73s/it]"
          ]
        },
        {
          "output_type": "stream",
          "name": "stdout",
          "text": [
            "Epoch 120, Loss: 0.4536, Test Accuracy: 0.2090, Train Accuracy: 0.8513, Target Accuracy: 0.0757\n"
          ]
        },
        {
          "output_type": "stream",
          "name": "stderr",
          "text": [
            " 13%|█▎        | 131/1000 [08:15<55:45,  3.85s/it]"
          ]
        },
        {
          "output_type": "stream",
          "name": "stdout",
          "text": [
            "Epoch 130, Loss: 0.4472, Test Accuracy: 0.2090, Train Accuracy: 0.8633, Target Accuracy: 0.0842\n"
          ]
        },
        {
          "output_type": "stream",
          "name": "stderr",
          "text": [
            " 14%|█▍        | 141/1000 [08:54<56:17,  3.93s/it]"
          ]
        },
        {
          "output_type": "stream",
          "name": "stdout",
          "text": [
            "Epoch 140, Loss: 0.4429, Test Accuracy: 0.2090, Train Accuracy: 0.8600, Target Accuracy: 0.0794\n"
          ]
        },
        {
          "output_type": "stream",
          "name": "stderr",
          "text": [
            " 15%|█▌        | 151/1000 [09:33<58:35,  4.14s/it]"
          ]
        },
        {
          "output_type": "stream",
          "name": "stdout",
          "text": [
            "Epoch 150, Loss: 0.4346, Test Accuracy: 0.2086, Train Accuracy: 0.8693, Target Accuracy: 0.0896\n"
          ]
        },
        {
          "output_type": "stream",
          "name": "stderr",
          "text": [
            " 16%|█▌        | 161/1000 [10:11<52:52,  3.78s/it]"
          ]
        },
        {
          "output_type": "stream",
          "name": "stdout",
          "text": [
            "Epoch 160, Loss: 0.4465, Test Accuracy: 0.2068, Train Accuracy: 0.8832, Target Accuracy: 0.1058\n"
          ]
        },
        {
          "output_type": "stream",
          "name": "stderr",
          "text": [
            " 17%|█▋        | 171/1000 [10:49<51:31,  3.73s/it]"
          ]
        },
        {
          "output_type": "stream",
          "name": "stdout",
          "text": [
            "Epoch 170, Loss: 0.4377, Test Accuracy: 0.2080, Train Accuracy: 0.8741, Target Accuracy: 0.0945\n"
          ]
        },
        {
          "output_type": "stream",
          "name": "stderr",
          "text": [
            " 18%|█▊        | 181/1000 [11:28<52:03,  3.81s/it]"
          ]
        },
        {
          "output_type": "stream",
          "name": "stdout",
          "text": [
            "Epoch 180, Loss: 0.4212, Test Accuracy: 0.2069, Train Accuracy: 0.8821, Target Accuracy: 0.1036\n"
          ]
        },
        {
          "output_type": "stream",
          "name": "stderr",
          "text": [
            " 19%|█▉        | 191/1000 [12:07<52:40,  3.91s/it]"
          ]
        },
        {
          "output_type": "stream",
          "name": "stdout",
          "text": [
            "Epoch 190, Loss: 0.4154, Test Accuracy: 0.2078, Train Accuracy: 0.8773, Target Accuracy: 0.0975\n"
          ]
        },
        {
          "output_type": "stream",
          "name": "stderr",
          "text": [
            " 20%|██        | 201/1000 [12:44<51:12,  3.85s/it]"
          ]
        },
        {
          "output_type": "stream",
          "name": "stdout",
          "text": [
            "Epoch 200, Loss: 0.4479, Test Accuracy: 0.2068, Train Accuracy: 0.8836, Target Accuracy: 0.1045\n"
          ]
        },
        {
          "output_type": "stream",
          "name": "stderr",
          "text": [
            " 21%|██        | 211/1000 [13:22<48:17,  3.67s/it]"
          ]
        },
        {
          "output_type": "stream",
          "name": "stdout",
          "text": [
            "Epoch 210, Loss: 0.4498, Test Accuracy: 0.2048, Train Accuracy: 0.8910, Target Accuracy: 0.1188\n"
          ]
        },
        {
          "output_type": "stream",
          "name": "stderr",
          "text": [
            " 22%|██▏       | 221/1000 [14:00<49:09,  3.79s/it]"
          ]
        },
        {
          "output_type": "stream",
          "name": "stdout",
          "text": [
            "Epoch 220, Loss: 0.4180, Test Accuracy: 0.2056, Train Accuracy: 0.8878, Target Accuracy: 0.1104\n"
          ]
        },
        {
          "output_type": "stream",
          "name": "stderr",
          "text": [
            " 23%|██▎       | 231/1000 [14:39<50:51,  3.97s/it]"
          ]
        },
        {
          "output_type": "stream",
          "name": "stdout",
          "text": [
            "Epoch 230, Loss: 0.4039, Test Accuracy: 0.2062, Train Accuracy: 0.8860, Target Accuracy: 0.1060\n"
          ]
        },
        {
          "output_type": "stream",
          "name": "stderr",
          "text": [
            " 24%|██▍       | 241/1000 [15:17<48:46,  3.86s/it]"
          ]
        },
        {
          "output_type": "stream",
          "name": "stdout",
          "text": [
            "Epoch 240, Loss: 0.3887, Test Accuracy: 0.2052, Train Accuracy: 0.8894, Target Accuracy: 0.1131\n"
          ]
        },
        {
          "output_type": "stream",
          "name": "stderr",
          "text": [
            " 25%|██▌       | 251/1000 [15:54<45:25,  3.64s/it]"
          ]
        },
        {
          "output_type": "stream",
          "name": "stdout",
          "text": [
            "Epoch 250, Loss: 0.3791, Test Accuracy: 0.2028, Train Accuracy: 0.8953, Target Accuracy: 0.1352\n"
          ]
        },
        {
          "output_type": "stream",
          "name": "stderr",
          "text": [
            " 26%|██▌       | 261/1000 [16:33<46:09,  3.75s/it]"
          ]
        },
        {
          "output_type": "stream",
          "name": "stdout",
          "text": [
            "Epoch 260, Loss: 0.3867, Test Accuracy: 0.2041, Train Accuracy: 0.8927, Target Accuracy: 0.1238\n"
          ]
        },
        {
          "output_type": "stream",
          "name": "stderr",
          "text": [
            " 27%|██▋       | 271/1000 [17:11<46:53,  3.86s/it]"
          ]
        },
        {
          "output_type": "stream",
          "name": "stdout",
          "text": [
            "Epoch 270, Loss: 0.3869, Test Accuracy: 0.2010, Train Accuracy: 0.8984, Target Accuracy: 0.1471\n"
          ]
        },
        {
          "output_type": "stream",
          "name": "stderr",
          "text": [
            " 28%|██▊       | 281/1000 [17:48<45:40,  3.81s/it]"
          ]
        },
        {
          "output_type": "stream",
          "name": "stdout",
          "text": [
            "Epoch 280, Loss: 0.3544, Test Accuracy: 0.2005, Train Accuracy: 0.8983, Target Accuracy: 0.1436\n"
          ]
        },
        {
          "output_type": "stream",
          "name": "stderr",
          "text": [
            " 29%|██▉       | 291/1000 [18:26<43:08,  3.65s/it]"
          ]
        },
        {
          "output_type": "stream",
          "name": "stdout",
          "text": [
            "Epoch 290, Loss: 0.3845, Test Accuracy: 0.1992, Train Accuracy: 0.8996, Target Accuracy: 0.1505\n"
          ]
        },
        {
          "output_type": "stream",
          "name": "stderr",
          "text": [
            " 30%|███       | 301/1000 [19:04<44:19,  3.80s/it]"
          ]
        },
        {
          "output_type": "stream",
          "name": "stdout",
          "text": [
            "Epoch 300, Loss: 0.3671, Test Accuracy: 0.1986, Train Accuracy: 0.8998, Target Accuracy: 0.1505\n"
          ]
        },
        {
          "output_type": "stream",
          "name": "stderr",
          "text": [
            " 31%|███       | 311/1000 [19:46<56:17,  4.90s/it]"
          ]
        },
        {
          "output_type": "stream",
          "name": "stdout",
          "text": [
            "Epoch 310, Loss: 0.4150, Test Accuracy: 0.1975, Train Accuracy: 0.9020, Target Accuracy: 0.1560\n"
          ]
        },
        {
          "output_type": "stream",
          "name": "stderr",
          "text": [
            " 32%|███▏      | 321/1000 [20:24<44:57,  3.97s/it]"
          ]
        },
        {
          "output_type": "stream",
          "name": "stdout",
          "text": [
            "Epoch 320, Loss: 0.3952, Test Accuracy: 0.1970, Train Accuracy: 0.9021, Target Accuracy: 0.1544\n"
          ]
        },
        {
          "output_type": "stream",
          "name": "stderr",
          "text": [
            " 33%|███▎      | 331/1000 [21:03<45:01,  4.04s/it]"
          ]
        },
        {
          "output_type": "stream",
          "name": "stdout",
          "text": [
            "Epoch 330, Loss: 0.4034, Test Accuracy: 0.1970, Train Accuracy: 0.9020, Target Accuracy: 0.1522\n"
          ]
        },
        {
          "output_type": "stream",
          "name": "stderr",
          "text": [
            " 34%|███▍      | 341/1000 [21:41<40:23,  3.68s/it]"
          ]
        },
        {
          "output_type": "stream",
          "name": "stdout",
          "text": [
            "Epoch 340, Loss: 0.3973, Test Accuracy: 0.1974, Train Accuracy: 0.9006, Target Accuracy: 0.1462\n"
          ]
        },
        {
          "output_type": "stream",
          "name": "stderr",
          "text": [
            " 35%|███▌      | 351/1000 [22:20<40:27,  3.74s/it]"
          ]
        },
        {
          "output_type": "stream",
          "name": "stdout",
          "text": [
            "Epoch 350, Loss: 0.3704, Test Accuracy: 0.1982, Train Accuracy: 0.8996, Target Accuracy: 0.1414\n"
          ]
        },
        {
          "output_type": "stream",
          "name": "stderr",
          "text": [
            " 36%|███▌      | 361/1000 [22:58<40:58,  3.85s/it]"
          ]
        },
        {
          "output_type": "stream",
          "name": "stdout",
          "text": [
            "Epoch 360, Loss: 0.4061, Test Accuracy: 0.1954, Train Accuracy: 0.9028, Target Accuracy: 0.1603\n"
          ]
        },
        {
          "output_type": "stream",
          "name": "stderr",
          "text": [
            " 37%|███▋      | 371/1000 [23:37<41:57,  4.00s/it]"
          ]
        },
        {
          "output_type": "stream",
          "name": "stdout",
          "text": [
            "Epoch 370, Loss: 0.4057, Test Accuracy: 0.1947, Train Accuracy: 0.9027, Target Accuracy: 0.1619\n"
          ]
        },
        {
          "output_type": "stream",
          "name": "stderr",
          "text": [
            " 38%|███▊      | 381/1000 [24:15<39:49,  3.86s/it]"
          ]
        },
        {
          "output_type": "stream",
          "name": "stdout",
          "text": [
            "Epoch 380, Loss: 0.4081, Test Accuracy: 0.1965, Train Accuracy: 0.9003, Target Accuracy: 0.1437\n"
          ]
        },
        {
          "output_type": "stream",
          "name": "stderr",
          "text": [
            " 39%|███▉      | 391/1000 [24:53<37:19,  3.68s/it]"
          ]
        },
        {
          "output_type": "stream",
          "name": "stdout",
          "text": [
            "Epoch 390, Loss: 0.3756, Test Accuracy: 0.1953, Train Accuracy: 0.9029, Target Accuracy: 0.1509\n"
          ]
        },
        {
          "output_type": "stream",
          "name": "stderr",
          "text": [
            " 40%|████      | 401/1000 [25:32<37:24,  3.75s/it]"
          ]
        },
        {
          "output_type": "stream",
          "name": "stdout",
          "text": [
            "Epoch 400, Loss: 0.3771, Test Accuracy: 0.1962, Train Accuracy: 0.9014, Target Accuracy: 0.1428\n"
          ]
        },
        {
          "output_type": "stream",
          "name": "stderr",
          "text": [
            " 41%|████      | 411/1000 [26:11<37:59,  3.87s/it]"
          ]
        },
        {
          "output_type": "stream",
          "name": "stdout",
          "text": [
            "Epoch 410, Loss: 0.3616, Test Accuracy: 0.1961, Train Accuracy: 0.9016, Target Accuracy: 0.1432\n"
          ]
        },
        {
          "output_type": "stream",
          "name": "stderr",
          "text": [
            " 42%|████▏     | 421/1000 [26:49<38:43,  4.01s/it]"
          ]
        },
        {
          "output_type": "stream",
          "name": "stdout",
          "text": [
            "Epoch 420, Loss: 0.3976, Test Accuracy: 0.1961, Train Accuracy: 0.9016, Target Accuracy: 0.1431\n"
          ]
        },
        {
          "output_type": "stream",
          "name": "stderr",
          "text": [
            " 43%|████▎     | 431/1000 [27:27<35:37,  3.76s/it]"
          ]
        },
        {
          "output_type": "stream",
          "name": "stdout",
          "text": [
            "Epoch 430, Loss: 0.3960, Test Accuracy: 0.1962, Train Accuracy: 0.9016, Target Accuracy: 0.1429\n"
          ]
        },
        {
          "output_type": "stream",
          "name": "stderr",
          "text": [
            " 44%|████▍     | 441/1000 [28:05<34:34,  3.71s/it]"
          ]
        },
        {
          "output_type": "stream",
          "name": "stdout",
          "text": [
            "Epoch 440, Loss: 0.4094, Test Accuracy: 0.1942, Train Accuracy: 0.9032, Target Accuracy: 0.1568\n"
          ]
        },
        {
          "output_type": "stream",
          "name": "stderr",
          "text": [
            " 45%|████▌     | 451/1000 [28:44<34:52,  3.81s/it]"
          ]
        },
        {
          "output_type": "stream",
          "name": "stdout",
          "text": [
            "Epoch 450, Loss: 0.3674, Test Accuracy: 0.1952, Train Accuracy: 0.9029, Target Accuracy: 0.1444\n"
          ]
        },
        {
          "output_type": "stream",
          "name": "stderr",
          "text": [
            " 46%|████▌     | 461/1000 [29:23<35:41,  3.97s/it]"
          ]
        },
        {
          "output_type": "stream",
          "name": "stdout",
          "text": [
            "Epoch 460, Loss: 0.3534, Test Accuracy: 0.1974, Train Accuracy: 0.8999, Target Accuracy: 0.1356\n"
          ]
        },
        {
          "output_type": "stream",
          "name": "stderr",
          "text": [
            " 47%|████▋     | 471/1000 [30:02<35:34,  4.03s/it]"
          ]
        },
        {
          "output_type": "stream",
          "name": "stdout",
          "text": [
            "Epoch 470, Loss: 0.3513, Test Accuracy: 0.1951, Train Accuracy: 0.9031, Target Accuracy: 0.1457\n"
          ]
        },
        {
          "output_type": "stream",
          "name": "stderr",
          "text": [
            " 48%|████▊     | 481/1000 [30:39<32:14,  3.73s/it]"
          ]
        },
        {
          "output_type": "stream",
          "name": "stdout",
          "text": [
            "Epoch 480, Loss: 0.3676, Test Accuracy: 0.1964, Train Accuracy: 0.9012, Target Accuracy: 0.1404\n"
          ]
        },
        {
          "output_type": "stream",
          "name": "stderr",
          "text": [
            " 49%|████▉     | 491/1000 [31:18<31:43,  3.74s/it]"
          ]
        },
        {
          "output_type": "stream",
          "name": "stdout",
          "text": [
            "Epoch 490, Loss: 0.3902, Test Accuracy: 0.1947, Train Accuracy: 0.9031, Target Accuracy: 0.1496\n"
          ]
        },
        {
          "output_type": "stream",
          "name": "stderr",
          "text": [
            " 50%|█████     | 501/1000 [31:57<31:59,  3.85s/it]"
          ]
        },
        {
          "output_type": "stream",
          "name": "stdout",
          "text": [
            "Epoch 500, Loss: 0.3635, Test Accuracy: 0.1966, Train Accuracy: 0.9012, Target Accuracy: 0.1384\n"
          ]
        },
        {
          "output_type": "stream",
          "name": "stderr",
          "text": [
            " 51%|█████     | 511/1000 [32:36<32:29,  3.99s/it]"
          ]
        },
        {
          "output_type": "stream",
          "name": "stdout",
          "text": [
            "Epoch 510, Loss: 0.4165, Test Accuracy: 0.1939, Train Accuracy: 0.9032, Target Accuracy: 0.1533\n"
          ]
        },
        {
          "output_type": "stream",
          "name": "stderr",
          "text": [
            " 52%|█████▏    | 521/1000 [33:15<31:57,  4.00s/it]"
          ]
        },
        {
          "output_type": "stream",
          "name": "stdout",
          "text": [
            "Epoch 520, Loss: 0.3780, Test Accuracy: 0.1956, Train Accuracy: 0.9011, Target Accuracy: 0.1403\n"
          ]
        },
        {
          "output_type": "stream",
          "name": "stderr",
          "text": [
            " 53%|█████▎    | 531/1000 [33:52<29:15,  3.74s/it]"
          ]
        },
        {
          "output_type": "stream",
          "name": "stdout",
          "text": [
            "Epoch 530, Loss: 0.3794, Test Accuracy: 0.1941, Train Accuracy: 0.9027, Target Accuracy: 0.1474\n"
          ]
        },
        {
          "output_type": "stream",
          "name": "stderr",
          "text": [
            " 54%|█████▍    | 541/1000 [34:31<29:34,  3.87s/it]"
          ]
        },
        {
          "output_type": "stream",
          "name": "stdout",
          "text": [
            "Epoch 540, Loss: 0.4021, Test Accuracy: 0.1970, Train Accuracy: 0.8998, Target Accuracy: 0.1346\n"
          ]
        },
        {
          "output_type": "stream",
          "name": "stderr",
          "text": [
            " 55%|█████▌    | 551/1000 [35:11<28:58,  3.87s/it]"
          ]
        },
        {
          "output_type": "stream",
          "name": "stdout",
          "text": [
            "Epoch 550, Loss: 0.3919, Test Accuracy: 0.1955, Train Accuracy: 0.9013, Target Accuracy: 0.1408\n"
          ]
        },
        {
          "output_type": "stream",
          "name": "stderr",
          "text": [
            " 56%|█████▌    | 561/1000 [35:54<31:14,  4.27s/it]"
          ]
        },
        {
          "output_type": "stream",
          "name": "stdout",
          "text": [
            "Epoch 560, Loss: 0.4048, Test Accuracy: 0.1920, Train Accuracy: 0.9048, Target Accuracy: 0.1645\n"
          ]
        },
        {
          "output_type": "stream",
          "name": "stderr",
          "text": [
            " 57%|█████▋    | 571/1000 [36:34<28:14,  3.95s/it]"
          ]
        },
        {
          "output_type": "stream",
          "name": "stdout",
          "text": [
            "Epoch 570, Loss: 0.3688, Test Accuracy: 0.1972, Train Accuracy: 0.8988, Target Accuracy: 0.1322\n"
          ]
        },
        {
          "output_type": "stream",
          "name": "stderr",
          "text": [
            " 58%|█████▊    | 581/1000 [37:14<27:49,  3.99s/it]"
          ]
        },
        {
          "output_type": "stream",
          "name": "stdout",
          "text": [
            "Epoch 580, Loss: 0.3815, Test Accuracy: 0.1937, Train Accuracy: 0.9029, Target Accuracy: 0.1495\n"
          ]
        },
        {
          "output_type": "stream",
          "name": "stderr",
          "text": [
            " 59%|█████▉    | 591/1000 [37:54<27:56,  4.10s/it]"
          ]
        },
        {
          "output_type": "stream",
          "name": "stdout",
          "text": [
            "Epoch 590, Loss: 0.4183, Test Accuracy: 0.1932, Train Accuracy: 0.9039, Target Accuracy: 0.1562\n"
          ]
        },
        {
          "output_type": "stream",
          "name": "stderr",
          "text": [
            " 60%|██████    | 601/1000 [38:34<27:35,  4.15s/it]"
          ]
        },
        {
          "output_type": "stream",
          "name": "stdout",
          "text": [
            "Epoch 600, Loss: 0.3832, Test Accuracy: 0.1941, Train Accuracy: 0.9029, Target Accuracy: 0.1445\n"
          ]
        },
        {
          "output_type": "stream",
          "name": "stderr",
          "text": [
            " 61%|██████    | 611/1000 [39:14<27:43,  4.28s/it]"
          ]
        },
        {
          "output_type": "stream",
          "name": "stdout",
          "text": [
            "Epoch 610, Loss: 0.4428, Test Accuracy: 0.1955, Train Accuracy: 0.9009, Target Accuracy: 0.1381\n"
          ]
        },
        {
          "output_type": "stream",
          "name": "stderr",
          "text": [
            " 62%|██████▏   | 621/1000 [39:56<27:41,  4.38s/it]"
          ]
        },
        {
          "output_type": "stream",
          "name": "stdout",
          "text": [
            "Epoch 620, Loss: 0.3724, Test Accuracy: 0.1934, Train Accuracy: 0.9036, Target Accuracy: 0.1514\n"
          ]
        },
        {
          "output_type": "stream",
          "name": "stderr",
          "text": [
            " 63%|██████▎   | 631/1000 [40:35<24:27,  3.98s/it]"
          ]
        },
        {
          "output_type": "stream",
          "name": "stdout",
          "text": [
            "Epoch 630, Loss: 0.3567, Test Accuracy: 0.1945, Train Accuracy: 0.9027, Target Accuracy: 0.1419\n"
          ]
        },
        {
          "output_type": "stream",
          "name": "stderr",
          "text": [
            " 64%|██████▍   | 641/1000 [41:14<22:27,  3.75s/it]"
          ]
        },
        {
          "output_type": "stream",
          "name": "stdout",
          "text": [
            "Epoch 640, Loss: 0.3584, Test Accuracy: 0.1956, Train Accuracy: 0.9009, Target Accuracy: 0.1380\n"
          ]
        },
        {
          "output_type": "stream",
          "name": "stderr",
          "text": [
            " 65%|██████▌   | 651/1000 [41:53<22:07,  3.80s/it]"
          ]
        },
        {
          "output_type": "stream",
          "name": "stdout",
          "text": [
            "Epoch 650, Loss: 0.3770, Test Accuracy: 0.1935, Train Accuracy: 0.9034, Target Accuracy: 0.1488\n"
          ]
        },
        {
          "output_type": "stream",
          "name": "stderr",
          "text": [
            " 66%|██████▌   | 661/1000 [42:32<20:34,  3.64s/it]"
          ]
        },
        {
          "output_type": "stream",
          "name": "stdout",
          "text": [
            "Epoch 660, Loss: 0.3815, Test Accuracy: 0.1966, Train Accuracy: 0.9000, Target Accuracy: 0.1339\n"
          ]
        },
        {
          "output_type": "stream",
          "name": "stderr",
          "text": [
            " 67%|██████▋   | 671/1000 [43:05<18:03,  3.29s/it]"
          ]
        },
        {
          "output_type": "stream",
          "name": "stdout",
          "text": [
            "Epoch 670, Loss: 0.3667, Test Accuracy: 0.1936, Train Accuracy: 0.9029, Target Accuracy: 0.1482\n"
          ]
        },
        {
          "output_type": "stream",
          "name": "stderr",
          "text": [
            " 68%|██████▊   | 681/1000 [43:38<17:45,  3.34s/it]"
          ]
        },
        {
          "output_type": "stream",
          "name": "stdout",
          "text": [
            "Epoch 680, Loss: 0.3850, Test Accuracy: 0.1944, Train Accuracy: 0.9027, Target Accuracy: 0.1439\n"
          ]
        },
        {
          "output_type": "stream",
          "name": "stderr",
          "text": [
            " 69%|██████▉   | 691/1000 [44:10<16:05,  3.13s/it]"
          ]
        },
        {
          "output_type": "stream",
          "name": "stdout",
          "text": [
            "Epoch 690, Loss: 0.3957, Test Accuracy: 0.1938, Train Accuracy: 0.9030, Target Accuracy: 0.1450\n"
          ]
        },
        {
          "output_type": "stream",
          "name": "stderr",
          "text": [
            " 70%|███████   | 701/1000 [44:44<17:30,  3.51s/it]"
          ]
        },
        {
          "output_type": "stream",
          "name": "stdout",
          "text": [
            "Epoch 700, Loss: 0.3607, Test Accuracy: 0.1927, Train Accuracy: 0.9034, Target Accuracy: 0.1504\n"
          ]
        },
        {
          "output_type": "stream",
          "name": "stderr",
          "text": [
            " 71%|███████   | 711/1000 [45:16<15:38,  3.25s/it]"
          ]
        },
        {
          "output_type": "stream",
          "name": "stdout",
          "text": [
            "Epoch 710, Loss: 0.3693, Test Accuracy: 0.1930, Train Accuracy: 0.9036, Target Accuracy: 0.1477\n"
          ]
        },
        {
          "output_type": "stream",
          "name": "stderr",
          "text": [
            " 72%|███████▏  | 721/1000 [45:49<15:49,  3.40s/it]"
          ]
        },
        {
          "output_type": "stream",
          "name": "stdout",
          "text": [
            "Epoch 720, Loss: 0.4327, Test Accuracy: 0.1941, Train Accuracy: 0.9019, Target Accuracy: 0.1403\n"
          ]
        },
        {
          "output_type": "stream",
          "name": "stderr",
          "text": [
            " 73%|███████▎  | 731/1000 [46:22<14:47,  3.30s/it]"
          ]
        },
        {
          "output_type": "stream",
          "name": "stdout",
          "text": [
            "Epoch 730, Loss: 0.3943, Test Accuracy: 0.1932, Train Accuracy: 0.9033, Target Accuracy: 0.1476\n"
          ]
        },
        {
          "output_type": "stream",
          "name": "stderr",
          "text": [
            " 74%|███████▍  | 741/1000 [46:54<13:17,  3.08s/it]"
          ]
        },
        {
          "output_type": "stream",
          "name": "stdout",
          "text": [
            "Epoch 740, Loss: 0.3792, Test Accuracy: 0.1931, Train Accuracy: 0.9033, Target Accuracy: 0.1477\n"
          ]
        },
        {
          "output_type": "stream",
          "name": "stderr",
          "text": [
            " 75%|███████▌  | 751/1000 [47:27<14:30,  3.50s/it]"
          ]
        },
        {
          "output_type": "stream",
          "name": "stdout",
          "text": [
            "Epoch 750, Loss: 0.3645, Test Accuracy: 0.1948, Train Accuracy: 0.9018, Target Accuracy: 0.1387\n"
          ]
        },
        {
          "output_type": "stream",
          "name": "stderr",
          "text": [
            " 76%|███████▌  | 761/1000 [47:59<13:02,  3.27s/it]"
          ]
        },
        {
          "output_type": "stream",
          "name": "stdout",
          "text": [
            "Epoch 760, Loss: 0.3673, Test Accuracy: 0.1940, Train Accuracy: 0.9029, Target Accuracy: 0.1431\n"
          ]
        },
        {
          "output_type": "stream",
          "name": "stderr",
          "text": [
            " 77%|███████▋  | 771/1000 [48:31<11:54,  3.12s/it]"
          ]
        },
        {
          "output_type": "stream",
          "name": "stdout",
          "text": [
            "Epoch 770, Loss: 0.3710, Test Accuracy: 0.1939, Train Accuracy: 0.9031, Target Accuracy: 0.1444\n"
          ]
        },
        {
          "output_type": "stream",
          "name": "stderr",
          "text": [
            " 78%|███████▊  | 781/1000 [49:04<12:23,  3.39s/it]"
          ]
        },
        {
          "output_type": "stream",
          "name": "stdout",
          "text": [
            "Epoch 780, Loss: 0.3729, Test Accuracy: 0.1957, Train Accuracy: 0.9006, Target Accuracy: 0.1362\n"
          ]
        },
        {
          "output_type": "stream",
          "name": "stderr",
          "text": [
            " 79%|███████▉  | 791/1000 [49:39<12:13,  3.51s/it]"
          ]
        },
        {
          "output_type": "stream",
          "name": "stdout",
          "text": [
            "Epoch 790, Loss: 0.3715, Test Accuracy: 0.1920, Train Accuracy: 0.9042, Target Accuracy: 0.1603\n"
          ]
        },
        {
          "output_type": "stream",
          "name": "stderr",
          "text": [
            " 80%|████████  | 801/1000 [50:15<11:34,  3.49s/it]"
          ]
        },
        {
          "output_type": "stream",
          "name": "stdout",
          "text": [
            "Epoch 800, Loss: 0.3667, Test Accuracy: 0.1942, Train Accuracy: 0.9020, Target Accuracy: 0.1405\n"
          ]
        },
        {
          "output_type": "stream",
          "name": "stderr",
          "text": [
            " 81%|████████  | 811/1000 [50:49<10:50,  3.44s/it]"
          ]
        },
        {
          "output_type": "stream",
          "name": "stdout",
          "text": [
            "Epoch 810, Loss: 0.3534, Test Accuracy: 0.1930, Train Accuracy: 0.9034, Target Accuracy: 0.1488\n"
          ]
        },
        {
          "output_type": "stream",
          "name": "stderr",
          "text": [
            " 82%|████████▏ | 821/1000 [51:24<10:09,  3.40s/it]"
          ]
        },
        {
          "output_type": "stream",
          "name": "stdout",
          "text": [
            "Epoch 820, Loss: 0.3741, Test Accuracy: 0.1956, Train Accuracy: 0.9002, Target Accuracy: 0.1356\n"
          ]
        },
        {
          "output_type": "stream",
          "name": "stderr",
          "text": [
            " 83%|████████▎ | 831/1000 [52:01<10:37,  3.77s/it]"
          ]
        },
        {
          "output_type": "stream",
          "name": "stdout",
          "text": [
            "Epoch 830, Loss: 0.3787, Test Accuracy: 0.1909, Train Accuracy: 0.9039, Target Accuracy: 0.1645\n"
          ]
        },
        {
          "output_type": "stream",
          "name": "stderr",
          "text": [
            " 84%|████████▍ | 841/1000 [52:35<08:43,  3.30s/it]"
          ]
        },
        {
          "output_type": "stream",
          "name": "stdout",
          "text": [
            "Epoch 840, Loss: 0.3617, Test Accuracy: 0.1957, Train Accuracy: 0.9000, Target Accuracy: 0.1336\n"
          ]
        },
        {
          "output_type": "stream",
          "name": "stderr",
          "text": [
            " 85%|████████▌ | 851/1000 [53:10<09:05,  3.66s/it]"
          ]
        },
        {
          "output_type": "stream",
          "name": "stdout",
          "text": [
            "Epoch 850, Loss: 0.3962, Test Accuracy: 0.1943, Train Accuracy: 0.9028, Target Accuracy: 0.1425\n"
          ]
        },
        {
          "output_type": "stream",
          "name": "stderr",
          "text": [
            " 86%|████████▌ | 861/1000 [53:44<07:53,  3.41s/it]"
          ]
        },
        {
          "output_type": "stream",
          "name": "stdout",
          "text": [
            "Epoch 860, Loss: 0.3735, Test Accuracy: 0.1916, Train Accuracy: 0.9041, Target Accuracy: 0.1607\n"
          ]
        },
        {
          "output_type": "stream",
          "name": "stderr",
          "text": [
            " 87%|████████▋ | 871/1000 [54:21<08:05,  3.77s/it]"
          ]
        },
        {
          "output_type": "stream",
          "name": "stdout",
          "text": [
            "Epoch 870, Loss: 0.3688, Test Accuracy: 0.1954, Train Accuracy: 0.9006, Target Accuracy: 0.1354\n"
          ]
        },
        {
          "output_type": "stream",
          "name": "stderr",
          "text": [
            " 88%|████████▊ | 881/1000 [54:57<07:14,  3.65s/it]"
          ]
        },
        {
          "output_type": "stream",
          "name": "stdout",
          "text": [
            "Epoch 880, Loss: 0.3932, Test Accuracy: 0.1922, Train Accuracy: 0.9039, Target Accuracy: 0.1560\n"
          ]
        },
        {
          "output_type": "stream",
          "name": "stderr",
          "text": [
            " 89%|████████▉ | 891/1000 [55:33<06:19,  3.49s/it]"
          ]
        },
        {
          "output_type": "stream",
          "name": "stdout",
          "text": [
            "Epoch 890, Loss: 0.3586, Test Accuracy: 0.1924, Train Accuracy: 0.9033, Target Accuracy: 0.1530\n"
          ]
        },
        {
          "output_type": "stream",
          "name": "stderr",
          "text": [
            " 90%|█████████ | 901/1000 [56:07<05:55,  3.59s/it]"
          ]
        },
        {
          "output_type": "stream",
          "name": "stdout",
          "text": [
            "Epoch 900, Loss: 0.4007, Test Accuracy: 0.1959, Train Accuracy: 0.8999, Target Accuracy: 0.1332\n"
          ]
        },
        {
          "output_type": "stream",
          "name": "stderr",
          "text": [
            " 91%|█████████ | 911/1000 [56:41<04:47,  3.23s/it]"
          ]
        },
        {
          "output_type": "stream",
          "name": "stdout",
          "text": [
            "Epoch 910, Loss: 0.3709, Test Accuracy: 0.1911, Train Accuracy: 0.9044, Target Accuracy: 0.1618\n"
          ]
        },
        {
          "output_type": "stream",
          "name": "stderr",
          "text": [
            " 92%|█████████▏| 921/1000 [57:13<04:09,  3.16s/it]"
          ]
        },
        {
          "output_type": "stream",
          "name": "stdout",
          "text": [
            "Epoch 920, Loss: 0.3929, Test Accuracy: 0.1943, Train Accuracy: 0.9012, Target Accuracy: 0.1399\n"
          ]
        },
        {
          "output_type": "stream",
          "name": "stderr",
          "text": [
            " 93%|█████████▎| 931/1000 [57:47<03:50,  3.34s/it]"
          ]
        },
        {
          "output_type": "stream",
          "name": "stdout",
          "text": [
            "Epoch 930, Loss: 0.3712, Test Accuracy: 0.1941, Train Accuracy: 0.9024, Target Accuracy: 0.1430\n"
          ]
        },
        {
          "output_type": "stream",
          "name": "stderr",
          "text": [
            " 94%|█████████▍| 941/1000 [58:21<03:18,  3.37s/it]"
          ]
        },
        {
          "output_type": "stream",
          "name": "stdout",
          "text": [
            "Epoch 940, Loss: 0.3796, Test Accuracy: 0.1922, Train Accuracy: 0.9040, Target Accuracy: 0.1564\n"
          ]
        },
        {
          "output_type": "stream",
          "name": "stderr",
          "text": [
            " 95%|█████████▌| 951/1000 [58:54<02:43,  3.33s/it]"
          ]
        },
        {
          "output_type": "stream",
          "name": "stdout",
          "text": [
            "Epoch 950, Loss: 0.3929, Test Accuracy: 0.1951, Train Accuracy: 0.9004, Target Accuracy: 0.1370\n"
          ]
        },
        {
          "output_type": "stream",
          "name": "stderr",
          "text": [
            " 96%|█████████▌| 961/1000 [59:26<02:04,  3.19s/it]"
          ]
        },
        {
          "output_type": "stream",
          "name": "stdout",
          "text": [
            "Epoch 960, Loss: 0.3825, Test Accuracy: 0.1932, Train Accuracy: 0.9030, Target Accuracy: 0.1473\n"
          ]
        },
        {
          "output_type": "stream",
          "name": "stderr",
          "text": [
            " 97%|█████████▋| 971/1000 [1:00:00<01:40,  3.45s/it]"
          ]
        },
        {
          "output_type": "stream",
          "name": "stdout",
          "text": [
            "Epoch 970, Loss: 0.3534, Test Accuracy: 0.1936, Train Accuracy: 0.9030, Target Accuracy: 0.1453\n"
          ]
        },
        {
          "output_type": "stream",
          "name": "stderr",
          "text": [
            " 98%|█████████▊| 981/1000 [1:00:31<01:00,  3.17s/it]"
          ]
        },
        {
          "output_type": "stream",
          "name": "stdout",
          "text": [
            "Epoch 980, Loss: 0.3976, Test Accuracy: 0.1914, Train Accuracy: 0.9042, Target Accuracy: 0.1600\n"
          ]
        },
        {
          "output_type": "stream",
          "name": "stderr",
          "text": [
            " 99%|█████████▉| 991/1000 [1:01:02<00:27,  3.02s/it]"
          ]
        },
        {
          "output_type": "stream",
          "name": "stdout",
          "text": [
            "Epoch 990, Loss: 0.3546, Test Accuracy: 0.1960, Train Accuracy: 0.9001, Target Accuracy: 0.1333\n"
          ]
        },
        {
          "output_type": "stream",
          "name": "stderr",
          "text": [
            "100%|██████████| 1000/1000 [1:01:32<00:00,  3.69s/it]\n"
          ]
        },
        {
          "output_type": "stream",
          "name": "stdout",
          "text": [
            "Final Results - Test Accuracy: 0.1907, Train Accuracy: 0.9043, Target Accuracy: 0.1643\n"
          ]
        }
      ]
    },
    {
      "cell_type": "code",
      "source": [
        "\n",
        "#virtual nodes\n",
        "main_inductive(model = Edited_GCN_ETH(num_node_features=1, num_layers=2, hidden_width=4),\n",
        "                epochs=1000,\n",
        "                train_nodes = trainX,\n",
        "                edge_index_train = train_edges,\n",
        "                test_nodes = testX+virtualnodes,\n",
        "                edge_index_test = list(G2.edges),\n",
        "                btrain = btrain,\n",
        "                strain = strain,\n",
        "                btest = btest,\n",
        "                stest = stest,\n",
        "                targets = targets,\n",
        "                virtualnodes = virtualnodes,\n",
        "                trainY = trainY,\n",
        "                testY = textCompleteY+[1 for i in virtualnodes],\n",
        "                bknown_test = bknown_test,\n",
        "                sknown_test = sknown_test)\n"
      ],
      "metadata": {
        "colab": {
          "base_uri": "https://localhost:8080/"
        },
        "id": "Jh1nt-09S0zp",
        "outputId": "7bd90e58-1b1f-4313-e14f-a781ecb56708"
      },
      "execution_count": null,
      "outputs": [
        {
          "output_type": "stream",
          "name": "stderr",
          "text": [
            "  0%|          | 1/1000 [00:03<1:00:28,  3.63s/it]"
          ]
        },
        {
          "output_type": "stream",
          "name": "stdout",
          "text": [
            "Epoch 0, Loss: 0.7027, Test Accuracy: 0.1987, Train Accuracy: 0.6667, Target Accuracy: 0.0000\n"
          ]
        },
        {
          "output_type": "stream",
          "name": "stderr",
          "text": [
            "  1%|          | 11/1000 [00:34<52:44,  3.20s/it]"
          ]
        },
        {
          "output_type": "stream",
          "name": "stdout",
          "text": [
            "Epoch 10, Loss: 0.6444, Test Accuracy: 0.1987, Train Accuracy: 0.7478, Target Accuracy: 0.0001\n"
          ]
        },
        {
          "output_type": "stream",
          "name": "stderr",
          "text": [
            "  2%|▏         | 21/1000 [01:05<51:02,  3.13s/it]"
          ]
        },
        {
          "output_type": "stream",
          "name": "stdout",
          "text": [
            "Epoch 20, Loss: 0.6056, Test Accuracy: 0.2011, Train Accuracy: 0.7633, Target Accuracy: 0.0124\n"
          ]
        },
        {
          "output_type": "stream",
          "name": "stderr",
          "text": [
            "  3%|▎         | 31/1000 [01:36<48:49,  3.02s/it]"
          ]
        },
        {
          "output_type": "stream",
          "name": "stdout",
          "text": [
            "Epoch 30, Loss: 0.5740, Test Accuracy: 0.2020, Train Accuracy: 0.7649, Target Accuracy: 0.0167\n"
          ]
        },
        {
          "output_type": "stream",
          "name": "stderr",
          "text": [
            "  4%|▍         | 41/1000 [02:10<51:43,  3.24s/it]"
          ]
        },
        {
          "output_type": "stream",
          "name": "stdout",
          "text": [
            "Epoch 40, Loss: 0.5455, Test Accuracy: 0.2024, Train Accuracy: 0.7681, Target Accuracy: 0.0229\n"
          ]
        },
        {
          "output_type": "stream",
          "name": "stderr",
          "text": [
            "  5%|▌         | 51/1000 [02:44<52:48,  3.34s/it]"
          ]
        },
        {
          "output_type": "stream",
          "name": "stdout",
          "text": [
            "Epoch 50, Loss: 0.5241, Test Accuracy: 0.2057, Train Accuracy: 0.7783, Target Accuracy: 0.0373\n"
          ]
        },
        {
          "output_type": "stream",
          "name": "stderr",
          "text": [
            "  6%|▌         | 61/1000 [03:18<54:41,  3.49s/it]"
          ]
        },
        {
          "output_type": "stream",
          "name": "stdout",
          "text": [
            "Epoch 60, Loss: 0.4998, Test Accuracy: 0.2069, Train Accuracy: 0.7936, Target Accuracy: 0.0556\n"
          ]
        },
        {
          "output_type": "stream",
          "name": "stderr",
          "text": [
            "  7%|▋         | 71/1000 [03:51<48:12,  3.11s/it]"
          ]
        },
        {
          "output_type": "stream",
          "name": "stdout",
          "text": [
            "Epoch 70, Loss: 0.4590, Test Accuracy: 0.2080, Train Accuracy: 0.8207, Target Accuracy: 0.0684\n"
          ]
        },
        {
          "output_type": "stream",
          "name": "stderr",
          "text": [
            "  8%|▊         | 81/1000 [04:25<53:08,  3.47s/it]"
          ]
        },
        {
          "output_type": "stream",
          "name": "stdout",
          "text": [
            "Epoch 80, Loss: 0.4538, Test Accuracy: 0.2077, Train Accuracy: 0.8482, Target Accuracy: 0.0809\n"
          ]
        },
        {
          "output_type": "stream",
          "name": "stderr",
          "text": [
            "  9%|▉         | 91/1000 [04:58<51:14,  3.38s/it]"
          ]
        },
        {
          "output_type": "stream",
          "name": "stdout",
          "text": [
            "Epoch 90, Loss: 0.4319, Test Accuracy: 0.2078, Train Accuracy: 0.8538, Target Accuracy: 0.0823\n"
          ]
        },
        {
          "output_type": "stream",
          "name": "stderr",
          "text": [
            " 10%|█         | 101/1000 [05:35<56:29,  3.77s/it]"
          ]
        },
        {
          "output_type": "stream",
          "name": "stdout",
          "text": [
            "Epoch 100, Loss: 0.4039, Test Accuracy: 0.2061, Train Accuracy: 0.8718, Target Accuracy: 0.0954\n"
          ]
        },
        {
          "output_type": "stream",
          "name": "stderr",
          "text": [
            " 11%|█         | 111/1000 [06:08<49:10,  3.32s/it]"
          ]
        },
        {
          "output_type": "stream",
          "name": "stdout",
          "text": [
            "Epoch 110, Loss: 0.3908, Test Accuracy: 0.2058, Train Accuracy: 0.8757, Target Accuracy: 0.0991\n"
          ]
        },
        {
          "output_type": "stream",
          "name": "stderr",
          "text": [
            " 12%|█▏        | 121/1000 [06:42<51:02,  3.48s/it]"
          ]
        },
        {
          "output_type": "stream",
          "name": "stdout",
          "text": [
            "Epoch 120, Loss: 0.3889, Test Accuracy: 0.2033, Train Accuracy: 0.8832, Target Accuracy: 0.1154\n"
          ]
        },
        {
          "output_type": "stream",
          "name": "stderr",
          "text": [
            " 13%|█▎        | 131/1000 [07:16<48:59,  3.38s/it]"
          ]
        },
        {
          "output_type": "stream",
          "name": "stdout",
          "text": [
            "Epoch 130, Loss: 0.3663, Test Accuracy: 0.2038, Train Accuracy: 0.8839, Target Accuracy: 0.1111\n"
          ]
        },
        {
          "output_type": "stream",
          "name": "stderr",
          "text": [
            " 14%|█▍        | 141/1000 [07:52<50:59,  3.56s/it]"
          ]
        },
        {
          "output_type": "stream",
          "name": "stdout",
          "text": [
            "Epoch 140, Loss: 0.3694, Test Accuracy: 0.2036, Train Accuracy: 0.8844, Target Accuracy: 0.1115\n"
          ]
        },
        {
          "output_type": "stream",
          "name": "stderr",
          "text": [
            " 15%|█▌        | 151/1000 [08:26<45:13,  3.20s/it]"
          ]
        },
        {
          "output_type": "stream",
          "name": "stdout",
          "text": [
            "Epoch 150, Loss: 0.3550, Test Accuracy: 0.2024, Train Accuracy: 0.8884, Target Accuracy: 0.1201\n"
          ]
        },
        {
          "output_type": "stream",
          "name": "stderr",
          "text": [
            " 16%|█▌        | 161/1000 [09:01<49:35,  3.55s/it]"
          ]
        },
        {
          "output_type": "stream",
          "name": "stdout",
          "text": [
            "Epoch 160, Loss: 0.3589, Test Accuracy: 0.2031, Train Accuracy: 0.8864, Target Accuracy: 0.1126\n"
          ]
        },
        {
          "output_type": "stream",
          "name": "stderr",
          "text": [
            " 17%|█▋        | 171/1000 [09:35<45:48,  3.32s/it]"
          ]
        },
        {
          "output_type": "stream",
          "name": "stdout",
          "text": [
            "Epoch 170, Loss: 0.3400, Test Accuracy: 0.2016, Train Accuracy: 0.8912, Target Accuracy: 0.1279\n"
          ]
        },
        {
          "output_type": "stream",
          "name": "stderr",
          "text": [
            " 18%|█▊        | 181/1000 [10:10<48:25,  3.55s/it]"
          ]
        },
        {
          "output_type": "stream",
          "name": "stdout",
          "text": [
            "Epoch 180, Loss: 0.3502, Test Accuracy: 0.2011, Train Accuracy: 0.8918, Target Accuracy: 0.1286\n"
          ]
        },
        {
          "output_type": "stream",
          "name": "stderr",
          "text": [
            " 19%|█▉        | 191/1000 [10:43<42:56,  3.18s/it]"
          ]
        },
        {
          "output_type": "stream",
          "name": "stdout",
          "text": [
            "Epoch 190, Loss: 0.3483, Test Accuracy: 0.2009, Train Accuracy: 0.8909, Target Accuracy: 0.1263\n"
          ]
        },
        {
          "output_type": "stream",
          "name": "stderr",
          "text": [
            " 20%|██        | 201/1000 [11:16<46:46,  3.51s/it]"
          ]
        },
        {
          "output_type": "stream",
          "name": "stdout",
          "text": [
            "Epoch 200, Loss: 0.3434, Test Accuracy: 0.2013, Train Accuracy: 0.8911, Target Accuracy: 0.1212\n"
          ]
        },
        {
          "output_type": "stream",
          "name": "stderr",
          "text": [
            " 21%|██        | 211/1000 [11:51<45:45,  3.48s/it]"
          ]
        },
        {
          "output_type": "stream",
          "name": "stdout",
          "text": [
            "Epoch 210, Loss: 0.3503, Test Accuracy: 0.1995, Train Accuracy: 0.8941, Target Accuracy: 0.1339\n"
          ]
        },
        {
          "output_type": "stream",
          "name": "stderr",
          "text": [
            " 22%|██▏       | 221/1000 [12:27<47:17,  3.64s/it]"
          ]
        },
        {
          "output_type": "stream",
          "name": "stdout",
          "text": [
            "Epoch 220, Loss: 0.3328, Test Accuracy: 0.2003, Train Accuracy: 0.8911, Target Accuracy: 0.1240\n"
          ]
        },
        {
          "output_type": "stream",
          "name": "stderr",
          "text": [
            " 23%|██▎       | 231/1000 [13:04<46:27,  3.63s/it]"
          ]
        },
        {
          "output_type": "stream",
          "name": "stdout",
          "text": [
            "Epoch 230, Loss: 0.3168, Test Accuracy: 0.2000, Train Accuracy: 0.8917, Target Accuracy: 0.1253\n"
          ]
        },
        {
          "output_type": "stream",
          "name": "stderr",
          "text": [
            " 24%|██▍       | 241/1000 [13:37<41:21,  3.27s/it]"
          ]
        },
        {
          "output_type": "stream",
          "name": "stdout",
          "text": [
            "Epoch 240, Loss: 0.3305, Test Accuracy: 0.1988, Train Accuracy: 0.8941, Target Accuracy: 0.1345\n"
          ]
        },
        {
          "output_type": "stream",
          "name": "stderr",
          "text": [
            " 25%|██▌       | 251/1000 [14:11<41:57,  3.36s/it]"
          ]
        },
        {
          "output_type": "stream",
          "name": "stdout",
          "text": [
            "Epoch 250, Loss: 0.3108, Test Accuracy: 0.1992, Train Accuracy: 0.8929, Target Accuracy: 0.1285\n"
          ]
        },
        {
          "output_type": "stream",
          "name": "stderr",
          "text": [
            " 26%|██▌       | 261/1000 [14:46<42:27,  3.45s/it]"
          ]
        },
        {
          "output_type": "stream",
          "name": "stdout",
          "text": [
            "Epoch 260, Loss: 0.3343, Test Accuracy: 0.1987, Train Accuracy: 0.8937, Target Accuracy: 0.1312\n"
          ]
        },
        {
          "output_type": "stream",
          "name": "stderr",
          "text": [
            " 27%|██▋       | 271/1000 [15:19<38:47,  3.19s/it]"
          ]
        },
        {
          "output_type": "stream",
          "name": "stdout",
          "text": [
            "Epoch 270, Loss: 0.3129, Test Accuracy: 0.1992, Train Accuracy: 0.8918, Target Accuracy: 0.1236\n"
          ]
        },
        {
          "output_type": "stream",
          "name": "stderr",
          "text": [
            " 28%|██▊       | 281/1000 [15:53<41:08,  3.43s/it]"
          ]
        },
        {
          "output_type": "stream",
          "name": "stdout",
          "text": [
            "Epoch 280, Loss: 0.3279, Test Accuracy: 0.1978, Train Accuracy: 0.8951, Target Accuracy: 0.1368\n"
          ]
        },
        {
          "output_type": "stream",
          "name": "stderr",
          "text": [
            " 29%|██▉       | 291/1000 [16:25<36:06,  3.06s/it]"
          ]
        },
        {
          "output_type": "stream",
          "name": "stdout",
          "text": [
            "Epoch 290, Loss: 0.3307, Test Accuracy: 0.1985, Train Accuracy: 0.8934, Target Accuracy: 0.1288\n"
          ]
        },
        {
          "output_type": "stream",
          "name": "stderr",
          "text": [
            " 30%|███       | 301/1000 [16:58<39:29,  3.39s/it]"
          ]
        },
        {
          "output_type": "stream",
          "name": "stdout",
          "text": [
            "Epoch 300, Loss: 0.3378, Test Accuracy: 0.1985, Train Accuracy: 0.8936, Target Accuracy: 0.1281\n"
          ]
        },
        {
          "output_type": "stream",
          "name": "stderr",
          "text": [
            " 31%|███       | 311/1000 [17:31<38:52,  3.39s/it]"
          ]
        },
        {
          "output_type": "stream",
          "name": "stdout",
          "text": [
            "Epoch 310, Loss: 0.3381, Test Accuracy: 0.1971, Train Accuracy: 0.8949, Target Accuracy: 0.1396\n"
          ]
        },
        {
          "output_type": "stream",
          "name": "stderr",
          "text": [
            " 32%|███▏      | 321/1000 [18:06<40:02,  3.54s/it]"
          ]
        },
        {
          "output_type": "stream",
          "name": "stdout",
          "text": [
            "Epoch 320, Loss: 0.3215, Test Accuracy: 0.1985, Train Accuracy: 0.8921, Target Accuracy: 0.1247\n"
          ]
        },
        {
          "output_type": "stream",
          "name": "stderr",
          "text": [
            " 33%|███▎      | 331/1000 [18:38<36:28,  3.27s/it]"
          ]
        },
        {
          "output_type": "stream",
          "name": "stdout",
          "text": [
            "Epoch 330, Loss: 0.3092, Test Accuracy: 0.1979, Train Accuracy: 0.8937, Target Accuracy: 0.1297\n"
          ]
        },
        {
          "output_type": "stream",
          "name": "stderr",
          "text": [
            " 34%|███▍      | 341/1000 [19:10<35:30,  3.23s/it]"
          ]
        },
        {
          "output_type": "stream",
          "name": "stdout",
          "text": [
            "Epoch 340, Loss: 0.3380, Test Accuracy: 0.1981, Train Accuracy: 0.8933, Target Accuracy: 0.1274\n"
          ]
        },
        {
          "output_type": "stream",
          "name": "stderr",
          "text": [
            " 35%|███▌      | 351/1000 [19:45<37:32,  3.47s/it]"
          ]
        },
        {
          "output_type": "stream",
          "name": "stdout",
          "text": [
            "Epoch 350, Loss: 0.3247, Test Accuracy: 0.1973, Train Accuracy: 0.8950, Target Accuracy: 0.1334\n"
          ]
        },
        {
          "output_type": "stream",
          "name": "stderr",
          "text": [
            " 36%|███▌      | 361/1000 [20:17<33:56,  3.19s/it]"
          ]
        },
        {
          "output_type": "stream",
          "name": "stdout",
          "text": [
            "Epoch 360, Loss: 0.3215, Test Accuracy: 0.1995, Train Accuracy: 0.8894, Target Accuracy: 0.1189\n"
          ]
        },
        {
          "output_type": "stream",
          "name": "stderr",
          "text": [
            " 37%|███▋      | 371/1000 [20:50<35:04,  3.35s/it]"
          ]
        },
        {
          "output_type": "stream",
          "name": "stdout",
          "text": [
            "Epoch 370, Loss: 0.3309, Test Accuracy: 0.1966, Train Accuracy: 0.9057, Target Accuracy: 0.1382\n"
          ]
        },
        {
          "output_type": "stream",
          "name": "stderr",
          "text": [
            " 38%|███▊      | 381/1000 [21:22<33:56,  3.29s/it]"
          ]
        },
        {
          "output_type": "stream",
          "name": "stdout",
          "text": [
            "Epoch 380, Loss: 0.3294, Test Accuracy: 0.1982, Train Accuracy: 0.8923, Target Accuracy: 0.1232\n"
          ]
        },
        {
          "output_type": "stream",
          "name": "stderr",
          "text": [
            " 39%|███▉      | 391/1000 [21:55<31:55,  3.14s/it]"
          ]
        },
        {
          "output_type": "stream",
          "name": "stdout",
          "text": [
            "Epoch 390, Loss: 0.3303, Test Accuracy: 0.1968, Train Accuracy: 0.8960, Target Accuracy: 0.1334\n"
          ]
        },
        {
          "output_type": "stream",
          "name": "stderr",
          "text": [
            " 40%|████      | 401/1000 [22:30<34:30,  3.46s/it]"
          ]
        },
        {
          "output_type": "stream",
          "name": "stdout",
          "text": [
            "Epoch 400, Loss: 0.3312, Test Accuracy: 0.1973, Train Accuracy: 0.8938, Target Accuracy: 0.1277\n"
          ]
        },
        {
          "output_type": "stream",
          "name": "stderr",
          "text": [
            " 41%|████      | 411/1000 [23:06<35:21,  3.60s/it]"
          ]
        },
        {
          "output_type": "stream",
          "name": "stdout",
          "text": [
            "Epoch 410, Loss: 0.3371, Test Accuracy: 0.1974, Train Accuracy: 0.8936, Target Accuracy: 0.1265\n"
          ]
        },
        {
          "output_type": "stream",
          "name": "stderr",
          "text": [
            " 42%|████▏     | 421/1000 [23:41<32:37,  3.38s/it]"
          ]
        },
        {
          "output_type": "stream",
          "name": "stdout",
          "text": [
            "Epoch 420, Loss: 0.3338, Test Accuracy: 0.1968, Train Accuracy: 0.8959, Target Accuracy: 0.1329\n"
          ]
        },
        {
          "output_type": "stream",
          "name": "stderr",
          "text": [
            " 43%|████▎     | 431/1000 [24:12<28:26,  3.00s/it]"
          ]
        },
        {
          "output_type": "stream",
          "name": "stdout",
          "text": [
            "Epoch 430, Loss: 0.3370, Test Accuracy: 0.1973, Train Accuracy: 0.8937, Target Accuracy: 0.1265\n"
          ]
        },
        {
          "output_type": "stream",
          "name": "stderr",
          "text": [
            " 44%|████▍     | 441/1000 [24:45<30:47,  3.30s/it]"
          ]
        },
        {
          "output_type": "stream",
          "name": "stdout",
          "text": [
            "Epoch 440, Loss: 0.3136, Test Accuracy: 0.1967, Train Accuracy: 0.8943, Target Accuracy: 0.1306\n"
          ]
        },
        {
          "output_type": "stream",
          "name": "stderr",
          "text": [
            " 45%|████▌     | 451/1000 [25:17<29:00,  3.17s/it]"
          ]
        },
        {
          "output_type": "stream",
          "name": "stdout",
          "text": [
            "Epoch 450, Loss: 0.3261, Test Accuracy: 0.1979, Train Accuracy: 0.8930, Target Accuracy: 0.1228\n"
          ]
        },
        {
          "output_type": "stream",
          "name": "stderr",
          "text": [
            " 46%|████▌     | 461/1000 [25:50<29:57,  3.34s/it]"
          ]
        },
        {
          "output_type": "stream",
          "name": "stdout",
          "text": [
            "Epoch 460, Loss: 0.3090, Test Accuracy: 0.1961, Train Accuracy: 0.9053, Target Accuracy: 0.1366\n"
          ]
        },
        {
          "output_type": "stream",
          "name": "stderr",
          "text": [
            " 47%|████▋     | 471/1000 [26:22<29:26,  3.34s/it]"
          ]
        },
        {
          "output_type": "stream",
          "name": "stdout",
          "text": [
            "Epoch 470, Loss: 0.3168, Test Accuracy: 0.1964, Train Accuracy: 0.8959, Target Accuracy: 0.1329\n"
          ]
        },
        {
          "output_type": "stream",
          "name": "stderr",
          "text": [
            " 48%|████▊     | 481/1000 [26:53<26:41,  3.09s/it]"
          ]
        },
        {
          "output_type": "stream",
          "name": "stdout",
          "text": [
            "Epoch 480, Loss: 0.3232, Test Accuracy: 0.1969, Train Accuracy: 0.8939, Target Accuracy: 0.1271\n"
          ]
        },
        {
          "output_type": "stream",
          "name": "stderr",
          "text": [
            " 49%|████▉     | 491/1000 [27:27<29:20,  3.46s/it]"
          ]
        },
        {
          "output_type": "stream",
          "name": "stdout",
          "text": [
            "Epoch 490, Loss: 0.3192, Test Accuracy: 0.1964, Train Accuracy: 0.8958, Target Accuracy: 0.1327\n"
          ]
        },
        {
          "output_type": "stream",
          "name": "stderr",
          "text": [
            " 50%|█████     | 501/1000 [28:00<27:22,  3.29s/it]"
          ]
        },
        {
          "output_type": "stream",
          "name": "stdout",
          "text": [
            "Epoch 500, Loss: 0.3201, Test Accuracy: 0.1968, Train Accuracy: 0.8937, Target Accuracy: 0.1276\n"
          ]
        },
        {
          "output_type": "stream",
          "name": "stderr",
          "text": [
            " 51%|█████     | 511/1000 [28:31<24:27,  3.00s/it]"
          ]
        },
        {
          "output_type": "stream",
          "name": "stdout",
          "text": [
            "Epoch 510, Loss: 0.3012, Test Accuracy: 0.1962, Train Accuracy: 0.8959, Target Accuracy: 0.1324\n"
          ]
        },
        {
          "output_type": "stream",
          "name": "stderr",
          "text": [
            " 52%|█████▏    | 521/1000 [29:04<26:43,  3.35s/it]"
          ]
        },
        {
          "output_type": "stream",
          "name": "stdout",
          "text": [
            "Epoch 520, Loss: 0.3247, Test Accuracy: 0.1970, Train Accuracy: 0.8929, Target Accuracy: 0.1263\n"
          ]
        },
        {
          "output_type": "stream",
          "name": "stderr",
          "text": [
            " 53%|█████▎    | 531/1000 [29:35<24:27,  3.13s/it]"
          ]
        },
        {
          "output_type": "stream",
          "name": "stdout",
          "text": [
            "Epoch 530, Loss: 0.3088, Test Accuracy: 0.1961, Train Accuracy: 0.8960, Target Accuracy: 0.1344\n"
          ]
        },
        {
          "output_type": "stream",
          "name": "stderr",
          "text": [
            " 54%|█████▍    | 541/1000 [30:06<22:42,  2.97s/it]"
          ]
        },
        {
          "output_type": "stream",
          "name": "stdout",
          "text": [
            "Epoch 540, Loss: 0.3121, Test Accuracy: 0.1973, Train Accuracy: 0.8932, Target Accuracy: 0.1245\n"
          ]
        },
        {
          "output_type": "stream",
          "name": "stderr",
          "text": [
            " 55%|█████▌    | 551/1000 [30:38<25:27,  3.40s/it]"
          ]
        },
        {
          "output_type": "stream",
          "name": "stdout",
          "text": [
            "Epoch 550, Loss: 0.3120, Test Accuracy: 0.1966, Train Accuracy: 0.8956, Target Accuracy: 0.1290\n"
          ]
        },
        {
          "output_type": "stream",
          "name": "stderr",
          "text": [
            " 56%|█████▌    | 561/1000 [31:10<22:51,  3.13s/it]"
          ]
        },
        {
          "output_type": "stream",
          "name": "stdout",
          "text": [
            "Epoch 560, Loss: 0.3121, Test Accuracy: 0.1961, Train Accuracy: 0.8959, Target Accuracy: 0.1330\n"
          ]
        },
        {
          "output_type": "stream",
          "name": "stderr",
          "text": [
            " 57%|█████▋    | 571/1000 [31:40<21:29,  3.01s/it]"
          ]
        },
        {
          "output_type": "stream",
          "name": "stdout",
          "text": [
            "Epoch 570, Loss: 0.3226, Test Accuracy: 0.1975, Train Accuracy: 0.8928, Target Accuracy: 0.1228\n"
          ]
        },
        {
          "output_type": "stream",
          "name": "stderr",
          "text": [
            " 58%|█████▊    | 581/1000 [32:11<21:18,  3.05s/it]"
          ]
        },
        {
          "output_type": "stream",
          "name": "stdout",
          "text": [
            "Epoch 580, Loss: 0.3293, Test Accuracy: 0.1967, Train Accuracy: 0.8938, Target Accuracy: 0.1277\n"
          ]
        },
        {
          "output_type": "stream",
          "name": "stderr",
          "text": [
            " 59%|█████▉    | 591/1000 [32:44<23:28,  3.44s/it]"
          ]
        },
        {
          "output_type": "stream",
          "name": "stdout",
          "text": [
            "Epoch 590, Loss: 0.3409, Test Accuracy: 0.1967, Train Accuracy: 0.8938, Target Accuracy: 0.1277\n"
          ]
        },
        {
          "output_type": "stream",
          "name": "stderr",
          "text": [
            " 60%|██████    | 601/1000 [33:16<20:07,  3.03s/it]"
          ]
        },
        {
          "output_type": "stream",
          "name": "stdout",
          "text": [
            "Epoch 600, Loss: 0.3430, Test Accuracy: 0.1965, Train Accuracy: 0.8938, Target Accuracy: 0.1281\n"
          ]
        },
        {
          "output_type": "stream",
          "name": "stderr",
          "text": [
            " 61%|██████    | 611/1000 [33:47<20:29,  3.16s/it]"
          ]
        },
        {
          "output_type": "stream",
          "name": "stdout",
          "text": [
            "Epoch 610, Loss: 0.3334, Test Accuracy: 0.1977, Train Accuracy: 0.8928, Target Accuracy: 0.1217\n"
          ]
        },
        {
          "output_type": "stream",
          "name": "stderr",
          "text": [
            " 62%|██████▏   | 621/1000 [34:18<20:05,  3.18s/it]"
          ]
        },
        {
          "output_type": "stream",
          "name": "stdout",
          "text": [
            "Epoch 620, Loss: 0.3111, Test Accuracy: 0.1965, Train Accuracy: 0.8957, Target Accuracy: 0.1308\n"
          ]
        },
        {
          "output_type": "stream",
          "name": "stderr",
          "text": [
            " 63%|██████▎   | 631/1000 [34:50<20:03,  3.26s/it]"
          ]
        },
        {
          "output_type": "stream",
          "name": "stdout",
          "text": [
            "Epoch 630, Loss: 0.3151, Test Accuracy: 0.1974, Train Accuracy: 0.8930, Target Accuracy: 0.1245\n"
          ]
        },
        {
          "output_type": "stream",
          "name": "stderr",
          "text": [
            " 64%|██████▍   | 641/1000 [35:23<20:09,  3.37s/it]"
          ]
        },
        {
          "output_type": "stream",
          "name": "stdout",
          "text": [
            "Epoch 640, Loss: 0.3185, Test Accuracy: 0.1968, Train Accuracy: 0.8939, Target Accuracy: 0.1279\n"
          ]
        },
        {
          "output_type": "stream",
          "name": "stderr",
          "text": [
            " 65%|██████▌   | 651/1000 [35:55<18:48,  3.23s/it]"
          ]
        },
        {
          "output_type": "stream",
          "name": "stdout",
          "text": [
            "Epoch 650, Loss: 0.3034, Test Accuracy: 0.1968, Train Accuracy: 0.8942, Target Accuracy: 0.1284\n"
          ]
        },
        {
          "output_type": "stream",
          "name": "stderr",
          "text": [
            " 66%|██████▌   | 661/1000 [36:26<17:30,  3.10s/it]"
          ]
        },
        {
          "output_type": "stream",
          "name": "stdout",
          "text": [
            "Epoch 660, Loss: 0.3167, Test Accuracy: 0.1965, Train Accuracy: 0.8962, Target Accuracy: 0.1306\n"
          ]
        },
        {
          "output_type": "stream",
          "name": "stderr",
          "text": [
            " 67%|██████▋   | 671/1000 [36:58<17:04,  3.12s/it]"
          ]
        },
        {
          "output_type": "stream",
          "name": "stdout",
          "text": [
            "Epoch 670, Loss: 0.3063, Test Accuracy: 0.1966, Train Accuracy: 0.8960, Target Accuracy: 0.1279\n"
          ]
        },
        {
          "output_type": "stream",
          "name": "stderr",
          "text": [
            " 68%|██████▊   | 681/1000 [37:30<17:23,  3.27s/it]"
          ]
        },
        {
          "output_type": "stream",
          "name": "stdout",
          "text": [
            "Epoch 680, Loss: 0.3163, Test Accuracy: 0.1957, Train Accuracy: 0.9054, Target Accuracy: 0.1367\n"
          ]
        },
        {
          "output_type": "stream",
          "name": "stderr",
          "text": [
            " 69%|██████▉   | 691/1000 [38:02<16:17,  3.16s/it]"
          ]
        },
        {
          "output_type": "stream",
          "name": "stdout",
          "text": [
            "Epoch 690, Loss: 0.3246, Test Accuracy: 0.1965, Train Accuracy: 0.8937, Target Accuracy: 0.1266\n"
          ]
        },
        {
          "output_type": "stream",
          "name": "stderr",
          "text": [
            " 70%|███████   | 701/1000 [38:37<17:58,  3.61s/it]"
          ]
        },
        {
          "output_type": "stream",
          "name": "stdout",
          "text": [
            "Epoch 700, Loss: 0.3129, Test Accuracy: 0.1967, Train Accuracy: 0.8936, Target Accuracy: 0.1261\n"
          ]
        },
        {
          "output_type": "stream",
          "name": "stderr",
          "text": [
            " 71%|███████   | 711/1000 [39:08<15:13,  3.16s/it]"
          ]
        },
        {
          "output_type": "stream",
          "name": "stdout",
          "text": [
            "Epoch 710, Loss: 0.3246, Test Accuracy: 0.1955, Train Accuracy: 0.9056, Target Accuracy: 0.1380\n"
          ]
        },
        {
          "output_type": "stream",
          "name": "stderr",
          "text": [
            " 72%|███████▏  | 721/1000 [39:40<15:04,  3.24s/it]"
          ]
        },
        {
          "output_type": "stream",
          "name": "stdout",
          "text": [
            "Epoch 720, Loss: 0.3441, Test Accuracy: 0.1968, Train Accuracy: 0.8934, Target Accuracy: 0.1255\n"
          ]
        },
        {
          "output_type": "stream",
          "name": "stderr",
          "text": [
            " 73%|███████▎  | 731/1000 [40:15<15:48,  3.53s/it]"
          ]
        },
        {
          "output_type": "stream",
          "name": "stdout",
          "text": [
            "Epoch 730, Loss: 0.3324, Test Accuracy: 0.1966, Train Accuracy: 0.8933, Target Accuracy: 0.1264\n"
          ]
        },
        {
          "output_type": "stream",
          "name": "stderr",
          "text": [
            " 74%|███████▍  | 741/1000 [40:48<13:51,  3.21s/it]"
          ]
        },
        {
          "output_type": "stream",
          "name": "stdout",
          "text": [
            "Epoch 740, Loss: 0.3284, Test Accuracy: 0.1961, Train Accuracy: 0.8957, Target Accuracy: 0.1313\n"
          ]
        },
        {
          "output_type": "stream",
          "name": "stderr",
          "text": [
            " 75%|███████▌  | 751/1000 [41:22<13:54,  3.35s/it]"
          ]
        },
        {
          "output_type": "stream",
          "name": "stdout",
          "text": [
            "Epoch 750, Loss: 0.3274, Test Accuracy: 0.1958, Train Accuracy: 0.9054, Target Accuracy: 0.1340\n"
          ]
        },
        {
          "output_type": "stream",
          "name": "stderr",
          "text": [
            " 76%|███████▌  | 761/1000 [41:55<13:14,  3.32s/it]"
          ]
        },
        {
          "output_type": "stream",
          "name": "stdout",
          "text": [
            "Epoch 760, Loss: 0.2971, Test Accuracy: 0.1970, Train Accuracy: 0.8928, Target Accuracy: 0.1248\n"
          ]
        },
        {
          "output_type": "stream",
          "name": "stderr",
          "text": [
            " 77%|███████▋  | 771/1000 [42:31<13:55,  3.65s/it]"
          ]
        },
        {
          "output_type": "stream",
          "name": "stdout",
          "text": [
            "Epoch 770, Loss: 0.3288, Test Accuracy: 0.1964, Train Accuracy: 0.8953, Target Accuracy: 0.1286\n"
          ]
        },
        {
          "output_type": "stream",
          "name": "stderr",
          "text": [
            " 78%|███████▊  | 781/1000 [43:08<14:27,  3.96s/it]"
          ]
        },
        {
          "output_type": "stream",
          "name": "stdout",
          "text": [
            "Epoch 780, Loss: 0.3110, Test Accuracy: 0.1972, Train Accuracy: 0.8929, Target Accuracy: 0.1245\n"
          ]
        },
        {
          "output_type": "stream",
          "name": "stderr",
          "text": [
            " 79%|███████▉  | 791/1000 [43:44<12:19,  3.54s/it]"
          ]
        },
        {
          "output_type": "stream",
          "name": "stdout",
          "text": [
            "Epoch 790, Loss: 0.3280, Test Accuracy: 0.1959, Train Accuracy: 0.9052, Target Accuracy: 0.1346\n"
          ]
        },
        {
          "output_type": "stream",
          "name": "stderr",
          "text": [
            " 80%|████████  | 801/1000 [44:17<10:59,  3.32s/it]"
          ]
        },
        {
          "output_type": "stream",
          "name": "stdout",
          "text": [
            "Epoch 800, Loss: 0.3364, Test Accuracy: 0.1960, Train Accuracy: 0.9051, Target Accuracy: 0.1328\n"
          ]
        },
        {
          "output_type": "stream",
          "name": "stderr",
          "text": [
            " 81%|████████  | 811/1000 [44:49<10:11,  3.23s/it]"
          ]
        },
        {
          "output_type": "stream",
          "name": "stdout",
          "text": [
            "Epoch 810, Loss: 0.3184, Test Accuracy: 0.1973, Train Accuracy: 0.8924, Target Accuracy: 0.1226\n"
          ]
        },
        {
          "output_type": "stream",
          "name": "stderr",
          "text": [
            " 82%|████████▏ | 821/1000 [45:19<09:06,  3.05s/it]"
          ]
        },
        {
          "output_type": "stream",
          "name": "stdout",
          "text": [
            "Epoch 820, Loss: 0.3211, Test Accuracy: 0.1956, Train Accuracy: 0.9057, Target Accuracy: 0.1355\n"
          ]
        },
        {
          "output_type": "stream",
          "name": "stderr",
          "text": [
            " 83%|████████▎ | 831/1000 [45:52<09:01,  3.20s/it]"
          ]
        },
        {
          "output_type": "stream",
          "name": "stdout",
          "text": [
            "Epoch 830, Loss: 0.3223, Test Accuracy: 0.1973, Train Accuracy: 0.8926, Target Accuracy: 0.1236\n"
          ]
        },
        {
          "output_type": "stream",
          "name": "stderr",
          "text": [
            " 84%|████████▍ | 841/1000 [46:23<08:25,  3.18s/it]"
          ]
        },
        {
          "output_type": "stream",
          "name": "stdout",
          "text": [
            "Epoch 840, Loss: 0.3230, Test Accuracy: 0.1964, Train Accuracy: 0.8952, Target Accuracy: 0.1279\n"
          ]
        },
        {
          "output_type": "stream",
          "name": "stderr",
          "text": [
            " 85%|████████▌ | 851/1000 [46:54<07:32,  3.04s/it]"
          ]
        },
        {
          "output_type": "stream",
          "name": "stdout",
          "text": [
            "Epoch 850, Loss: 0.3210, Test Accuracy: 0.1956, Train Accuracy: 0.9060, Target Accuracy: 0.1361\n"
          ]
        },
        {
          "output_type": "stream",
          "name": "stderr",
          "text": [
            " 86%|████████▌ | 861/1000 [47:25<07:03,  3.04s/it]"
          ]
        },
        {
          "output_type": "stream",
          "name": "stdout",
          "text": [
            "Epoch 860, Loss: 0.3206, Test Accuracy: 0.1971, Train Accuracy: 0.8927, Target Accuracy: 0.1242\n"
          ]
        },
        {
          "output_type": "stream",
          "name": "stderr",
          "text": [
            " 87%|████████▋ | 871/1000 [47:59<07:20,  3.41s/it]"
          ]
        },
        {
          "output_type": "stream",
          "name": "stdout",
          "text": [
            "Epoch 870, Loss: 0.3048, Test Accuracy: 0.1957, Train Accuracy: 0.9053, Target Accuracy: 0.1329\n"
          ]
        },
        {
          "output_type": "stream",
          "name": "stderr",
          "text": [
            " 88%|████████▊ | 881/1000 [48:30<06:08,  3.10s/it]"
          ]
        },
        {
          "output_type": "stream",
          "name": "stdout",
          "text": [
            "Epoch 880, Loss: 0.3115, Test Accuracy: 0.1962, Train Accuracy: 0.8947, Target Accuracy: 0.1277\n"
          ]
        },
        {
          "output_type": "stream",
          "name": "stderr",
          "text": [
            " 89%|████████▉ | 891/1000 [49:03<06:10,  3.40s/it]"
          ]
        },
        {
          "output_type": "stream",
          "name": "stdout",
          "text": [
            "Epoch 890, Loss: 0.3317, Test Accuracy: 0.1979, Train Accuracy: 0.8926, Target Accuracy: 0.1223\n"
          ]
        },
        {
          "output_type": "stream",
          "name": "stderr",
          "text": [
            " 90%|█████████ | 901/1000 [49:36<05:24,  3.28s/it]"
          ]
        },
        {
          "output_type": "stream",
          "name": "stdout",
          "text": [
            "Epoch 900, Loss: 0.3280, Test Accuracy: 0.1959, Train Accuracy: 0.8960, Target Accuracy: 0.1330\n"
          ]
        },
        {
          "output_type": "stream",
          "name": "stderr",
          "text": [
            " 91%|█████████ | 911/1000 [50:08<04:31,  3.05s/it]"
          ]
        },
        {
          "output_type": "stream",
          "name": "stdout",
          "text": [
            "Epoch 910, Loss: 0.3292, Test Accuracy: 0.1969, Train Accuracy: 0.8932, Target Accuracy: 0.1250\n"
          ]
        },
        {
          "output_type": "stream",
          "name": "stderr",
          "text": [
            " 92%|█████████▏| 921/1000 [50:42<04:21,  3.31s/it]"
          ]
        },
        {
          "output_type": "stream",
          "name": "stdout",
          "text": [
            "Epoch 920, Loss: 0.3222, Test Accuracy: 0.1960, Train Accuracy: 0.8954, Target Accuracy: 0.1308\n"
          ]
        },
        {
          "output_type": "stream",
          "name": "stderr",
          "text": [
            " 93%|█████████▎| 931/1000 [51:12<03:32,  3.08s/it]"
          ]
        },
        {
          "output_type": "stream",
          "name": "stdout",
          "text": [
            "Epoch 930, Loss: 0.3115, Test Accuracy: 0.1967, Train Accuracy: 0.8934, Target Accuracy: 0.1260\n"
          ]
        },
        {
          "output_type": "stream",
          "name": "stderr",
          "text": [
            " 94%|█████████▍| 941/1000 [51:43<02:54,  2.96s/it]"
          ]
        },
        {
          "output_type": "stream",
          "name": "stdout",
          "text": [
            "Epoch 940, Loss: 0.3402, Test Accuracy: 0.1963, Train Accuracy: 0.8956, Target Accuracy: 0.1275\n"
          ]
        },
        {
          "output_type": "stream",
          "name": "stderr",
          "text": [
            " 95%|█████████▌| 951/1000 [52:14<02:36,  3.19s/it]"
          ]
        },
        {
          "output_type": "stream",
          "name": "stdout",
          "text": [
            "Epoch 950, Loss: 0.3052, Test Accuracy: 0.1966, Train Accuracy: 0.8934, Target Accuracy: 0.1263\n"
          ]
        },
        {
          "output_type": "stream",
          "name": "stderr",
          "text": [
            " 96%|█████████▌| 961/1000 [52:47<02:08,  3.29s/it]"
          ]
        },
        {
          "output_type": "stream",
          "name": "stdout",
          "text": [
            "Epoch 960, Loss: 0.3322, Test Accuracy: 0.1964, Train Accuracy: 0.8932, Target Accuracy: 0.1275\n"
          ]
        },
        {
          "output_type": "stream",
          "name": "stderr",
          "text": [
            " 97%|█████████▋| 971/1000 [53:20<01:26,  2.97s/it]"
          ]
        },
        {
          "output_type": "stream",
          "name": "stdout",
          "text": [
            "Epoch 970, Loss: 0.3300, Test Accuracy: 0.1955, Train Accuracy: 0.9056, Target Accuracy: 0.1364\n"
          ]
        },
        {
          "output_type": "stream",
          "name": "stderr",
          "text": [
            " 98%|█████████▊| 981/1000 [53:52<01:03,  3.36s/it]"
          ]
        },
        {
          "output_type": "stream",
          "name": "stdout",
          "text": [
            "Epoch 980, Loss: 0.3301, Test Accuracy: 0.1959, Train Accuracy: 0.9047, Target Accuracy: 0.1325\n"
          ]
        },
        {
          "output_type": "stream",
          "name": "stderr",
          "text": [
            " 99%|█████████▉| 991/1000 [54:23<00:28,  3.15s/it]"
          ]
        },
        {
          "output_type": "stream",
          "name": "stdout",
          "text": [
            "Epoch 990, Loss: 0.3119, Test Accuracy: 0.1973, Train Accuracy: 0.8923, Target Accuracy: 0.1231\n"
          ]
        },
        {
          "output_type": "stream",
          "name": "stderr",
          "text": [
            "100%|██████████| 1000/1000 [54:53<00:00,  3.29s/it]\n"
          ]
        }
      ]
    },
    {
      "cell_type": "code",
      "source": [
        "\n",
        "#virtual nodes + add/remove\n",
        "main_inductive(model = Edited_GCN_ETH(num_node_features=1, num_layers=2, hidden_width=4),\n",
        "                epochs=1000,\n",
        "                train_nodes = trainX,\n",
        "                edge_index_train = train_edges,\n",
        "                test_nodes = testX+virtualnodes,\n",
        "                edge_index_test = list(G3.edges),\n",
        "                btrain = btrain,\n",
        "                strain = strain,\n",
        "                btest = btest,\n",
        "                stest = stest,\n",
        "                targets = targets,\n",
        "                virtualnodes = virtualnodes,\n",
        "                trainY = trainY,\n",
        "                testY = textCompleteY+[1 for i in virtualnodes],\n",
        "                bknown_test = bknown_test,\n",
        "                sknown_test = sknown_test)\n",
        "\n"
      ],
      "metadata": {
        "colab": {
          "base_uri": "https://localhost:8080/"
        },
        "id": "MStPNwvmS05A",
        "outputId": "97a99f6d-f01f-4ef7-cd0f-76ae87a9051f"
      },
      "execution_count": 24,
      "outputs": [
        {
          "metadata": {
            "tags": null
          },
          "name": "stderr",
          "output_type": "stream",
          "text": [
            "  0%|          | 1/1000 [00:02<48:46,  2.93s/it]"
          ]
        },
        {
          "metadata": {
            "tags": null
          },
          "name": "stdout",
          "output_type": "stream",
          "text": [
            "Epoch 0, Loss: 0.6966, Test Accuracy: 0.1987, Train Accuracy: 0.6667, Target Accuracy: 0.0000\n"
          ]
        },
        {
          "metadata": {
            "tags": null
          },
          "name": "stderr",
          "output_type": "stream",
          "text": [
            "  1%|          | 11/1000 [00:35<53:14,  3.23s/it]"
          ]
        },
        {
          "metadata": {
            "tags": null
          },
          "name": "stdout",
          "output_type": "stream",
          "text": [
            "Epoch 10, Loss: 0.6650, Test Accuracy: 0.1987, Train Accuracy: 0.6667, Target Accuracy: 0.0000\n"
          ]
        },
        {
          "metadata": {
            "tags": null
          },
          "name": "stderr",
          "output_type": "stream",
          "text": [
            "  2%|▏         | 21/1000 [01:05<51:11,  3.14s/it]"
          ]
        },
        {
          "metadata": {
            "tags": null
          },
          "name": "stdout",
          "output_type": "stream",
          "text": [
            "Epoch 20, Loss: 0.6469, Test Accuracy: 0.1987, Train Accuracy: 0.6667, Target Accuracy: 0.0000\n"
          ]
        },
        {
          "metadata": {
            "tags": null
          },
          "name": "stderr",
          "output_type": "stream",
          "text": [
            "  3%|▎         | 31/1000 [01:36<50:43,  3.14s/it]"
          ]
        },
        {
          "metadata": {
            "tags": null
          },
          "name": "stdout",
          "output_type": "stream",
          "text": [
            "Epoch 30, Loss: 0.6375, Test Accuracy: 0.1987, Train Accuracy: 0.6667, Target Accuracy: 0.0000\n"
          ]
        },
        {
          "metadata": {
            "tags": null
          },
          "name": "stderr",
          "output_type": "stream",
          "text": [
            "  4%|▍         | 41/1000 [02:06<46:41,  2.92s/it]"
          ]
        },
        {
          "metadata": {
            "tags": null
          },
          "name": "stdout",
          "output_type": "stream",
          "text": [
            "Epoch 40, Loss: 0.6307, Test Accuracy: 0.1987, Train Accuracy: 0.6667, Target Accuracy: 0.0000\n"
          ]
        },
        {
          "output_type": "stream",
          "name": "stderr",
          "text": [
            "  5%|▌         | 51/1000 [02:40<54:18,  3.43s/it]"
          ]
        },
        {
          "output_type": "stream",
          "name": "stdout",
          "text": [
            "Epoch 50, Loss: 0.6213, Test Accuracy: 0.1987, Train Accuracy: 0.6667, Target Accuracy: 0.0000\n"
          ]
        },
        {
          "output_type": "stream",
          "name": "stderr",
          "text": [
            "  6%|▌         | 61/1000 [03:11<47:13,  3.02s/it]"
          ]
        },
        {
          "output_type": "stream",
          "name": "stdout",
          "text": [
            "Epoch 60, Loss: 0.6104, Test Accuracy: 0.1987, Train Accuracy: 0.6667, Target Accuracy: 0.0000\n"
          ]
        },
        {
          "output_type": "stream",
          "name": "stderr",
          "text": [
            "  7%|▋         | 71/1000 [03:42<46:36,  3.01s/it]"
          ]
        },
        {
          "output_type": "stream",
          "name": "stdout",
          "text": [
            "Epoch 70, Loss: 0.6025, Test Accuracy: 0.1987, Train Accuracy: 0.6667, Target Accuracy: 0.0000\n"
          ]
        },
        {
          "output_type": "stream",
          "name": "stderr",
          "text": [
            "  8%|▊         | 81/1000 [04:13<49:26,  3.23s/it]"
          ]
        },
        {
          "output_type": "stream",
          "name": "stdout",
          "text": [
            "Epoch 80, Loss: 0.5797, Test Accuracy: 0.1987, Train Accuracy: 0.6667, Target Accuracy: 0.0000\n"
          ]
        },
        {
          "output_type": "stream",
          "name": "stderr",
          "text": [
            "  9%|▉         | 91/1000 [04:45<47:13,  3.12s/it]"
          ]
        },
        {
          "output_type": "stream",
          "name": "stdout",
          "text": [
            "Epoch 90, Loss: 0.5743, Test Accuracy: 0.1987, Train Accuracy: 0.6667, Target Accuracy: 0.0000\n"
          ]
        },
        {
          "output_type": "stream",
          "name": "stderr",
          "text": [
            " 10%|█         | 101/1000 [05:15<44:07,  2.95s/it]"
          ]
        },
        {
          "output_type": "stream",
          "name": "stdout",
          "text": [
            "Epoch 100, Loss: 0.5718, Test Accuracy: 0.1987, Train Accuracy: 0.6667, Target Accuracy: 0.0000\n"
          ]
        },
        {
          "output_type": "stream",
          "name": "stderr",
          "text": [
            " 11%|█         | 111/1000 [05:48<48:25,  3.27s/it]"
          ]
        },
        {
          "output_type": "stream",
          "name": "stdout",
          "text": [
            "Epoch 110, Loss: 0.5485, Test Accuracy: 0.1987, Train Accuracy: 0.6667, Target Accuracy: 0.0000\n"
          ]
        },
        {
          "output_type": "stream",
          "name": "stderr",
          "text": [
            " 12%|█▏        | 121/1000 [06:18<43:59,  3.00s/it]"
          ]
        },
        {
          "output_type": "stream",
          "name": "stdout",
          "text": [
            "Epoch 120, Loss: 0.5459, Test Accuracy: 0.1987, Train Accuracy: 0.6667, Target Accuracy: 0.0000\n"
          ]
        },
        {
          "output_type": "stream",
          "name": "stderr",
          "text": [
            " 13%|█▎        | 131/1000 [06:50<42:58,  2.97s/it]"
          ]
        },
        {
          "output_type": "stream",
          "name": "stdout",
          "text": [
            "Epoch 130, Loss: 0.5465, Test Accuracy: 0.1987, Train Accuracy: 0.6667, Target Accuracy: 0.0000\n"
          ]
        },
        {
          "output_type": "stream",
          "name": "stderr",
          "text": [
            " 14%|█▍        | 141/1000 [07:23<48:04,  3.36s/it]"
          ]
        },
        {
          "output_type": "stream",
          "name": "stdout",
          "text": [
            "Epoch 140, Loss: 0.5483, Test Accuracy: 0.1987, Train Accuracy: 0.6667, Target Accuracy: 0.0000\n"
          ]
        },
        {
          "output_type": "stream",
          "name": "stderr",
          "text": [
            " 15%|█▌        | 151/1000 [08:02<55:44,  3.94s/it]"
          ]
        },
        {
          "output_type": "stream",
          "name": "stdout",
          "text": [
            "Epoch 150, Loss: 0.5401, Test Accuracy: 0.1956, Train Accuracy: 0.7789, Target Accuracy: 0.0026\n"
          ]
        },
        {
          "output_type": "stream",
          "name": "stderr",
          "text": [
            " 16%|█▌        | 161/1000 [08:36<45:20,  3.24s/it]"
          ]
        },
        {
          "output_type": "stream",
          "name": "stdout",
          "text": [
            "Epoch 160, Loss: 0.5564, Test Accuracy: 0.1985, Train Accuracy: 0.7714, Target Accuracy: 0.0004\n"
          ]
        },
        {
          "output_type": "stream",
          "name": "stderr",
          "text": [
            " 17%|█▋        | 171/1000 [09:09<44:06,  3.19s/it]"
          ]
        },
        {
          "output_type": "stream",
          "name": "stdout",
          "text": [
            "Epoch 170, Loss: 0.5305, Test Accuracy: 0.1979, Train Accuracy: 0.7969, Target Accuracy: 0.0103\n"
          ]
        },
        {
          "output_type": "stream",
          "name": "stderr",
          "text": [
            " 18%|█▊        | 181/1000 [09:42<46:04,  3.38s/it]"
          ]
        },
        {
          "output_type": "stream",
          "name": "stdout",
          "text": [
            "Epoch 180, Loss: 0.5381, Test Accuracy: 0.1999, Train Accuracy: 0.8109, Target Accuracy: 0.0201\n"
          ]
        },
        {
          "output_type": "stream",
          "name": "stderr",
          "text": [
            " 19%|█▉        | 191/1000 [10:18<47:00,  3.49s/it]"
          ]
        },
        {
          "output_type": "stream",
          "name": "stdout",
          "text": [
            "Epoch 190, Loss: 0.5442, Test Accuracy: 0.1999, Train Accuracy: 0.8081, Target Accuracy: 0.0198\n"
          ]
        },
        {
          "output_type": "stream",
          "name": "stderr",
          "text": [
            " 20%|██        | 201/1000 [10:49<41:43,  3.13s/it]"
          ]
        },
        {
          "output_type": "stream",
          "name": "stdout",
          "text": [
            "Epoch 200, Loss: 0.5019, Test Accuracy: 0.2063, Train Accuracy: 0.8364, Target Accuracy: 0.0514\n"
          ]
        },
        {
          "output_type": "stream",
          "name": "stderr",
          "text": [
            " 21%|██        | 211/1000 [11:24<44:21,  3.37s/it]"
          ]
        },
        {
          "output_type": "stream",
          "name": "stdout",
          "text": [
            "Epoch 210, Loss: 0.4858, Test Accuracy: 0.2087, Train Accuracy: 0.8626, Target Accuracy: 0.0789\n"
          ]
        },
        {
          "output_type": "stream",
          "name": "stderr",
          "text": [
            " 22%|██▏       | 221/1000 [11:55<40:17,  3.10s/it]"
          ]
        },
        {
          "output_type": "stream",
          "name": "stdout",
          "text": [
            "Epoch 220, Loss: 0.4628, Test Accuracy: 0.2075, Train Accuracy: 0.8853, Target Accuracy: 0.1093\n"
          ]
        },
        {
          "output_type": "stream",
          "name": "stderr",
          "text": [
            " 23%|██▎       | 231/1000 [12:28<43:23,  3.39s/it]"
          ]
        },
        {
          "output_type": "stream",
          "name": "stdout",
          "text": [
            "Epoch 230, Loss: 0.4409, Test Accuracy: 0.2079, Train Accuracy: 0.8821, Target Accuracy: 0.0993\n"
          ]
        },
        {
          "output_type": "stream",
          "name": "stderr",
          "text": [
            " 24%|██▍       | 241/1000 [13:00<41:10,  3.26s/it]"
          ]
        },
        {
          "output_type": "stream",
          "name": "stdout",
          "text": [
            "Epoch 240, Loss: 0.4426, Test Accuracy: 0.2074, Train Accuracy: 0.8828, Target Accuracy: 0.1007\n"
          ]
        },
        {
          "output_type": "stream",
          "name": "stderr",
          "text": [
            " 25%|██▌       | 251/1000 [13:31<40:17,  3.23s/it]"
          ]
        },
        {
          "output_type": "stream",
          "name": "stdout",
          "text": [
            "Epoch 250, Loss: 0.4293, Test Accuracy: 0.2032, Train Accuracy: 0.8960, Target Accuracy: 0.1471\n"
          ]
        },
        {
          "output_type": "stream",
          "name": "stderr",
          "text": [
            " 26%|██▌       | 261/1000 [14:05<40:56,  3.32s/it]"
          ]
        },
        {
          "output_type": "stream",
          "name": "stdout",
          "text": [
            "Epoch 260, Loss: 0.4281, Test Accuracy: 0.2066, Train Accuracy: 0.8887, Target Accuracy: 0.1095\n"
          ]
        },
        {
          "output_type": "stream",
          "name": "stderr",
          "text": [
            " 27%|██▋       | 271/1000 [14:38<40:30,  3.33s/it]"
          ]
        },
        {
          "output_type": "stream",
          "name": "stdout",
          "text": [
            "Epoch 270, Loss: 0.3990, Test Accuracy: 0.2029, Train Accuracy: 0.8964, Target Accuracy: 0.1419\n"
          ]
        },
        {
          "output_type": "stream",
          "name": "stderr",
          "text": [
            " 28%|██▊       | 281/1000 [15:10<39:05,  3.26s/it]"
          ]
        },
        {
          "output_type": "stream",
          "name": "stdout",
          "text": [
            "Epoch 280, Loss: 0.4533, Test Accuracy: 0.2049, Train Accuracy: 0.8910, Target Accuracy: 0.1206\n"
          ]
        },
        {
          "output_type": "stream",
          "name": "stderr",
          "text": [
            " 29%|██▉       | 291/1000 [15:42<38:02,  3.22s/it]"
          ]
        },
        {
          "output_type": "stream",
          "name": "stdout",
          "text": [
            "Epoch 290, Loss: 0.4431, Test Accuracy: 0.2031, Train Accuracy: 0.8942, Target Accuracy: 0.1276\n"
          ]
        },
        {
          "output_type": "stream",
          "name": "stderr",
          "text": [
            " 30%|███       | 301/1000 [16:15<38:49,  3.33s/it]"
          ]
        },
        {
          "output_type": "stream",
          "name": "stdout",
          "text": [
            "Epoch 300, Loss: 0.4215, Test Accuracy: 0.2029, Train Accuracy: 0.8948, Target Accuracy: 0.1269\n"
          ]
        },
        {
          "output_type": "stream",
          "name": "stderr",
          "text": [
            " 31%|███       | 311/1000 [16:46<36:25,  3.17s/it]"
          ]
        },
        {
          "output_type": "stream",
          "name": "stdout",
          "text": [
            "Epoch 310, Loss: 0.3950, Test Accuracy: 0.2022, Train Accuracy: 0.8956, Target Accuracy: 0.1275\n"
          ]
        },
        {
          "output_type": "stream",
          "name": "stderr",
          "text": [
            " 32%|███▏      | 321/1000 [17:16<34:08,  3.02s/it]"
          ]
        },
        {
          "output_type": "stream",
          "name": "stdout",
          "text": [
            "Epoch 320, Loss: 0.3910, Test Accuracy: 0.2030, Train Accuracy: 0.8937, Target Accuracy: 0.1229\n"
          ]
        },
        {
          "output_type": "stream",
          "name": "stderr",
          "text": [
            " 33%|███▎      | 331/1000 [17:50<37:43,  3.38s/it]"
          ]
        },
        {
          "output_type": "stream",
          "name": "stdout",
          "text": [
            "Epoch 330, Loss: 0.4296, Test Accuracy: 0.2025, Train Accuracy: 0.8951, Target Accuracy: 0.1243\n"
          ]
        },
        {
          "output_type": "stream",
          "name": "stderr",
          "text": [
            " 34%|███▍      | 341/1000 [18:20<33:55,  3.09s/it]"
          ]
        },
        {
          "output_type": "stream",
          "name": "stdout",
          "text": [
            "Epoch 340, Loss: 0.3923, Test Accuracy: 0.2026, Train Accuracy: 0.8937, Target Accuracy: 0.1195\n"
          ]
        },
        {
          "output_type": "stream",
          "name": "stderr",
          "text": [
            " 35%|███▌      | 351/1000 [18:51<32:00,  2.96s/it]"
          ]
        },
        {
          "output_type": "stream",
          "name": "stdout",
          "text": [
            "Epoch 350, Loss: 0.4123, Test Accuracy: 0.2018, Train Accuracy: 0.8949, Target Accuracy: 0.1245\n"
          ]
        },
        {
          "output_type": "stream",
          "name": "stderr",
          "text": [
            " 36%|███▌      | 361/1000 [19:24<36:36,  3.44s/it]"
          ]
        },
        {
          "output_type": "stream",
          "name": "stdout",
          "text": [
            "Epoch 360, Loss: 0.3797, Test Accuracy: 0.2011, Train Accuracy: 0.8959, Target Accuracy: 0.1261\n"
          ]
        },
        {
          "output_type": "stream",
          "name": "stderr",
          "text": [
            " 37%|███▋      | 371/1000 [19:56<32:17,  3.08s/it]"
          ]
        },
        {
          "output_type": "stream",
          "name": "stdout",
          "text": [
            "Epoch 370, Loss: 0.4270, Test Accuracy: 0.2017, Train Accuracy: 0.8940, Target Accuracy: 0.1185\n"
          ]
        },
        {
          "output_type": "stream",
          "name": "stderr",
          "text": [
            " 38%|███▊      | 381/1000 [20:27<30:39,  2.97s/it]"
          ]
        },
        {
          "output_type": "stream",
          "name": "stdout",
          "text": [
            "Epoch 380, Loss: 0.4246, Test Accuracy: 0.1998, Train Accuracy: 0.8972, Target Accuracy: 0.1311\n"
          ]
        },
        {
          "output_type": "stream",
          "name": "stderr",
          "text": [
            " 39%|███▉      | 391/1000 [20:59<32:59,  3.25s/it]"
          ]
        },
        {
          "output_type": "stream",
          "name": "stdout",
          "text": [
            "Epoch 390, Loss: 0.3797, Test Accuracy: 0.2014, Train Accuracy: 0.8946, Target Accuracy: 0.1228\n"
          ]
        },
        {
          "output_type": "stream",
          "name": "stderr",
          "text": [
            " 40%|████      | 401/1000 [21:32<34:06,  3.42s/it]"
          ]
        },
        {
          "output_type": "stream",
          "name": "stdout",
          "text": [
            "Epoch 400, Loss: 0.3683, Test Accuracy: 0.1965, Train Accuracy: 0.9022, Target Accuracy: 0.1551\n"
          ]
        },
        {
          "output_type": "stream",
          "name": "stderr",
          "text": [
            " 41%|████      | 411/1000 [22:06<32:34,  3.32s/it]"
          ]
        },
        {
          "output_type": "stream",
          "name": "stdout",
          "text": [
            "Epoch 410, Loss: 0.3694, Test Accuracy: 0.1997, Train Accuracy: 0.8970, Target Accuracy: 0.1301\n"
          ]
        },
        {
          "output_type": "stream",
          "name": "stderr",
          "text": [
            " 42%|████▏     | 421/1000 [22:36<29:45,  3.08s/it]"
          ]
        },
        {
          "output_type": "stream",
          "name": "stdout",
          "text": [
            "Epoch 420, Loss: 0.3982, Test Accuracy: 0.1944, Train Accuracy: 0.9029, Target Accuracy: 0.1607\n"
          ]
        },
        {
          "output_type": "stream",
          "name": "stderr",
          "text": [
            " 43%|████▎     | 431/1000 [23:08<29:02,  3.06s/it]"
          ]
        },
        {
          "output_type": "stream",
          "name": "stdout",
          "text": [
            "Epoch 430, Loss: 0.3562, Test Accuracy: 0.1975, Train Accuracy: 0.8993, Target Accuracy: 0.1365\n"
          ]
        },
        {
          "output_type": "stream",
          "name": "stderr",
          "text": [
            " 44%|████▍     | 441/1000 [23:40<29:29,  3.17s/it]"
          ]
        },
        {
          "output_type": "stream",
          "name": "stdout",
          "text": [
            "Epoch 440, Loss: 0.3743, Test Accuracy: 0.1924, Train Accuracy: 0.9039, Target Accuracy: 0.1690\n"
          ]
        },
        {
          "output_type": "stream",
          "name": "stderr",
          "text": [
            " 45%|████▌     | 451/1000 [24:11<27:48,  3.04s/it]"
          ]
        },
        {
          "output_type": "stream",
          "name": "stdout",
          "text": [
            "Epoch 450, Loss: 0.3742, Test Accuracy: 0.1937, Train Accuracy: 0.9033, Target Accuracy: 0.1520\n"
          ]
        },
        {
          "output_type": "stream",
          "name": "stderr",
          "text": [
            " 46%|████▌     | 461/1000 [24:41<26:12,  2.92s/it]"
          ]
        },
        {
          "output_type": "stream",
          "name": "stdout",
          "text": [
            "Epoch 460, Loss: 0.3748, Test Accuracy: 0.1955, Train Accuracy: 0.9014, Target Accuracy: 0.1383\n"
          ]
        },
        {
          "output_type": "stream",
          "name": "stderr",
          "text": [
            " 47%|████▋     | 471/1000 [25:12<28:33,  3.24s/it]"
          ]
        },
        {
          "output_type": "stream",
          "name": "stdout",
          "text": [
            "Epoch 470, Loss: 0.3644, Test Accuracy: 0.1918, Train Accuracy: 0.9041, Target Accuracy: 0.1628\n"
          ]
        },
        {
          "output_type": "stream",
          "name": "stderr",
          "text": [
            " 48%|████▊     | 481/1000 [25:42<26:37,  3.08s/it]"
          ]
        },
        {
          "output_type": "stream",
          "name": "stdout",
          "text": [
            "Epoch 480, Loss: 0.3876, Test Accuracy: 0.1939, Train Accuracy: 0.9027, Target Accuracy: 0.1461\n"
          ]
        },
        {
          "output_type": "stream",
          "name": "stderr",
          "text": [
            " 49%|████▉     | 491/1000 [26:13<25:27,  3.00s/it]"
          ]
        },
        {
          "output_type": "stream",
          "name": "stdout",
          "text": [
            "Epoch 490, Loss: 0.3867, Test Accuracy: 0.1908, Train Accuracy: 0.9039, Target Accuracy: 0.1663\n"
          ]
        },
        {
          "output_type": "stream",
          "name": "stderr",
          "text": [
            " 50%|█████     | 501/1000 [26:44<26:24,  3.18s/it]"
          ]
        },
        {
          "output_type": "stream",
          "name": "stdout",
          "text": [
            "Epoch 500, Loss: 0.3772, Test Accuracy: 0.1967, Train Accuracy: 0.8992, Target Accuracy: 0.1319\n"
          ]
        },
        {
          "output_type": "stream",
          "name": "stderr",
          "text": [
            " 51%|█████     | 511/1000 [27:15<25:29,  3.13s/it]"
          ]
        },
        {
          "output_type": "stream",
          "name": "stdout",
          "text": [
            "Epoch 510, Loss: 0.3896, Test Accuracy: 0.1909, Train Accuracy: 0.9038, Target Accuracy: 0.1654\n"
          ]
        },
        {
          "output_type": "stream",
          "name": "stderr",
          "text": [
            " 52%|█████▏    | 521/1000 [27:46<24:27,  3.06s/it]"
          ]
        },
        {
          "output_type": "stream",
          "name": "stdout",
          "text": [
            "Epoch 520, Loss: 0.3686, Test Accuracy: 0.1939, Train Accuracy: 0.9027, Target Accuracy: 0.1426\n"
          ]
        },
        {
          "output_type": "stream",
          "name": "stderr",
          "text": [
            " 53%|█████▎    | 531/1000 [28:19<25:59,  3.32s/it]"
          ]
        },
        {
          "output_type": "stream",
          "name": "stdout",
          "text": [
            "Epoch 530, Loss: 0.3968, Test Accuracy: 0.1954, Train Accuracy: 0.9003, Target Accuracy: 0.1352\n"
          ]
        },
        {
          "output_type": "stream",
          "name": "stderr",
          "text": [
            " 54%|█████▍    | 541/1000 [28:50<23:55,  3.13s/it]"
          ]
        },
        {
          "output_type": "stream",
          "name": "stdout",
          "text": [
            "Epoch 540, Loss: 0.3908, Test Accuracy: 0.1934, Train Accuracy: 0.9029, Target Accuracy: 0.1473\n"
          ]
        },
        {
          "output_type": "stream",
          "name": "stderr",
          "text": [
            " 55%|█████▌    | 551/1000 [29:21<21:55,  2.93s/it]"
          ]
        },
        {
          "output_type": "stream",
          "name": "stdout",
          "text": [
            "Epoch 550, Loss: 0.3553, Test Accuracy: 0.1952, Train Accuracy: 0.9010, Target Accuracy: 0.1388\n"
          ]
        },
        {
          "output_type": "stream",
          "name": "stderr",
          "text": [
            " 56%|█████▌    | 561/1000 [29:53<24:38,  3.37s/it]"
          ]
        },
        {
          "output_type": "stream",
          "name": "stdout",
          "text": [
            "Epoch 560, Loss: 0.3795, Test Accuracy: 0.1941, Train Accuracy: 0.9029, Target Accuracy: 0.1451\n"
          ]
        },
        {
          "output_type": "stream",
          "name": "stderr",
          "text": [
            " 57%|█████▋    | 571/1000 [30:26<22:24,  3.13s/it]"
          ]
        },
        {
          "output_type": "stream",
          "name": "stdout",
          "text": [
            "Epoch 570, Loss: 0.4142, Test Accuracy: 0.1925, Train Accuracy: 0.9042, Target Accuracy: 0.1591\n"
          ]
        },
        {
          "output_type": "stream",
          "name": "stderr",
          "text": [
            " 58%|█████▊    | 581/1000 [31:00<24:25,  3.50s/it]"
          ]
        },
        {
          "output_type": "stream",
          "name": "stdout",
          "text": [
            "Epoch 580, Loss: 0.3404, Test Accuracy: 0.1971, Train Accuracy: 0.8989, Target Accuracy: 0.1309\n"
          ]
        },
        {
          "output_type": "stream",
          "name": "stderr",
          "text": [
            " 59%|█████▉    | 591/1000 [31:34<22:37,  3.32s/it]"
          ]
        },
        {
          "output_type": "stream",
          "name": "stdout",
          "text": [
            "Epoch 590, Loss: 0.3816, Test Accuracy: 0.1914, Train Accuracy: 0.9043, Target Accuracy: 0.1617\n"
          ]
        },
        {
          "output_type": "stream",
          "name": "stderr",
          "text": [
            " 60%|██████    | 601/1000 [32:08<23:12,  3.49s/it]"
          ]
        },
        {
          "output_type": "stream",
          "name": "stdout",
          "text": [
            "Epoch 600, Loss: 0.3556, Test Accuracy: 0.1946, Train Accuracy: 0.9011, Target Accuracy: 0.1387\n"
          ]
        },
        {
          "output_type": "stream",
          "name": "stderr",
          "text": [
            " 61%|██████    | 611/1000 [32:42<21:10,  3.27s/it]"
          ]
        },
        {
          "output_type": "stream",
          "name": "stdout",
          "text": [
            "Epoch 610, Loss: 0.3801, Test Accuracy: 0.1928, Train Accuracy: 0.9033, Target Accuracy: 0.1526\n"
          ]
        },
        {
          "output_type": "stream",
          "name": "stderr",
          "text": [
            " 62%|██████▏   | 621/1000 [33:17<21:37,  3.42s/it]"
          ]
        },
        {
          "output_type": "stream",
          "name": "stdout",
          "text": [
            "Epoch 620, Loss: 0.3612, Test Accuracy: 0.1942, Train Accuracy: 0.9022, Target Accuracy: 0.1413\n"
          ]
        },
        {
          "output_type": "stream",
          "name": "stderr",
          "text": [
            " 63%|██████▎   | 631/1000 [33:50<19:44,  3.21s/it]"
          ]
        },
        {
          "output_type": "stream",
          "name": "stdout",
          "text": [
            "Epoch 630, Loss: 0.3725, Test Accuracy: 0.1943, Train Accuracy: 0.9024, Target Accuracy: 0.1424\n"
          ]
        },
        {
          "output_type": "stream",
          "name": "stderr",
          "text": [
            " 64%|██████▍   | 641/1000 [34:23<19:31,  3.26s/it]"
          ]
        },
        {
          "output_type": "stream",
          "name": "stdout",
          "text": [
            "Epoch 640, Loss: 0.3903, Test Accuracy: 0.1941, Train Accuracy: 0.9031, Target Accuracy: 0.1448\n"
          ]
        },
        {
          "output_type": "stream",
          "name": "stderr",
          "text": [
            " 65%|██████▌   | 651/1000 [34:54<17:26,  3.00s/it]"
          ]
        },
        {
          "output_type": "stream",
          "name": "stdout",
          "text": [
            "Epoch 650, Loss: 0.3996, Test Accuracy: 0.1969, Train Accuracy: 0.8992, Target Accuracy: 0.1323\n"
          ]
        },
        {
          "output_type": "stream",
          "name": "stderr",
          "text": [
            " 66%|██████▌   | 661/1000 [35:27<18:46,  3.32s/it]"
          ]
        },
        {
          "output_type": "stream",
          "name": "stdout",
          "text": [
            "Epoch 660, Loss: 0.4093, Test Accuracy: 0.1903, Train Accuracy: 0.9041, Target Accuracy: 0.1717\n"
          ]
        },
        {
          "output_type": "stream",
          "name": "stderr",
          "text": [
            " 67%|██████▋   | 671/1000 [35:58<17:17,  3.15s/it]"
          ]
        },
        {
          "output_type": "stream",
          "name": "stdout",
          "text": [
            "Epoch 670, Loss: 0.4083, Test Accuracy: 0.1941, Train Accuracy: 0.9023, Target Accuracy: 0.1430\n"
          ]
        },
        {
          "output_type": "stream",
          "name": "stderr",
          "text": [
            " 68%|██████▊   | 681/1000 [36:29<16:09,  3.04s/it]"
          ]
        },
        {
          "output_type": "stream",
          "name": "stdout",
          "text": [
            "Epoch 680, Loss: 0.3576, Test Accuracy: 0.1937, Train Accuracy: 0.9029, Target Accuracy: 0.1445\n"
          ]
        },
        {
          "output_type": "stream",
          "name": "stderr",
          "text": [
            " 69%|██████▉   | 691/1000 [37:01<17:16,  3.35s/it]"
          ]
        },
        {
          "output_type": "stream",
          "name": "stdout",
          "text": [
            "Epoch 690, Loss: 0.3694, Test Accuracy: 0.1947, Train Accuracy: 0.9011, Target Accuracy: 0.1397\n"
          ]
        },
        {
          "output_type": "stream",
          "name": "stderr",
          "text": [
            " 70%|███████   | 701/1000 [37:36<18:10,  3.65s/it]"
          ]
        },
        {
          "output_type": "stream",
          "name": "stdout",
          "text": [
            "Epoch 700, Loss: 0.3716, Test Accuracy: 0.1910, Train Accuracy: 0.9040, Target Accuracy: 0.1637\n"
          ]
        },
        {
          "output_type": "stream",
          "name": "stderr",
          "text": [
            " 71%|███████   | 711/1000 [38:12<17:12,  3.57s/it]"
          ]
        },
        {
          "output_type": "stream",
          "name": "stdout",
          "text": [
            "Epoch 710, Loss: 0.3969, Test Accuracy: 0.1956, Train Accuracy: 0.9001, Target Accuracy: 0.1335\n"
          ]
        },
        {
          "output_type": "stream",
          "name": "stderr",
          "text": [
            " 72%|███████▏  | 721/1000 [38:46<15:52,  3.42s/it]"
          ]
        },
        {
          "output_type": "stream",
          "name": "stdout",
          "text": [
            "Epoch 720, Loss: 0.3917, Test Accuracy: 0.1926, Train Accuracy: 0.9034, Target Accuracy: 0.1533\n"
          ]
        },
        {
          "output_type": "stream",
          "name": "stderr",
          "text": [
            " 73%|███████▎  | 731/1000 [39:20<14:35,  3.25s/it]"
          ]
        },
        {
          "output_type": "stream",
          "name": "stdout",
          "text": [
            "Epoch 730, Loss: 0.3577, Test Accuracy: 0.1961, Train Accuracy: 0.8999, Target Accuracy: 0.1332\n"
          ]
        },
        {
          "output_type": "stream",
          "name": "stderr",
          "text": [
            " 74%|███████▍  | 741/1000 [39:51<12:48,  2.97s/it]"
          ]
        },
        {
          "output_type": "stream",
          "name": "stdout",
          "text": [
            "Epoch 740, Loss: 0.4010, Test Accuracy: 0.1933, Train Accuracy: 0.9034, Target Accuracy: 0.1485\n"
          ]
        },
        {
          "output_type": "stream",
          "name": "stderr",
          "text": [
            " 75%|███████▌  | 751/1000 [40:24<14:07,  3.40s/it]"
          ]
        },
        {
          "output_type": "stream",
          "name": "stdout",
          "text": [
            "Epoch 750, Loss: 0.3866, Test Accuracy: 0.1907, Train Accuracy: 0.9038, Target Accuracy: 0.1659\n"
          ]
        },
        {
          "output_type": "stream",
          "name": "stderr",
          "text": [
            " 76%|███████▌  | 761/1000 [40:56<12:25,  3.12s/it]"
          ]
        },
        {
          "output_type": "stream",
          "name": "stdout",
          "text": [
            "Epoch 760, Loss: 0.3651, Test Accuracy: 0.1948, Train Accuracy: 0.9014, Target Accuracy: 0.1380\n"
          ]
        },
        {
          "output_type": "stream",
          "name": "stderr",
          "text": [
            " 77%|███████▋  | 771/1000 [41:28<12:07,  3.18s/it]"
          ]
        },
        {
          "output_type": "stream",
          "name": "stdout",
          "text": [
            "Epoch 770, Loss: 0.3665, Test Accuracy: 0.1964, Train Accuracy: 0.8998, Target Accuracy: 0.1341\n"
          ]
        },
        {
          "output_type": "stream",
          "name": "stderr",
          "text": [
            " 78%|███████▊  | 781/1000 [42:00<11:40,  3.20s/it]"
          ]
        },
        {
          "output_type": "stream",
          "name": "stdout",
          "text": [
            "Epoch 780, Loss: 0.3736, Test Accuracy: 0.1917, Train Accuracy: 0.9039, Target Accuracy: 0.1643\n"
          ]
        },
        {
          "output_type": "stream",
          "name": "stderr",
          "text": [
            " 79%|███████▉  | 791/1000 [42:31<10:39,  3.06s/it]"
          ]
        },
        {
          "output_type": "stream",
          "name": "stdout",
          "text": [
            "Epoch 790, Loss: 0.3657, Test Accuracy: 0.1955, Train Accuracy: 0.9008, Target Accuracy: 0.1364\n"
          ]
        },
        {
          "output_type": "stream",
          "name": "stderr",
          "text": [
            " 80%|████████  | 801/1000 [43:03<11:08,  3.36s/it]"
          ]
        },
        {
          "output_type": "stream",
          "name": "stdout",
          "text": [
            "Epoch 800, Loss: 0.3928, Test Accuracy: 0.1946, Train Accuracy: 0.9018, Target Accuracy: 0.1407\n"
          ]
        },
        {
          "output_type": "stream",
          "name": "stderr",
          "text": [
            " 81%|████████  | 811/1000 [43:34<09:56,  3.16s/it]"
          ]
        },
        {
          "output_type": "stream",
          "name": "stdout",
          "text": [
            "Epoch 810, Loss: 0.3765, Test Accuracy: 0.1901, Train Accuracy: 0.9039, Target Accuracy: 0.1701\n"
          ]
        },
        {
          "output_type": "stream",
          "name": "stderr",
          "text": [
            " 82%|████████▏ | 821/1000 [44:08<10:02,  3.37s/it]"
          ]
        },
        {
          "output_type": "stream",
          "name": "stdout",
          "text": [
            "Epoch 820, Loss: 0.3712, Test Accuracy: 0.1962, Train Accuracy: 0.8994, Target Accuracy: 0.1324\n"
          ]
        },
        {
          "output_type": "stream",
          "name": "stderr",
          "text": [
            " 83%|████████▎ | 831/1000 [44:42<09:18,  3.31s/it]"
          ]
        },
        {
          "output_type": "stream",
          "name": "stdout",
          "text": [
            "Epoch 830, Loss: 0.3861, Test Accuracy: 0.1928, Train Accuracy: 0.9032, Target Accuracy: 0.1495\n"
          ]
        },
        {
          "output_type": "stream",
          "name": "stderr",
          "text": [
            " 84%|████████▍ | 841/1000 [45:14<08:14,  3.11s/it]"
          ]
        },
        {
          "output_type": "stream",
          "name": "stdout",
          "text": [
            "Epoch 840, Loss: 0.3826, Test Accuracy: 0.1930, Train Accuracy: 0.9034, Target Accuracy: 0.1527\n"
          ]
        },
        {
          "output_type": "stream",
          "name": "stderr",
          "text": [
            " 85%|████████▌ | 851/1000 [45:45<07:51,  3.16s/it]"
          ]
        },
        {
          "output_type": "stream",
          "name": "stdout",
          "text": [
            "Epoch 850, Loss: 0.3372, Test Accuracy: 0.1908, Train Accuracy: 0.9040, Target Accuracy: 0.1666\n"
          ]
        },
        {
          "output_type": "stream",
          "name": "stderr",
          "text": [
            " 86%|████████▌ | 861/1000 [46:14<06:58,  3.01s/it]"
          ]
        },
        {
          "output_type": "stream",
          "name": "stdout",
          "text": [
            "Epoch 860, Loss: 0.3491, Test Accuracy: 0.1908, Train Accuracy: 0.9034, Target Accuracy: 0.1644\n"
          ]
        },
        {
          "output_type": "stream",
          "name": "stderr",
          "text": [
            " 87%|████████▋ | 871/1000 [46:44<06:20,  2.95s/it]"
          ]
        },
        {
          "output_type": "stream",
          "name": "stdout",
          "text": [
            "Epoch 870, Loss: 0.3514, Test Accuracy: 0.1920, Train Accuracy: 0.9024, Target Accuracy: 0.1549\n"
          ]
        },
        {
          "output_type": "stream",
          "name": "stderr",
          "text": [
            " 88%|████████▊ | 881/1000 [47:13<05:32,  2.79s/it]"
          ]
        },
        {
          "output_type": "stream",
          "name": "stdout",
          "text": [
            "Epoch 880, Loss: 0.3427, Test Accuracy: 0.1898, Train Accuracy: 0.9034, Target Accuracy: 0.1645\n"
          ]
        },
        {
          "output_type": "stream",
          "name": "stderr",
          "text": [
            " 89%|████████▉ | 891/1000 [47:44<05:50,  3.22s/it]"
          ]
        },
        {
          "output_type": "stream",
          "name": "stdout",
          "text": [
            "Epoch 890, Loss: 0.3599, Test Accuracy: 0.1886, Train Accuracy: 0.9034, Target Accuracy: 0.1686\n"
          ]
        },
        {
          "output_type": "stream",
          "name": "stderr",
          "text": [
            " 90%|█████████ | 901/1000 [48:14<04:55,  2.99s/it]"
          ]
        },
        {
          "output_type": "stream",
          "name": "stdout",
          "text": [
            "Epoch 900, Loss: 0.3277, Test Accuracy: 0.1891, Train Accuracy: 0.9029, Target Accuracy: 0.1637\n"
          ]
        },
        {
          "output_type": "stream",
          "name": "stderr",
          "text": [
            " 91%|█████████ | 911/1000 [48:44<04:25,  2.98s/it]"
          ]
        },
        {
          "output_type": "stream",
          "name": "stdout",
          "text": [
            "Epoch 910, Loss: 0.3972, Test Accuracy: 0.1878, Train Accuracy: 0.9036, Target Accuracy: 0.1715\n"
          ]
        },
        {
          "output_type": "stream",
          "name": "stderr",
          "text": [
            " 92%|█████████▏| 921/1000 [49:15<04:14,  3.22s/it]"
          ]
        },
        {
          "output_type": "stream",
          "name": "stdout",
          "text": [
            "Epoch 920, Loss: 0.3354, Test Accuracy: 0.1883, Train Accuracy: 0.9034, Target Accuracy: 0.1680\n"
          ]
        },
        {
          "output_type": "stream",
          "name": "stderr",
          "text": [
            " 93%|█████████▎| 931/1000 [49:45<03:35,  3.12s/it]"
          ]
        },
        {
          "output_type": "stream",
          "name": "stdout",
          "text": [
            "Epoch 930, Loss: 0.3514, Test Accuracy: 0.1876, Train Accuracy: 0.9044, Target Accuracy: 0.1702\n"
          ]
        },
        {
          "output_type": "stream",
          "name": "stderr",
          "text": [
            " 94%|█████████▍| 941/1000 [50:15<02:59,  3.05s/it]"
          ]
        },
        {
          "output_type": "stream",
          "name": "stdout",
          "text": [
            "Epoch 940, Loss: 0.3404, Test Accuracy: 0.1903, Train Accuracy: 0.9023, Target Accuracy: 0.1569\n"
          ]
        },
        {
          "output_type": "stream",
          "name": "stderr",
          "text": [
            " 95%|█████████▌| 951/1000 [50:44<02:21,  2.88s/it]"
          ]
        },
        {
          "output_type": "stream",
          "name": "stdout",
          "text": [
            "Epoch 950, Loss: 0.3468, Test Accuracy: 0.1898, Train Accuracy: 0.9029, Target Accuracy: 0.1610\n"
          ]
        },
        {
          "output_type": "stream",
          "name": "stderr",
          "text": [
            " 96%|█████████▌| 961/1000 [51:14<01:51,  2.85s/it]"
          ]
        },
        {
          "output_type": "stream",
          "name": "stdout",
          "text": [
            "Epoch 960, Loss: 0.3687, Test Accuracy: 0.1912, Train Accuracy: 0.9027, Target Accuracy: 0.1569\n"
          ]
        },
        {
          "output_type": "stream",
          "name": "stderr",
          "text": [
            " 97%|█████████▋| 971/1000 [51:45<01:32,  3.19s/it]"
          ]
        },
        {
          "output_type": "stream",
          "name": "stdout",
          "text": [
            "Epoch 970, Loss: 0.3423, Test Accuracy: 0.1898, Train Accuracy: 0.9032, Target Accuracy: 0.1650\n"
          ]
        },
        {
          "output_type": "stream",
          "name": "stderr",
          "text": [
            " 98%|█████████▊| 981/1000 [52:15<00:57,  3.04s/it]"
          ]
        },
        {
          "output_type": "stream",
          "name": "stdout",
          "text": [
            "Epoch 980, Loss: 0.3438, Test Accuracy: 0.1911, Train Accuracy: 0.9026, Target Accuracy: 0.1559\n"
          ]
        },
        {
          "output_type": "stream",
          "name": "stderr",
          "text": [
            " 99%|█████████▉| 991/1000 [52:46<00:28,  3.12s/it]"
          ]
        },
        {
          "output_type": "stream",
          "name": "stdout",
          "text": [
            "Epoch 990, Loss: 0.3445, Test Accuracy: 0.1890, Train Accuracy: 0.9032, Target Accuracy: 0.1664\n"
          ]
        },
        {
          "output_type": "stream",
          "name": "stderr",
          "text": [
            "100%|██████████| 1000/1000 [53:16<00:00,  3.20s/it]\n"
          ]
        },
        {
          "output_type": "stream",
          "name": "stdout",
          "text": [
            "Final Results - Test Accuracy: 0.1918, Train Accuracy: 0.9016, Target Accuracy: 0.1505\n"
          ]
        }
      ]
    },
    {
      "cell_type": "code",
      "source": [
        "# g = nx.DiGraph()\n",
        "# g.add_edges_from(test_edges)\n",
        "\n",
        "# random.seed(SEED)\n",
        "# targets = sample_targets(stest,ratio=0.1)\n",
        "\n",
        "# simple version\n",
        "main_inductive(model = GAT_ETH(input_width=1, num_layers=4, hidden_width=4, num_classes=2, num_heads=4, dropout= True),\n",
        "                epochs=10,\n",
        "                train_nodes = trainX,\n",
        "                edge_index_train = train_edges,\n",
        "                test_nodes = testX,\n",
        "                edge_index_test = test_edges,\n",
        "                btrain = btrain,\n",
        "                strain = strain,\n",
        "                btest = btest,\n",
        "                stest = stest,\n",
        "                trainY = trainY,\n",
        "                targets = targets,\n",
        "                testY = textCompleteY,\n",
        "                bknown_test = bknown_test,\n",
        "                sknown_test = sknown_test)\n",
        "\n",
        "\n",
        "# random add/remove\n",
        "main_inductive(model = GAT_ETH(input_width=1, num_layers=4, hidden_width=16, num_classes=2, num_heads=8, dropout= True),\n",
        "                epochs=10,\n",
        "                train_nodes = trainX,\n",
        "                edge_index_train = train_edges,\n",
        "                test_nodes = testX,\n",
        "                edge_index_test = list(G1.edges),\n",
        "                btrain = btrain,\n",
        "                strain = strain,\n",
        "                btest = btest,\n",
        "                stest = stest,\n",
        "                trainY = trainY,\n",
        "                targets = targets,\n",
        "                testY = textCompleteY,\n",
        "                bknown_test = bknown_test,\n",
        "                sknown_test = sknown_test)\n",
        "\n",
        "\n",
        "#virtual nodes\n",
        "main_inductive(model = GAT_ETH(input_width=1, num_layers=4, hidden_width=16, num_classes=2, num_heads=8, dropout= True),\n",
        "                epochs=10,\n",
        "                train_nodes = trainX,\n",
        "                edge_index_train = train_edges,\n",
        "                test_nodes = testX+virtualnodes,\n",
        "                edge_index_test = list(G2.edges),\n",
        "                btrain = btrain,\n",
        "                strain = strain,\n",
        "                btest = btest,\n",
        "                stest = stest,\n",
        "                targets = targets,\n",
        "                virtualnodes = virtualnodes,\n",
        "                trainY = trainY,\n",
        "                testY = textCompleteY+[1 for i in virtualnodes],\n",
        "                bknown_test = bknown_test,\n",
        "                sknown_test = sknown_test)\n",
        "\n",
        "\n",
        "\n",
        "#virtual nodes + add/remove\n",
        "main_inductive(model = GAT_ETH(input_width=1, num_layers=4, hidden_width=16, num_classes=2, num_heads=8, dropout= True),\n",
        "                epochs=10,\n",
        "                train_nodes = trainX,\n",
        "                edge_index_train = train_edges,\n",
        "                test_nodes = testX+virtualnodes,\n",
        "                edge_index_test = list(G3.edges),\n",
        "                btrain = btrain,\n",
        "                strain = strain,\n",
        "                btest = btest,\n",
        "                stest = stest,\n",
        "                targets = targets,\n",
        "                virtualnodes = virtualnodes,\n",
        "                trainY = trainY,\n",
        "                testY = textCompleteY+[1 for i in virtualnodes],\n",
        "                bknown_test = bknown_test,\n",
        "                sknown_test = sknown_test)\n",
        "\n"
      ],
      "metadata": {
        "colab": {
          "base_uri": "https://localhost:8080/"
        },
        "id": "VRytlnKgA7Gs",
        "outputId": "1cb35bcf-3280-4629-b888-5b577878eafd"
      },
      "execution_count": null,
      "outputs": [
        {
          "output_type": "stream",
          "name": "stderr",
          "text": [
            " 10%|█         | 1/10 [00:26<03:54, 26.05s/it]"
          ]
        },
        {
          "output_type": "stream",
          "name": "stdout",
          "text": [
            "Epoch 0, Loss: 0.6957, Test Accuracy: 0.2143, Train Accuracy: 0.7759, Target Accuracy: 0.0805\n"
          ]
        },
        {
          "output_type": "stream",
          "name": "stderr",
          "text": [
            "\r 20%|██        | 2/10 [00:49<03:16, 24.57s/it]"
          ]
        }
      ]
    },
    {
      "cell_type": "code",
      "source": [],
      "metadata": {
        "id": "5dN1S4bQGc3k"
      },
      "execution_count": null,
      "outputs": []
    }
  ]
}