{
  "cells": [
    {
      "cell_type": "markdown",
      "metadata": {
        "id": "view-in-github",
        "colab_type": "text"
      },
      "source": [
        "<a href=\"https://colab.research.google.com/github/aSafarpoor/OSN_FAD/blob/main/Data/Twibot_Reader.ipynb\" target=\"_parent\"><img src=\"https://colab.research.google.com/assets/colab-badge.svg\" alt=\"Open In Colab\"/></a>"
      ]
    },
    {
      "cell_type": "code",
      "source": [
        "!pip install torch_geometric\n",
        "!pip install node2vec"
      ],
      "metadata": {
        "colab": {
          "base_uri": "https://localhost:8080/"
        },
        "id": "0Jd9lgAGMF_5",
        "outputId": "6a4e4d21-f566-4722-86b0-287cd21b36db"
      },
      "id": "0Jd9lgAGMF_5",
      "execution_count": 1,
      "outputs": [
        {
          "output_type": "stream",
          "name": "stdout",
          "text": [
            "Collecting torch_geometric\n",
            "  Downloading torch_geometric-2.6.1-py3-none-any.whl.metadata (63 kB)\n",
            "\u001b[?25l     \u001b[90m━━━━━━━━━━━━━━━━━━━━━━━━━━━━━━━━━━━━━━━━\u001b[0m \u001b[32m0.0/63.1 kB\u001b[0m \u001b[31m?\u001b[0m eta \u001b[36m-:--:--\u001b[0m\r\u001b[2K     \u001b[90m━━━━━━━━━━━━━━━━━━━━━━━━━━━━━━━━━━━━━━━━\u001b[0m \u001b[32m63.1/63.1 kB\u001b[0m \u001b[31m3.9 MB/s\u001b[0m eta \u001b[36m0:00:00\u001b[0m\n",
            "\u001b[?25hRequirement already satisfied: aiohttp in /usr/local/lib/python3.10/dist-packages (from torch_geometric) (3.10.10)\n",
            "Requirement already satisfied: fsspec in /usr/local/lib/python3.10/dist-packages (from torch_geometric) (2024.10.0)\n",
            "Requirement already satisfied: jinja2 in /usr/local/lib/python3.10/dist-packages (from torch_geometric) (3.1.4)\n",
            "Requirement already satisfied: numpy in /usr/local/lib/python3.10/dist-packages (from torch_geometric) (1.26.4)\n",
            "Requirement already satisfied: psutil>=5.8.0 in /usr/local/lib/python3.10/dist-packages (from torch_geometric) (5.9.5)\n",
            "Requirement already satisfied: pyparsing in /usr/local/lib/python3.10/dist-packages (from torch_geometric) (3.2.0)\n",
            "Requirement already satisfied: requests in /usr/local/lib/python3.10/dist-packages (from torch_geometric) (2.32.3)\n",
            "Requirement already satisfied: tqdm in /usr/local/lib/python3.10/dist-packages (from torch_geometric) (4.66.6)\n",
            "Requirement already satisfied: aiohappyeyeballs>=2.3.0 in /usr/local/lib/python3.10/dist-packages (from aiohttp->torch_geometric) (2.4.3)\n",
            "Requirement already satisfied: aiosignal>=1.1.2 in /usr/local/lib/python3.10/dist-packages (from aiohttp->torch_geometric) (1.3.1)\n",
            "Requirement already satisfied: attrs>=17.3.0 in /usr/local/lib/python3.10/dist-packages (from aiohttp->torch_geometric) (24.2.0)\n",
            "Requirement already satisfied: frozenlist>=1.1.1 in /usr/local/lib/python3.10/dist-packages (from aiohttp->torch_geometric) (1.5.0)\n",
            "Requirement already satisfied: multidict<7.0,>=4.5 in /usr/local/lib/python3.10/dist-packages (from aiohttp->torch_geometric) (6.1.0)\n",
            "Requirement already satisfied: yarl<2.0,>=1.12.0 in /usr/local/lib/python3.10/dist-packages (from aiohttp->torch_geometric) (1.17.1)\n",
            "Requirement already satisfied: async-timeout<5.0,>=4.0 in /usr/local/lib/python3.10/dist-packages (from aiohttp->torch_geometric) (4.0.3)\n",
            "Requirement already satisfied: MarkupSafe>=2.0 in /usr/local/lib/python3.10/dist-packages (from jinja2->torch_geometric) (3.0.2)\n",
            "Requirement already satisfied: charset-normalizer<4,>=2 in /usr/local/lib/python3.10/dist-packages (from requests->torch_geometric) (3.4.0)\n",
            "Requirement already satisfied: idna<4,>=2.5 in /usr/local/lib/python3.10/dist-packages (from requests->torch_geometric) (3.10)\n",
            "Requirement already satisfied: urllib3<3,>=1.21.1 in /usr/local/lib/python3.10/dist-packages (from requests->torch_geometric) (2.2.3)\n",
            "Requirement already satisfied: certifi>=2017.4.17 in /usr/local/lib/python3.10/dist-packages (from requests->torch_geometric) (2024.8.30)\n",
            "Requirement already satisfied: typing-extensions>=4.1.0 in /usr/local/lib/python3.10/dist-packages (from multidict<7.0,>=4.5->aiohttp->torch_geometric) (4.12.2)\n",
            "Requirement already satisfied: propcache>=0.2.0 in /usr/local/lib/python3.10/dist-packages (from yarl<2.0,>=1.12.0->aiohttp->torch_geometric) (0.2.0)\n",
            "Downloading torch_geometric-2.6.1-py3-none-any.whl (1.1 MB)\n",
            "\u001b[2K   \u001b[90m━━━━━━━━━━━━━━━━━━━━━━━━━━━━━━━━━━━━━━━━\u001b[0m \u001b[32m1.1/1.1 MB\u001b[0m \u001b[31m23.4 MB/s\u001b[0m eta \u001b[36m0:00:00\u001b[0m\n",
            "\u001b[?25hInstalling collected packages: torch_geometric\n",
            "Successfully installed torch_geometric-2.6.1\n",
            "Collecting node2vec\n",
            "  Downloading node2vec-0.5.0-py3-none-any.whl.metadata (849 bytes)\n",
            "Requirement already satisfied: gensim<5.0.0,>=4.3.0 in /usr/local/lib/python3.10/dist-packages (from node2vec) (4.3.3)\n",
            "Requirement already satisfied: joblib<2.0.0,>=1.4.0 in /usr/local/lib/python3.10/dist-packages (from node2vec) (1.4.2)\n",
            "Requirement already satisfied: networkx<4.0.0,>=3.1.0 in /usr/local/lib/python3.10/dist-packages (from node2vec) (3.4.2)\n",
            "Requirement already satisfied: numpy<2.0.0,>=1.24.0 in /usr/local/lib/python3.10/dist-packages (from node2vec) (1.26.4)\n",
            "Requirement already satisfied: tqdm<5.0.0,>=4.66.1 in /usr/local/lib/python3.10/dist-packages (from node2vec) (4.66.6)\n",
            "Requirement already satisfied: scipy<1.14.0,>=1.7.0 in /usr/local/lib/python3.10/dist-packages (from gensim<5.0.0,>=4.3.0->node2vec) (1.13.1)\n",
            "Requirement already satisfied: smart-open>=1.8.1 in /usr/local/lib/python3.10/dist-packages (from gensim<5.0.0,>=4.3.0->node2vec) (7.0.5)\n",
            "Requirement already satisfied: wrapt in /usr/local/lib/python3.10/dist-packages (from smart-open>=1.8.1->gensim<5.0.0,>=4.3.0->node2vec) (1.16.0)\n",
            "Downloading node2vec-0.5.0-py3-none-any.whl (7.2 kB)\n",
            "Installing collected packages: node2vec\n",
            "Successfully installed node2vec-0.5.0\n"
          ]
        }
      ]
    },
    {
      "cell_type": "code",
      "execution_count": 71,
      "id": "2104a7b5-4509-45b4-b91e-cb918047898b",
      "metadata": {
        "id": "2104a7b5-4509-45b4-b91e-cb918047898b"
      },
      "outputs": [],
      "source": [
        "import numpy as np\n",
        "from tqdm.notebook import tqdm as tqdm\n",
        "import csv\n",
        "import networkx as nx"
      ]
    },
    {
      "cell_type": "code",
      "execution_count": 3,
      "id": "e6710e2f-cb5f-4719-a9bd-6e19d2f72042",
      "metadata": {
        "id": "e6710e2f-cb5f-4719-a9bd-6e19d2f72042"
      },
      "outputs": [],
      "source": [
        "from matplotlib import pyplot as plt\n",
        "import random\n",
        "SEED = 10\n",
        "\n",
        "import torch\n",
        "import torch.nn.functional as F\n",
        "from torch_geometric.nn import GCNConv, GATConv, GINConv\n",
        "from sklearn.metrics import roc_curve,accuracy_score, roc_auc_score, confusion_matrix\n",
        "import torch.nn as nn\n",
        "\n",
        "from node2vec import Node2Vec\n",
        "from sklearn.cluster import KMeans"
      ]
    },
    {
      "cell_type": "code",
      "execution_count": 4,
      "id": "19964f29-0a96-4a40-a2ea-da881b1cbdd7",
      "metadata": {
        "id": "19964f29-0a96-4a40-a2ea-da881b1cbdd7"
      },
      "outputs": [],
      "source": [
        "from sklearn.cluster import SpectralClustering"
      ]
    },
    {
      "cell_type": "code",
      "execution_count": 5,
      "id": "3110c003-fff8-44c4-b9b8-7ed5628286ed",
      "metadata": {
        "colab": {
          "base_uri": "https://localhost:8080/"
        },
        "id": "3110c003-fff8-44c4-b9b8-7ed5628286ed",
        "outputId": "f88a9514-13f0-43ca-c04a-ce696ffe603b"
      },
      "outputs": [
        {
          "output_type": "stream",
          "name": "stdout",
          "text": [
            "edges.txt  label.csv  sample_data\n"
          ]
        }
      ],
      "source": [
        "!dir"
      ]
    },
    {
      "cell_type": "code",
      "execution_count": 6,
      "id": "8bdaf845-eb04-4a43-8806-89805e20f2ad",
      "metadata": {
        "id": "8bdaf845-eb04-4a43-8806-89805e20f2ad"
      },
      "outputs": [],
      "source": [
        "file_path = 'label.csv'\n",
        "users = []\n",
        "with open(file_path, 'r') as file:\n",
        "    csv_reader = csv.reader(file)\n",
        "    for row in csv_reader:\n",
        "        users.append(row)\n",
        "users = users[1:]"
      ]
    },
    {
      "cell_type": "code",
      "execution_count": 7,
      "id": "62f0f385-fc17-4b5e-a97f-b099c0d53007",
      "metadata": {
        "colab": {
          "base_uri": "https://localhost:8080/"
        },
        "id": "62f0f385-fc17-4b5e-a97f-b099c0d53007",
        "outputId": "86d15d5b-e705-4117-b9ec-04ffc1f5f0f2"
      },
      "outputs": [
        {
          "output_type": "execute_result",
          "data": {
            "text/plain": [
              "{'bot', 'human'}"
            ]
          },
          "metadata": {},
          "execution_count": 7
        }
      ],
      "source": [
        "set([x[1] for x in users])"
      ]
    },
    {
      "cell_type": "code",
      "execution_count": 8,
      "id": "43eeedc5-d423-4e45-87c2-a1c3bd5f8902",
      "metadata": {
        "id": "43eeedc5-d423-4e45-87c2-a1c3bd5f8902"
      },
      "outputs": [],
      "source": [
        "nodes = [x[0] for x in users]\n",
        "benigns = [x[0] for x in users if x[1] == 'human']\n",
        "sybils = [x[0] for x in users if x[1] == 'bot']\n",
        "labeled = set(benigns)|set(sybils)"
      ]
    },
    {
      "cell_type": "code",
      "execution_count": 9,
      "id": "e522e443-bada-4291-a395-8049197f87df",
      "metadata": {
        "id": "e522e443-bada-4291-a395-8049197f87df"
      },
      "outputs": [],
      "source": [
        "# file_path = 'edge.csv'\n",
        "# edges = []\n",
        "# with open(file_path, 'r') as file:\n",
        "#     csv_reader = csv.reader(file)\n",
        "#     for row in csv_reader:\n",
        "#         edges.append(row)\n",
        "\n",
        "# edges = edges[1:]\n",
        "# set([x[1] for x in edges])\n",
        "\n",
        "# edges = [[x[0],x[2]] for x in edges if x[1] != 'post']\n",
        "# all_nodes = set([x[0] for x in edges]+[x[1] for x in edges])\n",
        "\n"
      ]
    },
    {
      "cell_type": "code",
      "execution_count": 10,
      "id": "85355556-a519-41eb-9d22-95d0cdb61e42",
      "metadata": {
        "colab": {
          "base_uri": "https://localhost:8080/",
          "height": 35
        },
        "id": "85355556-a519-41eb-9d22-95d0cdb61e42",
        "outputId": "ee71e17b-5d42-48ca-bce9-4ffe8eb88caf"
      },
      "outputs": [
        {
          "output_type": "execute_result",
          "data": {
            "text/plain": [
              "'\\nG.remove_nodes_from(list(set(leaves)-set(labeled_leaves)))\\n\\nnum_edges = G.number_of_edges()\\nnum_nodes = G.number_of_nodes()\\nprint(2*num_edges/num_nodes)\\n'"
            ],
            "application/vnd.google.colaboratory.intrinsic+json": {
              "type": "string"
            }
          },
          "metadata": {},
          "execution_count": 10
        }
      ],
      "source": [
        "'''\n",
        "G.remove_nodes_from(list(set(leaves)-set(labeled_leaves)))\n",
        "\n",
        "num_edges = G.number_of_edges()\n",
        "num_nodes = G.number_of_nodes()\n",
        "print(2*num_edges/num_nodes)\n",
        "'''"
      ]
    },
    {
      "cell_type": "code",
      "execution_count": 11,
      "id": "8e1f4fa0-1f36-410a-9a03-56ff5609365d",
      "metadata": {
        "id": "8e1f4fa0-1f36-410a-9a03-56ff5609365d"
      },
      "outputs": [],
      "source": [
        "# with open('edges.txt', \"w\") as file:\n",
        "#     for u, v in edges:\n",
        "#         file.write(f\"{u} {v}\\n\")\n",
        "\n",
        "# print(f\"Edges have been saved.\")\n",
        "\n",
        "file_path = 'edges.txt'\n",
        "edges = []\n",
        "with open(file_path, 'r') as file:\n",
        "    for line in file:\n",
        "        # Split the line into nodes (adjust the delimiter if needed, e.g., ',' or '\\t')\n",
        "        nodes = line.strip().split()  # Use .split('\\t') for tab-separated or .split(',') for CSV-style\n",
        "        edges.append(nodes)"
      ]
    },
    {
      "cell_type": "code",
      "execution_count": 12,
      "id": "25c52da4-c285-4a2a-8a84-8d35e5b05068",
      "metadata": {
        "id": "25c52da4-c285-4a2a-8a84-8d35e5b05068"
      },
      "outputs": [],
      "source": [
        "G = nx.Graph()\n",
        "G.add_edges_from(edges)"
      ]
    },
    {
      "cell_type": "code",
      "execution_count": 13,
      "id": "acb318a9-f961-46e7-8da1-b2e6bf7b6fb7",
      "metadata": {
        "id": "acb318a9-f961-46e7-8da1-b2e6bf7b6fb7"
      },
      "outputs": [],
      "source": [
        "# leaves = [node for node, degree in G.degree() if degree == 1]\n",
        "\n",
        "# all_nodes = set(G.nodes).union(set(n for edge in edges for n in edge))\n",
        "# single_nodes = [node for node in all_nodes if node not in G.nodes or G.degree[node] == 0]\n",
        "\n",
        "# # Print the results\n",
        "# print(\"Leaves:\", len(leaves))\n",
        "# print(\"Single Nodes:\", len(single_nodes))\n",
        "\n",
        "# labeled_leaves = []\n",
        "# for node in leaves:\n",
        "#     if node in labeled:\n",
        "#         labeled_leaves.append(node)\n",
        "# print(len(labeled_leaves))"
      ]
    },
    {
      "cell_type": "code",
      "execution_count": 14,
      "id": "7927954a-708a-4239-9db4-3c074dfa1970",
      "metadata": {
        "id": "7927954a-708a-4239-9db4-3c074dfa1970"
      },
      "outputs": [],
      "source": [
        "othernodes = (set(list(G.nodes()))-set(benigns))-set(sybils)"
      ]
    },
    {
      "cell_type": "code",
      "execution_count": 15,
      "id": "8d79f152-b2c4-4661-8ffd-6e2d79d8af0c",
      "metadata": {
        "id": "8d79f152-b2c4-4661-8ffd-6e2d79d8af0c"
      },
      "outputs": [],
      "source": [
        "# len(othernodes),len(benigns),len(sybils)"
      ]
    },
    {
      "cell_type": "code",
      "execution_count": 16,
      "id": "a7ca4105-b321-441c-9e54-6d7938d50953",
      "metadata": {
        "id": "a7ca4105-b321-441c-9e54-6d7938d50953"
      },
      "outputs": [],
      "source": [
        "# len(G.nodes())"
      ]
    },
    {
      "cell_type": "code",
      "execution_count": 16,
      "id": "45d32c6d-6815-4308-a952-18f7f88517d7",
      "metadata": {
        "id": "45d32c6d-6815-4308-a952-18f7f88517d7"
      },
      "outputs": [],
      "source": []
    },
    {
      "cell_type": "code",
      "execution_count": 17,
      "id": "11344272-51ad-4b14-b920-9cf110842293",
      "metadata": {
        "id": "11344272-51ad-4b14-b920-9cf110842293"
      },
      "outputs": [],
      "source": [
        "# node2vec = Node2Vec(G, dimensions=8, walk_length=15, num_walks=10, workers=4)\n",
        "# model = node2vec.fit(window=8, min_count=1, batch_words=4)\n",
        "\n",
        "# # Create a feature matrix where each row corresponds to a node's embedding\n",
        "# node_ids = list(G.nodes())\n",
        "# embeddings = [model.wv[str(node)] for node in tqdm(node_ids)]\n",
        "\n",
        "# # Cluster embeddings into 5 clusters using KMeans\n",
        "# n_clusters = 5\n",
        "# kmeans = KMeans(n_clusters=n_clusters, random_state=42, n_init=10)\n",
        "# labels = kmeans.fit_predict(embeddings)\n",
        "\n",
        "# # Group nodes by cluster\n",
        "# clusters = {i: [] for i in tqdm(range(n_clusters))}\n",
        "# for node, label in tqdm(zip(node_ids, labels)):\n",
        "#     clusters[label].append(node)\n",
        "\n",
        "# # Print the nodes in each cluster\n",
        "# for cluster_id, nodes in clusters.items():\n",
        "#     print(f\"Cluster {cluster_id}: {len(nodes)}...\")"
      ]
    },
    {
      "cell_type": "code",
      "source": [
        "# from sklearn.metrics.pairwise import euclidean_distances\n",
        "# from scipy.optimize import linear_sum_assignment\n",
        "# from sklearn.cluster import KMeans\n",
        "# from scipy.sparse.linalg import eigsh  # For Laplacian eigenvectors\n",
        "# from scipy.sparse import csr_matrix\n",
        "\n",
        "'''\n",
        "G = nx.barabasi_albert_graph(n=5, m=2)\n",
        "G_duplicate = G.copy()\n",
        "mapping = {node: node + 15 for node in G_duplicate.nodes()}\n",
        "G_duplicate = nx.relabel_nodes(G_duplicate, mapping)\n",
        "G = nx.compose(G, G_duplicate)\n",
        "\n",
        "\n",
        "G.add_edges_from([[1,15]])\n",
        "\n",
        "# Convert to sparse adjacency matrix\n",
        "adj_matrix = nx.to_scipy_sparse_array(G, format='csr')\n",
        "\n",
        "# Step 1: Compute the normalized Laplacian matrix\n",
        "L = nx.normalized_laplacian_matrix(G)\n",
        "\n",
        "# Step 2: Compute the top-k eigenvectors of the Laplacian\n",
        "embedding_size = 2  # Desired size of embeddings\n",
        "eigvals, eigvecs = eigsh(L, k=embedding_size, which='SM')  # Smallest eigenvalues\n",
        "\n",
        "# Step 3: Use the eigenvectors as embeddings\n",
        "features = eigvecs\n",
        "\n",
        "unique_positions = {}\n",
        "pos = {}\n",
        "for i, node in enumerate(G.nodes):\n",
        "    new_pos = (features[i, 0], features[i, 1])\n",
        "    # new_pos = (\n",
        "    #         new_pos[0] + np.random.uniform(-0.1, 0.1),\n",
        "    #         new_pos[1] + np.random.uniform(-0.1, 0.1)\n",
        "    # )\n",
        "    unique_positions[node] = new_pos\n",
        "    pos[node] = new_pos\n",
        "\n",
        "\n",
        "# pos = {node: (features[i, 0], features[i, 1]) for i, node in enumerate(G.nodes)}\n",
        "\n",
        "# Step 4: Plot the graph using the positions\n",
        "plt.figure(figsize=(8, 6))\n",
        "nx.draw(G, pos=pos, with_labels=True, node_color=\"lightblue\", edge_color=\"gray\")\n",
        "plt.title(\"Graph with Custom Positions from NumPy Array\")\n",
        "plt.show()\n",
        "'''\n",
        "# print()"
      ],
      "metadata": {
        "colab": {
          "base_uri": "https://localhost:8080/"
        },
        "id": "KpMCcjYub9MM",
        "outputId": "5885ea1c-942b-45a4-b440-8d5b97a21b37"
      },
      "id": "KpMCcjYub9MM",
      "execution_count": 18,
      "outputs": [
        {
          "output_type": "stream",
          "name": "stdout",
          "text": [
            "\n"
          ]
        }
      ]
    },
    {
      "cell_type": "code",
      "source": [
        "# def spring_layout(G, k=None, iterations=50, threshold=1e-4, max_disp=0.1):\n",
        "#     \"\"\"\n",
        "#     Stable spring layout to handle overflow and numerical issues.\n",
        "#     \"\"\"\n",
        "#     import numpy as np\n",
        "\n",
        "#     nodes = list(G.nodes)  # Handle arbitrary node indices\n",
        "#     n = len(nodes)\n",
        "#     node_index = {node: i for i, node in enumerate(nodes)}\n",
        "\n",
        "#     if k is None:\n",
        "#         k = 1 / np.sqrt(n)  # Default optimal distance\n",
        "\n",
        "#     # Initialize random positions with small values\n",
        "#     pos = np.random.uniform(-0.1, 0.1, (n, 2))\n",
        "\n",
        "#     for _ in tqdm(range(iterations)):\n",
        "#         displacement = np.zeros_like(pos)  # To store forces\n",
        "\n",
        "#         # Compute repulsive forces\n",
        "#         for i in tqdm(range(n)):\n",
        "#             for j in range(i + 1, n):\n",
        "#                 delta = pos[i] - pos[j]\n",
        "#                 distance = np.linalg.norm(delta)\n",
        "#                 if distance < 1e-6:\n",
        "#                     delta = np.random.uniform(-0.01, 0.01, size=2)\n",
        "#                     distance = np.linalg.norm(delta)\n",
        "#                 force = min(k**2 / distance, max_disp)  # Cap maximum force\n",
        "#                 displacement[i] += delta / distance * force\n",
        "#                 displacement[j] -= delta / distance * force\n",
        "\n",
        "#         # Compute attractive forces\n",
        "#         for u, v in tqdm(G.edges):\n",
        "#             u_idx = node_index[u]\n",
        "#             v_idx = node_index[v]\n",
        "#             delta = pos[u_idx] - pos[v_idx]\n",
        "#             distance = np.linalg.norm(delta)\n",
        "#             if distance < 1e-6:\n",
        "#                 delta = np.random.uniform(-0.01, 0.01, size=2)\n",
        "#                 distance = np.linalg.norm(delta)\n",
        "#             force = min(distance**2 / k, max_disp)  # Cap maximum force\n",
        "#             displacement[u_idx] -= delta / distance * force\n",
        "#             displacement[v_idx] += delta / distance * force\n",
        "\n",
        "#         # Update positions\n",
        "#         displacement = np.clip(displacement, -max_disp, max_disp)  # Limit maximum displacement\n",
        "#         pos += displacement\n",
        "#         max_displacement = np.max(np.linalg.norm(displacement, axis=1))\n",
        "#         if max_displacement < threshold:\n",
        "#             break\n",
        "\n",
        "#     # Map positions back to node labels\n",
        "#     return {node: pos[i] for i, node in enumerate(nodes)}\n"
      ],
      "metadata": {
        "id": "SUgq6AOPl86-"
      },
      "id": "SUgq6AOPl86-",
      "execution_count": 19,
      "outputs": []
    },
    {
      "cell_type": "code",
      "source": [
        "# pos = spring_layout(G, k=0.1, iterations=100)"
      ],
      "metadata": {
        "id": "UacmP4_Mocf8"
      },
      "id": "UacmP4_Mocf8",
      "execution_count": 20,
      "outputs": []
    },
    {
      "cell_type": "code",
      "source": [
        "from gensim.models import Word2Vec\n",
        "from gensim.models.callbacks import CallbackAny2Vec\n"
      ],
      "metadata": {
        "id": "2AqlO0bOp2F_"
      },
      "id": "2AqlO0bOp2F_",
      "execution_count": 21,
      "outputs": []
    },
    {
      "cell_type": "code",
      "source": [
        "Gtest = nx.barabasi_albert_graph(n=5, m=1)\n",
        "G_duplicate = Gtest.copy()\n",
        "mapping = {node: node + 10 for node in G_duplicate.nodes()}\n",
        "G_duplicate = nx.relabel_nodes(G_duplicate, mapping)\n",
        "Gtest = nx.compose(Gtest, G_duplicate)\n",
        "\n",
        "\n",
        "G_duplicate = Gtest.copy()\n",
        "mapping = {node: node + 30 for node in G_duplicate.nodes()}\n",
        "G_duplicate = nx.relabel_nodes(G_duplicate, mapping)\n",
        "Gtest = nx.compose(Gtest, G_duplicate)\n",
        "\n",
        "Gtest.add_edges_from([[1,11],[11,31],[31,41]])"
      ],
      "metadata": {
        "id": "NFfTiCh0rsbX"
      },
      "id": "NFfTiCh0rsbX",
      "execution_count": 59,
      "outputs": []
    },
    {
      "cell_type": "code",
      "source": [],
      "metadata": {
        "id": "PRZPtgwntiF6"
      },
      "id": "PRZPtgwntiF6",
      "execution_count": 53,
      "outputs": []
    },
    {
      "cell_type": "code",
      "source": [
        "def generate_random_walks(graph, num_walks, walk_length):\n",
        "    walks = []\n",
        "    nodes = list(graph.nodes)\n",
        "    for _ in tqdm(range(num_walks)):  # Perform multiple walks per node\n",
        "        random.shuffle(nodes)  # Shuffle nodes for randomness\n",
        "        for node in nodes:\n",
        "            walks.append(random_walk(graph, node, walk_length))\n",
        "    return walks\n",
        "\n",
        "def random_walk(graph, start_node, walk_length):\n",
        "    walk = [start_node]\n",
        "    for _ in range(walk_length - 1):\n",
        "        neighbors = list(graph.neighbors(walk[-1]))\n",
        "        if len(neighbors) == 0:  # If no neighbors, end the walk\n",
        "            break\n",
        "        walk.append(random.choice(neighbors))\n",
        "    return list( walk)  # Convert to strings for Word2Vec\n",
        "\n",
        "num_walks = 30  # Number of walks per node\n",
        "walk_length = 15  # Length of each walk\n",
        "walks = generate_random_walks(Gtest, num_walks, walk_length)\n",
        "\n",
        "\n",
        "class TQDMProgressBar(CallbackAny2Vec):\n",
        "    def __init__(self, total_epochs):\n",
        "        self.epoch_bar = tqdm(total=total_epochs, desc=\"Epochs Completed\")\n",
        "\n",
        "    def on_epoch_end(self, model):\n",
        "        self.epoch_bar.update(1)\n",
        "\n",
        "    def on_train_end(self, model):\n",
        "        self.epoch_bar.close()\n",
        "\n",
        "# Initialize Progress Bar Callback\n",
        "total_epochs = 20\n",
        "progress_bar = TQDMProgressBar(total_epochs=total_epochs)\n",
        "\n",
        "# Train Word2Vec Model with Progress Bar\n",
        "model = Word2Vec(\n",
        "    sentences=walks,\n",
        "    vector_size=2,  # Embedding size\n",
        "    window=5,       # Context window size\n",
        "    min_count=0,    # Minimum frequency for nodes\n",
        "    sg=1,           # Skip-gram model\n",
        "    workers=4,      # Parallel workers\n",
        "    epochs=total_epochs,  # Number of training epochs\n",
        "    callbacks=[progress_bar]  # Use the progress bar callback\n",
        ")\n",
        "\n",
        "# Step 4: Access Node Embeddings\n",
        "embeddings = {node: model.wv[node] for node in Gtest.nodes}"
      ],
      "metadata": {
        "colab": {
          "base_uri": "https://localhost:8080/",
          "height": 185,
          "referenced_widgets": [
            "dff7b64dbb9244de9edd4890bffc2385",
            "c411c9ca41504c16aa6b5bd537cc20c3",
            "d8e9bdd321f64840b7fa74f38b60ec85",
            "a2c5c92382e7409eba2f7751360e6a4e",
            "7601e3ac954f4d25a4811643e741e292",
            "c86d8bc69af342d28a0057d0ee7868ac",
            "2f83aa02a6a6474a83f93b28601fc567",
            "abb704a334e448fdaf6421a1d7f3f793",
            "39e5ef4aa4ea4f008a5e7bb373876091",
            "af6393a7b2414d2e9bfc03c2b58d9ad3",
            "d0f4939cd3ce44c794c1b048600bed79",
            "2b7ebae13c2f44c097600b981028aa36",
            "b659f87152314724808b5b018dac6f0d",
            "96cd775b65634d15b9e386b3587b5942",
            "dfc42cf5b7974685b7e0e8152db75337",
            "15fb421cecc24beca12dffe6992650d0",
            "7b4de1ccb2874f308900434227066bcd",
            "0a9eb2317e824531896a3f46ce3917bb",
            "3c652cd112b04503acb4c37b48d637ad",
            "041ecea9c4364d858335fd7ff244c129",
            "ead3d490473741d49bafed5eb108975f",
            "613a99c21035454eb3670039c95e6b02"
          ]
        },
        "id": "QstzubjzrZCe",
        "outputId": "acf11650-2e73-4e0a-cc0f-77ecf35d2d44"
      },
      "id": "QstzubjzrZCe",
      "execution_count": 67,
      "outputs": [
        {
          "output_type": "stream",
          "name": "stderr",
          "text": [
            "<ipython-input-67-4f2d025f8697>:4: TqdmDeprecationWarning: This function will be removed in tqdm==5.0.0\n",
            "Please use `tqdm.notebook.tqdm` instead of `tqdm.tqdm_notebook`\n",
            "  for _ in tqdm(range(num_walks)):  # Perform multiple walks per node\n"
          ]
        },
        {
          "output_type": "display_data",
          "data": {
            "text/plain": [
              "  0%|          | 0/30 [00:00<?, ?it/s]"
            ],
            "application/vnd.jupyter.widget-view+json": {
              "version_major": 2,
              "version_minor": 0,
              "model_id": "dff7b64dbb9244de9edd4890bffc2385"
            }
          },
          "metadata": {}
        },
        {
          "output_type": "stream",
          "name": "stderr",
          "text": [
            "<ipython-input-67-4f2d025f8697>:26: TqdmDeprecationWarning: This function will be removed in tqdm==5.0.0\n",
            "Please use `tqdm.notebook.tqdm` instead of `tqdm.tqdm_notebook`\n",
            "  self.epoch_bar = tqdm(total=total_epochs, desc=\"Epochs Completed\")\n"
          ]
        },
        {
          "output_type": "display_data",
          "data": {
            "text/plain": [
              "Epochs Completed:   0%|          | 0/20 [00:00<?, ?it/s]"
            ],
            "application/vnd.jupyter.widget-view+json": {
              "version_major": 2,
              "version_minor": 0,
              "model_id": "2b7ebae13c2f44c097600b981028aa36"
            }
          },
          "metadata": {}
        }
      ]
    },
    {
      "cell_type": "code",
      "source": [],
      "metadata": {
        "id": "nkXHIhNaryCy"
      },
      "id": "nkXHIhNaryCy",
      "execution_count": 54,
      "outputs": []
    },
    {
      "cell_type": "code",
      "source": [
        "pos = embeddings\n",
        "plt.figure(figsize=(8, 6))\n",
        "nx.draw(Gtest, pos=pos, with_labels=True, node_color=\"lightblue\", edge_color=\"gray\")\n",
        "plt.title(\"Graph with Custom Positions from NumPy Array\")\n",
        "plt.show()\n",
        "\n",
        "plt.figure(figsize=(8, 6))\n",
        "nx.draw(Gtest, with_labels=True, node_color=\"lightblue\", edge_color=\"gray\")\n",
        "plt.title(\"Graph without Custom Positions from NumPy Array\")\n",
        "plt.show()"
      ],
      "metadata": {
        "colab": {
          "base_uri": "https://localhost:8080/",
          "height": 1000
        },
        "id": "_n2Qbc7olNuE",
        "outputId": "d92c6318-c2d8-4a13-fbe8-373de8647af4"
      },
      "id": "_n2Qbc7olNuE",
      "execution_count": 68,
      "outputs": [
        {
          "output_type": "display_data",
          "data": {
            "text/plain": [
              "<Figure size 800x600 with 1 Axes>"
            ],
            "image/png": "[encoded data removed]"
          },
          "metadata": {}
        },
        {
          "output_type": "display_data",
          "data": {
            "text/plain": [
              "<Figure size 800x600 with 1 Axes>"
            ],
            "image/png": "[encoded data removed]"
          },
          "metadata": {}
        }
      ]
    },
    {
      "cell_type": "code",
      "source": [
        "# pos = nx.spring_layout(\n",
        "#     G,\n",
        "#     k=None,  # Optimal distance between nodes. Defaults to 1 / sqrt(n) for n nodes.\n",
        "#     iterations=50,  # Number of iterations to adjust positions.\n",
        "#     threshold=1e-4,  # Convergence threshold for position changes.\n",
        "#     seed=10,  # Random seed for reproducibility.\n",
        "#     weight=None  # Edge weight attribute. If None, all edges are considered equal.\n",
        "# )\n"
      ],
      "metadata": {
        "id": "8V1nUgEdhFFa"
      },
      "id": "8V1nUgEdhFFa",
      "execution_count": 35,
      "outputs": []
    },
    {
      "cell_type": "code",
      "source": [
        "num_walks = 30  # Number of walks per node\n",
        "walk_length = 15  # Length of each walk\n",
        "walks = generate_random_walks(G, num_walks, walk_length)\n",
        "\n",
        "\n",
        "class TQDMProgressBar(CallbackAny2Vec):\n",
        "    def __init__(self, total_epochs):\n",
        "        self.epoch_bar = tqdm(total=total_epochs, desc=\"Epochs Completed\")\n",
        "\n",
        "    def on_epoch_end(self, model):\n",
        "        self.epoch_bar.update(1)\n",
        "\n",
        "    def on_train_end(self, model):\n",
        "        self.epoch_bar.close()\n",
        "\n",
        "# Initialize Progress Bar Callback\n",
        "total_epochs = 20\n",
        "progress_bar = TQDMProgressBar(total_epochs=total_epochs)\n",
        "\n",
        "# Train Word2Vec Model with Progress Bar\n",
        "model = Word2Vec(\n",
        "    sentences=walks,\n",
        "    vector_size=2,  # Embedding size\n",
        "    window=5,       # Context window size\n",
        "    min_count=0,    # Minimum frequency for nodes\n",
        "    sg=1,           # Skip-gram model\n",
        "    workers=4,      # Parallel workers\n",
        "    epochs=total_epochs,  # Number of training epochs\n",
        "    callbacks=[progress_bar]  # Use the progress bar callback\n",
        ")\n",
        "\n",
        "# Step 4: Access Node Embeddings\n",
        "embeddings = {node: model.wv[node] for node in G.nodes}"
      ],
      "metadata": {
        "colab": {
          "base_uri": "https://localhost:8080/",
          "height": 98,
          "referenced_widgets": [
            "ea2294001acf4eada37c1ffdc338fa52",
            "c7910fdf2d7c4a1ea8745295ee3b4ad1",
            "efd60f8db1fe40ad87fad527dc113e07",
            "4acf74c36ff24c9c9a02a3b222b45dea",
            "a075018edd2447a0b2191f7c17d8b72e",
            "f1530fdee45e462d8a5613e7a9cef7ac",
            "85c07525c5034755bbf1d7c373e055ff",
            "a66ff1df50b04a0f8bd23383b81ac6f3",
            "3ffeac7c4c80485c87dd138592eb9ce7",
            "14d9c25fae9c4b60942d06961937f03d",
            "a8f1e1cd28c64d5086d5bffb9f08d97d",
            "c6f39e98cf0f4834a609bd80a89f363d",
            "03679528d5314831a076edd39cc4406e",
            "2b0c61f99dec461f9523af0ae36503fb",
            "e78f51bfbad44aa5a462c28966904db3",
            "cae3643153444320917b1d25f1bd381e",
            "5750a1ee47ad4cb49a43087b62c3d6b5",
            "7755fbe8fe9f4bc2a48ef01f47ccce22",
            "412f48731ec24cf2afe5989379c69224",
            "80d7610363fd42cc98e8870914776dc6",
            "2f74ed5df54e4cb09392ddfd983ef808",
            "6d4f5f2cdfbe4b2ca16cbeaff0adce46"
          ]
        },
        "id": "U0ELjTYikHYO",
        "outputId": "dbcb0702-63cc-4ca2-bc42-36040604b7f0"
      },
      "id": "U0ELjTYikHYO",
      "execution_count": 72,
      "outputs": [
        {
          "data": {
            "application/vnd.jupyter.widget-view+json": {
              "model_id": "ea2294001acf4eada37c1ffdc338fa52",
              "version_major": 2,
              "version_minor": 0
            },
            "text/plain": [
              "  0%|          | 0/30 [00:00<?, ?it/s]"
            ]
          },
          "metadata": {},
          "output_type": "display_data"
        },
        {
          "metadata": {
            "tags": null
          },
          "name": "stderr",
          "output_type": "stream",
          "text": [
            "\rEpochs Completed:  48%|████▊     | 954/2000 [06:33<07:11,  2.42it/s] \n"
          ]
        },
        {
          "data": {
            "application/vnd.jupyter.widget-view+json": {
              "model_id": "c6f39e98cf0f4834a609bd80a89f363d",
              "version_major": 2,
              "version_minor": 0
            },
            "text/plain": [
              "Epochs Completed:   0%|          | 0/20 [00:00<?, ?it/s]"
            ]
          },
          "metadata": {},
          "output_type": "display_data"
        }
      ]
    },
    {
      "cell_type": "code",
      "source": [
        "import pickle\n",
        "\n",
        "\n",
        "\n",
        "with open('embeddings.pickle', 'wb') as handle:\n",
        "    pickle.dump(embeddings, handle)\n",
        "\n",
        "# with open('embeddings.pickle', 'rb') as handle:\n",
        "#     b = pickle.load(embeddings)"
      ],
      "metadata": {
        "id": "1Sd-H1qsPzad"
      },
      "id": "1Sd-H1qsPzad",
      "execution_count": 75,
      "outputs": []
    },
    {
      "cell_type": "code",
      "source": [
        "# #  Cluster into balanced groups\n",
        "# n_clusters = 5\n",
        "# balanced_labels = balanced_kmeans(features, n_clusters)\n",
        "\n",
        "# #  Group nodes by balanced clusters\n",
        "# balanced_clusters = {i: [] for i in range(n_clusters)}\n",
        "# for node, label in tqdm(enumerate(balanced_labels)):\n",
        "#     balanced_clusters[label].append(node)\n",
        "\n",
        "# for cluster_id, nodes in balanced_clusters.items():\n",
        "#     print(f\"Cluster {cluster_id}: {len(nodes)} nodes\")"
      ],
      "metadata": {
        "id": "IPbl-LUWbbck"
      },
      "id": "IPbl-LUWbbck",
      "execution_count": 73,
      "outputs": []
    },
    {
      "cell_type": "code",
      "source": [
        "# balanced_clusters"
      ],
      "metadata": {
        "id": "RI73CHHMcmKl"
      },
      "id": "RI73CHHMcmKl",
      "execution_count": 74,
      "outputs": []
    },
    {
      "cell_type": "code",
      "source": [
        "from sklearn.cluster import KMeans\n",
        "from sklearn.metrics.pairwise import cosine_similarity"
      ],
      "metadata": {
        "id": "NamNpNU7dUaI"
      },
      "id": "NamNpNU7dUaI",
      "execution_count": 78,
      "outputs": []
    },
    {
      "cell_type": "code",
      "source": [
        "keys = list(embeddings.keys())\n",
        "features = np.array(list(embeddings.values()))"
      ],
      "metadata": {
        "id": "j5wkttHxa6zF"
      },
      "id": "j5wkttHxa6zF",
      "execution_count": 79,
      "outputs": []
    },
    {
      "cell_type": "code",
      "source": [
        "SEED = 1"
      ],
      "metadata": {
        "id": "luN7Khp0eLaB"
      },
      "id": "luN7Khp0eLaB",
      "execution_count": 104,
      "outputs": []
    },
    {
      "cell_type": "code",
      "source": [
        "allnodes = keys[:]"
      ],
      "metadata": {
        "id": "_2UE2emOhye8"
      },
      "id": "_2UE2emOhye8",
      "execution_count": 125,
      "outputs": []
    },
    {
      "cell_type": "code",
      "source": [
        "normalized_features = features / np.linalg.norm(features, axis=1, keepdims=True)\n",
        "\n",
        "# Step 3: Perform clustering using KMeans\n",
        "num_clusters = 3  # Number of clusters\n",
        "SEED+=1\n",
        "print(SEED)\n",
        "kmeans = KMeans(n_clusters=num_clusters, random_state=SEED)\n",
        "clusters = kmeans.fit_predict(normalized_features)\n",
        "\n",
        "# Step 4: Group data points by clusters\n",
        "clustered_points = {i: [] for i in range(num_clusters)}\n",
        "for idx, label in enumerate(clusters):\n",
        "    clustered_points[label].append(keys[idx])\n",
        "\n",
        "# Step 5: Print clustered points\n",
        "# for cluster, points in clustered_points.items():\n",
        "#     print(f\"Cluster {cluster}: {len(points)}\")\n",
        "\n",
        "bset = set(benigns)\n",
        "sset = set(sybils)\n",
        "\n",
        "for cluster, points in clustered_points.items():\n",
        "    b = 0\n",
        "    s = 0\n",
        "    for point in points:\n",
        "        if point in bset:\n",
        "            b+=1\n",
        "        elif point in sset:\n",
        "            s+=1\n",
        "\n",
        "    print(len(list(points))/(len(normalized_features)),b/len(bset),s/len(sset))"
      ],
      "metadata": {
        "colab": {
          "base_uri": "https://localhost:8080/"
        },
        "id": "W49IZGcacJ9U",
        "outputId": "a6c7061f-378d-472a-8e62-ffdc30ad2860"
      },
      "id": "W49IZGcacJ9U",
      "execution_count": 105,
      "outputs": [
        {
          "output_type": "stream",
          "name": "stdout",
          "text": [
            "2\n",
            "0.4033587712049774 0.4197059385144167 0.37031415996357564\n",
            "0.41271083458902447 0.31964865380943286 0.446501745333131\n",
            "0.18393039420599816 0.25873591751002484 0.18288055850660193\n"
          ]
        }
      ]
    },
    {
      "cell_type": "code",
      "source": [
        "len(clustered_points[2])"
      ],
      "metadata": {
        "colab": {
          "base_uri": "https://localhost:8080/"
        },
        "id": "8iMTlzQHdG0E",
        "outputId": "c4612721-3240-4763-9573-8ece8e42420b"
      },
      "id": "8iMTlzQHdG0E",
      "execution_count": 108,
      "outputs": [
        {
          "output_type": "execute_result",
          "data": {
            "text/plain": [
              "37840"
            ]
          },
          "metadata": {},
          "execution_count": 108
        }
      ]
    },
    {
      "cell_type": "code",
      "source": [
        "trainnodes = list(clustered_points[2])\n",
        "testnodes = list(clustered_points[0])+list(clustered_points[1])"
      ],
      "metadata": {
        "id": "6e1hL-nhdsey"
      },
      "id": "6e1hL-nhdsey",
      "execution_count": 109,
      "outputs": []
    },
    {
      "cell_type": "code",
      "source": [
        "G.number_of_edges(),G.number_of_nodes(),\"avg d:\",G.number_of_edges()*2/G.number_of_nodes()"
      ],
      "metadata": {
        "colab": {
          "base_uri": "https://localhost:8080/"
        },
        "id": "J8iQSB7OfStK",
        "outputId": "f2c589b4-9449-4a7b-998c-348eb6c929ec"
      },
      "id": "J8iQSB7OfStK",
      "execution_count": 112,
      "outputs": [
        {
          "output_type": "execute_result",
          "data": {
            "text/plain": [
              "(226111, 205730, 'avg d:', 2.1981334759150344)"
            ]
          },
          "metadata": {},
          "execution_count": 112
        }
      ]
    },
    {
      "cell_type": "code",
      "source": [
        "trainG = G.subgraph(trainnodes)\n",
        "testG = G.subgraph(testnodes)\n"
      ],
      "metadata": {
        "id": "VMFJ2TlJfavp"
      },
      "id": "VMFJ2TlJfavp",
      "execution_count": 113,
      "outputs": []
    },
    {
      "cell_type": "code",
      "source": [
        "trainG.number_of_edges(),trainG.number_of_nodes(),\"avg d:\",trainG.number_of_edges()*2/trainG.number_of_nodes()"
      ],
      "metadata": {
        "colab": {
          "base_uri": "https://localhost:8080/"
        },
        "id": "T5BwCNbif2VL",
        "outputId": "5d0d3e71-7ddc-4c6b-9e36-16786a3b56a9"
      },
      "id": "T5BwCNbif2VL",
      "execution_count": 115,
      "outputs": [
        {
          "output_type": "execute_result",
          "data": {
            "text/plain": [
              "(39434, 37840, 'avg d:', 2.0842494714587736)"
            ]
          },
          "metadata": {},
          "execution_count": 115
        }
      ]
    },
    {
      "cell_type": "code",
      "source": [
        "testG.number_of_edges(),testG.number_of_nodes(),\"avg d:\",testG.number_of_edges()*2/testG.number_of_nodes()"
      ],
      "metadata": {
        "colab": {
          "base_uri": "https://localhost:8080/"
        },
        "id": "0B5o_Rv8f7j7",
        "outputId": "4ff5c9a0-875d-4dcd-c9f8-b7dc0e3e6bc4"
      },
      "id": "0B5o_Rv8f7j7",
      "execution_count": 116,
      "outputs": [
        {
          "output_type": "execute_result",
          "data": {
            "text/plain": [
              "(174436, 167890, 'avg d:', 2.0779796295193282)"
            ]
          },
          "metadata": {},
          "execution_count": 116
        }
      ]
    },
    {
      "cell_type": "code",
      "source": [
        "226111 - 39434 - 174436"
      ],
      "metadata": {
        "colab": {
          "base_uri": "https://localhost:8080/"
        },
        "id": "LlgwBHD1gCuZ",
        "outputId": "ba18e9d0-3d1a-4207-cb74-eb44d07b7550"
      },
      "id": "LlgwBHD1gCuZ",
      "execution_count": 117,
      "outputs": [
        {
          "output_type": "execute_result",
          "data": {
            "text/plain": [
              "12241"
            ]
          },
          "metadata": {},
          "execution_count": 117
        }
      ]
    },
    {
      "cell_type": "code",
      "source": [
        "nx.number_connected_components(G)"
      ],
      "metadata": {
        "colab": {
          "base_uri": "https://localhost:8080/"
        },
        "id": "ey9Y2alxgLkJ",
        "outputId": "5f3e7968-157f-42aa-bc29-65c3d18376df"
      },
      "id": "ey9Y2alxgLkJ",
      "execution_count": 118,
      "outputs": [
        {
          "output_type": "execute_result",
          "data": {
            "text/plain": [
              "123"
            ]
          },
          "metadata": {},
          "execution_count": 118
        }
      ]
    },
    {
      "cell_type": "code",
      "source": [
        "nx.number_connected_components(trainG)"
      ],
      "metadata": {
        "colab": {
          "base_uri": "https://localhost:8080/"
        },
        "id": "NK38IC_TgX-7",
        "outputId": "e2f793a1-ce75-4469-fb7c-380a8e9f8e14"
      },
      "id": "NK38IC_TgX-7",
      "execution_count": 119,
      "outputs": [
        {
          "output_type": "execute_result",
          "data": {
            "text/plain": [
              "1471"
            ]
          },
          "metadata": {},
          "execution_count": 119
        }
      ]
    },
    {
      "cell_type": "code",
      "source": [
        "nx.number_connected_components(testG)"
      ],
      "metadata": {
        "colab": {
          "base_uri": "https://localhost:8080/"
        },
        "id": "i4adXbWXgZW8",
        "outputId": "c3413d98-0bf3-46a0-d3db-bafb82c1278d"
      },
      "id": "i4adXbWXgZW8",
      "execution_count": 120,
      "outputs": [
        {
          "output_type": "execute_result",
          "data": {
            "text/plain": [
              "1223"
            ]
          },
          "metadata": {},
          "execution_count": 120
        }
      ]
    },
    {
      "cell_type": "code",
      "source": [
        "number_of_s_in_train = len(set(trainnodes) & sset)\n",
        "number_of_b_in_train = len(set(trainnodes) & bset)\n",
        "number_of_s_in_test = len(set(testnodes) & sset)\n",
        "number_of_b_in_test = len(set(testnodes) & bset)\n",
        "\n",
        "number_of_s_in_train,number_of_b_in_train,number_of_s_in_test,number_of_b_in_test"
      ],
      "metadata": {
        "colab": {
          "base_uri": "https://localhost:8080/"
        },
        "id": "q3QtcERagwPu",
        "outputId": "3c678802-fd78-467f-8483-2433de22b5fc"
      },
      "id": "q3QtcERagwPu",
      "execution_count": 123,
      "outputs": [
        {
          "output_type": "execute_result",
          "data": {
            "text/plain": [
              "(1205, 1355, 5382, 3872)"
            ]
          },
          "metadata": {},
          "execution_count": 123
        }
      ]
    },
    {
      "cell_type": "markdown",
      "source": [
        "#do random"
      ],
      "metadata": {
        "id": "3CZF9PtmgebM"
      },
      "id": "3CZF9PtmgebM"
    },
    {
      "cell_type": "code",
      "source": [
        "import random"
      ],
      "metadata": {
        "id": "-JNkipsHgahJ"
      },
      "id": "-JNkipsHgahJ",
      "execution_count": 121,
      "outputs": []
    },
    {
      "cell_type": "code",
      "source": [
        "random.seed(15)\n",
        "trainrandom = random.sample(allnodes,int(len(normalized_features)/5))\n",
        "testrandom = list(set(allnodes)-set(trainnodes))"
      ],
      "metadata": {
        "id": "BAQFgLypgq5a"
      },
      "id": "BAQFgLypgq5a",
      "execution_count": 139,
      "outputs": []
    },
    {
      "cell_type": "code",
      "source": [
        "randomtrainG = G.subgraph(trainrandom)\n",
        "randomtestG = G.subgraph(testrandom)"
      ],
      "metadata": {
        "id": "0sEzw-P3iC88"
      },
      "id": "0sEzw-P3iC88",
      "execution_count": 140,
      "outputs": []
    },
    {
      "cell_type": "code",
      "source": [
        "randomtrainG.number_of_edges(),randomtrainG.number_of_nodes(),\"avg d:\",randomtrainG.number_of_edges()*2/randomtrainG.number_of_nodes()"
      ],
      "metadata": {
        "colab": {
          "base_uri": "https://localhost:8080/"
        },
        "id": "0Yxf5w91iKRx",
        "outputId": "1dbc3ef6-b945-4335-be28-20934db380f1"
      },
      "id": "0Yxf5w91iKRx",
      "execution_count": 141,
      "outputs": [
        {
          "output_type": "execute_result",
          "data": {
            "text/plain": [
              "(9070, 41146, 'avg d:', 0.44086910027706216)"
            ]
          },
          "metadata": {},
          "execution_count": 141
        }
      ]
    },
    {
      "cell_type": "code",
      "source": [
        "randomtestG.number_of_edges(),randomtestG.number_of_nodes(),\"avg d:\",randomtestG.number_of_edges()*2/randomtestG.number_of_nodes()"
      ],
      "metadata": {
        "colab": {
          "base_uri": "https://localhost:8080/"
        },
        "id": "f2R24zB6iPFd",
        "outputId": "dca7683c-3ffd-430d-dc9d-deb087814b33"
      },
      "id": "f2R24zB6iPFd",
      "execution_count": 142,
      "outputs": [
        {
          "output_type": "execute_result",
          "data": {
            "text/plain": [
              "(174436, 167890, 'avg d:', 2.0779796295193282)"
            ]
          },
          "metadata": {},
          "execution_count": 142
        }
      ]
    },
    {
      "cell_type": "code",
      "source": [
        "def leave_ratio(G):\n",
        "    leaves = [node for node in G.nodes if G.degree[node] == 1]\n",
        "    num_leaves = len(leaves)\n",
        "    print(num_leaves/len(list(G.nodes())))"
      ],
      "metadata": {
        "id": "1uP_UrN9iUQA"
      },
      "id": "1uP_UrN9iUQA",
      "execution_count": 143,
      "outputs": []
    },
    {
      "cell_type": "code",
      "source": [
        "leave_ratio(randomtrainG)\n",
        "leave_ratio(randomtestG)"
      ],
      "metadata": {
        "colab": {
          "base_uri": "https://localhost:8080/"
        },
        "id": "IKm1EzV2jL7v",
        "outputId": "f5ebb238-8aef-4640-e49e-5e4d772208e5"
      },
      "id": "IKm1EzV2jL7v",
      "execution_count": 145,
      "outputs": [
        {
          "output_type": "stream",
          "name": "stdout",
          "text": [
            "0.2002867836484713\n",
            "0.9056763356959914\n"
          ]
        }
      ]
    },
    {
      "cell_type": "code",
      "source": [
        "leave_ratio(trainG)\n",
        "leave_ratio(testG)"
      ],
      "metadata": {
        "colab": {
          "base_uri": "https://localhost:8080/"
        },
        "id": "Rq3ksEFEjRzi",
        "outputId": "0fe1443e-f6d3-4499-c6f6-e6e31ae77ca0"
      },
      "id": "Rq3ksEFEjRzi",
      "execution_count": 146,
      "outputs": [
        {
          "output_type": "stream",
          "name": "stdout",
          "text": [
            "0.8572674418604651\n",
            "0.9056763356959914\n"
          ]
        }
      ]
    },
    {
      "cell_type": "code",
      "source": [
        "leave_ratio(G)\n"
      ],
      "metadata": {
        "colab": {
          "base_uri": "https://localhost:8080/"
        },
        "id": "inTosjzQjagP",
        "outputId": "73c625d1-1faf-4e6f-aac1-48e2e8e9b503"
      },
      "id": "inTosjzQjagP",
      "execution_count": 147,
      "outputs": [
        {
          "output_type": "stream",
          "name": "stdout",
          "text": [
            "0.8951635638944248\n"
          ]
        }
      ]
    },
    {
      "cell_type": "code",
      "source": [
        "file_name = \"trainNodes.txt\"\n",
        "\n",
        "# Save nodes to a text file\n",
        "with open(file_name, \"w\") as file:\n",
        "    for node in trainG.nodes:\n",
        "        file.write(f\"{node}\\n\")\n",
        "\n",
        "print(f\"Nodes of the graph saved to '{file_name}'.\")"
      ],
      "metadata": {
        "colab": {
          "base_uri": "https://localhost:8080/"
        },
        "id": "Qc5AE3w3jcAQ",
        "outputId": "f08ca429-5470-4440-b3e4-5c9ff5f154d2"
      },
      "id": "Qc5AE3w3jcAQ",
      "execution_count": 148,
      "outputs": [
        {
          "output_type": "stream",
          "name": "stdout",
          "text": [
            "Nodes of the graph saved to 'trainNodes.txt'.\n"
          ]
        }
      ]
    },
    {
      "cell_type": "code",
      "source": [
        "file_name = \"testNodes.txt\"\n",
        "\n",
        "# Save nodes to a text file\n",
        "with open(file_name, \"w\") as file:\n",
        "    for node in testG.nodes:\n",
        "        file.write(f\"{node}\\n\")\n",
        "\n",
        "print(f\"Nodes of the graph saved to '{file_name}'.\")"
      ],
      "metadata": {
        "colab": {
          "base_uri": "https://localhost:8080/"
        },
        "id": "NjOMP9rSjunS",
        "outputId": "7fa1ee1d-4251-4f4a-8341-634c07a7593e"
      },
      "id": "NjOMP9rSjunS",
      "execution_count": 149,
      "outputs": [
        {
          "output_type": "stream",
          "name": "stdout",
          "text": [
            "Nodes of the graph saved to 'testNodes.txt'.\n"
          ]
        }
      ]
    },
    {
      "cell_type": "code",
      "source": [],
      "metadata": {
        "id": "r4h8lMfKjxNB"
      },
      "id": "r4h8lMfKjxNB",
      "execution_count": null,
      "outputs": []
    }
  ],
  "metadata": {
    "kernelspec": {
      "display_name": "Python 3",
      "name": "python3"
    },
    "language_info": {
      "codemirror_mode": {
        "name": "ipython",
        "version": 3
      },
      "file_extension": ".py",
      "mimetype": "text/x-python",
      "name": "python",
      "nbconvert_exporter": "python",
      "pygments_lexer": "ipython3",
      "version": "3.10.0"
    },
    "colab": {
      "provenance": [],
      "gpuType": "T4",
      "include_colab_link": true
    },
    "accelerator": "GPU",
    "widgets": {
      "application/vnd.jupyter.widget-state+json": {
        "dff7b64dbb9244de9edd4890bffc2385": {
          "model_module": "@jupyter-widgets/controls",
          "model_name": "HBoxModel",
          "model_module_version": "1.5.0",
          "state": {
            "_dom_classes": [],
            "_model_module": "@jupyter-widgets/controls",
            "_model_module_version": "1.5.0",
            "_model_name": "HBoxModel",
            "_view_count": null,
            "_view_module": "@jupyter-widgets/controls",
            "_view_module_version": "1.5.0",
            "_view_name": "HBoxView",
            "box_style": "",
            "children": [
              "IPY_MODEL_c411c9ca41504c16aa6b5bd537cc20c3",
              "IPY_MODEL_d8e9bdd321f64840b7fa74f38b60ec85",
              "IPY_MODEL_a2c5c92382e7409eba2f7751360e6a4e"
            ],
            "layout": "IPY_MODEL_7601e3ac954f4d25a4811643e741e292"
          }
        },
        "c411c9ca41504c16aa6b5bd537cc20c3": {
          "model_module": "@jupyter-widgets/controls",
          "model_name": "HTMLModel",
          "model_module_version": "1.5.0",
          "state": {
            "_dom_classes": [],
            "_model_module": "@jupyter-widgets/controls",
            "_model_module_version": "1.5.0",
            "_model_name": "HTMLModel",
            "_view_count": null,
            "_view_module": "@jupyter-widgets/controls",
            "_view_module_version": "1.5.0",
            "_view_name": "HTMLView",
            "description": "",
            "description_tooltip": null,
            "layout": "IPY_MODEL_c86d8bc69af342d28a0057d0ee7868ac",
            "placeholder": "​",
            "style": "IPY_MODEL_2f83aa02a6a6474a83f93b28601fc567",
            "value": "100%"
          }
        },
        "d8e9bdd321f64840b7fa74f38b60ec85": {
          "model_module": "@jupyter-widgets/controls",
          "model_name": "FloatProgressModel",
          "model_module_version": "1.5.0",
          "state": {
            "_dom_classes": [],
            "_model_module": "@jupyter-widgets/controls",
            "_model_module_version": "1.5.0",
            "_model_name": "FloatProgressModel",
            "_view_count": null,
            "_view_module": "@jupyter-widgets/controls",
            "_view_module_version": "1.5.0",
            "_view_name": "ProgressView",
            "bar_style": "success",
            "description": "",
            "description_tooltip": null,
            "layout": "IPY_MODEL_abb704a334e448fdaf6421a1d7f3f793",
            "max": 30,
            "min": 0,
            "orientation": "horizontal",
            "style": "IPY_MODEL_39e5ef4aa4ea4f008a5e7bb373876091",
            "value": 30
          }
        },
        "a2c5c92382e7409eba2f7751360e6a4e": {
          "model_module": "@jupyter-widgets/controls",
          "model_name": "HTMLModel",
          "model_module_version": "1.5.0",
          "state": {
            "_dom_classes": [],
            "_model_module": "@jupyter-widgets/controls",
            "_model_module_version": "1.5.0",
            "_model_name": "HTMLModel",
            "_view_count": null,
            "_view_module": "@jupyter-widgets/controls",
            "_view_module_version": "1.5.0",
            "_view_name": "HTMLView",
            "description": "",
            "description_tooltip": null,
            "layout": "IPY_MODEL_af6393a7b2414d2e9bfc03c2b58d9ad3",
            "placeholder": "​",
            "style": "IPY_MODEL_d0f4939cd3ce44c794c1b048600bed79",
            "value": " 30/30 [00:00&lt;00:00, 1119.93it/s]"
          }
        },
        "7601e3ac954f4d25a4811643e741e292": {
          "model_module": "@jupyter-widgets/base",
          "model_name": "LayoutModel",
          "model_module_version": "1.2.0",
          "state": {
            "_model_module": "@jupyter-widgets/base",
            "_model_module_version": "1.2.0",
            "_model_name": "LayoutModel",
            "_view_count": null,
            "_view_module": "@jupyter-widgets/base",
            "_view_module_version": "1.2.0",
            "_view_name": "LayoutView",
            "align_content": null,
            "align_items": null,
            "align_self": null,
            "border": null,
            "bottom": null,
            "display": null,
            "flex": null,
            "flex_flow": null,
            "grid_area": null,
            "grid_auto_columns": null,
            "grid_auto_flow": null,
            "grid_auto_rows": null,
            "grid_column": null,
            "grid_gap": null,
            "grid_row": null,
            "grid_template_areas": null,
            "grid_template_columns": null,
            "grid_template_rows": null,
            "height": null,
            "justify_content": null,
            "justify_items": null,
            "left": null,
            "margin": null,
            "max_height": null,
            "max_width": null,
            "min_height": null,
            "min_width": null,
            "object_fit": null,
            "object_position": null,
            "order": null,
            "overflow": null,
            "overflow_x": null,
            "overflow_y": null,
            "padding": null,
            "right": null,
            "top": null,
            "visibility": null,
            "width": null
          }
        },
        "c86d8bc69af342d28a0057d0ee7868ac": {
          "model_module": "@jupyter-widgets/base",
          "model_name": "LayoutModel",
          "model_module_version": "1.2.0",
          "state": {
            "_model_module": "@jupyter-widgets/base",
            "_model_module_version": "1.2.0",
            "_model_name": "LayoutModel",
            "_view_count": null,
            "_view_module": "@jupyter-widgets/base",
            "_view_module_version": "1.2.0",
            "_view_name": "LayoutView",
            "align_content": null,
            "align_items": null,
            "align_self": null,
            "border": null,
            "bottom": null,
            "display": null,
            "flex": null,
            "flex_flow": null,
            "grid_area": null,
            "grid_auto_columns": null,
            "grid_auto_flow": null,
            "grid_auto_rows": null,
            "grid_column": null,
            "grid_gap": null,
            "grid_row": null,
            "grid_template_areas": null,
            "grid_template_columns": null,
            "grid_template_rows": null,
            "height": null,
            "justify_content": null,
            "justify_items": null,
            "left": null,
            "margin": null,
            "max_height": null,
            "max_width": null,
            "min_height": null,
            "min_width": null,
            "object_fit": null,
            "object_position": null,
            "order": null,
            "overflow": null,
            "overflow_x": null,
            "overflow_y": null,
            "padding": null,
            "right": null,
            "top": null,
            "visibility": null,
            "width": null
          }
        },
        "2f83aa02a6a6474a83f93b28601fc567": {
          "model_module": "@jupyter-widgets/controls",
          "model_name": "DescriptionStyleModel",
          "model_module_version": "1.5.0",
          "state": {
            "_model_module": "@jupyter-widgets/controls",
            "_model_module_version": "1.5.0",
            "_model_name": "DescriptionStyleModel",
            "_view_count": null,
            "_view_module": "@jupyter-widgets/base",
            "_view_module_version": "1.2.0",
            "_view_name": "StyleView",
            "description_width": ""
          }
        },
        "abb704a334e448fdaf6421a1d7f3f793": {
          "model_module": "@jupyter-widgets/base",
          "model_name": "LayoutModel",
          "model_module_version": "1.2.0",
          "state": {
            "_model_module": "@jupyter-widgets/base",
            "_model_module_version": "1.2.0",
            "_model_name": "LayoutModel",
            "_view_count": null,
            "_view_module": "@jupyter-widgets/base",
            "_view_module_version": "1.2.0",
            "_view_name": "LayoutView",
            "align_content": null,
            "align_items": null,
            "align_self": null,
            "border": null,
            "bottom": null,
            "display": null,
            "flex": null,
            "flex_flow": null,
            "grid_area": null,
            "grid_auto_columns": null,
            "grid_auto_flow": null,
            "grid_auto_rows": null,
            "grid_column": null,
            "grid_gap": null,
            "grid_row": null,
            "grid_template_areas": null,
            "grid_template_columns": null,
            "grid_template_rows": null,
            "height": null,
            "justify_content": null,
            "justify_items": null,
            "left": null,
            "margin": null,
            "max_height": null,
            "max_width": null,
            "min_height": null,
            "min_width": null,
            "object_fit": null,
            "object_position": null,
            "order": null,
            "overflow": null,
            "overflow_x": null,
            "overflow_y": null,
            "padding": null,
            "right": null,
            "top": null,
            "visibility": null,
            "width": null
          }
        },
        "39e5ef4aa4ea4f008a5e7bb373876091": {
          "model_module": "@jupyter-widgets/controls",
          "model_name": "ProgressStyleModel",
          "model_module_version": "1.5.0",
          "state": {
            "_model_module": "@jupyter-widgets/controls",
            "_model_module_version": "1.5.0",
            "_model_name": "ProgressStyleModel",
            "_view_count": null,
            "_view_module": "@jupyter-widgets/base",
            "_view_module_version": "1.2.0",
            "_view_name": "StyleView",
            "bar_color": null,
            "description_width": ""
          }
        },
        "af6393a7b2414d2e9bfc03c2b58d9ad3": {
          "model_module": "@jupyter-widgets/base",
          "model_name": "LayoutModel",
          "model_module_version": "1.2.0",
          "state": {
            "_model_module": "@jupyter-widgets/base",
            "_model_module_version": "1.2.0",
            "_model_name": "LayoutModel",
            "_view_count": null,
            "_view_module": "@jupyter-widgets/base",
            "_view_module_version": "1.2.0",
            "_view_name": "LayoutView",
            "align_content": null,
            "align_items": null,
            "align_self": null,
            "border": null,
            "bottom": null,
            "display": null,
            "flex": null,
            "flex_flow": null,
            "grid_area": null,
            "grid_auto_columns": null,
            "grid_auto_flow": null,
            "grid_auto_rows": null,
            "grid_column": null,
            "grid_gap": null,
            "grid_row": null,
            "grid_template_areas": null,
            "grid_template_columns": null,
            "grid_template_rows": null,
            "height": null,
            "justify_content": null,
            "justify_items": null,
            "left": null,
            "margin": null,
            "max_height": null,
            "max_width": null,
            "min_height": null,
            "min_width": null,
            "object_fit": null,
            "object_position": null,
            "order": null,
            "overflow": null,
            "overflow_x": null,
            "overflow_y": null,
            "padding": null,
            "right": null,
            "top": null,
            "visibility": null,
            "width": null
          }
        },
        "d0f4939cd3ce44c794c1b048600bed79": {
          "model_module": "@jupyter-widgets/controls",
          "model_name": "DescriptionStyleModel",
          "model_module_version": "1.5.0",
          "state": {
            "_model_module": "@jupyter-widgets/controls",
            "_model_module_version": "1.5.0",
            "_model_name": "DescriptionStyleModel",
            "_view_count": null,
            "_view_module": "@jupyter-widgets/base",
            "_view_module_version": "1.2.0",
            "_view_name": "StyleView",
            "description_width": ""
          }
        },
        "2b7ebae13c2f44c097600b981028aa36": {
          "model_module": "@jupyter-widgets/controls",
          "model_name": "HBoxModel",
          "model_module_version": "1.5.0",
          "state": {
            "_dom_classes": [],
            "_model_module": "@jupyter-widgets/controls",
            "_model_module_version": "1.5.0",
            "_model_name": "HBoxModel",
            "_view_count": null,
            "_view_module": "@jupyter-widgets/controls",
            "_view_module_version": "1.5.0",
            "_view_name": "HBoxView",
            "box_style": "",
            "children": [
              "IPY_MODEL_b659f87152314724808b5b018dac6f0d",
              "IPY_MODEL_96cd775b65634d15b9e386b3587b5942",
              "IPY_MODEL_dfc42cf5b7974685b7e0e8152db75337"
            ],
            "layout": "IPY_MODEL_15fb421cecc24beca12dffe6992650d0"
          }
        },
        "b659f87152314724808b5b018dac6f0d": {
          "model_module": "@jupyter-widgets/controls",
          "model_name": "HTMLModel",
          "model_module_version": "1.5.0",
          "state": {
            "_dom_classes": [],
            "_model_module": "@jupyter-widgets/controls",
            "_model_module_version": "1.5.0",
            "_model_name": "HTMLModel",
            "_view_count": null,
            "_view_module": "@jupyter-widgets/controls",
            "_view_module_version": "1.5.0",
            "_view_name": "HTMLView",
            "description": "",
            "description_tooltip": null,
            "layout": "IPY_MODEL_7b4de1ccb2874f308900434227066bcd",
            "placeholder": "​",
            "style": "IPY_MODEL_0a9eb2317e824531896a3f46ce3917bb",
            "value": "Epochs Completed: 100%"
          }
        },
        "96cd775b65634d15b9e386b3587b5942": {
          "model_module": "@jupyter-widgets/controls",
          "model_name": "FloatProgressModel",
          "model_module_version": "1.5.0",
          "state": {
            "_dom_classes": [],
            "_model_module": "@jupyter-widgets/controls",
            "_model_module_version": "1.5.0",
            "_model_name": "FloatProgressModel",
            "_view_count": null,
            "_view_module": "@jupyter-widgets/controls",
            "_view_module_version": "1.5.0",
            "_view_name": "ProgressView",
            "bar_style": "success",
            "description": "",
            "description_tooltip": null,
            "layout": "IPY_MODEL_3c652cd112b04503acb4c37b48d637ad",
            "max": 20,
            "min": 0,
            "orientation": "horizontal",
            "style": "IPY_MODEL_041ecea9c4364d858335fd7ff244c129",
            "value": 20
          }
        },
        "dfc42cf5b7974685b7e0e8152db75337": {
          "model_module": "@jupyter-widgets/controls",
          "model_name": "HTMLModel",
          "model_module_version": "1.5.0",
          "state": {
            "_dom_classes": [],
            "_model_module": "@jupyter-widgets/controls",
            "_model_module_version": "1.5.0",
            "_model_name": "HTMLModel",
            "_view_count": null,
            "_view_module": "@jupyter-widgets/controls",
            "_view_module_version": "1.5.0",
            "_view_name": "HTMLView",
            "description": "",
            "description_tooltip": null,
            "layout": "IPY_MODEL_ead3d490473741d49bafed5eb108975f",
            "placeholder": "​",
            "style": "IPY_MODEL_613a99c21035454eb3670039c95e6b02",
            "value": " 20/20 [00:00&lt;00:00, 177.40it/s]"
          }
        },
        "15fb421cecc24beca12dffe6992650d0": {
          "model_module": "@jupyter-widgets/base",
          "model_name": "LayoutModel",
          "model_module_version": "1.2.0",
          "state": {
            "_model_module": "@jupyter-widgets/base",
            "_model_module_version": "1.2.0",
            "_model_name": "LayoutModel",
            "_view_count": null,
            "_view_module": "@jupyter-widgets/base",
            "_view_module_version": "1.2.0",
            "_view_name": "LayoutView",
            "align_content": null,
            "align_items": null,
            "align_self": null,
            "border": null,
            "bottom": null,
            "display": null,
            "flex": null,
            "flex_flow": null,
            "grid_area": null,
            "grid_auto_columns": null,
            "grid_auto_flow": null,
            "grid_auto_rows": null,
            "grid_column": null,
            "grid_gap": null,
            "grid_row": null,
            "grid_template_areas": null,
            "grid_template_columns": null,
            "grid_template_rows": null,
            "height": null,
            "justify_content": null,
            "justify_items": null,
            "left": null,
            "margin": null,
            "max_height": null,
            "max_width": null,
            "min_height": null,
            "min_width": null,
            "object_fit": null,
            "object_position": null,
            "order": null,
            "overflow": null,
            "overflow_x": null,
            "overflow_y": null,
            "padding": null,
            "right": null,
            "top": null,
            "visibility": null,
            "width": null
          }
        },
        "7b4de1ccb2874f308900434227066bcd": {
          "model_module": "@jupyter-widgets/base",
          "model_name": "LayoutModel",
          "model_module_version": "1.2.0",
          "state": {
            "_model_module": "@jupyter-widgets/base",
            "_model_module_version": "1.2.0",
            "_model_name": "LayoutModel",
            "_view_count": null,
            "_view_module": "@jupyter-widgets/base",
            "_view_module_version": "1.2.0",
            "_view_name": "LayoutView",
            "align_content": null,
            "align_items": null,
            "align_self": null,
            "border": null,
            "bottom": null,
            "display": null,
            "flex": null,
            "flex_flow": null,
            "grid_area": null,
            "grid_auto_columns": null,
            "grid_auto_flow": null,
            "grid_auto_rows": null,
            "grid_column": null,
            "grid_gap": null,
            "grid_row": null,
            "grid_template_areas": null,
            "grid_template_columns": null,
            "grid_template_rows": null,
            "height": null,
            "justify_content": null,
            "justify_items": null,
            "left": null,
            "margin": null,
            "max_height": null,
            "max_width": null,
            "min_height": null,
            "min_width": null,
            "object_fit": null,
            "object_position": null,
            "order": null,
            "overflow": null,
            "overflow_x": null,
            "overflow_y": null,
            "padding": null,
            "right": null,
            "top": null,
            "visibility": null,
            "width": null
          }
        },
        "0a9eb2317e824531896a3f46ce3917bb": {
          "model_module": "@jupyter-widgets/controls",
          "model_name": "DescriptionStyleModel",
          "model_module_version": "1.5.0",
          "state": {
            "_model_module": "@jupyter-widgets/controls",
            "_model_module_version": "1.5.0",
            "_model_name": "DescriptionStyleModel",
            "_view_count": null,
            "_view_module": "@jupyter-widgets/base",
            "_view_module_version": "1.2.0",
            "_view_name": "StyleView",
            "description_width": ""
          }
        },
        "3c652cd112b04503acb4c37b48d637ad": {
          "model_module": "@jupyter-widgets/base",
          "model_name": "LayoutModel",
          "model_module_version": "1.2.0",
          "state": {
            "_model_module": "@jupyter-widgets/base",
            "_model_module_version": "1.2.0",
            "_model_name": "LayoutModel",
            "_view_count": null,
            "_view_module": "@jupyter-widgets/base",
            "_view_module_version": "1.2.0",
            "_view_name": "LayoutView",
            "align_content": null,
            "align_items": null,
            "align_self": null,
            "border": null,
            "bottom": null,
            "display": null,
            "flex": null,
            "flex_flow": null,
            "grid_area": null,
            "grid_auto_columns": null,
            "grid_auto_flow": null,
            "grid_auto_rows": null,
            "grid_column": null,
            "grid_gap": null,
            "grid_row": null,
            "grid_template_areas": null,
            "grid_template_columns": null,
            "grid_template_rows": null,
            "height": null,
            "justify_content": null,
            "justify_items": null,
            "left": null,
            "margin": null,
            "max_height": null,
            "max_width": null,
            "min_height": null,
            "min_width": null,
            "object_fit": null,
            "object_position": null,
            "order": null,
            "overflow": null,
            "overflow_x": null,
            "overflow_y": null,
            "padding": null,
            "right": null,
            "top": null,
            "visibility": null,
            "width": null
          }
        },
        "041ecea9c4364d858335fd7ff244c129": {
          "model_module": "@jupyter-widgets/controls",
          "model_name": "ProgressStyleModel",
          "model_module_version": "1.5.0",
          "state": {
            "_model_module": "@jupyter-widgets/controls",
            "_model_module_version": "1.5.0",
            "_model_name": "ProgressStyleModel",
            "_view_count": null,
            "_view_module": "@jupyter-widgets/base",
            "_view_module_version": "1.2.0",
            "_view_name": "StyleView",
            "bar_color": null,
            "description_width": ""
          }
        },
        "ead3d490473741d49bafed5eb108975f": {
          "model_module": "@jupyter-widgets/base",
          "model_name": "LayoutModel",
          "model_module_version": "1.2.0",
          "state": {
            "_model_module": "@jupyter-widgets/base",
            "_model_module_version": "1.2.0",
            "_model_name": "LayoutModel",
            "_view_count": null,
            "_view_module": "@jupyter-widgets/base",
            "_view_module_version": "1.2.0",
            "_view_name": "LayoutView",
            "align_content": null,
            "align_items": null,
            "align_self": null,
            "border": null,
            "bottom": null,
            "display": null,
            "flex": null,
            "flex_flow": null,
            "grid_area": null,
            "grid_auto_columns": null,
            "grid_auto_flow": null,
            "grid_auto_rows": null,
            "grid_column": null,
            "grid_gap": null,
            "grid_row": null,
            "grid_template_areas": null,
            "grid_template_columns": null,
            "grid_template_rows": null,
            "height": null,
            "justify_content": null,
            "justify_items": null,
            "left": null,
            "margin": null,
            "max_height": null,
            "max_width": null,
            "min_height": null,
            "min_width": null,
            "object_fit": null,
            "object_position": null,
            "order": null,
            "overflow": null,
            "overflow_x": null,
            "overflow_y": null,
            "padding": null,
            "right": null,
            "top": null,
            "visibility": null,
            "width": null
          }
        },
        "613a99c21035454eb3670039c95e6b02": {
          "model_module": "@jupyter-widgets/controls",
          "model_name": "DescriptionStyleModel",
          "model_module_version": "1.5.0",
          "state": {
            "_model_module": "@jupyter-widgets/controls",
            "_model_module_version": "1.5.0",
            "_model_name": "DescriptionStyleModel",
            "_view_count": null,
            "_view_module": "@jupyter-widgets/base",
            "_view_module_version": "1.2.0",
            "_view_name": "StyleView",
            "description_width": ""
          }
        },
        "ea2294001acf4eada37c1ffdc338fa52": {
          "model_module": "@jupyter-widgets/controls",
          "model_name": "HBoxModel",
          "model_module_version": "1.5.0",
          "state": {
            "_dom_classes": [],
            "_model_module": "@jupyter-widgets/controls",
            "_model_module_version": "1.5.0",
            "_model_name": "HBoxModel",
            "_view_count": null,
            "_view_module": "@jupyter-widgets/controls",
            "_view_module_version": "1.5.0",
            "_view_name": "HBoxView",
            "box_style": "",
            "children": [
              "IPY_MODEL_c7910fdf2d7c4a1ea8745295ee3b4ad1",
              "IPY_MODEL_efd60f8db1fe40ad87fad527dc113e07",
              "IPY_MODEL_4acf74c36ff24c9c9a02a3b222b45dea"
            ],
            "layout": "IPY_MODEL_a075018edd2447a0b2191f7c17d8b72e"
          }
        },
        "c7910fdf2d7c4a1ea8745295ee3b4ad1": {
          "model_module": "@jupyter-widgets/controls",
          "model_name": "HTMLModel",
          "model_module_version": "1.5.0",
          "state": {
            "_dom_classes": [],
            "_model_module": "@jupyter-widgets/controls",
            "_model_module_version": "1.5.0",
            "_model_name": "HTMLModel",
            "_view_count": null,
            "_view_module": "@jupyter-widgets/controls",
            "_view_module_version": "1.5.0",
            "_view_name": "HTMLView",
            "description": "",
            "description_tooltip": null,
            "layout": "IPY_MODEL_f1530fdee45e462d8a5613e7a9cef7ac",
            "placeholder": "​",
            "style": "IPY_MODEL_85c07525c5034755bbf1d7c373e055ff",
            "value": "100%"
          }
        },
        "efd60f8db1fe40ad87fad527dc113e07": {
          "model_module": "@jupyter-widgets/controls",
          "model_name": "FloatProgressModel",
          "model_module_version": "1.5.0",
          "state": {
            "_dom_classes": [],
            "_model_module": "@jupyter-widgets/controls",
            "_model_module_version": "1.5.0",
            "_model_name": "FloatProgressModel",
            "_view_count": null,
            "_view_module": "@jupyter-widgets/controls",
            "_view_module_version": "1.5.0",
            "_view_name": "ProgressView",
            "bar_style": "success",
            "description": "",
            "description_tooltip": null,
            "layout": "IPY_MODEL_a66ff1df50b04a0f8bd23383b81ac6f3",
            "max": 30,
            "min": 0,
            "orientation": "horizontal",
            "style": "IPY_MODEL_3ffeac7c4c80485c87dd138592eb9ce7",
            "value": 30
          }
        },
        "4acf74c36ff24c9c9a02a3b222b45dea": {
          "model_module": "@jupyter-widgets/controls",
          "model_name": "HTMLModel",
          "model_module_version": "1.5.0",
          "state": {
            "_dom_classes": [],
            "_model_module": "@jupyter-widgets/controls",
            "_model_module_version": "1.5.0",
            "_model_name": "HTMLModel",
            "_view_count": null,
            "_view_module": "@jupyter-widgets/controls",
            "_view_module_version": "1.5.0",
            "_view_name": "HTMLView",
            "description": "",
            "description_tooltip": null,
            "layout": "IPY_MODEL_14d9c25fae9c4b60942d06961937f03d",
            "placeholder": "​",
            "style": "IPY_MODEL_a8f1e1cd28c64d5086d5bffb9f08d97d",
            "value": " 30/30 [02:32&lt;00:00,  5.03s/it]"
          }
        },
        "a075018edd2447a0b2191f7c17d8b72e": {
          "model_module": "@jupyter-widgets/base",
          "model_name": "LayoutModel",
          "model_module_version": "1.2.0",
          "state": {
            "_model_module": "@jupyter-widgets/base",
            "_model_module_version": "1.2.0",
            "_model_name": "LayoutModel",
            "_view_count": null,
            "_view_module": "@jupyter-widgets/base",
            "_view_module_version": "1.2.0",
            "_view_name": "LayoutView",
            "align_content": null,
            "align_items": null,
            "align_self": null,
            "border": null,
            "bottom": null,
            "display": null,
            "flex": null,
            "flex_flow": null,
            "grid_area": null,
            "grid_auto_columns": null,
            "grid_auto_flow": null,
            "grid_auto_rows": null,
            "grid_column": null,
            "grid_gap": null,
            "grid_row": null,
            "grid_template_areas": null,
            "grid_template_columns": null,
            "grid_template_rows": null,
            "height": null,
            "justify_content": null,
            "justify_items": null,
            "left": null,
            "margin": null,
            "max_height": null,
            "max_width": null,
            "min_height": null,
            "min_width": null,
            "object_fit": null,
            "object_position": null,
            "order": null,
            "overflow": null,
            "overflow_x": null,
            "overflow_y": null,
            "padding": null,
            "right": null,
            "top": null,
            "visibility": null,
            "width": null
          }
        },
        "f1530fdee45e462d8a5613e7a9cef7ac": {
          "model_module": "@jupyter-widgets/base",
          "model_name": "LayoutModel",
          "model_module_version": "1.2.0",
          "state": {
            "_model_module": "@jupyter-widgets/base",
            "_model_module_version": "1.2.0",
            "_model_name": "LayoutModel",
            "_view_count": null,
            "_view_module": "@jupyter-widgets/base",
            "_view_module_version": "1.2.0",
            "_view_name": "LayoutView",
            "align_content": null,
            "align_items": null,
            "align_self": null,
            "border": null,
            "bottom": null,
            "display": null,
            "flex": null,
            "flex_flow": null,
            "grid_area": null,
            "grid_auto_columns": null,
            "grid_auto_flow": null,
            "grid_auto_rows": null,
            "grid_column": null,
            "grid_gap": null,
            "grid_row": null,
            "grid_template_areas": null,
            "grid_template_columns": null,
            "grid_template_rows": null,
            "height": null,
            "justify_content": null,
            "justify_items": null,
            "left": null,
            "margin": null,
            "max_height": null,
            "max_width": null,
            "min_height": null,
            "min_width": null,
            "object_fit": null,
            "object_position": null,
            "order": null,
            "overflow": null,
            "overflow_x": null,
            "overflow_y": null,
            "padding": null,
            "right": null,
            "top": null,
            "visibility": null,
            "width": null
          }
        },
        "85c07525c5034755bbf1d7c373e055ff": {
          "model_module": "@jupyter-widgets/controls",
          "model_name": "DescriptionStyleModel",
          "model_module_version": "1.5.0",
          "state": {
            "_model_module": "@jupyter-widgets/controls",
            "_model_module_version": "1.5.0",
            "_model_name": "DescriptionStyleModel",
            "_view_count": null,
            "_view_module": "@jupyter-widgets/base",
            "_view_module_version": "1.2.0",
            "_view_name": "StyleView",
            "description_width": ""
          }
        },
        "a66ff1df50b04a0f8bd23383b81ac6f3": {
          "model_module": "@jupyter-widgets/base",
          "model_name": "LayoutModel",
          "model_module_version": "1.2.0",
          "state": {
            "_model_module": "@jupyter-widgets/base",
            "_model_module_version": "1.2.0",
            "_model_name": "LayoutModel",
            "_view_count": null,
            "_view_module": "@jupyter-widgets/base",
            "_view_module_version": "1.2.0",
            "_view_name": "LayoutView",
            "align_content": null,
            "align_items": null,
            "align_self": null,
            "border": null,
            "bottom": null,
            "display": null,
            "flex": null,
            "flex_flow": null,
            "grid_area": null,
            "grid_auto_columns": null,
            "grid_auto_flow": null,
            "grid_auto_rows": null,
            "grid_column": null,
            "grid_gap": null,
            "grid_row": null,
            "grid_template_areas": null,
            "grid_template_columns": null,
            "grid_template_rows": null,
            "height": null,
            "justify_content": null,
            "justify_items": null,
            "left": null,
            "margin": null,
            "max_height": null,
            "max_width": null,
            "min_height": null,
            "min_width": null,
            "object_fit": null,
            "object_position": null,
            "order": null,
            "overflow": null,
            "overflow_x": null,
            "overflow_y": null,
            "padding": null,
            "right": null,
            "top": null,
            "visibility": null,
            "width": null
          }
        },
        "3ffeac7c4c80485c87dd138592eb9ce7": {
          "model_module": "@jupyter-widgets/controls",
          "model_name": "ProgressStyleModel",
          "model_module_version": "1.5.0",
          "state": {
            "_model_module": "@jupyter-widgets/controls",
            "_model_module_version": "1.5.0",
            "_model_name": "ProgressStyleModel",
            "_view_count": null,
            "_view_module": "@jupyter-widgets/base",
            "_view_module_version": "1.2.0",
            "_view_name": "StyleView",
            "bar_color": null,
            "description_width": ""
          }
        },
        "14d9c25fae9c4b60942d06961937f03d": {
          "model_module": "@jupyter-widgets/base",
          "model_name": "LayoutModel",
          "model_module_version": "1.2.0",
          "state": {
            "_model_module": "@jupyter-widgets/base",
            "_model_module_version": "1.2.0",
            "_model_name": "LayoutModel",
            "_view_count": null,
            "_view_module": "@jupyter-widgets/base",
            "_view_module_version": "1.2.0",
            "_view_name": "LayoutView",
            "align_content": null,
            "align_items": null,
            "align_self": null,
            "border": null,
            "bottom": null,
            "display": null,
            "flex": null,
            "flex_flow": null,
            "grid_area": null,
            "grid_auto_columns": null,
            "grid_auto_flow": null,
            "grid_auto_rows": null,
            "grid_column": null,
            "grid_gap": null,
            "grid_row": null,
            "grid_template_areas": null,
            "grid_template_columns": null,
            "grid_template_rows": null,
            "height": null,
            "justify_content": null,
            "justify_items": null,
            "left": null,
            "margin": null,
            "max_height": null,
            "max_width": null,
            "min_height": null,
            "min_width": null,
            "object_fit": null,
            "object_position": null,
            "order": null,
            "overflow": null,
            "overflow_x": null,
            "overflow_y": null,
            "padding": null,
            "right": null,
            "top": null,
            "visibility": null,
            "width": null
          }
        },
        "a8f1e1cd28c64d5086d5bffb9f08d97d": {
          "model_module": "@jupyter-widgets/controls",
          "model_name": "DescriptionStyleModel",
          "model_module_version": "1.5.0",
          "state": {
            "_model_module": "@jupyter-widgets/controls",
            "_model_module_version": "1.5.0",
            "_model_name": "DescriptionStyleModel",
            "_view_count": null,
            "_view_module": "@jupyter-widgets/base",
            "_view_module_version": "1.2.0",
            "_view_name": "StyleView",
            "description_width": ""
          }
        },
        "c6f39e98cf0f4834a609bd80a89f363d": {
          "model_module": "@jupyter-widgets/controls",
          "model_name": "HBoxModel",
          "model_module_version": "1.5.0",
          "state": {
            "_dom_classes": [],
            "_model_module": "@jupyter-widgets/controls",
            "_model_module_version": "1.5.0",
            "_model_name": "HBoxModel",
            "_view_count": null,
            "_view_module": "@jupyter-widgets/controls",
            "_view_module_version": "1.5.0",
            "_view_name": "HBoxView",
            "box_style": "",
            "children": [
              "IPY_MODEL_03679528d5314831a076edd39cc4406e",
              "IPY_MODEL_2b0c61f99dec461f9523af0ae36503fb",
              "IPY_MODEL_e78f51bfbad44aa5a462c28966904db3"
            ],
            "layout": "IPY_MODEL_cae3643153444320917b1d25f1bd381e"
          }
        },
        "03679528d5314831a076edd39cc4406e": {
          "model_module": "@jupyter-widgets/controls",
          "model_name": "HTMLModel",
          "model_module_version": "1.5.0",
          "state": {
            "_dom_classes": [],
            "_model_module": "@jupyter-widgets/controls",
            "_model_module_version": "1.5.0",
            "_model_name": "HTMLModel",
            "_view_count": null,
            "_view_module": "@jupyter-widgets/controls",
            "_view_module_version": "1.5.0",
            "_view_name": "HTMLView",
            "description": "",
            "description_tooltip": null,
            "layout": "IPY_MODEL_5750a1ee47ad4cb49a43087b62c3d6b5",
            "placeholder": "​",
            "style": "IPY_MODEL_7755fbe8fe9f4bc2a48ef01f47ccce22",
            "value": "Epochs Completed: 100%"
          }
        },
        "2b0c61f99dec461f9523af0ae36503fb": {
          "model_module": "@jupyter-widgets/controls",
          "model_name": "FloatProgressModel",
          "model_module_version": "1.5.0",
          "state": {
            "_dom_classes": [],
            "_model_module": "@jupyter-widgets/controls",
            "_model_module_version": "1.5.0",
            "_model_name": "FloatProgressModel",
            "_view_count": null,
            "_view_module": "@jupyter-widgets/controls",
            "_view_module_version": "1.5.0",
            "_view_name": "ProgressView",
            "bar_style": "success",
            "description": "",
            "description_tooltip": null,
            "layout": "IPY_MODEL_412f48731ec24cf2afe5989379c69224",
            "max": 20,
            "min": 0,
            "orientation": "horizontal",
            "style": "IPY_MODEL_80d7610363fd42cc98e8870914776dc6",
            "value": 20
          }
        },
        "e78f51bfbad44aa5a462c28966904db3": {
          "model_module": "@jupyter-widgets/controls",
          "model_name": "HTMLModel",
          "model_module_version": "1.5.0",
          "state": {
            "_dom_classes": [],
            "_model_module": "@jupyter-widgets/controls",
            "_model_module_version": "1.5.0",
            "_model_name": "HTMLModel",
            "_view_count": null,
            "_view_module": "@jupyter-widgets/controls",
            "_view_module_version": "1.5.0",
            "_view_name": "HTMLView",
            "description": "",
            "description_tooltip": null,
            "layout": "IPY_MODEL_2f74ed5df54e4cb09392ddfd983ef808",
            "placeholder": "​",
            "style": "IPY_MODEL_6d4f5f2cdfbe4b2ca16cbeaff0adce46",
            "value": " 20/20 [2:00:58&lt;00:00, 358.86s/it]"
          }
        },
        "cae3643153444320917b1d25f1bd381e": {
          "model_module": "@jupyter-widgets/base",
          "model_name": "LayoutModel",
          "model_module_version": "1.2.0",
          "state": {
            "_model_module": "@jupyter-widgets/base",
            "_model_module_version": "1.2.0",
            "_model_name": "LayoutModel",
            "_view_count": null,
            "_view_module": "@jupyter-widgets/base",
            "_view_module_version": "1.2.0",
            "_view_name": "LayoutView",
            "align_content": null,
            "align_items": null,
            "align_self": null,
            "border": null,
            "bottom": null,
            "display": null,
            "flex": null,
            "flex_flow": null,
            "grid_area": null,
            "grid_auto_columns": null,
            "grid_auto_flow": null,
            "grid_auto_rows": null,
            "grid_column": null,
            "grid_gap": null,
            "grid_row": null,
            "grid_template_areas": null,
            "grid_template_columns": null,
            "grid_template_rows": null,
            "height": null,
            "justify_content": null,
            "justify_items": null,
            "left": null,
            "margin": null,
            "max_height": null,
            "max_width": null,
            "min_height": null,
            "min_width": null,
            "object_fit": null,
            "object_position": null,
            "order": null,
            "overflow": null,
            "overflow_x": null,
            "overflow_y": null,
            "padding": null,
            "right": null,
            "top": null,
            "visibility": null,
            "width": null
          }
        },
        "5750a1ee47ad4cb49a43087b62c3d6b5": {
          "model_module": "@jupyter-widgets/base",
          "model_name": "LayoutModel",
          "model_module_version": "1.2.0",
          "state": {
            "_model_module": "@jupyter-widgets/base",
            "_model_module_version": "1.2.0",
            "_model_name": "LayoutModel",
            "_view_count": null,
            "_view_module": "@jupyter-widgets/base",
            "_view_module_version": "1.2.0",
            "_view_name": "LayoutView",
            "align_content": null,
            "align_items": null,
            "align_self": null,
            "border": null,
            "bottom": null,
            "display": null,
            "flex": null,
            "flex_flow": null,
            "grid_area": null,
            "grid_auto_columns": null,
            "grid_auto_flow": null,
            "grid_auto_rows": null,
            "grid_column": null,
            "grid_gap": null,
            "grid_row": null,
            "grid_template_areas": null,
            "grid_template_columns": null,
            "grid_template_rows": null,
            "height": null,
            "justify_content": null,
            "justify_items": null,
            "left": null,
            "margin": null,
            "max_height": null,
            "max_width": null,
            "min_height": null,
            "min_width": null,
            "object_fit": null,
            "object_position": null,
            "order": null,
            "overflow": null,
            "overflow_x": null,
            "overflow_y": null,
            "padding": null,
            "right": null,
            "top": null,
            "visibility": null,
            "width": null
          }
        },
        "7755fbe8fe9f4bc2a48ef01f47ccce22": {
          "model_module": "@jupyter-widgets/controls",
          "model_name": "DescriptionStyleModel",
          "model_module_version": "1.5.0",
          "state": {
            "_model_module": "@jupyter-widgets/controls",
            "_model_module_version": "1.5.0",
            "_model_name": "DescriptionStyleModel",
            "_view_count": null,
            "_view_module": "@jupyter-widgets/base",
            "_view_module_version": "1.2.0",
            "_view_name": "StyleView",
            "description_width": ""
          }
        },
        "412f48731ec24cf2afe5989379c69224": {
          "model_module": "@jupyter-widgets/base",
          "model_name": "LayoutModel",
          "model_module_version": "1.2.0",
          "state": {
            "_model_module": "@jupyter-widgets/base",
            "_model_module_version": "1.2.0",
            "_model_name": "LayoutModel",
            "_view_count": null,
            "_view_module": "@jupyter-widgets/base",
            "_view_module_version": "1.2.0",
            "_view_name": "LayoutView",
            "align_content": null,
            "align_items": null,
            "align_self": null,
            "border": null,
            "bottom": null,
            "display": null,
            "flex": null,
            "flex_flow": null,
            "grid_area": null,
            "grid_auto_columns": null,
            "grid_auto_flow": null,
            "grid_auto_rows": null,
            "grid_column": null,
            "grid_gap": null,
            "grid_row": null,
            "grid_template_areas": null,
            "grid_template_columns": null,
            "grid_template_rows": null,
            "height": null,
            "justify_content": null,
            "justify_items": null,
            "left": null,
            "margin": null,
            "max_height": null,
            "max_width": null,
            "min_height": null,
            "min_width": null,
            "object_fit": null,
            "object_position": null,
            "order": null,
            "overflow": null,
            "overflow_x": null,
            "overflow_y": null,
            "padding": null,
            "right": null,
            "top": null,
            "visibility": null,
            "width": null
          }
        },
        "80d7610363fd42cc98e8870914776dc6": {
          "model_module": "@jupyter-widgets/controls",
          "model_name": "ProgressStyleModel",
          "model_module_version": "1.5.0",
          "state": {
            "_model_module": "@jupyter-widgets/controls",
            "_model_module_version": "1.5.0",
            "_model_name": "ProgressStyleModel",
            "_view_count": null,
            "_view_module": "@jupyter-widgets/base",
            "_view_module_version": "1.2.0",
            "_view_name": "StyleView",
            "bar_color": null,
            "description_width": ""
          }
        },
        "2f74ed5df54e4cb09392ddfd983ef808": {
          "model_module": "@jupyter-widgets/base",
          "model_name": "LayoutModel",
          "model_module_version": "1.2.0",
          "state": {
            "_model_module": "@jupyter-widgets/base",
            "_model_module_version": "1.2.0",
            "_model_name": "LayoutModel",
            "_view_count": null,
            "_view_module": "@jupyter-widgets/base",
            "_view_module_version": "1.2.0",
            "_view_name": "LayoutView",
            "align_content": null,
            "align_items": null,
            "align_self": null,
            "border": null,
            "bottom": null,
            "display": null,
            "flex": null,
            "flex_flow": null,
            "grid_area": null,
            "grid_auto_columns": null,
            "grid_auto_flow": null,
            "grid_auto_rows": null,
            "grid_column": null,
            "grid_gap": null,
            "grid_row": null,
            "grid_template_areas": null,
            "grid_template_columns": null,
            "grid_template_rows": null,
            "height": null,
            "justify_content": null,
            "justify_items": null,
            "left": null,
            "margin": null,
            "max_height": null,
            "max_width": null,
            "min_height": null,
            "min_width": null,
            "object_fit": null,
            "object_position": null,
            "order": null,
            "overflow": null,
            "overflow_x": null,
            "overflow_y": null,
            "padding": null,
            "right": null,
            "top": null,
            "visibility": null,
            "width": null
          }
        },
        "6d4f5f2cdfbe4b2ca16cbeaff0adce46": {
          "model_module": "@jupyter-widgets/controls",
          "model_name": "DescriptionStyleModel",
          "model_module_version": "1.5.0",
          "state": {
            "_model_module": "@jupyter-widgets/controls",
            "_model_module_version": "1.5.0",
            "_model_name": "DescriptionStyleModel",
            "_view_count": null,
            "_view_module": "@jupyter-widgets/base",
            "_view_module_version": "1.2.0",
            "_view_name": "StyleView",
            "description_width": ""
          }
        }
      }
    }
  },
  "nbformat": 4,
  "nbformat_minor": 5
}
