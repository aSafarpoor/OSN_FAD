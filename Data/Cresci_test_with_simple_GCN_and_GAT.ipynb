{
  "nbformat": 4,
  "nbformat_minor": 0,
  "metadata": {
    "colab": {
      "provenance": [],
      "authorship_tag": "ABX9TyMwyOEXoxmXynv4M6rGe9qP",
      "include_colab_link": true
    },
    "kernelspec": {
      "name": "python3",
      "display_name": "Python 3"
    },
    "language_info": {
      "name": "python"
    }
  },
  "cells": [
    {
      "cell_type": "markdown",
      "metadata": {
        "id": "view-in-github",
        "colab_type": "text"
      },
      "source": [
        "<a href=\"https://colab.research.google.com/github/aSafarpoor/OSN_FAD/blob/main/Data/Cresci_test_with_simple_GCN_and_GAT.ipynb\" target=\"_parent\"><img src=\"https://colab.research.google.com/assets/colab-badge.svg\" alt=\"Open In Colab\"/></a>"
      ]
    },
    {
      "cell_type": "code",
      "execution_count": 16,
      "metadata": {
        "colab": {
          "base_uri": "https://localhost:8080/"
        },
        "id": "iis0DyfXd4sV",
        "outputId": "18fb4f4c-66bf-4a2c-bd19-540d2f7230c2"
      },
      "outputs": [
        {
          "output_type": "stream",
          "name": "stdout",
          "text": [
            "Requirement already satisfied: torch_geometric in /usr/local/lib/python3.10/dist-packages (2.6.1)\n",
            "Requirement already satisfied: aiohttp in /usr/local/lib/python3.10/dist-packages (from torch_geometric) (3.11.1)\n",
            "Requirement already satisfied: fsspec in /usr/local/lib/python3.10/dist-packages (from torch_geometric) (2024.10.0)\n",
            "Requirement already satisfied: jinja2 in /usr/local/lib/python3.10/dist-packages (from torch_geometric) (3.1.4)\n",
            "Requirement already satisfied: numpy in /usr/local/lib/python3.10/dist-packages (from torch_geometric) (1.26.4)\n",
            "Requirement already satisfied: psutil>=5.8.0 in /usr/local/lib/python3.10/dist-packages (from torch_geometric) (5.9.5)\n",
            "Requirement already satisfied: pyparsing in /usr/local/lib/python3.10/dist-packages (from torch_geometric) (3.2.0)\n",
            "Requirement already satisfied: requests in /usr/local/lib/python3.10/dist-packages (from torch_geometric) (2.32.3)\n",
            "Requirement already satisfied: tqdm in /usr/local/lib/python3.10/dist-packages (from torch_geometric) (4.66.6)\n",
            "Requirement already satisfied: aiohappyeyeballs>=2.3.0 in /usr/local/lib/python3.10/dist-packages (from aiohttp->torch_geometric) (2.4.3)\n",
            "Requirement already satisfied: aiosignal>=1.1.2 in /usr/local/lib/python3.10/dist-packages (from aiohttp->torch_geometric) (1.3.1)\n",
            "Requirement already satisfied: attrs>=17.3.0 in /usr/local/lib/python3.10/dist-packages (from aiohttp->torch_geometric) (24.2.0)\n",
            "Requirement already satisfied: frozenlist>=1.1.1 in /usr/local/lib/python3.10/dist-packages (from aiohttp->torch_geometric) (1.5.0)\n",
            "Requirement already satisfied: multidict<7.0,>=4.5 in /usr/local/lib/python3.10/dist-packages (from aiohttp->torch_geometric) (6.1.0)\n",
            "Requirement already satisfied: propcache>=0.2.0 in /usr/local/lib/python3.10/dist-packages (from aiohttp->torch_geometric) (0.2.0)\n",
            "Requirement already satisfied: yarl<2.0,>=1.17.0 in /usr/local/lib/python3.10/dist-packages (from aiohttp->torch_geometric) (1.17.1)\n",
            "Requirement already satisfied: async-timeout<6.0,>=4.0 in /usr/local/lib/python3.10/dist-packages (from aiohttp->torch_geometric) (4.0.3)\n",
            "Requirement already satisfied: MarkupSafe>=2.0 in /usr/local/lib/python3.10/dist-packages (from jinja2->torch_geometric) (3.0.2)\n",
            "Requirement already satisfied: charset-normalizer<4,>=2 in /usr/local/lib/python3.10/dist-packages (from requests->torch_geometric) (3.4.0)\n",
            "Requirement already satisfied: idna<4,>=2.5 in /usr/local/lib/python3.10/dist-packages (from requests->torch_geometric) (3.10)\n",
            "Requirement already satisfied: urllib3<3,>=1.21.1 in /usr/local/lib/python3.10/dist-packages (from requests->torch_geometric) (2.2.3)\n",
            "Requirement already satisfied: certifi>=2017.4.17 in /usr/local/lib/python3.10/dist-packages (from requests->torch_geometric) (2024.8.30)\n",
            "Requirement already satisfied: typing-extensions>=4.1.0 in /usr/local/lib/python3.10/dist-packages (from multidict<7.0,>=4.5->aiohttp->torch_geometric) (4.12.2)\n"
          ]
        }
      ],
      "source": [
        "!pip install torch_geometric"
      ]
    },
    {
      "cell_type": "code",
      "source": [
        "import networkx as nx\n",
        "import numpy as np\n",
        "from tqdm import tqdm\n",
        "from matplotlib import pyplot as plt\n",
        "import random\n",
        "\n",
        "\n",
        "import torch\n",
        "import torch.nn.functional as F\n",
        "from torch_geometric.nn import GCNConv, GATConv, GINConv\n",
        "from sklearn.metrics import roc_curve,accuracy_score, roc_auc_score, confusion_matrix\n",
        "import torch.nn as nn\n",
        "\n",
        "\n",
        "SEED = 10\n",
        "random.seed(SEED)"
      ],
      "metadata": {
        "id": "Ml0k9wLjebgE"
      },
      "execution_count": 17,
      "outputs": []
    },
    {
      "cell_type": "markdown",
      "source": [
        "#read files"
      ],
      "metadata": {
        "id": "T3VDk41Oo0tR"
      }
    },
    {
      "cell_type": "code",
      "source": [
        "import tarfile\n",
        "\n",
        "file_name = \"Cresci.tar.xz\"\n",
        "\n",
        "with tarfile.open(file_name, \"r:xz\") as tar:\n",
        "    tar.extractall()\n",
        "    tar.list()"
      ],
      "metadata": {
        "colab": {
          "base_uri": "https://localhost:8080/"
        },
        "id": "o3wAmMW7eg7n",
        "outputId": "b9686e61-3639-4849-c25a-d30717c628d6"
      },
      "execution_count": 18,
      "outputs": [
        {
          "output_type": "stream",
          "name": "stdout",
          "text": [
            "?r-xr-xr-x 0/0          0 2024-11-19 03:53:22 Cresci/ \n",
            "?rw-rw-rw- 0/0      19098 2024-11-19 03:26:23 Cresci/benigns.txt \n",
            "?rw-rw-rw- 0/0   35918725 2024-11-19 03:26:04 Cresci/follower_edges.txt \n",
            "?rw-rw-rw- 0/0   47439805 2024-11-19 03:26:09 Cresci/friend_edges.txt \n",
            "?rw-rw-rw- 0/0      34621 2024-11-19 03:26:17 Cresci/sybils.txt \n",
            "?rw-rw-rw- 0/0   10466507 2024-11-19 03:15:13 Cresci/testNodes.txt \n",
            "?rw-rw-rw- 0/0    2473061 2024-11-19 03:15:01 Cresci/trainNodes.txt \n"
          ]
        }
      ]
    },
    {
      "cell_type": "code",
      "source": [
        "file_name = \"Cresci/benigns.txt\"\n",
        "with open(file_name, \"r\") as file:\n",
        "    lines = file.readlines()\n",
        "benigns = [line.strip() for line in lines]\n",
        "\n",
        "file_name = \"Cresci/sybils.txt\"\n",
        "with open(file_name, \"r\") as file:\n",
        "    lines = file.readlines()\n",
        "sybils = [line.strip() for line in lines]\n",
        "\n",
        "file_name = \"Cresci/trainNodes.txt\"\n",
        "with open(file_name, \"r\") as file:\n",
        "    lines = file.readlines()\n",
        "trainNodes = [line.strip() for line in lines]\n",
        "\n",
        "file_name = \"Cresci/testNodes.txt\"\n",
        "with open(file_name, \"r\") as file:\n",
        "    lines = file.readlines()\n",
        "testNodes = [line.strip() for line in lines]\n",
        "\n",
        "edges1 = []\n",
        "file_name = \"Cresci/friend_edges.txt\"\n",
        "with open(file_name, \"r\") as file:\n",
        "    edges1 = [tuple( line.strip().split()) for line in file]\n",
        "\n",
        "edges2 = []\n",
        "file_name = \"Cresci/follower_edges.txt\"\n",
        "with open(file_name, \"r\") as file:\n",
        "    edges2 = [tuple( line.strip().split()) for line in file]\n",
        "\n",
        "edges = edges1[:]+edges2[:]\n",
        "edges1 = []\n",
        "edges2 = []"
      ],
      "metadata": {
        "id": "Q26Uxz-Sev40"
      },
      "execution_count": 19,
      "outputs": []
    },
    {
      "cell_type": "code",
      "source": [
        "def renumber_nodes(trainNodes, testNodes, benigns, sybils, edges):\n",
        "    train_mapping = {node: idx for idx, node in enumerate(trainNodes)}\n",
        "    test_start_idx = len(trainNodes)\n",
        "    test_mapping = {node: idx for idx, node in enumerate(testNodes, start=test_start_idx)}\n",
        "    node_mapping = {**train_mapping, **test_mapping}\n",
        "    updated_trainNodes = [node_mapping[node] for node in trainNodes]\n",
        "    updated_testNodes = [node_mapping[node] for node in testNodes]\n",
        "    updated_benigns = [node_mapping[node] for node in benigns if node in node_mapping]\n",
        "    updated_sybils = [node_mapping[node] for node in sybils if node in node_mapping]\n",
        "    updated_edges = [(node_mapping[src], node_mapping[dst]) for src, dst in edges if src in node_mapping and dst in node_mapping]\n",
        "    return updated_trainNodes, updated_testNodes, updated_benigns, updated_sybils, updated_edges\n",
        "\n",
        "trainNodes, testNodes, benigns, sybils, edges = renumber_nodes(trainNodes, testNodes, benigns, sybils, edges)"
      ],
      "metadata": {
        "id": "xMQP4d7QzO5T"
      },
      "execution_count": 20,
      "outputs": []
    },
    {
      "cell_type": "markdown",
      "source": [
        "# Models"
      ],
      "metadata": {
        "id": "3ob3inB4o3VB"
      }
    },
    {
      "cell_type": "code",
      "source": [
        "class GCN(torch.nn.Module):\n",
        "    def __init__(self, input_dim, hidden_dim, output_dim, num_layers, dropout=True):\n",
        "        super(GCN, self).__init__()\n",
        "        self.dropout = dropout\n",
        "        self.convs = torch.nn.ModuleList()\n",
        "        self.num_classes = output_dim\n",
        "        for i in range(num_layers):\n",
        "            if i == 0:  # First layer\n",
        "                self.convs.append(GCNConv(input_dim, hidden_dim, bias=True))\n",
        "            elif i == num_layers - 1:  # Last layer\n",
        "                self.convs.append(GCNConv(hidden_dim, output_dim, bias=True))\n",
        "            else:  # Middle layers\n",
        "                self.convs.append(GCNConv(hidden_dim, hidden_dim, bias=True))\n",
        "\n",
        "    def forward(self, x, edge_index):\n",
        "        h = x\n",
        "        i = 0\n",
        "        for conv in self.convs:\n",
        "            if self.dropout:\n",
        "                h = F.dropout(h, p=0.5, training=self.training)\n",
        "            h = conv(h, edge_index)\n",
        "            if i < len(self.convs) - 1:\n",
        "                h = F.tanh(h)\n",
        "            i += 1\n",
        "\n",
        "        if self.num_classes == 1:\n",
        "            return F.sigmoid(h)\n",
        "        else:\n",
        "            return F.softmax(h, dim=1)"
      ],
      "metadata": {
        "id": "kPXzs3NuoIog"
      },
      "execution_count": 21,
      "outputs": []
    },
    {
      "cell_type": "code",
      "source": [
        "class GAT(torch.nn.Module):\n",
        "    def __init__(self, input_dim, hidden_dim, output_dim, num_layers, heads=1, dropout=True):\n",
        "        super(GAT, self).__init__()\n",
        "        self.dropout = dropout\n",
        "        self.convs = torch.nn.ModuleList()\n",
        "        self.num_classes = output_dim\n",
        "        self.heads = heads\n",
        "\n",
        "        for i in range(num_layers):\n",
        "            if i == 0:  # First layer\n",
        "                self.convs.append(GATConv(input_dim, hidden_dim, heads=heads, concat=True, bias=True))\n",
        "            elif i == num_layers - 1:  # Last layer\n",
        "                self.convs.append(GATConv(hidden_dim * heads, output_dim, heads=1, concat=False, bias=True))\n",
        "            else:  # Middle layers\n",
        "                self.convs.append(GATConv(hidden_dim * heads, hidden_dim, heads=heads, concat=True, bias=True))\n",
        "\n",
        "    def forward(self, x, edge_index):\n",
        "        h = x\n",
        "        for i, conv in enumerate(self.convs):\n",
        "            if self.dropout:\n",
        "                h = F.dropout(h, p=0.5, training=self.training)\n",
        "            h = conv(h, edge_index)\n",
        "            if i < len(self.convs) - 1:  # Apply activation only for hidden layers\n",
        "                h = F.elu(h)  # ELU is often preferred for GAT\n",
        "        if self.num_classes == 1:\n",
        "            return F.sigmoid(h)\n",
        "        else:\n",
        "            return F.log_softmax(h, dim=1)"
      ],
      "metadata": {
        "id": "aqipr2zkoJGe"
      },
      "execution_count": 22,
      "outputs": []
    },
    {
      "cell_type": "code",
      "source": [
        "def create_datasets(all_nodes, train_nodes, test_nodes, benign_nodes, sybil_nodes, ratio_of_known_trains, ratio_of_known_tests,SEED):\n",
        "\n",
        "    random.seed(SEED)\n",
        "\n",
        "    labels = {node: 0.5 for node in all_nodes}  # Unknown nodes default to 0.5\n",
        "    for node in benign_nodes:\n",
        "        labels[node] = 0\n",
        "    for node in sybil_nodes:\n",
        "        labels[node] = 1\n",
        "\n",
        "    train_x = [labels[node] for node in train_nodes]\n",
        "    for i in range(len(train_x)):\n",
        "        if train_x[i] != 0.5:\n",
        "            if random.random()>ratio_of_known_trains:\n",
        "                train_x[i] = 0.5\n",
        "    train_y = [labels[node] for node in train_nodes]\n",
        "\n",
        "\n",
        "    test_x = [labels[node] for node in test_nodes]\n",
        "    for i in range(len(test_x)):\n",
        "        if test_x[i] != 0.5:\n",
        "            if random.random()>ratio_of_known_tests:\n",
        "                test_x[i] = 0.5\n",
        "    test_y = [labels[node] for node in test_nodes]\n",
        "\n",
        "    mask_test = [i != 0.5 for i in test_y]\n",
        "    mask_test_sybils = [i == 1 for i in test_y]\n",
        "\n",
        "\n",
        "    train_x = torch.tensor(train_x, dtype=torch.float).reshape(-1,1)\n",
        "    train_y = torch.tensor(train_y, dtype=torch.float).reshape(-1,1)\n",
        "    test_x = torch.tensor(test_x, dtype=torch.float).reshape(-1,1)\n",
        "    test_y = torch.tensor(test_y, dtype=torch.float).reshape(-1,1)\n",
        "\n",
        "    return train_x, test_x, train_y, test_y, mask_test, mask_test_sybils"
      ],
      "metadata": {
        "id": "9IujKHivqV6m"
      },
      "execution_count": 23,
      "outputs": []
    },
    {
      "cell_type": "code",
      "source": [
        "train_x, test_x, train_y, test_y, mask_test, mask_test_sybils = create_datasets(all_nodes = trainNodes + testNodes,\n",
        "                                                                                train_nodes = trainNodes,\n",
        "                                                                                test_nodes = testNodes,\n",
        "                                                                                benign_nodes = benigns,\n",
        "                                                                                sybil_nodes = sybils,\n",
        "                                                                                ratio_of_known_trains = 0.5,\n",
        "                                                                                ratio_of_known_tests = 0.5,\n",
        "                                                                                SEED = 1)"
      ],
      "metadata": {
        "id": "L5AQS7gRs19O"
      },
      "execution_count": 24,
      "outputs": []
    },
    {
      "cell_type": "code",
      "source": [],
      "metadata": {
        "id": "E7VHWQdr0GMZ"
      },
      "execution_count": 24,
      "outputs": []
    },
    {
      "cell_type": "code",
      "source": [
        "g = nx.Graph()\n",
        "g.add_edges_from(edges)\n",
        "\n",
        "\n",
        "temp = list(g.subgraph(trainNodes).edges())\n",
        "trainEdges = [[i[0] for i in temp],[i[1] for i in temp[:]]]\n",
        "temp = list(g.subgraph(testNodes).edges())\n",
        "testEdges = [[i[0] for i in temp],[i[1] for i in temp[:]]]\n",
        "\n",
        "trainEdges = torch.tensor(trainEdges, dtype=torch.long)\n",
        "testEdges = torch.tensor(testEdges, dtype=torch.long)\n"
      ],
      "metadata": {
        "id": "leEQYBkev5VJ"
      },
      "execution_count": 25,
      "outputs": []
    },
    {
      "cell_type": "code",
      "source": [
        "def train_model(model, train_x, train_y, train_edge_index, epochs=100, lr=0.01):\n",
        "\n",
        "    optimizer = torch.optim.Adam(model.parameters(), lr=lr)\n",
        "    # loss_fn = torch.nn.CrossEntropyLoss()\n",
        "    loss_fn = torch.nn.MSELoss()\n",
        "\n",
        "\n",
        "    model.train()\n",
        "    for epoch in tqdm(range(epochs)):\n",
        "        optimizer.zero_grad()\n",
        "        output = model(train_x, train_edge_index)\n",
        "        loss = loss_fn(output, train_y)\n",
        "        loss.backward()\n",
        "        optimizer.step()\n",
        "\n",
        "        if (epoch + 1) % 20 == 0 or epoch == 0:\n",
        "            print(f'Epoch {epoch + 1}/{epochs}, Loss: {loss.item():.4f}')\n",
        "\n",
        "    return model\n",
        "\n"
      ],
      "metadata": {
        "id": "IiLUYrzMurL7"
      },
      "execution_count": 26,
      "outputs": []
    },
    {
      "cell_type": "code",
      "source": [],
      "metadata": {
        "id": "iJ4EO9cv3F_3"
      },
      "execution_count": 26,
      "outputs": []
    },
    {
      "cell_type": "code",
      "source": [
        "def test_model(model, test_x, test_y, test_edge_index, mask=None, threshold=None):\n",
        "    model.eval()\n",
        "    with torch.no_grad():\n",
        "        output = model(test_x, test_edge_index)\n",
        "\n",
        "        # Apply mask if provided\n",
        "        if mask is not None:\n",
        "            output = output[mask]\n",
        "            test_y = test_y[mask]\n",
        "\n",
        "        # If output has shape [batch_size, 1], use the single column\n",
        "        output = output.squeeze(1)  # Converts shape [batch_size, 1] -> [batch_size]\n",
        "\n",
        "        # Compute AUC and find optimal threshold\n",
        "        try:\n",
        "            auc_score = roc_auc_score(test_y.cpu(), output.cpu())  # Adjust for single-class output\n",
        "            # Compute ROC curve\n",
        "            fpr, tpr, thresholds = roc_curve(test_y.cpu(), output.cpu())\n",
        "            # Find optimal threshold using Youden's J statistic\n",
        "            j_scores = tpr - fpr\n",
        "            optimal_idx = j_scores.argmax()\n",
        "            if threshold is None:\n",
        "                threshold = thresholds[optimal_idx]\n",
        "\n",
        "        except Exception as e:\n",
        "            auc_score = None\n",
        "            if threshold is None:\n",
        "                threshold = 0.5  # Default threshold if AUC computation fails\n",
        "\n",
        "        # Apply the threshold to classify predictions\n",
        "        threshold_predictions = (output >= threshold).int().cpu()\n",
        "\n",
        "        # Compute accuracy using the threshold\n",
        "        accuracy_with_threshold = accuracy_score(test_y.cpu(), threshold_predictions)\n",
        "\n",
        "        # Compute confusion matrix\n",
        "        conf_matrix = confusion_matrix(test_y.cpu(), threshold_predictions)\n",
        "        normalized_cm = conf_matrix.astype('float') / len(test_y)\n",
        "\n",
        "        # Prepare metrics\n",
        "        metrics = {\n",
        "            \"accuracy\": accuracy_with_threshold,\n",
        "            \"auc\": auc_score,\n",
        "            \"optimal_threshold\": threshold,\n",
        "            \"confusion_matrix\": normalized_cm\n",
        "        }\n",
        "\n",
        "        # Print metrics\n",
        "        try:\n",
        "            print(f\"AUC: {auc_score:.3f}\")\n",
        "        except:\n",
        "            pass\n",
        "        # print(f\"Optimal Threshold: {threshold}\")\n",
        "        print(f\"ACC: {accuracy_with_threshold:.3f}\")\n",
        "        print(\"Confusion Matrix (Normalized):\")\n",
        "        try:\n",
        "            print(f\"                      Predicted Negative                       Predicted Positive\")\n",
        "            print(f\"Actual Negative       {normalized_cm[0, 0]:.3f}                {normalized_cm[0, 1]:.3f}\")\n",
        "            print(f\"Actual Positive       {normalized_cm[1, 0]:.3f}                {normalized_cm[1, 1]:.3f}\")\n",
        "        except:\n",
        "            pass\n",
        "        return metrics, threshold\n"
      ],
      "metadata": {
        "id": "0eN8z2I6wL0S"
      },
      "execution_count": 31,
      "outputs": []
    },
    {
      "cell_type": "code",
      "source": [
        "input_dim = 1\n",
        "hidden_dim = 16\n",
        "output_dim = 1\n",
        "model = GCN(input_dim, hidden_dim, output_dim, num_layers=3)\n",
        "\n",
        "model = train_model(model, train_x, train_y, trainEdges, epochs=100, lr=0.01)\n",
        "\n",
        "\n",
        "\n",
        "print(\"based on auc th\")\n",
        "metric,th = test_model(model, test_x, test_y, testEdges-len(train_x), mask = mask_test)\n",
        "metric,th = test_model(model, test_x, test_y, testEdges-len(train_x), mask = mask_test_sybils, threshold = th)\n",
        "print(\"\\n\\n\")\n",
        "print(\"based on 0.5\")\n",
        "metric,th = test_model(model, test_x, test_y, testEdges-len(train_x), mask = mask_test, threshold = 0.5)\n",
        "metric,th = test_model(model, test_x, test_y, testEdges-len(train_x), mask = mask_test_sybils, threshold = 0.5)"
      ],
      "metadata": {
        "colab": {
          "base_uri": "https://localhost:8080/"
        },
        "id": "0F1QX6yk_HNT",
        "outputId": "539d80f7-d5a1-4c9c-f8fc-1825f1d4875b"
      },
      "execution_count": 28,
      "outputs": [
        {
          "output_type": "stream",
          "name": "stderr",
          "text": [
            "  1%|          | 1/100 [00:01<01:43,  1.05s/it]"
          ]
        },
        {
          "output_type": "stream",
          "name": "stdout",
          "text": [
            "Epoch 1/100, Loss: 0.0081\n"
          ]
        },
        {
          "output_type": "stream",
          "name": "stderr",
          "text": [
            " 20%|██        | 20/100 [00:18<01:14,  1.08it/s]"
          ]
        },
        {
          "output_type": "stream",
          "name": "stdout",
          "text": [
            "Epoch 20/100, Loss: 0.0015\n"
          ]
        },
        {
          "output_type": "stream",
          "name": "stderr",
          "text": [
            " 40%|████      | 40/100 [00:36<00:57,  1.04it/s]"
          ]
        },
        {
          "output_type": "stream",
          "name": "stdout",
          "text": [
            "Epoch 40/100, Loss: 0.0012\n"
          ]
        },
        {
          "output_type": "stream",
          "name": "stderr",
          "text": [
            " 60%|██████    | 60/100 [00:53<00:31,  1.27it/s]"
          ]
        },
        {
          "output_type": "stream",
          "name": "stdout",
          "text": [
            "Epoch 60/100, Loss: 0.0011\n"
          ]
        },
        {
          "output_type": "stream",
          "name": "stderr",
          "text": [
            " 80%|████████  | 80/100 [01:13<00:18,  1.06it/s]"
          ]
        },
        {
          "output_type": "stream",
          "name": "stdout",
          "text": [
            "Epoch 80/100, Loss: 0.0011\n"
          ]
        },
        {
          "output_type": "stream",
          "name": "stderr",
          "text": [
            "100%|██████████| 100/100 [01:32<00:00,  1.08it/s]"
          ]
        },
        {
          "output_type": "stream",
          "name": "stdout",
          "text": [
            "Epoch 100/100, Loss: 0.0011\n",
            "based on auc th\n"
          ]
        },
        {
          "output_type": "stream",
          "name": "stderr",
          "text": [
            "\n"
          ]
        },
        {
          "output_type": "stream",
          "name": "stdout",
          "text": [
            "AUC: 0.778\n",
            "ACC: 0.707\n",
            "Confusion Matrix (Normalized):\n",
            "                      Predicted Negative                       Predicted Positive\n",
            "Actual Negative       0.279                0.081\n",
            "Actual Positive       0.213                0.427\n",
            "ACC: 0.668\n",
            "Confusion Matrix (Normalized):\n",
            "                      Predicted Negative                       Predicted Positive\n",
            "Actual Negative       0.000                0.000\n",
            "Actual Positive       0.332                0.668\n",
            "\n",
            "\n",
            "\n",
            "based on 0.5\n",
            "AUC: 0.778\n",
            "ACC: 0.551\n",
            "Confusion Matrix (Normalized):\n",
            "                      Predicted Negative                       Predicted Positive\n",
            "Actual Negative       0.351                0.009\n",
            "Actual Positive       0.440                0.200\n",
            "ACC: 0.313\n",
            "Confusion Matrix (Normalized):\n",
            "                      Predicted Negative                       Predicted Positive\n",
            "Actual Negative       0.000                0.000\n",
            "Actual Positive       0.687                0.313\n"
          ]
        }
      ]
    },
    {
      "cell_type": "code",
      "source": [
        "input_dim = 1\n",
        "hidden_dim = 16\n",
        "output_dim = 1\n",
        "model = GAT(input_dim, hidden_dim, output_dim, num_layers=3, heads = 4)\n",
        "\n",
        "model = train_model(model, train_x, train_y, trainEdges, epochs=100, lr=0.01)\n",
        "\n",
        "\n",
        "print(\"based on auc th\")\n",
        "\n",
        "metric,th = test_model(model, test_x, test_y, testEdges-len(train_x), mask = mask_test)\n",
        "metric,th = test_model(model, test_x, test_y, testEdges-len(train_x), mask = mask_test_sybils, threshold = th)\n",
        "print(\"\\n\\n\")\n",
        "print(\"based on 0.5\")\n",
        "metric,th = test_model(model, test_x, test_y, testEdges-len(train_x), mask = mask_test, threshold = 0.5)\n",
        "metric,th = test_model(model, test_x, test_y, testEdges-len(train_x), mask = mask_test_sybils, threshold = 0.5)"
      ],
      "metadata": {
        "colab": {
          "base_uri": "https://localhost:8080/"
        },
        "id": "0FseYH_swL-C",
        "outputId": "b82aa91f-3fb1-46bf-e1c6-4afeffb93a11"
      },
      "execution_count": 32,
      "outputs": [
        {
          "output_type": "stream",
          "name": "stdout",
          "text": [
            "based on auc th\n",
            "AUC: 0.990\n",
            "ACC: 0.965\n",
            "Confusion Matrix (Normalized):\n",
            "                      Predicted Negative                       Predicted Positive\n",
            "Actual Negative       0.355                0.005\n",
            "Actual Positive       0.030                0.610\n",
            "ACC: 0.953\n",
            "Confusion Matrix (Normalized):\n",
            "                      Predicted Negative                       Predicted Positive\n",
            "Actual Negative       0.000                0.000\n",
            "Actual Positive       0.047                0.953\n",
            "\n",
            "\n",
            "\n",
            "based on 0.5\n",
            "AUC: 0.990\n",
            "ACC: 0.640\n",
            "Confusion Matrix (Normalized):\n",
            "                      Predicted Negative                       Predicted Positive\n",
            "Actual Negative       0.000                0.360\n",
            "Actual Positive       0.000                0.640\n",
            "ACC: 1.000\n",
            "Confusion Matrix (Normalized):\n",
            "                      Predicted Negative                       Predicted Positive\n"
          ]
        },
        {
          "output_type": "stream",
          "name": "stderr",
          "text": [
            "/usr/local/lib/python3.10/dist-packages/sklearn/metrics/_classification.py:409: UserWarning: A single label was found in 'y_true' and 'y_pred'. For the confusion matrix to have the correct shape, use the 'labels' parameter to pass all known labels.\n",
            "  warnings.warn(\n"
          ]
        }
      ]
    },
    {
      "cell_type": "code",
      "source": [
        "input_dim = 1\n",
        "hidden_dim = 8\n",
        "output_dim = 1\n",
        "model = GAT(input_dim, hidden_dim, output_dim, num_layers=4, heads = 4)\n",
        "\n",
        "model = train_model(model, train_x, train_y, trainEdges, epochs=100, lr=0.01)\n",
        "\n",
        "\n",
        "print(\"based on auc th\")\n",
        "\n",
        "metric,th = test_model(model, test_x, test_y, testEdges-len(train_x), mask = mask_test)\n",
        "metric,th = test_model(model, test_x, test_y, testEdges-len(train_x), mask = mask_test_sybils, threshold = th)\n",
        "print(\"\\n\\n\")\n",
        "print(\"based on 0.5\")\n",
        "metric,th = test_model(model, test_x, test_y, testEdges-len(train_x), mask = mask_test, threshold = 0.5)\n",
        "metric,th = test_model(model, test_x, test_y, testEdges-len(train_x), mask = mask_test_sybils, threshold = 0.5)"
      ],
      "metadata": {
        "id": "CjwxZTes7sJ5",
        "colab": {
          "base_uri": "https://localhost:8080/"
        },
        "outputId": "dcd5308f-e097-4254-a39a-c81a900d7d32"
      },
      "execution_count": 33,
      "outputs": [
        {
          "output_type": "stream",
          "name": "stderr",
          "text": [
            "  1%|          | 1/100 [00:04<08:05,  4.90s/it]"
          ]
        },
        {
          "output_type": "stream",
          "name": "stdout",
          "text": [
            "Epoch 1/100, Loss: 0.0088\n"
          ]
        },
        {
          "output_type": "stream",
          "name": "stderr",
          "text": [
            " 20%|██        | 20/100 [01:10<04:42,  3.53s/it]"
          ]
        },
        {
          "output_type": "stream",
          "name": "stdout",
          "text": [
            "Epoch 20/100, Loss: 0.0016\n"
          ]
        },
        {
          "output_type": "stream",
          "name": "stderr",
          "text": [
            " 40%|████      | 40/100 [02:25<03:50,  3.84s/it]"
          ]
        },
        {
          "output_type": "stream",
          "name": "stdout",
          "text": [
            "Epoch 40/100, Loss: 0.0012\n"
          ]
        },
        {
          "output_type": "stream",
          "name": "stderr",
          "text": [
            " 60%|██████    | 60/100 [03:37<02:29,  3.74s/it]"
          ]
        },
        {
          "output_type": "stream",
          "name": "stdout",
          "text": [
            "Epoch 60/100, Loss: 0.0012\n"
          ]
        },
        {
          "output_type": "stream",
          "name": "stderr",
          "text": [
            " 80%|████████  | 80/100 [04:56<01:09,  3.49s/it]"
          ]
        },
        {
          "output_type": "stream",
          "name": "stdout",
          "text": [
            "Epoch 80/100, Loss: 0.0011\n"
          ]
        },
        {
          "output_type": "stream",
          "name": "stderr",
          "text": [
            "100%|██████████| 100/100 [06:06<00:00,  3.66s/it]"
          ]
        },
        {
          "output_type": "stream",
          "name": "stdout",
          "text": [
            "Epoch 100/100, Loss: 0.0011\n",
            "based on auc th\n"
          ]
        },
        {
          "output_type": "stream",
          "name": "stderr",
          "text": [
            "\n"
          ]
        },
        {
          "output_type": "stream",
          "name": "stdout",
          "text": [
            "AUC: 0.993\n",
            "ACC: 0.977\n",
            "Confusion Matrix (Normalized):\n",
            "                      Predicted Negative                       Predicted Positive\n",
            "Actual Negative       0.354                0.006\n",
            "Actual Positive       0.017                0.623\n",
            "ACC: 0.973\n",
            "Confusion Matrix (Normalized):\n",
            "                      Predicted Negative                       Predicted Positive\n",
            "Actual Negative       0.000                0.000\n",
            "Actual Positive       0.027                0.973\n",
            "\n",
            "\n",
            "\n",
            "based on 0.5\n",
            "AUC: 0.993\n",
            "ACC: 0.640\n",
            "Confusion Matrix (Normalized):\n",
            "                      Predicted Negative                       Predicted Positive\n",
            "Actual Negative       0.000                0.360\n",
            "Actual Positive       0.000                0.640\n",
            "ACC: 1.000\n",
            "Confusion Matrix (Normalized):\n",
            "                      Predicted Negative                       Predicted Positive\n"
          ]
        },
        {
          "output_type": "stream",
          "name": "stderr",
          "text": [
            "/usr/local/lib/python3.10/dist-packages/sklearn/metrics/_classification.py:409: UserWarning: A single label was found in 'y_true' and 'y_pred'. For the confusion matrix to have the correct shape, use the 'labels' parameter to pass all known labels.\n",
            "  warnings.warn(\n"
          ]
        }
      ]
    },
    {
      "cell_type": "code",
      "source": [
        "input_dim = 1\n",
        "hidden_dim = 8\n",
        "output_dim = 1\n",
        "model = GAT(input_dim, hidden_dim, output_dim, num_layers=4, heads = 4)\n",
        "\n",
        "model = train_model(model, train_x, train_y, trainEdges, epochs=500, lr=0.01)\n",
        "\n",
        "\n",
        "print(\"based on auc th\")\n",
        "\n",
        "metric,th = test_model(model, test_x, test_y, testEdges-len(train_x), mask = mask_test)\n",
        "metric,th = test_model(model, test_x, test_y, testEdges-len(train_x), mask = mask_test_sybils, threshold = th)\n",
        "print(\"\\n\\n\")\n",
        "print(\"based on 0.5\")\n",
        "metric,th = test_model(model, test_x, test_y, testEdges-len(train_x), mask = mask_test, threshold = 0.5)\n",
        "metric,th = test_model(model, test_x, test_y, testEdges-len(train_x), mask = mask_test_sybils, threshold = 0.5)"
      ],
      "metadata": {
        "id": "KyalfOZEBMlt",
        "colab": {
          "base_uri": "https://localhost:8080/"
        },
        "outputId": "51b91635-a864-4142-dad1-754fe413516b"
      },
      "execution_count": 34,
      "outputs": [
        {
          "output_type": "stream",
          "name": "stderr",
          "text": [
            "  0%|          | 1/500 [00:02<21:09,  2.54s/it]"
          ]
        },
        {
          "output_type": "stream",
          "name": "stdout",
          "text": [
            "Epoch 1/500, Loss: 0.0065\n"
          ]
        },
        {
          "output_type": "stream",
          "name": "stderr",
          "text": [
            "  4%|▍         | 20/500 [01:07<33:43,  4.21s/it]"
          ]
        },
        {
          "output_type": "stream",
          "name": "stdout",
          "text": [
            "Epoch 20/500, Loss: 0.0013\n"
          ]
        },
        {
          "output_type": "stream",
          "name": "stderr",
          "text": [
            "  8%|▊         | 40/500 [02:07<21:38,  2.82s/it]"
          ]
        },
        {
          "output_type": "stream",
          "name": "stdout",
          "text": [
            "Epoch 40/500, Loss: 0.0011\n"
          ]
        },
        {
          "output_type": "stream",
          "name": "stderr",
          "text": [
            " 12%|█▏        | 60/500 [03:27<27:13,  3.71s/it]"
          ]
        },
        {
          "output_type": "stream",
          "name": "stdout",
          "text": [
            "Epoch 60/500, Loss: 0.0011\n"
          ]
        },
        {
          "output_type": "stream",
          "name": "stderr",
          "text": [
            " 16%|█▌        | 80/500 [04:30<25:43,  3.67s/it]"
          ]
        },
        {
          "output_type": "stream",
          "name": "stdout",
          "text": [
            "Epoch 80/500, Loss: 0.0011\n"
          ]
        },
        {
          "output_type": "stream",
          "name": "stderr",
          "text": [
            " 20%|██        | 100/500 [05:52<27:01,  4.05s/it]"
          ]
        },
        {
          "output_type": "stream",
          "name": "stdout",
          "text": [
            "Epoch 100/500, Loss: 0.0011\n"
          ]
        },
        {
          "output_type": "stream",
          "name": "stderr",
          "text": [
            " 24%|██▍       | 120/500 [07:15<25:30,  4.03s/it]"
          ]
        },
        {
          "output_type": "stream",
          "name": "stdout",
          "text": [
            "Epoch 120/500, Loss: 0.0011\n"
          ]
        },
        {
          "output_type": "stream",
          "name": "stderr",
          "text": [
            " 28%|██▊       | 140/500 [08:45<26:08,  4.36s/it]"
          ]
        },
        {
          "output_type": "stream",
          "name": "stdout",
          "text": [
            "Epoch 140/500, Loss: 0.0011\n"
          ]
        },
        {
          "output_type": "stream",
          "name": "stderr",
          "text": [
            " 32%|███▏      | 160/500 [10:09<24:30,  4.32s/it]"
          ]
        },
        {
          "output_type": "stream",
          "name": "stdout",
          "text": [
            "Epoch 160/500, Loss: 0.0011\n"
          ]
        },
        {
          "output_type": "stream",
          "name": "stderr",
          "text": [
            " 36%|███▌      | 180/500 [11:31<22:47,  4.27s/it]"
          ]
        },
        {
          "output_type": "stream",
          "name": "stdout",
          "text": [
            "Epoch 180/500, Loss: 0.0011\n"
          ]
        },
        {
          "output_type": "stream",
          "name": "stderr",
          "text": [
            " 40%|████      | 200/500 [12:53<21:14,  4.25s/it]"
          ]
        },
        {
          "output_type": "stream",
          "name": "stdout",
          "text": [
            "Epoch 200/500, Loss: 0.0011\n"
          ]
        },
        {
          "output_type": "stream",
          "name": "stderr",
          "text": [
            " 44%|████▍     | 220/500 [14:15<20:08,  4.31s/it]"
          ]
        },
        {
          "output_type": "stream",
          "name": "stdout",
          "text": [
            "Epoch 220/500, Loss: 0.0011\n"
          ]
        },
        {
          "output_type": "stream",
          "name": "stderr",
          "text": [
            " 48%|████▊     | 240/500 [15:38<18:52,  4.36s/it]"
          ]
        },
        {
          "output_type": "stream",
          "name": "stdout",
          "text": [
            "Epoch 240/500, Loss: 0.0011\n"
          ]
        },
        {
          "output_type": "stream",
          "name": "stderr",
          "text": [
            " 52%|█████▏    | 260/500 [17:01<17:32,  4.39s/it]"
          ]
        },
        {
          "output_type": "stream",
          "name": "stdout",
          "text": [
            "Epoch 260/500, Loss: 0.0011\n"
          ]
        },
        {
          "output_type": "stream",
          "name": "stderr",
          "text": [
            " 56%|█████▌    | 280/500 [18:19<12:40,  3.46s/it]"
          ]
        },
        {
          "output_type": "stream",
          "name": "stdout",
          "text": [
            "Epoch 280/500, Loss: 0.0011\n"
          ]
        },
        {
          "output_type": "stream",
          "name": "stderr",
          "text": [
            " 60%|██████    | 300/500 [19:40<14:00,  4.20s/it]"
          ]
        },
        {
          "output_type": "stream",
          "name": "stdout",
          "text": [
            "Epoch 300/500, Loss: 0.0011\n"
          ]
        },
        {
          "output_type": "stream",
          "name": "stderr",
          "text": [
            " 64%|██████▍   | 320/500 [21:03<12:20,  4.11s/it]"
          ]
        },
        {
          "output_type": "stream",
          "name": "stdout",
          "text": [
            "Epoch 320/500, Loss: 0.0011\n"
          ]
        },
        {
          "output_type": "stream",
          "name": "stderr",
          "text": [
            " 68%|██████▊   | 340/500 [22:15<07:30,  2.81s/it]"
          ]
        },
        {
          "output_type": "stream",
          "name": "stdout",
          "text": [
            "Epoch 340/500, Loss: 0.0011\n"
          ]
        },
        {
          "output_type": "stream",
          "name": "stderr",
          "text": [
            " 72%|███████▏  | 360/500 [23:36<09:51,  4.22s/it]"
          ]
        },
        {
          "output_type": "stream",
          "name": "stdout",
          "text": [
            "Epoch 360/500, Loss: 0.0011\n"
          ]
        },
        {
          "output_type": "stream",
          "name": "stderr",
          "text": [
            " 76%|███████▌  | 380/500 [24:42<07:00,  3.50s/it]"
          ]
        },
        {
          "output_type": "stream",
          "name": "stdout",
          "text": [
            "Epoch 380/500, Loss: 0.0011\n"
          ]
        },
        {
          "output_type": "stream",
          "name": "stderr",
          "text": [
            " 80%|████████  | 400/500 [26:06<06:59,  4.19s/it]"
          ]
        },
        {
          "output_type": "stream",
          "name": "stdout",
          "text": [
            "Epoch 400/500, Loss: 0.0011\n"
          ]
        },
        {
          "output_type": "stream",
          "name": "stderr",
          "text": [
            " 84%|████████▍ | 420/500 [27:30<05:31,  4.14s/it]"
          ]
        },
        {
          "output_type": "stream",
          "name": "stdout",
          "text": [
            "Epoch 420/500, Loss: 0.0011\n"
          ]
        },
        {
          "output_type": "stream",
          "name": "stderr",
          "text": [
            " 88%|████████▊ | 440/500 [28:42<03:05,  3.09s/it]"
          ]
        },
        {
          "output_type": "stream",
          "name": "stdout",
          "text": [
            "Epoch 440/500, Loss: 0.0011\n"
          ]
        },
        {
          "output_type": "stream",
          "name": "stderr",
          "text": [
            " 92%|█████████▏| 460/500 [29:47<02:07,  3.19s/it]"
          ]
        },
        {
          "output_type": "stream",
          "name": "stdout",
          "text": [
            "Epoch 460/500, Loss: 0.0011\n"
          ]
        },
        {
          "output_type": "stream",
          "name": "stderr",
          "text": [
            " 96%|█████████▌| 480/500 [31:10<01:22,  4.13s/it]"
          ]
        },
        {
          "output_type": "stream",
          "name": "stdout",
          "text": [
            "Epoch 480/500, Loss: 0.0011\n"
          ]
        },
        {
          "output_type": "stream",
          "name": "stderr",
          "text": [
            "100%|██████████| 500/500 [32:18<00:00,  3.88s/it]"
          ]
        },
        {
          "output_type": "stream",
          "name": "stdout",
          "text": [
            "Epoch 500/500, Loss: 0.0011\n",
            "based on auc th\n"
          ]
        },
        {
          "output_type": "stream",
          "name": "stderr",
          "text": [
            "\n"
          ]
        },
        {
          "output_type": "stream",
          "name": "stdout",
          "text": [
            "AUC: 0.991\n",
            "ACC: 0.967\n",
            "Confusion Matrix (Normalized):\n",
            "                      Predicted Negative                       Predicted Positive\n",
            "Actual Negative       0.354                0.006\n",
            "Actual Positive       0.027                0.613\n",
            "ACC: 0.957\n",
            "Confusion Matrix (Normalized):\n",
            "                      Predicted Negative                       Predicted Positive\n",
            "Actual Negative       0.000                0.000\n",
            "Actual Positive       0.043                0.957\n",
            "\n",
            "\n",
            "\n",
            "based on 0.5\n",
            "AUC: 0.991\n",
            "ACC: 0.640\n",
            "Confusion Matrix (Normalized):\n",
            "                      Predicted Negative                       Predicted Positive\n",
            "Actual Negative       0.000                0.360\n",
            "Actual Positive       0.000                0.640\n",
            "ACC: 1.000\n",
            "Confusion Matrix (Normalized):\n",
            "                      Predicted Negative                       Predicted Positive\n"
          ]
        },
        {
          "output_type": "stream",
          "name": "stderr",
          "text": [
            "/usr/local/lib/python3.10/dist-packages/sklearn/metrics/_classification.py:409: UserWarning: A single label was found in 'y_true' and 'y_pred'. For the confusion matrix to have the correct shape, use the 'labels' parameter to pass all known labels.\n",
            "  warnings.warn(\n"
          ]
        }
      ]
    },
    {
      "cell_type": "code",
      "source": [],
      "metadata": {
        "id": "CRvbcjl0BOR8"
      },
      "execution_count": 34,
      "outputs": []
    }
  ]
}