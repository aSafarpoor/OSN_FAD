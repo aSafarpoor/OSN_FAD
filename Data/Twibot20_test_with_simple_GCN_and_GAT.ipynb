{
  "nbformat": 4,
  "nbformat_minor": 0,
  "metadata": {
    "colab": {
      "provenance": [],
      "authorship_tag": "ABX9TyPCtHNHRUuAMHKYfeT4tmdk",
      "include_colab_link": true
    },
    "kernelspec": {
      "name": "python3",
      "display_name": "Python 3"
    },
    "language_info": {
      "name": "python"
    }
  },
  "cells": [
    {
      "cell_type": "markdown",
      "metadata": {
        "id": "view-in-github",
        "colab_type": "text"
      },
      "source": [
        "<a href=\"https://colab.research.google.com/github/aSafarpoor/OSN_FAD/blob/main/Data/Twibot20_test_with_simple_GCN_and_GAT.ipynb\" target=\"_parent\"><img src=\"https://colab.research.google.com/assets/colab-badge.svg\" alt=\"Open In Colab\"/></a>"
      ]
    },
    {
      "cell_type": "code",
      "execution_count": 1,
      "metadata": {
        "colab": {
          "base_uri": "https://localhost:8080/"
        },
        "id": "iis0DyfXd4sV",
        "outputId": "e922304d-9305-47f1-f127-626644d1d4b6"
      },
      "outputs": [
        {
          "output_type": "stream",
          "name": "stdout",
          "text": [
            "Collecting torch_geometric\n",
            "  Downloading torch_geometric-2.6.1-py3-none-any.whl.metadata (63 kB)\n",
            "\u001b[?25l     \u001b[90m━━━━━━━━━━━━━━━━━━━━━━━━━━━━━━━━━━━━━━━━\u001b[0m \u001b[32m0.0/63.1 kB\u001b[0m \u001b[31m?\u001b[0m eta \u001b[36m-:--:--\u001b[0m\r\u001b[2K     \u001b[90m━━━━━━━━━━━━━━━━━━━━━━━━━━━━━━━━━━━━━━━━\u001b[0m \u001b[32m63.1/63.1 kB\u001b[0m \u001b[31m2.3 MB/s\u001b[0m eta \u001b[36m0:00:00\u001b[0m\n",
            "\u001b[?25hRequirement already satisfied: aiohttp in /usr/local/lib/python3.10/dist-packages (from torch_geometric) (3.11.1)\n",
            "Requirement already satisfied: fsspec in /usr/local/lib/python3.10/dist-packages (from torch_geometric) (2024.10.0)\n",
            "Requirement already satisfied: jinja2 in /usr/local/lib/python3.10/dist-packages (from torch_geometric) (3.1.4)\n",
            "Requirement already satisfied: numpy in /usr/local/lib/python3.10/dist-packages (from torch_geometric) (1.26.4)\n",
            "Requirement already satisfied: psutil>=5.8.0 in /usr/local/lib/python3.10/dist-packages (from torch_geometric) (5.9.5)\n",
            "Requirement already satisfied: pyparsing in /usr/local/lib/python3.10/dist-packages (from torch_geometric) (3.2.0)\n",
            "Requirement already satisfied: requests in /usr/local/lib/python3.10/dist-packages (from torch_geometric) (2.32.3)\n",
            "Requirement already satisfied: tqdm in /usr/local/lib/python3.10/dist-packages (from torch_geometric) (4.66.6)\n",
            "Requirement already satisfied: aiohappyeyeballs>=2.3.0 in /usr/local/lib/python3.10/dist-packages (from aiohttp->torch_geometric) (2.4.3)\n",
            "Requirement already satisfied: aiosignal>=1.1.2 in /usr/local/lib/python3.10/dist-packages (from aiohttp->torch_geometric) (1.3.1)\n",
            "Requirement already satisfied: attrs>=17.3.0 in /usr/local/lib/python3.10/dist-packages (from aiohttp->torch_geometric) (24.2.0)\n",
            "Requirement already satisfied: frozenlist>=1.1.1 in /usr/local/lib/python3.10/dist-packages (from aiohttp->torch_geometric) (1.5.0)\n",
            "Requirement already satisfied: multidict<7.0,>=4.5 in /usr/local/lib/python3.10/dist-packages (from aiohttp->torch_geometric) (6.1.0)\n",
            "Requirement already satisfied: propcache>=0.2.0 in /usr/local/lib/python3.10/dist-packages (from aiohttp->torch_geometric) (0.2.0)\n",
            "Requirement already satisfied: yarl<2.0,>=1.17.0 in /usr/local/lib/python3.10/dist-packages (from aiohttp->torch_geometric) (1.17.1)\n",
            "Requirement already satisfied: async-timeout<6.0,>=4.0 in /usr/local/lib/python3.10/dist-packages (from aiohttp->torch_geometric) (4.0.3)\n",
            "Requirement already satisfied: MarkupSafe>=2.0 in /usr/local/lib/python3.10/dist-packages (from jinja2->torch_geometric) (3.0.2)\n",
            "Requirement already satisfied: charset-normalizer<4,>=2 in /usr/local/lib/python3.10/dist-packages (from requests->torch_geometric) (3.4.0)\n",
            "Requirement already satisfied: idna<4,>=2.5 in /usr/local/lib/python3.10/dist-packages (from requests->torch_geometric) (3.10)\n",
            "Requirement already satisfied: urllib3<3,>=1.21.1 in /usr/local/lib/python3.10/dist-packages (from requests->torch_geometric) (2.2.3)\n",
            "Requirement already satisfied: certifi>=2017.4.17 in /usr/local/lib/python3.10/dist-packages (from requests->torch_geometric) (2024.8.30)\n",
            "Requirement already satisfied: typing-extensions>=4.1.0 in /usr/local/lib/python3.10/dist-packages (from multidict<7.0,>=4.5->aiohttp->torch_geometric) (4.12.2)\n",
            "Downloading torch_geometric-2.6.1-py3-none-any.whl (1.1 MB)\n",
            "\u001b[2K   \u001b[90m━━━━━━━━━━━━━━━━━━━━━━━━━━━━━━━━━━━━━━━━\u001b[0m \u001b[32m1.1/1.1 MB\u001b[0m \u001b[31m22.3 MB/s\u001b[0m eta \u001b[36m0:00:00\u001b[0m\n",
            "\u001b[?25hInstalling collected packages: torch_geometric\n",
            "Successfully installed torch_geometric-2.6.1\n"
          ]
        }
      ],
      "source": [
        "!pip install torch_geometric"
      ]
    },
    {
      "cell_type": "code",
      "source": [
        "import networkx as nx\n",
        "import numpy as np\n",
        "from tqdm import tqdm\n",
        "from matplotlib import pyplot as plt\n",
        "import random\n",
        "\n",
        "\n",
        "import torch\n",
        "import torch.nn.functional as F\n",
        "from torch_geometric.nn import GCNConv, GATConv, GINConv\n",
        "from torch.nn import Module, Linear\n",
        "from sklearn.metrics import roc_curve,accuracy_score, roc_auc_score, confusion_matrix\n",
        "import torch.nn as nn\n",
        "\n",
        "\n",
        "SEED = 10\n",
        "random.seed(SEED)"
      ],
      "metadata": {
        "id": "Ml0k9wLjebgE"
      },
      "execution_count": 17,
      "outputs": []
    },
    {
      "cell_type": "markdown",
      "source": [
        "#read files"
      ],
      "metadata": {
        "id": "T3VDk41Oo0tR"
      }
    },
    {
      "cell_type": "code",
      "source": [
        "import tarfile\n",
        "\n",
        "file_name = \"Twibot20.tar.xz\"\n",
        "\n",
        "with tarfile.open(file_name, \"r:xz\") as tar:\n",
        "    tar.extractall()\n",
        "    tar.list()"
      ],
      "metadata": {
        "colab": {
          "base_uri": "https://localhost:8080/"
        },
        "id": "o3wAmMW7eg7n",
        "outputId": "7b707f6a-13ad-4f12-d538-c55e3881f2de"
      },
      "execution_count": 3,
      "outputs": [
        {
          "output_type": "stream",
          "name": "stdout",
          "text": [
            "?r-xr-xr-x 0/0          0 2024-11-19 03:33:21 Twibot20/ \n",
            "?rw-rw-rw- 0/0      67324 2024-11-19 03:33:06 Twibot20/benigns.txt \n",
            "?rw-rw-rw- 0/0    6649660 2024-11-18 00:45:41 Twibot20/edges.txt \n",
            "?rw-rw-rw- 0/0      95339 2024-11-19 03:33:11 Twibot20/sybils.txt \n",
            "?rw-rw-rw- 0/0    2410572 2024-11-18 09:16:36 Twibot20/testNodes.txt \n",
            "?rw-rw-rw- 0/0     522736 2024-11-18 09:16:41 Twibot20/trainNodes.txt \n"
          ]
        }
      ]
    },
    {
      "cell_type": "code",
      "source": [
        "file_name = \"Twibot20/benigns.txt\"\n",
        "with open(file_name, \"r\") as file:\n",
        "    lines = file.readlines()\n",
        "benigns = [line.strip() for line in lines]\n",
        "\n",
        "file_name = \"Twibot20/sybils.txt\"\n",
        "with open(file_name, \"r\") as file:\n",
        "    lines = file.readlines()\n",
        "sybils = [line.strip() for line in lines]\n",
        "\n",
        "file_name = \"Twibot20/trainNodes.txt\"\n",
        "with open(file_name, \"r\") as file:\n",
        "    lines = file.readlines()\n",
        "trainNodes = [line.strip() for line in lines]\n",
        "\n",
        "file_name = \"Twibot20/testNodes.txt\"\n",
        "with open(file_name, \"r\") as file:\n",
        "    lines = file.readlines()\n",
        "testNodes = [line.strip() for line in lines]\n",
        "\n",
        "edges = []\n",
        "file_name = \"Twibot20/edges.txt\"\n",
        "\n",
        "with open(file_name, \"r\") as file:\n",
        "    edges = [tuple( line.strip().split()) for line in file]"
      ],
      "metadata": {
        "id": "Q26Uxz-Sev40"
      },
      "execution_count": 4,
      "outputs": []
    },
    {
      "cell_type": "code",
      "source": [
        "def renumber_nodes(trainNodes, testNodes, benigns, sybils, edges):\n",
        "    train_mapping = {node: idx for idx, node in enumerate(trainNodes)}\n",
        "    test_start_idx = len(trainNodes)\n",
        "    test_mapping = {node: idx for idx, node in enumerate(testNodes, start=test_start_idx)}\n",
        "    node_mapping = {**train_mapping, **test_mapping}\n",
        "    updated_trainNodes = [node_mapping[node] for node in trainNodes]\n",
        "    updated_testNodes = [node_mapping[node] for node in testNodes]\n",
        "    updated_benigns = [node_mapping[node] for node in benigns if node in node_mapping]\n",
        "    updated_sybils = [node_mapping[node] for node in sybils if node in node_mapping]\n",
        "    updated_edges = [(node_mapping[src], node_mapping[dst]) for src, dst in edges if src in node_mapping and dst in node_mapping]\n",
        "    return updated_trainNodes, updated_testNodes, updated_benigns, updated_sybils, updated_edges\n",
        "\n",
        "trainNodes, testNodes, benigns, sybils, edges = renumber_nodes(trainNodes, testNodes, benigns, sybils, edges)"
      ],
      "metadata": {
        "id": "xMQP4d7QzO5T"
      },
      "execution_count": 5,
      "outputs": []
    },
    {
      "cell_type": "markdown",
      "source": [
        "# Models"
      ],
      "metadata": {
        "id": "3ob3inB4o3VB"
      }
    },
    {
      "cell_type": "code",
      "source": [
        "class GCN(torch.nn.Module):\n",
        "    def __init__(self, input_dim, hidden_dim, output_dim, num_layers, dropout=True):\n",
        "        super(GCN, self).__init__()\n",
        "        self.dropout = dropout\n",
        "        self.convs = torch.nn.ModuleList()\n",
        "        self.num_classes = output_dim\n",
        "        for i in range(num_layers):\n",
        "            if i == 0:  # First layer\n",
        "                self.convs.append(GCNConv(input_dim, hidden_dim, bias=True))\n",
        "            elif i == num_layers - 1:  # Last layer\n",
        "                self.convs.append(GCNConv(hidden_dim, output_dim, bias=True))\n",
        "            else:  # Middle layers\n",
        "                self.convs.append(GCNConv(hidden_dim, hidden_dim, bias=True))\n",
        "\n",
        "    def forward(self, x, edge_index):\n",
        "        h = x\n",
        "        i = 0\n",
        "        for conv in self.convs:\n",
        "            if self.dropout:\n",
        "                h = F.dropout(h, p=0.5, training=self.training)\n",
        "            h = conv(h, edge_index)\n",
        "            if i < len(self.convs) - 1:\n",
        "                h = F.tanh(h)\n",
        "            i += 1\n",
        "\n",
        "        if self.num_classes == 1:\n",
        "            return F.sigmoid(h)\n",
        "        else:\n",
        "            return F.softmax(h, dim=1)"
      ],
      "metadata": {
        "id": "kPXzs3NuoIog"
      },
      "execution_count": 6,
      "outputs": []
    },
    {
      "cell_type": "code",
      "source": [
        "class GAT(torch.nn.Module):\n",
        "    def __init__(self, input_dim, hidden_dim, output_dim, num_layers, heads=1, dropout=True):\n",
        "        super(GAT, self).__init__()\n",
        "        self.dropout = dropout\n",
        "        self.convs = torch.nn.ModuleList()\n",
        "        self.num_classes = output_dim\n",
        "        self.heads = heads\n",
        "\n",
        "        for i in range(num_layers):\n",
        "            if i == 0:  # First layer\n",
        "                self.convs.append(GATConv(input_dim, hidden_dim, heads=heads, concat=True, bias=True))\n",
        "            elif i == num_layers - 1:  # Last layer\n",
        "                self.convs.append(GATConv(hidden_dim * heads, output_dim, heads=1, concat=False, bias=True))\n",
        "            else:  # Middle layers\n",
        "                self.convs.append(GATConv(hidden_dim * heads, hidden_dim, heads=heads, concat=True, bias=True))\n",
        "\n",
        "    def forward(self, x, edge_index):\n",
        "        h = x\n",
        "        for i, conv in enumerate(self.convs):\n",
        "            if self.dropout:\n",
        "                h = F.dropout(h, p=0.5, training=self.training)\n",
        "            h = conv(h, edge_index)\n",
        "            if i < len(self.convs) - 1:  # Apply activation only for hidden layers\n",
        "                h = F.elu(h)  # ELU is often preferred for GAT\n",
        "        if self.num_classes == 1:\n",
        "            return F.sigmoid(h)\n",
        "        else:\n",
        "            return F.log_softmax(h, dim=1)"
      ],
      "metadata": {
        "id": "aqipr2zkoJGe"
      },
      "execution_count": 7,
      "outputs": []
    },
    {
      "cell_type": "code",
      "source": [
        "from torch_geometric.nn import APPNP\n",
        "\n",
        "class APPNPModel(torch.nn.Module):\n",
        "    def __init__(self, input_dim, hidden_dim, output_dim, num_layers, dropout=True, alpha=0.1, K=10):\n",
        "        \"\"\"\n",
        "        - alpha: Teleport probability (1 - alpha is the damping factor).\n",
        "        - k: Number of propagation steps.\n",
        "        \"\"\"\n",
        "        super(APPNPModel, self).__init__()\n",
        "        self.dropout = dropout\n",
        "        self.num_classes = output_dim\n",
        "\n",
        "        # Define MLP layers\n",
        "        self.layers = torch.nn.ModuleList()\n",
        "        for i in range(num_layers):\n",
        "            if i == 0:  # First layer\n",
        "                self.layers.append(Linear(input_dim, hidden_dim))\n",
        "            elif i == num_layers - 1:  # Last layer\n",
        "                self.layers.append(Linear(hidden_dim, output_dim))\n",
        "            else:  # Middle layers\n",
        "                self.layers.append(Linear(hidden_dim, hidden_dim))\n",
        "\n",
        "        # APPNP propagation\n",
        "        self.prop = APPNP(K=K, alpha=alpha)\n",
        "\n",
        "    def forward(self, x, edge_index):\n",
        "        h = x\n",
        "        # Pass through MLP\n",
        "        for i, layer in enumerate(self.layers):\n",
        "            if self.dropout:\n",
        "                h = F.dropout(h, p=0.5, training=self.training)\n",
        "            h = layer(h)\n",
        "            if i < len(self.layers) - 1:  # Apply activation and dropout only for hidden layers\n",
        "                h = F.relu(h)\n",
        "\n",
        "        # Apply APPNP propagation\n",
        "        h = self.prop(h, edge_index)\n",
        "\n",
        "        if self.num_classes == 1:\n",
        "            return F.sigmoid(h)\n",
        "        else:\n",
        "            return F.log_softmax(h, dim=1)"
      ],
      "metadata": {
        "id": "G3QfoVbGr7fx"
      },
      "execution_count": 23,
      "outputs": []
    },
    {
      "cell_type": "code",
      "source": [
        "def create_datasets(all_nodes, train_nodes, test_nodes, benign_nodes, sybil_nodes, ratio_of_known_trains, ratio_of_known_tests,SEED):\n",
        "\n",
        "    random.seed(SEED)\n",
        "\n",
        "    labels = {node: 0.5 for node in all_nodes}  # Unknown nodes default to 0.5\n",
        "    for node in benign_nodes:\n",
        "        labels[node] = 0\n",
        "    for node in sybil_nodes:\n",
        "        labels[node] = 1\n",
        "\n",
        "    train_x = [labels[node] for node in train_nodes]\n",
        "    for i in range(len(train_x)):\n",
        "        if train_x[i] != 0.5:\n",
        "            if random.random()>ratio_of_known_trains:\n",
        "                train_x[i] = 0.5\n",
        "    train_y = [labels[node] for node in train_nodes]\n",
        "\n",
        "\n",
        "    test_x = [labels[node] for node in test_nodes]\n",
        "    for i in range(len(test_x)):\n",
        "        if test_x[i] != 0.5:\n",
        "            if random.random()>ratio_of_known_tests:\n",
        "                test_x[i] = 0.5\n",
        "    test_y = [labels[node] for node in test_nodes]\n",
        "\n",
        "    mask_test = [i != 0.5 for i in test_y]\n",
        "    mask_test_sybils = [i == 1 for i in test_y]\n",
        "\n",
        "\n",
        "    train_x = torch.tensor(train_x, dtype=torch.float).reshape(-1,1)\n",
        "    train_y = torch.tensor(train_y, dtype=torch.float).reshape(-1,1)\n",
        "    test_x = torch.tensor(test_x, dtype=torch.float).reshape(-1,1)\n",
        "    test_y = torch.tensor(test_y, dtype=torch.float).reshape(-1,1)\n",
        "\n",
        "    return train_x, test_x, train_y, test_y, mask_test, mask_test_sybils"
      ],
      "metadata": {
        "id": "9IujKHivqV6m"
      },
      "execution_count": 8,
      "outputs": []
    },
    {
      "cell_type": "code",
      "source": [
        "train_x, test_x, train_y, test_y, mask_test, mask_test_sybils = create_datasets(all_nodes = trainNodes + testNodes,\n",
        "                                                                                train_nodes = trainNodes,\n",
        "                                                                                test_nodes = testNodes,\n",
        "                                                                                benign_nodes = benigns,\n",
        "                                                                                sybil_nodes = sybils,\n",
        "                                                                                ratio_of_known_trains = 0.5,\n",
        "                                                                                ratio_of_known_tests = 0.5,\n",
        "                                                                                SEED = 1)"
      ],
      "metadata": {
        "id": "L5AQS7gRs19O"
      },
      "execution_count": 9,
      "outputs": []
    },
    {
      "cell_type": "code",
      "source": [],
      "metadata": {
        "id": "E7VHWQdr0GMZ"
      },
      "execution_count": 9,
      "outputs": []
    },
    {
      "cell_type": "code",
      "source": [
        "g = nx.Graph()\n",
        "g.add_edges_from(edges)\n",
        "\n",
        "\n",
        "temp = list(g.subgraph(trainNodes).edges())\n",
        "trainEdges = [[i[0] for i in temp],[i[1] for i in temp[:]]]\n",
        "temp = list(g.subgraph(testNodes).edges())\n",
        "testEdges = [[i[0] for i in temp],[i[1] for i in temp[:]]]\n",
        "\n",
        "trainEdges = torch.tensor(trainEdges, dtype=torch.long)\n",
        "testEdges = torch.tensor(testEdges, dtype=torch.long)\n"
      ],
      "metadata": {
        "id": "leEQYBkev5VJ"
      },
      "execution_count": 10,
      "outputs": []
    },
    {
      "cell_type": "code",
      "source": [
        "def train_model(model, train_x, train_y, train_edge_index, epochs=100, lr=0.01):\n",
        "\n",
        "    optimizer = torch.optim.Adam(model.parameters(), lr=lr)\n",
        "    # loss_fn = torch.nn.CrossEntropyLoss()\n",
        "    loss_fn = torch.nn.MSELoss()\n",
        "\n",
        "\n",
        "    model.train()\n",
        "    for epoch in tqdm(range(epochs)):\n",
        "        optimizer.zero_grad()\n",
        "        output = model(train_x, train_edge_index)\n",
        "        loss = loss_fn(output, train_y)\n",
        "        loss.backward()\n",
        "        optimizer.step()\n",
        "\n",
        "        if (epoch + 1) % 20 == 0 or epoch == 0:\n",
        "            print(f'Epoch {epoch + 1}/{epochs}, Loss: {loss.item():.4f}')\n",
        "\n",
        "    return model\n",
        "\n"
      ],
      "metadata": {
        "id": "IiLUYrzMurL7"
      },
      "execution_count": 11,
      "outputs": []
    },
    {
      "cell_type": "code",
      "source": [
        "def test_model(model, test_x, test_y, test_edge_index, mask=None, threshold=None):\n",
        "    model.eval()\n",
        "    with torch.no_grad():\n",
        "        output = model(test_x, test_edge_index)\n",
        "\n",
        "        # Apply mask if provided\n",
        "        if mask is not None:\n",
        "            output = output[mask]\n",
        "            test_y = test_y[mask]\n",
        "\n",
        "        # If output has shape [batch_size, 1], use the single column\n",
        "        output = output.squeeze(1)  # Converts shape [batch_size, 1] -> [batch_size]\n",
        "\n",
        "        # Compute AUC and find optimal threshold\n",
        "        try:\n",
        "            auc_score = roc_auc_score(test_y.cpu(), output.cpu())  # Adjust for single-class output\n",
        "            # Compute ROC curve\n",
        "            fpr, tpr, thresholds = roc_curve(test_y.cpu(), output.cpu())\n",
        "            # Find optimal threshold using Youden's J statistic\n",
        "            j_scores = tpr - fpr\n",
        "            optimal_idx = j_scores.argmax()\n",
        "            if threshold is None:\n",
        "                threshold = thresholds[optimal_idx]\n",
        "\n",
        "        except Exception as e:\n",
        "            auc_score = None\n",
        "            if threshold is None:\n",
        "                threshold = 0.5  # Default threshold if AUC computation fails\n",
        "\n",
        "        # Apply the threshold to classify predictions\n",
        "        threshold_predictions = (output >= threshold).int().cpu()\n",
        "\n",
        "        # Compute accuracy using the threshold\n",
        "        accuracy_with_threshold = accuracy_score(test_y.cpu(), threshold_predictions)\n",
        "\n",
        "        # Compute confusion matrix\n",
        "        conf_matrix = confusion_matrix(test_y.cpu(), threshold_predictions)\n",
        "        normalized_cm = conf_matrix.astype('float') / len(test_y)\n",
        "\n",
        "        # Prepare metrics\n",
        "        metrics = {\n",
        "            \"accuracy\": accuracy_with_threshold,\n",
        "            \"auc\": auc_score,\n",
        "            \"optimal_threshold\": threshold,\n",
        "            \"confusion_matrix\": normalized_cm\n",
        "        }\n",
        "\n",
        "        # Print metrics\n",
        "        try:\n",
        "            print(f\"AUC: {auc_score:.3f}\")\n",
        "        except:\n",
        "            pass\n",
        "        # print(f\"Optimal Threshold: {threshold}\")\n",
        "        print(f\"ACC: {accuracy_with_threshold:.3f}\")\n",
        "        print(\"Confusion Matrix (Normalized):\")\n",
        "        print(f\"                      Predicted Negative                       Predicted Positive\")\n",
        "        print(f\"Actual Negative       {normalized_cm[0, 0]:.3f}                {normalized_cm[0, 1]:.3f}\")\n",
        "        print(f\"Actual Positive       {normalized_cm[1, 0]:.3f}                {normalized_cm[1, 1]:.3f}\")\n",
        "\n",
        "        return metrics, threshold\n"
      ],
      "metadata": {
        "id": "0eN8z2I6wL0S"
      },
      "execution_count": 12,
      "outputs": []
    },
    {
      "cell_type": "code",
      "source": [
        "input_dim = 1\n",
        "hidden_dim = 16\n",
        "output_dim = 1\n",
        "model = GCN(input_dim, hidden_dim, output_dim, num_layers=3)\n",
        "\n",
        "model = train_model(model, train_x, train_y, trainEdges, epochs=100, lr=0.01)\n",
        "\n",
        "\n",
        "\n",
        "print(\"based on auc th\")\n",
        "metric,th = test_model(model, test_x, test_y, testEdges-len(train_x), mask = mask_test)\n",
        "metric,th = test_model(model, test_x, test_y, testEdges-len(train_x), mask = mask_test_sybils, threshold = th)\n",
        "print(\"\\n\\n\")\n",
        "print(\"based on 0.5\")\n",
        "metric,th = test_model(model, test_x, test_y, testEdges-len(train_x), mask = mask_test, threshold = 0.5)\n",
        "metric,th = test_model(model, test_x, test_y, testEdges-len(train_x), mask = mask_test_sybils, threshold = 0.5)"
      ],
      "metadata": {
        "colab": {
          "base_uri": "https://localhost:8080/"
        },
        "id": "0F1QX6yk_HNT",
        "outputId": "96c8d774-3b25-4cdc-dbe0-aab909444310"
      },
      "execution_count": 13,
      "outputs": [
        {
          "output_type": "stream",
          "name": "stderr",
          "text": [
            "  1%|          | 1/100 [00:00<00:50,  1.95it/s]"
          ]
        },
        {
          "output_type": "stream",
          "name": "stdout",
          "text": [
            "Epoch 1/100, Loss: 0.0245\n"
          ]
        },
        {
          "output_type": "stream",
          "name": "stderr",
          "text": [
            " 21%|██        | 21/100 [00:03<00:13,  5.70it/s]"
          ]
        },
        {
          "output_type": "stream",
          "name": "stdout",
          "text": [
            "Epoch 20/100, Loss: 0.0174\n"
          ]
        },
        {
          "output_type": "stream",
          "name": "stderr",
          "text": [
            " 40%|████      | 40/100 [00:09<00:19,  3.11it/s]"
          ]
        },
        {
          "output_type": "stream",
          "name": "stdout",
          "text": [
            "Epoch 40/100, Loss: 0.0170\n"
          ]
        },
        {
          "output_type": "stream",
          "name": "stderr",
          "text": [
            " 61%|██████    | 61/100 [00:13<00:07,  5.47it/s]"
          ]
        },
        {
          "output_type": "stream",
          "name": "stdout",
          "text": [
            "Epoch 60/100, Loss: 0.0170\n"
          ]
        },
        {
          "output_type": "stream",
          "name": "stderr",
          "text": [
            " 81%|████████  | 81/100 [00:17<00:03,  5.37it/s]"
          ]
        },
        {
          "output_type": "stream",
          "name": "stdout",
          "text": [
            "Epoch 80/100, Loss: 0.0169\n"
          ]
        },
        {
          "output_type": "stream",
          "name": "stderr",
          "text": [
            "100%|██████████| 100/100 [00:20<00:00,  4.83it/s]"
          ]
        },
        {
          "output_type": "stream",
          "name": "stdout",
          "text": [
            "Epoch 100/100, Loss: 0.0169\n",
            "based on auc th\n"
          ]
        },
        {
          "output_type": "stream",
          "name": "stderr",
          "text": [
            "\n"
          ]
        },
        {
          "output_type": "stream",
          "name": "stdout",
          "text": [
            "AUC: 0.661\n",
            "ACC: 0.616\n",
            "Confusion Matrix (Normalized):\n",
            "                      Predicted Negative                       Predicted Positive\n",
            "Actual Negative       0.274                0.145\n",
            "Actual Positive       0.239                0.342\n",
            "ACC: 0.589\n",
            "Confusion Matrix (Normalized):\n",
            "                      Predicted Negative                       Predicted Positive\n",
            "Actual Negative       0.000                0.000\n",
            "Actual Positive       0.411                0.589\n",
            "\n",
            "\n",
            "\n",
            "based on 0.5\n",
            "AUC: 0.661\n",
            "ACC: 0.550\n",
            "Confusion Matrix (Normalized):\n",
            "                      Predicted Negative                       Predicted Positive\n",
            "Actual Negative       0.362                0.056\n",
            "Actual Positive       0.394                0.188\n",
            "ACC: 0.323\n",
            "Confusion Matrix (Normalized):\n",
            "                      Predicted Negative                       Predicted Positive\n",
            "Actual Negative       0.000                0.000\n",
            "Actual Positive       0.677                0.323\n"
          ]
        }
      ]
    },
    {
      "cell_type": "code",
      "source": [
        "input_dim = 1\n",
        "hidden_dim = 16\n",
        "output_dim = 1\n",
        "model = GAT(input_dim, hidden_dim, output_dim, num_layers=3, heads = 4)\n",
        "\n",
        "model = train_model(model, train_x, train_y, trainEdges, epochs=100, lr=0.01)\n",
        "\n",
        "\n",
        "print(\"based on auc th\")\n",
        "\n",
        "metric,th = test_model(model, test_x, test_y, testEdges-len(train_x), mask = mask_test)\n",
        "metric,th = test_model(model, test_x, test_y, testEdges-len(train_x), mask = mask_test_sybils, threshold = th)\n",
        "print(\"\\n\\n\")\n",
        "print(\"based on 0.5\")\n",
        "metric,th = test_model(model, test_x, test_y, testEdges-len(train_x), mask = mask_test, threshold = 0.5)\n",
        "metric,th = test_model(model, test_x, test_y, testEdges-len(train_x), mask = mask_test_sybils, threshold = 0.5)"
      ],
      "metadata": {
        "colab": {
          "base_uri": "https://localhost:8080/"
        },
        "id": "0FseYH_swL-C",
        "outputId": "3d588cdd-1603-435e-e9ef-58237d6743e8"
      },
      "execution_count": 14,
      "outputs": [
        {
          "output_type": "stream",
          "name": "stderr",
          "text": [
            "  1%|          | 1/100 [00:00<00:53,  1.84it/s]"
          ]
        },
        {
          "output_type": "stream",
          "name": "stdout",
          "text": [
            "Epoch 1/100, Loss: 0.0198\n"
          ]
        },
        {
          "output_type": "stream",
          "name": "stderr",
          "text": [
            " 20%|██        | 20/100 [00:08<00:22,  3.52it/s]"
          ]
        },
        {
          "output_type": "stream",
          "name": "stdout",
          "text": [
            "Epoch 20/100, Loss: 0.0177\n"
          ]
        },
        {
          "output_type": "stream",
          "name": "stderr",
          "text": [
            " 40%|████      | 40/100 [00:14<00:20,  2.94it/s]"
          ]
        },
        {
          "output_type": "stream",
          "name": "stdout",
          "text": [
            "Epoch 40/100, Loss: 0.0170\n"
          ]
        },
        {
          "output_type": "stream",
          "name": "stderr",
          "text": [
            " 60%|██████    | 60/100 [00:20<00:11,  3.56it/s]"
          ]
        },
        {
          "output_type": "stream",
          "name": "stdout",
          "text": [
            "Epoch 60/100, Loss: 0.0170\n"
          ]
        },
        {
          "output_type": "stream",
          "name": "stderr",
          "text": [
            " 80%|████████  | 80/100 [00:27<00:06,  3.19it/s]"
          ]
        },
        {
          "output_type": "stream",
          "name": "stdout",
          "text": [
            "Epoch 80/100, Loss: 0.0169\n"
          ]
        },
        {
          "output_type": "stream",
          "name": "stderr",
          "text": [
            "100%|██████████| 100/100 [00:33<00:00,  3.00it/s]"
          ]
        },
        {
          "output_type": "stream",
          "name": "stdout",
          "text": [
            "Epoch 100/100, Loss: 0.0169\n",
            "based on auc th\n"
          ]
        },
        {
          "output_type": "stream",
          "name": "stderr",
          "text": [
            "\n"
          ]
        },
        {
          "output_type": "stream",
          "name": "stdout",
          "text": [
            "AUC: 0.744\n",
            "ACC: 0.658\n",
            "Confusion Matrix (Normalized):\n",
            "                      Predicted Negative                       Predicted Positive\n",
            "Actual Negative       0.321                0.097\n",
            "Actual Positive       0.246                0.336\n",
            "ACC: 0.578\n",
            "Confusion Matrix (Normalized):\n",
            "                      Predicted Negative                       Predicted Positive\n",
            "Actual Negative       0.000                0.000\n",
            "Actual Positive       0.422                0.578\n",
            "\n",
            "\n",
            "\n",
            "based on 0.5\n",
            "AUC: 0.744\n",
            "ACC: 0.510\n",
            "Confusion Matrix (Normalized):\n",
            "                      Predicted Negative                       Predicted Positive\n",
            "Actual Negative       0.410                0.009\n",
            "Actual Positive       0.481                0.100\n",
            "ACC: 0.173\n",
            "Confusion Matrix (Normalized):\n",
            "                      Predicted Negative                       Predicted Positive\n",
            "Actual Negative       0.000                0.000\n",
            "Actual Positive       0.827                0.173\n"
          ]
        }
      ]
    },
    {
      "cell_type": "code",
      "source": [
        "input_dim = 1\n",
        "hidden_dim = 8\n",
        "output_dim = 1\n",
        "model = GAT(input_dim, hidden_dim, output_dim, num_layers=4, heads = 4)\n",
        "\n",
        "model = train_model(model, train_x, train_y, trainEdges, epochs=100, lr=0.01)\n",
        "\n",
        "\n",
        "print(\"based on auc th\")\n",
        "\n",
        "metric,th = test_model(model, test_x, test_y, testEdges-len(train_x), mask = mask_test)\n",
        "metric,th = test_model(model, test_x, test_y, testEdges-len(train_x), mask = mask_test_sybils, threshold = th)\n",
        "print(\"\\n\\n\")\n",
        "print(\"based on 0.5\")\n",
        "metric,th = test_model(model, test_x, test_y, testEdges-len(train_x), mask = mask_test, threshold = 0.5)\n",
        "metric,th = test_model(model, test_x, test_y, testEdges-len(train_x), mask = mask_test_sybils, threshold = 0.5)"
      ],
      "metadata": {
        "colab": {
          "base_uri": "https://localhost:8080/"
        },
        "id": "CjwxZTes7sJ5",
        "outputId": "691919fa-ba69-41ec-e6e1-7ac70d6f29ae"
      },
      "execution_count": 15,
      "outputs": [
        {
          "output_type": "stream",
          "name": "stderr",
          "text": [
            "  1%|          | 1/100 [00:00<00:41,  2.40it/s]"
          ]
        },
        {
          "output_type": "stream",
          "name": "stdout",
          "text": [
            "Epoch 1/100, Loss: 0.0326\n"
          ]
        },
        {
          "output_type": "stream",
          "name": "stderr",
          "text": [
            " 20%|██        | 20/100 [00:06<00:22,  3.61it/s]"
          ]
        },
        {
          "output_type": "stream",
          "name": "stdout",
          "text": [
            "Epoch 20/100, Loss: 0.0173\n"
          ]
        },
        {
          "output_type": "stream",
          "name": "stderr",
          "text": [
            " 40%|████      | 40/100 [00:14<00:26,  2.29it/s]"
          ]
        },
        {
          "output_type": "stream",
          "name": "stdout",
          "text": [
            "Epoch 40/100, Loss: 0.0170\n"
          ]
        },
        {
          "output_type": "stream",
          "name": "stderr",
          "text": [
            " 60%|██████    | 60/100 [00:22<00:12,  3.21it/s]"
          ]
        },
        {
          "output_type": "stream",
          "name": "stdout",
          "text": [
            "Epoch 60/100, Loss: 0.0170\n"
          ]
        },
        {
          "output_type": "stream",
          "name": "stderr",
          "text": [
            " 80%|████████  | 80/100 [00:28<00:07,  2.76it/s]"
          ]
        },
        {
          "output_type": "stream",
          "name": "stdout",
          "text": [
            "Epoch 80/100, Loss: 0.0169\n"
          ]
        },
        {
          "output_type": "stream",
          "name": "stderr",
          "text": [
            "100%|██████████| 100/100 [00:34<00:00,  2.90it/s]"
          ]
        },
        {
          "output_type": "stream",
          "name": "stdout",
          "text": [
            "Epoch 100/100, Loss: 0.0169\n",
            "based on auc th\n"
          ]
        },
        {
          "output_type": "stream",
          "name": "stderr",
          "text": [
            "\n"
          ]
        },
        {
          "output_type": "stream",
          "name": "stdout",
          "text": [
            "AUC: 0.721\n",
            "ACC: 0.647\n",
            "Confusion Matrix (Normalized):\n",
            "                      Predicted Negative                       Predicted Positive\n",
            "Actual Negative       0.308                0.110\n",
            "Actual Positive       0.243                0.339\n",
            "ACC: 0.582\n",
            "Confusion Matrix (Normalized):\n",
            "                      Predicted Negative                       Predicted Positive\n",
            "Actual Negative       0.000                0.000\n",
            "Actual Positive       0.418                0.582\n",
            "\n",
            "\n",
            "\n",
            "based on 0.5\n",
            "AUC: 0.721\n",
            "ACC: 0.418\n",
            "Confusion Matrix (Normalized):\n",
            "                      Predicted Negative                       Predicted Positive\n",
            "Actual Negative       0.418                0.000\n",
            "Actual Positive       0.582                0.000\n",
            "ACC: 0.000\n",
            "Confusion Matrix (Normalized):\n",
            "                      Predicted Negative                       Predicted Positive\n",
            "Actual Negative       0.000                0.000\n",
            "Actual Positive       1.000                0.000\n"
          ]
        }
      ]
    },
    {
      "cell_type": "code",
      "source": [
        "input_dim = 1\n",
        "hidden_dim = 8\n",
        "output_dim = 1\n",
        "model = GAT(input_dim, hidden_dim, output_dim, num_layers=4, heads = 4)\n",
        "\n",
        "model = train_model(model, train_x, train_y, trainEdges, epochs=500, lr=0.01)\n",
        "\n",
        "\n",
        "print(\"based on auc th\")\n",
        "\n",
        "metric,th = test_model(model, test_x, test_y, testEdges-len(train_x), mask = mask_test)\n",
        "metric,th = test_model(model, test_x, test_y, testEdges-len(train_x), mask = mask_test_sybils, threshold = th)\n",
        "print(\"\\n\\n\")\n",
        "print(\"based on 0.5\")\n",
        "metric,th = test_model(model, test_x, test_y, testEdges-len(train_x), mask = mask_test, threshold = 0.5)\n",
        "metric,th = test_model(model, test_x, test_y, testEdges-len(train_x), mask = mask_test_sybils, threshold = 0.5)"
      ],
      "metadata": {
        "colab": {
          "base_uri": "https://localhost:8080/"
        },
        "id": "KyalfOZEBMlt",
        "outputId": "67de8936-421b-480e-ee37-fbc3423aa33f"
      },
      "execution_count": 16,
      "outputs": [
        {
          "output_type": "stream",
          "name": "stderr",
          "text": [
            "  0%|          | 1/500 [00:00<04:09,  2.00it/s]"
          ]
        },
        {
          "output_type": "stream",
          "name": "stdout",
          "text": [
            "Epoch 1/500, Loss: 0.0228\n"
          ]
        },
        {
          "output_type": "stream",
          "name": "stderr",
          "text": [
            "  4%|▍         | 20/500 [00:10<02:18,  3.47it/s]"
          ]
        },
        {
          "output_type": "stream",
          "name": "stdout",
          "text": [
            "Epoch 20/500, Loss: 0.0170\n"
          ]
        },
        {
          "output_type": "stream",
          "name": "stderr",
          "text": [
            "  8%|▊         | 40/500 [00:15<02:12,  3.48it/s]"
          ]
        },
        {
          "output_type": "stream",
          "name": "stdout",
          "text": [
            "Epoch 40/500, Loss: 0.0169\n"
          ]
        },
        {
          "output_type": "stream",
          "name": "stderr",
          "text": [
            " 12%|█▏        | 60/500 [00:22<01:59,  3.68it/s]"
          ]
        },
        {
          "output_type": "stream",
          "name": "stdout",
          "text": [
            "Epoch 60/500, Loss: 0.0169\n"
          ]
        },
        {
          "output_type": "stream",
          "name": "stderr",
          "text": [
            " 16%|█▌        | 80/500 [00:27<01:55,  3.64it/s]"
          ]
        },
        {
          "output_type": "stream",
          "name": "stdout",
          "text": [
            "Epoch 80/500, Loss: 0.0169\n"
          ]
        },
        {
          "output_type": "stream",
          "name": "stderr",
          "text": [
            " 20%|██        | 100/500 [00:34<02:02,  3.27it/s]"
          ]
        },
        {
          "output_type": "stream",
          "name": "stdout",
          "text": [
            "Epoch 100/500, Loss: 0.0169\n"
          ]
        },
        {
          "output_type": "stream",
          "name": "stderr",
          "text": [
            " 24%|██▍       | 120/500 [00:41<01:41,  3.73it/s]"
          ]
        },
        {
          "output_type": "stream",
          "name": "stdout",
          "text": [
            "Epoch 120/500, Loss: 0.0169\n"
          ]
        },
        {
          "output_type": "stream",
          "name": "stderr",
          "text": [
            " 28%|██▊       | 140/500 [00:48<01:39,  3.62it/s]"
          ]
        },
        {
          "output_type": "stream",
          "name": "stdout",
          "text": [
            "Epoch 140/500, Loss: 0.0169\n"
          ]
        },
        {
          "output_type": "stream",
          "name": "stderr",
          "text": [
            " 32%|███▏      | 160/500 [00:53<01:28,  3.86it/s]"
          ]
        },
        {
          "output_type": "stream",
          "name": "stdout",
          "text": [
            "Epoch 160/500, Loss: 0.0169\n"
          ]
        },
        {
          "output_type": "stream",
          "name": "stderr",
          "text": [
            " 36%|███▌      | 180/500 [01:02<03:22,  1.58it/s]"
          ]
        },
        {
          "output_type": "stream",
          "name": "stdout",
          "text": [
            "Epoch 180/500, Loss: 0.0169\n"
          ]
        },
        {
          "output_type": "stream",
          "name": "stderr",
          "text": [
            " 40%|████      | 200/500 [01:09<01:58,  2.54it/s]"
          ]
        },
        {
          "output_type": "stream",
          "name": "stdout",
          "text": [
            "Epoch 200/500, Loss: 0.0169\n"
          ]
        },
        {
          "output_type": "stream",
          "name": "stderr",
          "text": [
            " 44%|████▍     | 220/500 [01:19<01:37,  2.88it/s]"
          ]
        },
        {
          "output_type": "stream",
          "name": "stdout",
          "text": [
            "Epoch 220/500, Loss: 0.0169\n"
          ]
        },
        {
          "output_type": "stream",
          "name": "stderr",
          "text": [
            " 48%|████▊     | 240/500 [01:26<02:28,  1.75it/s]"
          ]
        },
        {
          "output_type": "stream",
          "name": "stdout",
          "text": [
            "Epoch 240/500, Loss: 0.0169\n"
          ]
        },
        {
          "output_type": "stream",
          "name": "stderr",
          "text": [
            " 52%|█████▏    | 260/500 [01:33<01:02,  3.85it/s]"
          ]
        },
        {
          "output_type": "stream",
          "name": "stdout",
          "text": [
            "Epoch 260/500, Loss: 0.0169\n"
          ]
        },
        {
          "output_type": "stream",
          "name": "stderr",
          "text": [
            " 56%|█████▌    | 280/500 [01:39<01:12,  3.05it/s]"
          ]
        },
        {
          "output_type": "stream",
          "name": "stdout",
          "text": [
            "Epoch 280/500, Loss: 0.0169\n"
          ]
        },
        {
          "output_type": "stream",
          "name": "stderr",
          "text": [
            " 60%|██████    | 300/500 [01:45<00:50,  3.93it/s]"
          ]
        },
        {
          "output_type": "stream",
          "name": "stdout",
          "text": [
            "Epoch 300/500, Loss: 0.0169\n"
          ]
        },
        {
          "output_type": "stream",
          "name": "stderr",
          "text": [
            " 64%|██████▍   | 320/500 [01:50<01:01,  2.94it/s]"
          ]
        },
        {
          "output_type": "stream",
          "name": "stdout",
          "text": [
            "Epoch 320/500, Loss: 0.0169\n"
          ]
        },
        {
          "output_type": "stream",
          "name": "stderr",
          "text": [
            " 68%|██████▊   | 340/500 [01:58<00:46,  3.45it/s]"
          ]
        },
        {
          "output_type": "stream",
          "name": "stdout",
          "text": [
            "Epoch 340/500, Loss: 0.0169\n"
          ]
        },
        {
          "output_type": "stream",
          "name": "stderr",
          "text": [
            " 72%|███████▏  | 360/500 [02:03<00:37,  3.74it/s]"
          ]
        },
        {
          "output_type": "stream",
          "name": "stdout",
          "text": [
            "Epoch 360/500, Loss: 0.0169\n"
          ]
        },
        {
          "output_type": "stream",
          "name": "stderr",
          "text": [
            " 76%|███████▌  | 380/500 [02:09<00:49,  2.45it/s]"
          ]
        },
        {
          "output_type": "stream",
          "name": "stdout",
          "text": [
            "Epoch 380/500, Loss: 0.0169\n"
          ]
        },
        {
          "output_type": "stream",
          "name": "stderr",
          "text": [
            " 80%|████████  | 400/500 [02:16<00:36,  2.72it/s]"
          ]
        },
        {
          "output_type": "stream",
          "name": "stdout",
          "text": [
            "Epoch 400/500, Loss: 0.0169\n"
          ]
        },
        {
          "output_type": "stream",
          "name": "stderr",
          "text": [
            " 84%|████████▍ | 420/500 [02:26<00:37,  2.13it/s]"
          ]
        },
        {
          "output_type": "stream",
          "name": "stdout",
          "text": [
            "Epoch 420/500, Loss: 0.0169\n"
          ]
        },
        {
          "output_type": "stream",
          "name": "stderr",
          "text": [
            " 88%|████████▊ | 440/500 [02:32<00:15,  3.83it/s]"
          ]
        },
        {
          "output_type": "stream",
          "name": "stdout",
          "text": [
            "Epoch 440/500, Loss: 0.0169\n"
          ]
        },
        {
          "output_type": "stream",
          "name": "stderr",
          "text": [
            " 92%|█████████▏| 460/500 [02:38<00:13,  2.97it/s]"
          ]
        },
        {
          "output_type": "stream",
          "name": "stdout",
          "text": [
            "Epoch 460/500, Loss: 0.0169\n"
          ]
        },
        {
          "output_type": "stream",
          "name": "stderr",
          "text": [
            " 96%|█████████▌| 480/500 [02:44<00:05,  3.76it/s]"
          ]
        },
        {
          "output_type": "stream",
          "name": "stdout",
          "text": [
            "Epoch 480/500, Loss: 0.0169\n"
          ]
        },
        {
          "output_type": "stream",
          "name": "stderr",
          "text": [
            "100%|██████████| 500/500 [02:49<00:00,  2.95it/s]"
          ]
        },
        {
          "output_type": "stream",
          "name": "stdout",
          "text": [
            "Epoch 500/500, Loss: 0.0169\n",
            "based on auc th\n"
          ]
        },
        {
          "output_type": "stream",
          "name": "stderr",
          "text": [
            "\n"
          ]
        },
        {
          "output_type": "stream",
          "name": "stdout",
          "text": [
            "AUC: 0.720\n",
            "ACC: 0.646\n",
            "Confusion Matrix (Normalized):\n",
            "                      Predicted Negative                       Predicted Positive\n",
            "Actual Negative       0.308                0.110\n",
            "Actual Positive       0.244                0.338\n",
            "ACC: 0.581\n",
            "Confusion Matrix (Normalized):\n",
            "                      Predicted Negative                       Predicted Positive\n",
            "Actual Negative       0.000                0.000\n",
            "Actual Positive       0.419                0.581\n",
            "\n",
            "\n",
            "\n",
            "based on 0.5\n",
            "AUC: 0.720\n",
            "ACC: 0.494\n",
            "Confusion Matrix (Normalized):\n",
            "                      Predicted Negative                       Predicted Positive\n",
            "Actual Negative       0.413                0.006\n",
            "Actual Positive       0.501                0.081\n",
            "ACC: 0.139\n",
            "Confusion Matrix (Normalized):\n",
            "                      Predicted Negative                       Predicted Positive\n",
            "Actual Negative       0.000                0.000\n",
            "Actual Positive       0.861                0.139\n"
          ]
        }
      ]
    },
    {
      "cell_type": "code",
      "source": [
        "input_dim = 1\n",
        "hidden_dim = 16\n",
        "output_dim = 1\n",
        "model = APPNPModel(input_dim, hidden_dim, output_dim, num_layers=3, dropout=True, alpha=0.1, K=10)\n",
        "\n",
        "model = train_model(model, train_x, train_y, trainEdges, epochs=100, lr=0.01)\n",
        "\n",
        "\n",
        "print(\"based on auc th\")\n",
        "\n",
        "metric,th = test_model(model, test_x, test_y, testEdges-len(train_x), mask = mask_test)\n",
        "metric,th = test_model(model, test_x, test_y, testEdges-len(train_x), mask = mask_test_sybils, threshold = th)\n",
        "print(\"\\n\\n\")\n",
        "print(\"based on 0.5\")\n",
        "metric,th = test_model(model, test_x, test_y, testEdges-len(train_x), mask = mask_test, threshold = 0.5)\n",
        "metric,th = test_model(model, test_x, test_y, testEdges-len(train_x), mask = mask_test_sybils, threshold = 0.5)"
      ],
      "metadata": {
        "id": "BT2sDldhsyC9",
        "outputId": "fe21bf69-68b8-40d5-f599-2a335bdf6c42",
        "colab": {
          "base_uri": "https://localhost:8080/"
        }
      },
      "execution_count": 26,
      "outputs": [
        {
          "output_type": "stream",
          "name": "stderr",
          "text": [
            "  3%|▎         | 3/100 [00:00<00:03, 24.35it/s]"
          ]
        },
        {
          "output_type": "stream",
          "name": "stdout",
          "text": [
            "Epoch 1/100, Loss: 0.0256\n"
          ]
        },
        {
          "output_type": "stream",
          "name": "stderr",
          "text": [
            " 24%|██▍       | 24/100 [00:01<00:03, 21.57it/s]"
          ]
        },
        {
          "output_type": "stream",
          "name": "stdout",
          "text": [
            "Epoch 20/100, Loss: 0.0172\n"
          ]
        },
        {
          "output_type": "stream",
          "name": "stderr",
          "text": [
            " 42%|████▏     | 42/100 [00:01<00:02, 21.54it/s]"
          ]
        },
        {
          "output_type": "stream",
          "name": "stdout",
          "text": [
            "Epoch 40/100, Loss: 0.0169\n"
          ]
        },
        {
          "output_type": "stream",
          "name": "stderr",
          "text": [
            " 63%|██████▎   | 63/100 [00:02<00:01, 22.02it/s]"
          ]
        },
        {
          "output_type": "stream",
          "name": "stdout",
          "text": [
            "Epoch 60/100, Loss: 0.0169\n"
          ]
        },
        {
          "output_type": "stream",
          "name": "stderr",
          "text": [
            " 84%|████████▍ | 84/100 [00:03<00:00, 21.92it/s]"
          ]
        },
        {
          "output_type": "stream",
          "name": "stdout",
          "text": [
            "Epoch 80/100, Loss: 0.0169\n"
          ]
        },
        {
          "output_type": "stream",
          "name": "stderr",
          "text": [
            "100%|██████████| 100/100 [00:04<00:00, 22.07it/s]\n"
          ]
        },
        {
          "output_type": "stream",
          "name": "stdout",
          "text": [
            "Epoch 100/100, Loss: 0.0169\n",
            "based on auc th\n",
            "AUC: 0.620\n",
            "ACC: 0.602\n",
            "Confusion Matrix (Normalized):\n",
            "                      Predicted Negative                       Predicted Positive\n",
            "Actual Negative       0.294                0.125\n",
            "Actual Positive       0.273                0.308\n",
            "ACC: 0.530\n",
            "Confusion Matrix (Normalized):\n",
            "                      Predicted Negative                       Predicted Positive\n",
            "Actual Negative       0.000                0.000\n",
            "Actual Positive       0.470                0.530\n",
            "\n",
            "\n",
            "\n",
            "based on 0.5\n",
            "AUC: 0.620\n",
            "ACC: 0.418\n",
            "Confusion Matrix (Normalized):\n",
            "                      Predicted Negative                       Predicted Positive\n",
            "Actual Negative       0.418                0.000\n",
            "Actual Positive       0.582                0.000\n",
            "ACC: 0.000\n",
            "Confusion Matrix (Normalized):\n",
            "                      Predicted Negative                       Predicted Positive\n",
            "Actual Negative       0.000                0.000\n",
            "Actual Positive       1.000                0.000\n"
          ]
        }
      ]
    },
    {
      "cell_type": "code",
      "source": [
        "input_dim = 1\n",
        "hidden_dim = 32\n",
        "output_dim = 1\n",
        "model = APPNPModel(input_dim, hidden_dim, output_dim, num_layers=4, dropout=True, alpha=0.1, K=10)\n",
        "\n",
        "\n",
        "model = train_model(model, train_x, train_y, trainEdges, epochs=500, lr=0.01)\n",
        "\n",
        "\n",
        "print(\"based on auc th\")\n",
        "\n",
        "metric,th = test_model(model, test_x, test_y, testEdges-len(train_x), mask = mask_test)\n",
        "metric,th = test_model(model, test_x, test_y, testEdges-len(train_x), mask = mask_test_sybils, threshold = th)\n",
        "print(\"\\n\\n\")\n",
        "print(\"based on 0.5\")\n",
        "metric,th = test_model(model, test_x, test_y, testEdges-len(train_x), mask = mask_test, threshold = 0.5)\n",
        "metric,th = test_model(model, test_x, test_y, testEdges-len(train_x), mask = mask_test_sybils, threshold = 0.5)"
      ],
      "metadata": {
        "id": "CRvbcjl0BOR8",
        "outputId": "43dc1a5d-73f0-41be-fab1-9be7169e6ab0",
        "colab": {
          "base_uri": "https://localhost:8080/"
        }
      },
      "execution_count": 39,
      "outputs": [
        {
          "output_type": "stream",
          "name": "stderr",
          "text": [
            "  0%|          | 2/500 [00:00<00:35, 13.84it/s]"
          ]
        },
        {
          "output_type": "stream",
          "name": "stdout",
          "text": [
            "Epoch 1/500, Loss: 0.0189\n"
          ]
        },
        {
          "output_type": "stream",
          "name": "stderr",
          "text": [
            "  4%|▍         | 22/500 [00:01<00:35, 13.33it/s]"
          ]
        },
        {
          "output_type": "stream",
          "name": "stdout",
          "text": [
            "Epoch 20/500, Loss: 0.0170\n"
          ]
        },
        {
          "output_type": "stream",
          "name": "stderr",
          "text": [
            "  8%|▊         | 42/500 [00:03<00:33, 13.62it/s]"
          ]
        },
        {
          "output_type": "stream",
          "name": "stdout",
          "text": [
            "Epoch 40/500, Loss: 0.0169\n"
          ]
        },
        {
          "output_type": "stream",
          "name": "stderr",
          "text": [
            " 12%|█▏        | 62/500 [00:04<00:32, 13.61it/s]"
          ]
        },
        {
          "output_type": "stream",
          "name": "stdout",
          "text": [
            "Epoch 60/500, Loss: 0.0169\n"
          ]
        },
        {
          "output_type": "stream",
          "name": "stderr",
          "text": [
            " 16%|█▋        | 82/500 [00:06<00:30, 13.62it/s]"
          ]
        },
        {
          "output_type": "stream",
          "name": "stdout",
          "text": [
            "Epoch 80/500, Loss: 0.0169\n"
          ]
        },
        {
          "output_type": "stream",
          "name": "stderr",
          "text": [
            " 20%|██        | 101/500 [00:08<00:42,  9.32it/s]"
          ]
        },
        {
          "output_type": "stream",
          "name": "stdout",
          "text": [
            "Epoch 100/500, Loss: 0.0169\n"
          ]
        },
        {
          "output_type": "stream",
          "name": "stderr",
          "text": [
            " 24%|██▍       | 122/500 [00:10<00:30, 12.37it/s]"
          ]
        },
        {
          "output_type": "stream",
          "name": "stdout",
          "text": [
            "Epoch 120/500, Loss: 0.0169\n"
          ]
        },
        {
          "output_type": "stream",
          "name": "stderr",
          "text": [
            " 28%|██▊       | 142/500 [00:11<00:26, 13.46it/s]"
          ]
        },
        {
          "output_type": "stream",
          "name": "stdout",
          "text": [
            "Epoch 140/500, Loss: 0.0169\n"
          ]
        },
        {
          "output_type": "stream",
          "name": "stderr",
          "text": [
            " 32%|███▏      | 162/500 [00:13<00:24, 13.81it/s]"
          ]
        },
        {
          "output_type": "stream",
          "name": "stdout",
          "text": [
            "Epoch 160/500, Loss: 0.0169\n"
          ]
        },
        {
          "output_type": "stream",
          "name": "stderr",
          "text": [
            " 36%|███▋      | 182/500 [00:14<00:23, 13.31it/s]"
          ]
        },
        {
          "output_type": "stream",
          "name": "stdout",
          "text": [
            "Epoch 180/500, Loss: 0.0169\n"
          ]
        },
        {
          "output_type": "stream",
          "name": "stderr",
          "text": [
            " 40%|████      | 202/500 [00:16<00:21, 13.68it/s]"
          ]
        },
        {
          "output_type": "stream",
          "name": "stdout",
          "text": [
            "Epoch 200/500, Loss: 0.0169\n"
          ]
        },
        {
          "output_type": "stream",
          "name": "stderr",
          "text": [
            " 44%|████▍     | 222/500 [00:17<00:20, 13.32it/s]"
          ]
        },
        {
          "output_type": "stream",
          "name": "stdout",
          "text": [
            "Epoch 220/500, Loss: 0.0169\n"
          ]
        },
        {
          "output_type": "stream",
          "name": "stderr",
          "text": [
            " 48%|████▊     | 242/500 [00:19<00:18, 13.62it/s]"
          ]
        },
        {
          "output_type": "stream",
          "name": "stdout",
          "text": [
            "Epoch 240/500, Loss: 0.0169\n"
          ]
        },
        {
          "output_type": "stream",
          "name": "stderr",
          "text": [
            " 52%|█████▏    | 261/500 [00:20<00:24,  9.75it/s]"
          ]
        },
        {
          "output_type": "stream",
          "name": "stdout",
          "text": [
            "Epoch 260/500, Loss: 0.0169\n"
          ]
        },
        {
          "output_type": "stream",
          "name": "stderr",
          "text": [
            " 56%|█████▌    | 281/500 [00:23<00:24,  9.06it/s]"
          ]
        },
        {
          "output_type": "stream",
          "name": "stdout",
          "text": [
            "Epoch 280/500, Loss: 0.0169\n"
          ]
        },
        {
          "output_type": "stream",
          "name": "stderr",
          "text": [
            " 60%|██████    | 302/500 [00:24<00:14, 13.37it/s]"
          ]
        },
        {
          "output_type": "stream",
          "name": "stdout",
          "text": [
            "Epoch 300/500, Loss: 0.0169\n"
          ]
        },
        {
          "output_type": "stream",
          "name": "stderr",
          "text": [
            " 64%|██████▍   | 322/500 [00:26<00:13, 13.64it/s]"
          ]
        },
        {
          "output_type": "stream",
          "name": "stdout",
          "text": [
            "Epoch 320/500, Loss: 0.0169\n"
          ]
        },
        {
          "output_type": "stream",
          "name": "stderr",
          "text": [
            " 68%|██████▊   | 342/500 [00:27<00:12, 13.10it/s]"
          ]
        },
        {
          "output_type": "stream",
          "name": "stdout",
          "text": [
            "Epoch 340/500, Loss: 0.0169\n"
          ]
        },
        {
          "output_type": "stream",
          "name": "stderr",
          "text": [
            " 72%|███████▏  | 362/500 [00:29<00:10, 13.54it/s]"
          ]
        },
        {
          "output_type": "stream",
          "name": "stdout",
          "text": [
            "Epoch 360/500, Loss: 0.0169\n"
          ]
        },
        {
          "output_type": "stream",
          "name": "stderr",
          "text": [
            " 76%|███████▋  | 382/500 [00:30<00:08, 13.73it/s]"
          ]
        },
        {
          "output_type": "stream",
          "name": "stdout",
          "text": [
            "Epoch 380/500, Loss: 0.0169\n"
          ]
        },
        {
          "output_type": "stream",
          "name": "stderr",
          "text": [
            " 80%|████████  | 402/500 [00:32<00:07, 13.49it/s]"
          ]
        },
        {
          "output_type": "stream",
          "name": "stdout",
          "text": [
            "Epoch 400/500, Loss: 0.0169\n"
          ]
        },
        {
          "output_type": "stream",
          "name": "stderr",
          "text": [
            " 84%|████████▍ | 422/500 [00:33<00:05, 13.45it/s]"
          ]
        },
        {
          "output_type": "stream",
          "name": "stdout",
          "text": [
            "Epoch 420/500, Loss: 0.0169\n"
          ]
        },
        {
          "output_type": "stream",
          "name": "stderr",
          "text": [
            " 88%|████████▊ | 441/500 [00:35<00:06,  9.24it/s]"
          ]
        },
        {
          "output_type": "stream",
          "name": "stdout",
          "text": [
            "Epoch 440/500, Loss: 0.0169\n"
          ]
        },
        {
          "output_type": "stream",
          "name": "stderr",
          "text": [
            " 92%|█████████▏| 462/500 [00:38<00:03, 10.76it/s]"
          ]
        },
        {
          "output_type": "stream",
          "name": "stdout",
          "text": [
            "Epoch 460/500, Loss: 0.0169\n"
          ]
        },
        {
          "output_type": "stream",
          "name": "stderr",
          "text": [
            " 96%|█████████▋| 482/500 [00:39<00:01, 13.41it/s]"
          ]
        },
        {
          "output_type": "stream",
          "name": "stdout",
          "text": [
            "Epoch 480/500, Loss: 0.0169\n"
          ]
        },
        {
          "output_type": "stream",
          "name": "stderr",
          "text": [
            "100%|██████████| 500/500 [00:40<00:00, 12.22it/s]\n"
          ]
        },
        {
          "output_type": "stream",
          "name": "stdout",
          "text": [
            "Epoch 500/500, Loss: 0.0169\n",
            "based on auc th\n",
            "AUC: 0.634\n",
            "ACC: 0.619\n",
            "Confusion Matrix (Normalized):\n",
            "                      Predicted Negative                       Predicted Positive\n",
            "Actual Negative       0.271                0.147\n",
            "Actual Positive       0.234                0.348\n",
            "ACC: 0.598\n",
            "Confusion Matrix (Normalized):\n",
            "                      Predicted Negative                       Predicted Positive\n",
            "Actual Negative       0.000                0.000\n",
            "Actual Positive       0.402                0.598\n",
            "\n",
            "\n",
            "\n",
            "based on 0.5\n",
            "AUC: 0.634\n",
            "ACC: 0.418\n",
            "Confusion Matrix (Normalized):\n",
            "                      Predicted Negative                       Predicted Positive\n",
            "Actual Negative       0.418                0.000\n",
            "Actual Positive       0.582                0.000\n",
            "ACC: 0.000\n",
            "Confusion Matrix (Normalized):\n",
            "                      Predicted Negative                       Predicted Positive\n",
            "Actual Negative       0.000                0.000\n",
            "Actual Positive       1.000                0.000\n"
          ]
        }
      ]
    },
    {
      "cell_type": "code",
      "source": [
        "\n",
        "from torch_geometric.nn import SSGConv\n",
        "\n",
        "class SSGConvModel(torch.nn.Module):\n",
        "    def __init__(self, input_dim, hidden_dim, output_dim, num_layers, dropout=True, alpha=0.1, K=10):\n",
        "        \"\"\"\n",
        "        SSGConv Model.\n",
        "        - alpha: Teleport probability (controls the mixing of features).\n",
        "        - K: Number of propagation steps.\n",
        "        \"\"\"\n",
        "        super(SSGConvModel, self).__init__()\n",
        "        self.dropout = dropout\n",
        "        self.num_classes = output_dim\n",
        "\n",
        "        # Define SSGConv layers\n",
        "        self.layers = torch.nn.ModuleList()\n",
        "        for i in range(num_layers):\n",
        "            if i == 0:  # First layer\n",
        "                self.layers.append(SSGConv(input_dim, hidden_dim, K=K, alpha=alpha))\n",
        "            elif i == num_layers - 1:  # Last layer\n",
        "                self.layers.append(SSGConv(hidden_dim, output_dim, K=K, alpha=alpha))\n",
        "            else:  # Middle layers\n",
        "                self.layers.append(SSGConv(hidden_dim, hidden_dim, K=K, alpha=alpha))\n",
        "\n",
        "    def forward(self, x, edge_index):\n",
        "        h = x\n",
        "        for i, layer in enumerate(self.layers):\n",
        "            if self.dropout:\n",
        "                h = F.dropout(h, p=0.5, training=self.training)\n",
        "            h = layer(h, edge_index)\n",
        "            if i < len(self.layers) - 1:  # Apply activation only for hidden layers\n",
        "                h = F.relu(h)\n",
        "\n",
        "        if self.num_classes == 1:\n",
        "            return F.sigmoid(h)\n",
        "        else:\n",
        "            return F.log_softmax(h, dim=1)\n"
      ],
      "metadata": {
        "id": "f-KxGbWCsmwN"
      },
      "execution_count": 29,
      "outputs": []
    },
    {
      "cell_type": "code",
      "source": [
        "input_dim = 1\n",
        "hidden_dim = 8\n",
        "output_dim = 1\n",
        "model = SSGConvModel(input_dim, hidden_dim, output_dim, num_layers=5, dropout=True, alpha=0.1, K=10)\n",
        "\n",
        "\n",
        "model = train_model(model, train_x, train_y, trainEdges, epochs=100, lr=0.01)\n",
        "\n",
        "\n",
        "print(\"based on auc th\")\n",
        "\n",
        "metric,th = test_model(model, test_x, test_y, testEdges-len(train_x), mask = mask_test)\n",
        "metric,th = test_model(model, test_x, test_y, testEdges-len(train_x), mask = mask_test_sybils, threshold = th)\n",
        "print(\"\\n\\n\")\n",
        "print(\"based on 0.5\")\n",
        "metric,th = test_model(model, test_x, test_y, testEdges-len(train_x), mask = mask_test, threshold = 0.5)\n",
        "metric,th = test_model(model, test_x, test_y, testEdges-len(train_x), mask = mask_test_sybils, threshold = 0.5)"
      ],
      "metadata": {
        "id": "zW27QcL-vtGt",
        "outputId": "46f8d0ee-fa43-4a2f-cf24-b82cf2c55f8b",
        "colab": {
          "base_uri": "https://localhost:8080/"
        }
      },
      "execution_count": 31,
      "outputs": [
        {
          "output_type": "stream",
          "name": "stderr",
          "text": [
            "  1%|          | 1/100 [00:00<01:07,  1.48it/s]"
          ]
        },
        {
          "output_type": "stream",
          "name": "stdout",
          "text": [
            "Epoch 1/100, Loss: 0.0268\n"
          ]
        },
        {
          "output_type": "stream",
          "name": "stderr",
          "text": [
            " 20%|██        | 20/100 [00:10<00:44,  1.79it/s]"
          ]
        },
        {
          "output_type": "stream",
          "name": "stdout",
          "text": [
            "Epoch 20/100, Loss: 0.0172\n"
          ]
        },
        {
          "output_type": "stream",
          "name": "stderr",
          "text": [
            " 40%|████      | 40/100 [00:19<00:31,  1.89it/s]"
          ]
        },
        {
          "output_type": "stream",
          "name": "stdout",
          "text": [
            "Epoch 40/100, Loss: 0.0170\n"
          ]
        },
        {
          "output_type": "stream",
          "name": "stderr",
          "text": [
            " 60%|██████    | 60/100 [00:28<00:16,  2.40it/s]"
          ]
        },
        {
          "output_type": "stream",
          "name": "stdout",
          "text": [
            "Epoch 60/100, Loss: 0.0169\n"
          ]
        },
        {
          "output_type": "stream",
          "name": "stderr",
          "text": [
            " 80%|████████  | 80/100 [00:38<00:09,  2.08it/s]"
          ]
        },
        {
          "output_type": "stream",
          "name": "stdout",
          "text": [
            "Epoch 80/100, Loss: 0.0169\n"
          ]
        },
        {
          "output_type": "stream",
          "name": "stderr",
          "text": [
            "100%|██████████| 100/100 [00:46<00:00,  2.14it/s]"
          ]
        },
        {
          "output_type": "stream",
          "name": "stdout",
          "text": [
            "Epoch 100/100, Loss: 0.0169\n",
            "based on auc th\n"
          ]
        },
        {
          "output_type": "stream",
          "name": "stderr",
          "text": [
            "\n"
          ]
        },
        {
          "output_type": "stream",
          "name": "stdout",
          "text": [
            "AUC: 0.590\n",
            "ACC: 0.561\n",
            "Confusion Matrix (Normalized):\n",
            "                      Predicted Negative                       Predicted Positive\n",
            "Actual Negative       0.312                0.106\n",
            "Actual Positive       0.333                0.249\n",
            "ACC: 0.428\n",
            "Confusion Matrix (Normalized):\n",
            "                      Predicted Negative                       Predicted Positive\n",
            "Actual Negative       0.000                0.000\n",
            "Actual Positive       0.572                0.428\n",
            "\n",
            "\n",
            "\n",
            "based on 0.5\n",
            "AUC: 0.590\n",
            "ACC: 0.423\n",
            "Confusion Matrix (Normalized):\n",
            "                      Predicted Negative                       Predicted Positive\n",
            "Actual Negative       0.415                0.003\n",
            "Actual Positive       0.573                0.008\n",
            "ACC: 0.014\n",
            "Confusion Matrix (Normalized):\n",
            "                      Predicted Negative                       Predicted Positive\n",
            "Actual Negative       0.000                0.000\n",
            "Actual Positive       0.986                0.014\n"
          ]
        }
      ]
    },
    {
      "cell_type": "code",
      "source": [
        "from torch_geometric.nn import ChebConv\n",
        "\n",
        "class ChebConvModel(torch.nn.Module):\n",
        "    def __init__(self, input_dim, hidden_dim, output_dim, num_layers, dropout=True, K=3):\n",
        "        \"\"\"\n",
        "        ChebConv Model.\n",
        "        - dropout: Whether to apply dropout.\n",
        "        - K: Order of Chebyshev polynomials (controls the size of the neighborhood).\n",
        "        \"\"\"\n",
        "        super(ChebConvModel, self).__init__()\n",
        "        self.dropout = dropout\n",
        "        self.num_classes = output_dim\n",
        "\n",
        "        # Define ChebConv layers\n",
        "        self.layers = torch.nn.ModuleList()\n",
        "        for i in range(num_layers):\n",
        "            if i == 0:  # First layer\n",
        "                self.layers.append(ChebConv(input_dim, hidden_dim, K=K))\n",
        "            elif i == num_layers - 1:  # Last layer\n",
        "                self.layers.append(ChebConv(hidden_dim, output_dim, K=K))\n",
        "            else:  # Middle layers\n",
        "                self.layers.append(ChebConv(hidden_dim, hidden_dim, K=K))\n",
        "\n",
        "    def forward(self, x, edge_index):\n",
        "        h = x\n",
        "        for i, layer in enumerate(self.layers):\n",
        "            if self.dropout:\n",
        "                h = F.dropout(h, p=0.5, training=self.training)\n",
        "            h = layer(h, edge_index)\n",
        "            if i < len(self.layers) - 1:  # Apply activation only for hidden layers\n",
        "                h = F.relu(h)\n",
        "\n",
        "        if self.num_classes == 1:\n",
        "            return F.sigmoid(h)\n",
        "        else:\n",
        "            return F.log_softmax(h, dim=1)\n"
      ],
      "metadata": {
        "id": "yxJ1N2CEv0Uc"
      },
      "execution_count": 32,
      "outputs": []
    },
    {
      "cell_type": "code",
      "source": [
        "input_dim = 1\n",
        "hidden_dim = 32\n",
        "output_dim = 1\n",
        "model = ChebConvModel(input_dim, hidden_dim, output_dim, num_layers=4, dropout=True, K=10)\n",
        "\n",
        "\n",
        "model = train_model(model, train_x, train_y, trainEdges, epochs=500, lr=0.01)\n",
        "\n",
        "\n",
        "print(\"based on auc th\")\n",
        "\n",
        "metric,th = test_model(model, test_x, test_y, testEdges-len(train_x), mask = mask_test)\n",
        "metric,th = test_model(model, test_x, test_y, testEdges-len(train_x), mask = mask_test_sybils, threshold = th)\n",
        "print(\"\\n\\n\")\n",
        "print(\"based on 0.5\")\n",
        "metric,th = test_model(model, test_x, test_y, testEdges-len(train_x), mask = mask_test, threshold = 0.5)\n",
        "metric,th = test_model(model, test_x, test_y, testEdges-len(train_x), mask = mask_test_sybils, threshold = 0.5)"
      ],
      "metadata": {
        "id": "fvqVgHmOwfh-",
        "outputId": "17c65c5c-4f3f-4526-c916-d36a516fb8dc",
        "colab": {
          "base_uri": "https://localhost:8080/"
        }
      },
      "execution_count": 38,
      "outputs": [
        {
          "output_type": "stream",
          "name": "stderr",
          "text": [
            "  0%|          | 1/500 [00:01<08:47,  1.06s/it]"
          ]
        },
        {
          "output_type": "stream",
          "name": "stdout",
          "text": [
            "Epoch 1/500, Loss: 0.1286\n"
          ]
        },
        {
          "output_type": "stream",
          "name": "stderr",
          "text": [
            "  4%|▍         | 20/500 [00:24<10:35,  1.32s/it]"
          ]
        },
        {
          "output_type": "stream",
          "name": "stdout",
          "text": [
            "Epoch 20/500, Loss: 0.0293\n"
          ]
        },
        {
          "output_type": "stream",
          "name": "stderr",
          "text": [
            "  8%|▊         | 40/500 [00:44<07:17,  1.05it/s]"
          ]
        },
        {
          "output_type": "stream",
          "name": "stdout",
          "text": [
            "Epoch 40/500, Loss: 0.0248\n"
          ]
        },
        {
          "output_type": "stream",
          "name": "stderr",
          "text": [
            " 12%|█▏        | 60/500 [01:05<07:57,  1.09s/it]"
          ]
        },
        {
          "output_type": "stream",
          "name": "stdout",
          "text": [
            "Epoch 60/500, Loss: 0.0231\n"
          ]
        },
        {
          "output_type": "stream",
          "name": "stderr",
          "text": [
            " 16%|█▌        | 80/500 [01:24<06:36,  1.06it/s]"
          ]
        },
        {
          "output_type": "stream",
          "name": "stdout",
          "text": [
            "Epoch 80/500, Loss: 0.0220\n"
          ]
        },
        {
          "output_type": "stream",
          "name": "stderr",
          "text": [
            " 20%|██        | 100/500 [01:44<07:19,  1.10s/it]"
          ]
        },
        {
          "output_type": "stream",
          "name": "stdout",
          "text": [
            "Epoch 100/500, Loss: 0.0204\n"
          ]
        },
        {
          "output_type": "stream",
          "name": "stderr",
          "text": [
            " 24%|██▍       | 120/500 [02:03<05:57,  1.06it/s]"
          ]
        },
        {
          "output_type": "stream",
          "name": "stdout",
          "text": [
            "Epoch 120/500, Loss: 0.0193\n"
          ]
        },
        {
          "output_type": "stream",
          "name": "stderr",
          "text": [
            " 28%|██▊       | 140/500 [02:26<06:30,  1.08s/it]"
          ]
        },
        {
          "output_type": "stream",
          "name": "stdout",
          "text": [
            "Epoch 140/500, Loss: 0.0186\n"
          ]
        },
        {
          "output_type": "stream",
          "name": "stderr",
          "text": [
            " 32%|███▏      | 160/500 [02:45<05:25,  1.04it/s]"
          ]
        },
        {
          "output_type": "stream",
          "name": "stdout",
          "text": [
            "Epoch 160/500, Loss: 0.0182\n"
          ]
        },
        {
          "output_type": "stream",
          "name": "stderr",
          "text": [
            " 36%|███▌      | 180/500 [03:06<05:59,  1.12s/it]"
          ]
        },
        {
          "output_type": "stream",
          "name": "stdout",
          "text": [
            "Epoch 180/500, Loss: 0.0182\n"
          ]
        },
        {
          "output_type": "stream",
          "name": "stderr",
          "text": [
            " 40%|████      | 200/500 [03:25<04:47,  1.04it/s]"
          ]
        },
        {
          "output_type": "stream",
          "name": "stdout",
          "text": [
            "Epoch 200/500, Loss: 0.0180\n"
          ]
        },
        {
          "output_type": "stream",
          "name": "stderr",
          "text": [
            " 44%|████▍     | 220/500 [03:45<04:56,  1.06s/it]"
          ]
        },
        {
          "output_type": "stream",
          "name": "stdout",
          "text": [
            "Epoch 220/500, Loss: 0.0182\n"
          ]
        },
        {
          "output_type": "stream",
          "name": "stderr",
          "text": [
            " 48%|████▊     | 240/500 [04:05<04:04,  1.07it/s]"
          ]
        },
        {
          "output_type": "stream",
          "name": "stdout",
          "text": [
            "Epoch 240/500, Loss: 0.0181\n"
          ]
        },
        {
          "output_type": "stream",
          "name": "stderr",
          "text": [
            " 52%|█████▏    | 260/500 [04:25<04:02,  1.01s/it]"
          ]
        },
        {
          "output_type": "stream",
          "name": "stdout",
          "text": [
            "Epoch 260/500, Loss: 0.0179\n"
          ]
        },
        {
          "output_type": "stream",
          "name": "stderr",
          "text": [
            " 56%|█████▌    | 280/500 [04:44<03:27,  1.06it/s]"
          ]
        },
        {
          "output_type": "stream",
          "name": "stdout",
          "text": [
            "Epoch 280/500, Loss: 0.0172\n"
          ]
        },
        {
          "output_type": "stream",
          "name": "stderr",
          "text": [
            " 60%|██████    | 300/500 [05:04<03:09,  1.06it/s]"
          ]
        },
        {
          "output_type": "stream",
          "name": "stdout",
          "text": [
            "Epoch 300/500, Loss: 0.0178\n"
          ]
        },
        {
          "output_type": "stream",
          "name": "stderr",
          "text": [
            " 64%|██████▍   | 320/500 [05:24<02:56,  1.02it/s]"
          ]
        },
        {
          "output_type": "stream",
          "name": "stdout",
          "text": [
            "Epoch 320/500, Loss: 0.0176\n"
          ]
        },
        {
          "output_type": "stream",
          "name": "stderr",
          "text": [
            " 68%|██████▊   | 340/500 [05:43<02:30,  1.06it/s]"
          ]
        },
        {
          "output_type": "stream",
          "name": "stdout",
          "text": [
            "Epoch 340/500, Loss: 0.0177\n"
          ]
        },
        {
          "output_type": "stream",
          "name": "stderr",
          "text": [
            " 72%|███████▏  | 360/500 [06:04<02:17,  1.02it/s]"
          ]
        },
        {
          "output_type": "stream",
          "name": "stdout",
          "text": [
            "Epoch 360/500, Loss: 0.0172\n"
          ]
        },
        {
          "output_type": "stream",
          "name": "stderr",
          "text": [
            " 76%|███████▌  | 380/500 [06:23<01:51,  1.08it/s]"
          ]
        },
        {
          "output_type": "stream",
          "name": "stdout",
          "text": [
            "Epoch 380/500, Loss: 0.0175\n"
          ]
        },
        {
          "output_type": "stream",
          "name": "stderr",
          "text": [
            " 80%|████████  | 400/500 [06:43<01:43,  1.03s/it]"
          ]
        },
        {
          "output_type": "stream",
          "name": "stdout",
          "text": [
            "Epoch 400/500, Loss: 0.0172\n"
          ]
        },
        {
          "output_type": "stream",
          "name": "stderr",
          "text": [
            " 84%|████████▍ | 420/500 [07:03<01:18,  1.02it/s]"
          ]
        },
        {
          "output_type": "stream",
          "name": "stdout",
          "text": [
            "Epoch 420/500, Loss: 0.0173\n"
          ]
        },
        {
          "output_type": "stream",
          "name": "stderr",
          "text": [
            " 88%|████████▊ | 440/500 [07:25<01:16,  1.27s/it]"
          ]
        },
        {
          "output_type": "stream",
          "name": "stdout",
          "text": [
            "Epoch 440/500, Loss: 0.0172\n"
          ]
        },
        {
          "output_type": "stream",
          "name": "stderr",
          "text": [
            " 92%|█████████▏| 460/500 [07:46<00:39,  1.01it/s]"
          ]
        },
        {
          "output_type": "stream",
          "name": "stdout",
          "text": [
            "Epoch 460/500, Loss: 0.0174\n"
          ]
        },
        {
          "output_type": "stream",
          "name": "stderr",
          "text": [
            " 96%|█████████▌| 480/500 [08:06<00:21,  1.07s/it]"
          ]
        },
        {
          "output_type": "stream",
          "name": "stdout",
          "text": [
            "Epoch 480/500, Loss: 0.0170\n"
          ]
        },
        {
          "output_type": "stream",
          "name": "stderr",
          "text": [
            "100%|██████████| 500/500 [08:26<00:00,  1.01s/it]"
          ]
        },
        {
          "output_type": "stream",
          "name": "stdout",
          "text": [
            "Epoch 500/500, Loss: 0.0171\n",
            "based on auc th\n"
          ]
        },
        {
          "output_type": "stream",
          "name": "stderr",
          "text": [
            "\n"
          ]
        },
        {
          "output_type": "stream",
          "name": "stdout",
          "text": [
            "AUC: 0.489\n",
            "ACC: 0.438\n",
            "Confusion Matrix (Normalized):\n",
            "                      Predicted Negative                       Predicted Positive\n",
            "Actual Negative       0.401                0.017\n",
            "Actual Positive       0.545                0.037\n",
            "ACC: 0.063\n",
            "Confusion Matrix (Normalized):\n",
            "                      Predicted Negative                       Predicted Positive\n",
            "Actual Negative       0.000                0.000\n",
            "Actual Positive       0.937                0.063\n",
            "\n",
            "\n",
            "\n",
            "based on 0.5\n",
            "AUC: 0.489\n",
            "ACC: 0.437\n",
            "Confusion Matrix (Normalized):\n",
            "                      Predicted Negative                       Predicted Positive\n",
            "Actual Negative       0.402                0.016\n",
            "Actual Positive       0.547                0.035\n",
            "ACC: 0.060\n",
            "Confusion Matrix (Normalized):\n",
            "                      Predicted Negative                       Predicted Positive\n",
            "Actual Negative       0.000                0.000\n",
            "Actual Positive       0.940                0.060\n"
          ]
        }
      ]
    },
    {
      "cell_type": "markdown",
      "source": [
        "#preprocessing based on cliques"
      ],
      "metadata": {
        "id": "sc8n6v2F6YdT"
      }
    },
    {
      "cell_type": "code",
      "source": [
        "G = nx.Graph()\n",
        "G.add_edges_from(edges)"
      ],
      "metadata": {
        "id": "Srnog2flwjMd"
      },
      "execution_count": 41,
      "outputs": []
    },
    {
      "cell_type": "code",
      "source": [
        "traing = G.subgraph(trainNodes)\n",
        "testg = G.subgraph(testNodes)\n"
      ],
      "metadata": {
        "id": "vDjRMz_J6lJI"
      },
      "execution_count": 42,
      "outputs": []
    },
    {
      "cell_type": "code",
      "source": [
        "maximal_cliques = list(nx.find_cliques(traing)) # Bron-Kerbosch algorithm\n",
        "bclique = 0\n",
        "sclique = 0\n",
        "train_x_2 = train_x.clone()\n",
        "for clique in tqdm(maximal_cliques):\n",
        "    if len(clique)>3:\n",
        "        label = 0\n",
        "        for node in clique:\n",
        "            label+= train_x_2[node]\n",
        "        if label<1.5:\n",
        "            bclique+=1\n",
        "            for node in clique:\n",
        "                train_x_2[node] = 0\n",
        "        elif label>1.5:\n",
        "            sclique+=1\n",
        "            for node in clique:\n",
        "                train_x_2[node] = 1\n",
        "\n",
        "print(bclique,sclique)"
      ],
      "metadata": {
        "id": "qUD1Ge-B7u03",
        "outputId": "9f9b4051-06ca-4de5-82d4-76d1bea2af6c",
        "colab": {
          "base_uri": "https://localhost:8080/"
        }
      },
      "execution_count": 81,
      "outputs": [
        {
          "output_type": "stream",
          "name": "stderr",
          "text": [
            "100%|██████████| 40686/40686 [00:00<00:00, 2115663.93it/s]"
          ]
        },
        {
          "output_type": "stream",
          "name": "stdout",
          "text": [
            "0 0\n"
          ]
        },
        {
          "output_type": "stream",
          "name": "stderr",
          "text": [
            "\n"
          ]
        }
      ]
    },
    {
      "cell_type": "code",
      "source": [
        "maximal_cliques = list(nx.find_cliques(testg)) # Bron-Kerbosch algorithm\n",
        "bclique = 0\n",
        "sclique = 0\n",
        "test_x_2 = test_x.clone()\n",
        "for clique in tqdm(maximal_cliques):\n",
        "    if len(clique)>3:\n",
        "        label = 0\n",
        "        for node in clique:\n",
        "            label+= test_x_2[node-37840]\n",
        "        if label<1.5:\n",
        "            bclique+=1\n",
        "            for node in clique:\n",
        "                test_x_2[node-37840] = 0\n",
        "        elif label>1.5:\n",
        "            sclique+=1\n",
        "            for node in clique:\n",
        "                test_x_2[node-37840] = 1\n",
        "\n",
        "print(bclique,sclique)\n"
      ],
      "metadata": {
        "id": "vgPhqhFd8CLq",
        "outputId": "d1880c9a-3e7e-441c-96ee-d79f23138f05",
        "colab": {
          "base_uri": "https://localhost:8080/"
        }
      },
      "execution_count": 82,
      "outputs": [
        {
          "output_type": "stream",
          "name": "stderr",
          "text": [
            "100%|██████████| 174448/174448 [00:00<00:00, 415555.65it/s]"
          ]
        },
        {
          "output_type": "stream",
          "name": "stdout",
          "text": [
            "0 13\n"
          ]
        },
        {
          "output_type": "stream",
          "name": "stderr",
          "text": [
            "\n"
          ]
        }
      ]
    },
    {
      "cell_type": "code",
      "source": [
        "input_dim = 1\n",
        "hidden_dim = 16\n",
        "output_dim = 1\n",
        "model = GCN(input_dim, hidden_dim, output_dim, num_layers=3)\n",
        "model = train_model(model, train_x, train_y, trainEdges, epochs=100, lr=0.01)\n",
        "\n",
        "print(\"based on auc th\")\n",
        "metric,th = test_model(model, test_x, test_y, testEdges-len(train_x), mask = mask_test)\n",
        "metric,th = test_model(model, test_x, test_y, testEdges-len(train_x), mask = mask_test_sybils, threshold = th)"
      ],
      "metadata": {
        "id": "nLXrS2h49BH-",
        "outputId": "9ab37aad-dc5c-47c7-fff7-187ca3bf5cd9",
        "colab": {
          "base_uri": "https://localhost:8080/"
        }
      },
      "execution_count": 83,
      "outputs": [
        {
          "output_type": "stream",
          "name": "stderr",
          "text": [
            "  2%|▏         | 2/100 [00:00<00:08, 11.84it/s]"
          ]
        },
        {
          "output_type": "stream",
          "name": "stdout",
          "text": [
            "Epoch 1/100, Loss: 0.0269\n"
          ]
        },
        {
          "output_type": "stream",
          "name": "stderr",
          "text": [
            " 22%|██▏       | 22/100 [00:02<00:05, 13.82it/s]"
          ]
        },
        {
          "output_type": "stream",
          "name": "stdout",
          "text": [
            "Epoch 20/100, Loss: 0.0176\n"
          ]
        },
        {
          "output_type": "stream",
          "name": "stderr",
          "text": [
            " 42%|████▏     | 42/100 [00:03<00:03, 16.59it/s]"
          ]
        },
        {
          "output_type": "stream",
          "name": "stdout",
          "text": [
            "Epoch 40/100, Loss: 0.0170\n"
          ]
        },
        {
          "output_type": "stream",
          "name": "stderr",
          "text": [
            " 62%|██████▏   | 62/100 [00:04<00:02, 16.62it/s]"
          ]
        },
        {
          "output_type": "stream",
          "name": "stdout",
          "text": [
            "Epoch 60/100, Loss: 0.0170\n"
          ]
        },
        {
          "output_type": "stream",
          "name": "stderr",
          "text": [
            " 82%|████████▏ | 82/100 [00:06<00:01, 16.39it/s]"
          ]
        },
        {
          "output_type": "stream",
          "name": "stdout",
          "text": [
            "Epoch 80/100, Loss: 0.0170\n"
          ]
        },
        {
          "output_type": "stream",
          "name": "stderr",
          "text": [
            "100%|██████████| 100/100 [00:07<00:00, 13.92it/s]\n"
          ]
        },
        {
          "output_type": "stream",
          "name": "stdout",
          "text": [
            "Epoch 100/100, Loss: 0.0169\n",
            "based on auc th\n",
            "AUC: 0.651\n",
            "ACC: 0.617\n",
            "Confusion Matrix (Normalized):\n",
            "                      Predicted Negative                       Predicted Positive\n",
            "Actual Negative       0.263                0.155\n",
            "Actual Positive       0.227                0.354\n",
            "ACC: 0.609\n",
            "Confusion Matrix (Normalized):\n",
            "                      Predicted Negative                       Predicted Positive\n",
            "Actual Negative       0.000                0.000\n",
            "Actual Positive       0.391                0.609\n"
          ]
        }
      ]
    },
    {
      "cell_type": "code",
      "source": [
        "input_dim = 1\n",
        "hidden_dim = 16\n",
        "output_dim = 1\n",
        "model = GCN(input_dim, hidden_dim, output_dim, num_layers=3)\n",
        "model = train_model(model, train_x_2, train_y, trainEdges, epochs=100, lr=0.01)\n",
        "\n",
        "print(\"based on auc th\")\n",
        "metric,th = test_model(model, test_x_2, test_y, testEdges-len(train_x), mask = mask_test)\n",
        "metric,th = test_model(model, test_x_2, test_y, testEdges-len(train_x), mask = mask_test_sybils, threshold = th)"
      ],
      "metadata": {
        "id": "-3dklv9l-RFr",
        "outputId": "93d136e4-bc1a-43fd-b841-d484533fbc86",
        "colab": {
          "base_uri": "https://localhost:8080/"
        }
      },
      "execution_count": 84,
      "outputs": [
        {
          "output_type": "stream",
          "name": "stderr",
          "text": [
            "  2%|▏         | 2/100 [00:00<00:06, 15.34it/s]"
          ]
        },
        {
          "output_type": "stream",
          "name": "stdout",
          "text": [
            "Epoch 1/100, Loss: 0.0200\n"
          ]
        },
        {
          "output_type": "stream",
          "name": "stderr",
          "text": [
            " 22%|██▏       | 22/100 [00:01<00:04, 16.44it/s]"
          ]
        },
        {
          "output_type": "stream",
          "name": "stdout",
          "text": [
            "Epoch 20/100, Loss: 0.0171\n"
          ]
        },
        {
          "output_type": "stream",
          "name": "stderr",
          "text": [
            " 42%|████▏     | 42/100 [00:02<00:03, 17.37it/s]"
          ]
        },
        {
          "output_type": "stream",
          "name": "stdout",
          "text": [
            "Epoch 40/100, Loss: 0.0169\n"
          ]
        },
        {
          "output_type": "stream",
          "name": "stderr",
          "text": [
            " 62%|██████▏   | 62/100 [00:04<00:02, 13.35it/s]"
          ]
        },
        {
          "output_type": "stream",
          "name": "stdout",
          "text": [
            "Epoch 60/100, Loss: 0.0169\n"
          ]
        },
        {
          "output_type": "stream",
          "name": "stderr",
          "text": [
            " 82%|████████▏ | 82/100 [00:05<00:01, 12.97it/s]"
          ]
        },
        {
          "output_type": "stream",
          "name": "stdout",
          "text": [
            "Epoch 80/100, Loss: 0.0169\n"
          ]
        },
        {
          "output_type": "stream",
          "name": "stderr",
          "text": [
            "100%|██████████| 100/100 [00:06<00:00, 14.84it/s]\n"
          ]
        },
        {
          "output_type": "stream",
          "name": "stdout",
          "text": [
            "Epoch 100/100, Loss: 0.0169\n",
            "based on auc th\n",
            "AUC: 0.668\n",
            "ACC: 0.612\n",
            "Confusion Matrix (Normalized):\n",
            "                      Predicted Negative                       Predicted Positive\n",
            "Actual Negative       0.277                0.141\n",
            "Actual Positive       0.246                0.335\n",
            "ACC: 0.576\n",
            "Confusion Matrix (Normalized):\n",
            "                      Predicted Negative                       Predicted Positive\n",
            "Actual Negative       0.000                0.000\n",
            "Actual Positive       0.424                0.576\n"
          ]
        }
      ]
    },
    {
      "cell_type": "code",
      "source": [
        "input_dim = 1\n",
        "hidden_dim = 16\n",
        "output_dim = 1\n",
        "model = GAT(input_dim, hidden_dim, output_dim, num_layers=4, heads = 4)\n",
        "model = train_model(model, train_x, train_y, trainEdges, epochs=100, lr=0.01)\n",
        "\n",
        "print(\"based on auc th\")\n",
        "metric,th = test_model(model, test_x, test_y, testEdges-len(train_x), mask = mask_test)\n",
        "metric,th = test_model(model, test_x, test_y, testEdges-len(train_x), mask = mask_test_sybils, threshold = th)"
      ],
      "metadata": {
        "id": "itzWEOy--oku",
        "outputId": "bde5f76a-30fb-4296-943f-c380a161e0f0",
        "colab": {
          "base_uri": "https://localhost:8080/"
        }
      },
      "execution_count": 85,
      "outputs": [
        {
          "output_type": "stream",
          "name": "stderr",
          "text": [
            "  1%|          | 1/100 [00:00<00:41,  2.40it/s]"
          ]
        },
        {
          "output_type": "stream",
          "name": "stdout",
          "text": [
            "Epoch 1/100, Loss: 0.0225\n"
          ]
        },
        {
          "output_type": "stream",
          "name": "stderr",
          "text": [
            " 20%|██        | 20/100 [00:08<00:32,  2.50it/s]"
          ]
        },
        {
          "output_type": "stream",
          "name": "stdout",
          "text": [
            "Epoch 20/100, Loss: 0.0178\n"
          ]
        },
        {
          "output_type": "stream",
          "name": "stderr",
          "text": [
            " 40%|████      | 40/100 [00:16<00:24,  2.48it/s]"
          ]
        },
        {
          "output_type": "stream",
          "name": "stdout",
          "text": [
            "Epoch 40/100, Loss: 0.0171\n"
          ]
        },
        {
          "output_type": "stream",
          "name": "stderr",
          "text": [
            " 60%|██████    | 60/100 [00:25<00:21,  1.87it/s]"
          ]
        },
        {
          "output_type": "stream",
          "name": "stdout",
          "text": [
            "Epoch 60/100, Loss: 0.0170\n"
          ]
        },
        {
          "output_type": "stream",
          "name": "stderr",
          "text": [
            " 80%|████████  | 80/100 [00:34<00:07,  2.50it/s]"
          ]
        },
        {
          "output_type": "stream",
          "name": "stdout",
          "text": [
            "Epoch 80/100, Loss: 0.0170\n"
          ]
        },
        {
          "output_type": "stream",
          "name": "stderr",
          "text": [
            "100%|██████████| 100/100 [00:42<00:00,  2.33it/s]"
          ]
        },
        {
          "output_type": "stream",
          "name": "stdout",
          "text": [
            "Epoch 100/100, Loss: 0.0169\n",
            "based on auc th\n"
          ]
        },
        {
          "output_type": "stream",
          "name": "stderr",
          "text": [
            "\n"
          ]
        },
        {
          "output_type": "stream",
          "name": "stdout",
          "text": [
            "AUC: 0.720\n",
            "ACC: 0.646\n",
            "Confusion Matrix (Normalized):\n",
            "                      Predicted Negative                       Predicted Positive\n",
            "Actual Negative       0.309                0.109\n",
            "Actual Positive       0.245                0.337\n",
            "ACC: 0.579\n",
            "Confusion Matrix (Normalized):\n",
            "                      Predicted Negative                       Predicted Positive\n",
            "Actual Negative       0.000                0.000\n",
            "Actual Positive       0.421                0.579\n"
          ]
        }
      ]
    },
    {
      "cell_type": "code",
      "source": [
        "input_dim = 1\n",
        "hidden_dim = 16\n",
        "output_dim = 1\n",
        "model = GAT(input_dim, hidden_dim, output_dim, num_layers=4, heads = 4)\n",
        "model = train_model(model, train_x_2, train_y, trainEdges, epochs=100, lr=0.01)\n",
        "\n",
        "print(\"based on auc th\")\n",
        "metric,th = test_model(model, test_x_2, test_y, testEdges-len(train_x), mask = mask_test)\n",
        "metric,th = test_model(model, test_x_2, test_y, testEdges-len(train_x), mask = mask_test_sybils, threshold = th)"
      ],
      "metadata": {
        "id": "T7akm5eg-2Lr",
        "outputId": "6cc20236-1543-47bc-a6bd-2e68c8ed9cd8",
        "colab": {
          "base_uri": "https://localhost:8080/"
        }
      },
      "execution_count": 86,
      "outputs": [
        {
          "output_type": "stream",
          "name": "stderr",
          "text": [
            "  1%|          | 1/100 [00:00<00:40,  2.47it/s]"
          ]
        },
        {
          "output_type": "stream",
          "name": "stdout",
          "text": [
            "Epoch 1/100, Loss: 0.0256\n"
          ]
        },
        {
          "output_type": "stream",
          "name": "stderr",
          "text": [
            " 20%|██        | 20/100 [00:09<00:43,  1.84it/s]"
          ]
        },
        {
          "output_type": "stream",
          "name": "stdout",
          "text": [
            "Epoch 20/100, Loss: 0.0177\n"
          ]
        },
        {
          "output_type": "stream",
          "name": "stderr",
          "text": [
            " 40%|████      | 40/100 [00:17<00:24,  2.41it/s]"
          ]
        },
        {
          "output_type": "stream",
          "name": "stdout",
          "text": [
            "Epoch 40/100, Loss: 0.0171\n"
          ]
        },
        {
          "output_type": "stream",
          "name": "stderr",
          "text": [
            " 60%|██████    | 60/100 [00:26<00:16,  2.45it/s]"
          ]
        },
        {
          "output_type": "stream",
          "name": "stdout",
          "text": [
            "Epoch 60/100, Loss: 0.0170\n"
          ]
        },
        {
          "output_type": "stream",
          "name": "stderr",
          "text": [
            " 80%|████████  | 80/100 [00:36<00:10,  1.90it/s]"
          ]
        },
        {
          "output_type": "stream",
          "name": "stdout",
          "text": [
            "Epoch 80/100, Loss: 0.0170\n"
          ]
        },
        {
          "output_type": "stream",
          "name": "stderr",
          "text": [
            "100%|██████████| 100/100 [00:44<00:00,  2.24it/s]"
          ]
        },
        {
          "output_type": "stream",
          "name": "stdout",
          "text": [
            "Epoch 100/100, Loss: 0.0170\n",
            "based on auc th\n"
          ]
        },
        {
          "output_type": "stream",
          "name": "stderr",
          "text": [
            "\n"
          ]
        },
        {
          "output_type": "stream",
          "name": "stdout",
          "text": [
            "AUC: 0.720\n",
            "ACC: 0.647\n",
            "Confusion Matrix (Normalized):\n",
            "                      Predicted Negative                       Predicted Positive\n",
            "Actual Negative       0.307                0.112\n",
            "Actual Positive       0.241                0.340\n",
            "ACC: 0.585\n",
            "Confusion Matrix (Normalized):\n",
            "                      Predicted Negative                       Predicted Positive\n",
            "Actual Negative       0.000                0.000\n",
            "Actual Positive       0.415                0.585\n"
          ]
        }
      ]
    },
    {
      "cell_type": "code",
      "source": [],
      "metadata": {
        "id": "3LTTLW4m-5Ue"
      },
      "execution_count": null,
      "outputs": []
    }
  ]
}