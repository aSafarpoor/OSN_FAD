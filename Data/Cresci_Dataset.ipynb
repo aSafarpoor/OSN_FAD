{
  "nbformat": 4,
  "nbformat_minor": 0,
  "metadata": {
    "colab": {
      "provenance": [],
      "authorship_tag": "ABX9TyOPEBIjSOrVCtAo+TJ+6xTm",
      "include_colab_link": true
    },
    "kernelspec": {
      "name": "python3",
      "display_name": "Python 3"
    },
    "language_info": {
      "name": "python"
    }
  },
  "cells": [
    {
      "cell_type": "markdown",
      "metadata": {
        "id": "view-in-github",
        "colab_type": "text"
      },
      "source": [
        "<a href=\"https://colab.research.google.com/github/aSafarpoor/OSN_FAD/blob/main/Data/Cresci_Dataset.ipynb\" target=\"_parent\"><img src=\"https://colab.research.google.com/assets/colab-badge.svg\" alt=\"Open In Colab\"/></a>"
      ]
    },
    {
      "cell_type": "markdown",
      "source": [
        "* TFP (the fake project): 100% humans\n",
        "* E13 (elections 2013): 100% humans\n",
        "\n",
        "\n",
        "---\n",
        "\n",
        "\n",
        "* INT (intertwitter): 100% fake followers\n",
        "* FSF (fastfollowerz): 100% fake followers\n",
        "* TWT (twittertechnology): 100% fake followers\n",
        "\n",
        "---"
      ],
      "metadata": {
        "id": "aso7Hk1ZqJxa"
      }
    },
    {
      "cell_type": "code",
      "source": [
        "import csv\n",
        "import numpy as np\n",
        "# from tqdm import tqdm\n",
        "from tqdm.notebook import tqdm\n",
        "from collections import deque"
      ],
      "metadata": {
        "id": "uhxhe41Zq0Zl"
      },
      "execution_count": 112,
      "outputs": []
    },
    {
      "cell_type": "code",
      "execution_count": 2,
      "metadata": {
        "id": "W5OT5_sxp0WQ",
        "colab": {
          "base_uri": "https://localhost:8080/"
        },
        "outputId": "c0ea7f1e-2d1a-40cf-f110-dbafd7349360"
      },
      "outputs": [
        {
          "output_type": "stream",
          "name": "stdout",
          "text": [
            "Archive:  extracted_files.zip\n",
            "   creating: extracted_files/\n",
            "   creating: extracted_files/E13/\n",
            "  inflating: extracted_files/E13/followers.csv  \n",
            "  inflating: extracted_files/E13/friends.csv  \n",
            "  inflating: extracted_files/E13/users.csv  \n",
            "   creating: extracted_files/E13/__MACOSX/\n",
            "  inflating: extracted_files/E13/__MACOSX/._followers.csv  \n",
            "  inflating: extracted_files/E13/__MACOSX/._friends.csv  \n",
            "  inflating: extracted_files/E13/__MACOSX/._tweets.csv  \n",
            "  inflating: extracted_files/E13/__MACOSX/._users.csv  \n",
            "   creating: extracted_files/FSF/\n",
            "  inflating: extracted_files/FSF/followers.csv  \n",
            "  inflating: extracted_files/FSF/friends.csv  \n",
            "  inflating: extracted_files/FSF/users.csv  \n",
            "   creating: extracted_files/FSF/__MACOSX/\n",
            "  inflating: extracted_files/FSF/__MACOSX/._followers.csv  \n",
            "  inflating: extracted_files/FSF/__MACOSX/._friends.csv  \n",
            "  inflating: extracted_files/FSF/__MACOSX/._tweets.csv  \n",
            "  inflating: extracted_files/FSF/__MACOSX/._users.csv  \n",
            "   creating: extracted_files/INT/\n",
            "  inflating: extracted_files/INT/followers.csv  \n",
            "  inflating: extracted_files/INT/friends.csv  \n",
            "  inflating: extracted_files/INT/users.csv  \n",
            "   creating: extracted_files/INT/__MACOSX/\n",
            "  inflating: extracted_files/INT/__MACOSX/._followers.csv  \n",
            "  inflating: extracted_files/INT/__MACOSX/._friends.csv  \n",
            "  inflating: extracted_files/INT/__MACOSX/._tweets.csv  \n",
            "  inflating: extracted_files/INT/__MACOSX/._users.csv  \n",
            "   creating: extracted_files/TFP/\n",
            "  inflating: extracted_files/TFP/followers.csv  \n",
            "  inflating: extracted_files/TFP/friends.csv  \n",
            "  inflating: extracted_files/TFP/users.csv  \n",
            "   creating: extracted_files/TFP/__MACOSX/\n",
            "  inflating: extracted_files/TFP/__MACOSX/._followers.csv  \n",
            "  inflating: extracted_files/TFP/__MACOSX/._friends.csv  \n",
            "  inflating: extracted_files/TFP/__MACOSX/._tweets.csv  \n",
            "  inflating: extracted_files/TFP/__MACOSX/._users.csv  \n",
            "   creating: extracted_files/TWT/\n",
            "  inflating: extracted_files/TWT/followers.csv  \n",
            "  inflating: extracted_files/TWT/friends.csv  \n",
            "  inflating: extracted_files/TWT/users.csv  \n",
            "   creating: extracted_files/TWT/__MACOSX/\n",
            "  inflating: extracted_files/TWT/__MACOSX/._followers.csv  \n",
            "  inflating: extracted_files/TWT/__MACOSX/._friends.csv  \n",
            "  inflating: extracted_files/TWT/__MACOSX/._tweets.csv  \n",
            "  inflating: extracted_files/TWT/__MACOSX/._users.csv  \n"
          ]
        }
      ],
      "source": [
        "!unzip extracted_files.zip"
      ]
    },
    {
      "cell_type": "code",
      "source": [
        "%cd extracted_files"
      ],
      "metadata": {
        "colab": {
          "base_uri": "https://localhost:8080/"
        },
        "id": "ThCJ26lEqgUK",
        "outputId": "572ca9c9-2efc-4bf3-9a06-3dbebac9642d"
      },
      "execution_count": 3,
      "outputs": [
        {
          "output_type": "stream",
          "name": "stdout",
          "text": [
            "/content/extracted_files\n"
          ]
        }
      ]
    },
    {
      "cell_type": "code",
      "source": [
        "folderpaths = ['TFP', 'E13', 'INT', 'FSF', 'TWT']\n",
        "users = {}"
      ],
      "metadata": {
        "id": "VLBJb8uKsBM8"
      },
      "execution_count": 4,
      "outputs": []
    },
    {
      "cell_type": "code",
      "source": [
        "for path in folderpaths:\n",
        "    rows = []\n",
        "    with open(path + '/users.csv', 'rb') as csvfile:  # Open in binary mode\n",
        "        content = csvfile.read().replace(b'\\x00', b'')  # Remove NUL bytes\n",
        "        # Now decode the cleaned content\n",
        "        content = content.decode('utf-8')\n",
        "\n",
        "        # Process the cleaned CSV content\n",
        "        reader = csv.reader(content.splitlines())\n",
        "        all_rows = list(reader)\n",
        "\n",
        "        # Exclude the first and last rows\n",
        "        rows = all_rows[1:-1]\n",
        "        rows = [row[0] for row in rows]\n",
        "\n",
        "    users[path] = rows"
      ],
      "metadata": {
        "id": "q3eG3S65p_YA"
      },
      "execution_count": 5,
      "outputs": []
    },
    {
      "cell_type": "code",
      "source": [
        "intersection_lengths = {}\n",
        "\n",
        "# Iterate over pairs of keys\n",
        "for i in range(5):\n",
        "    for j in range(i + 1, 5):  # Start from i+1 to avoid repeating pairs\n",
        "        key1, key2 = folderpaths[i], folderpaths[j]\n",
        "\n",
        "        # Get the values (lists of users) for the two keys\n",
        "        set1 = set(users[key1])\n",
        "        set2 = set(users[key2])\n",
        "\n",
        "        # Calculate the intersection of the two sets\n",
        "        intersection = set1 & set2\n",
        "\n",
        "        # Store the length of the intersection\n",
        "        intersection_lengths[(key1, key2)] = len(intersection)\n",
        "\n",
        "# Print the lengths of the intersections for each pair of keys\n",
        "print(intersection_lengths)"
      ],
      "metadata": {
        "colab": {
          "base_uri": "https://localhost:8080/"
        },
        "id": "ZPdzUCv6rFvf",
        "outputId": "727f78f5-c9d3-44e7-e877-1d9201b28347"
      },
      "execution_count": 6,
      "outputs": [
        {
          "output_type": "stream",
          "name": "stdout",
          "text": [
            "{('TFP', 'E13'): 0, ('TFP', 'INT'): 0, ('TFP', 'FSF'): 0, ('TFP', 'TWT'): 0, ('E13', 'INT'): 0, ('E13', 'FSF'): 0, ('E13', 'TWT'): 0, ('INT', 'FSF'): 0, ('INT', 'TWT'): 0, ('FSF', 'TWT'): 0}\n"
          ]
        }
      ]
    },
    {
      "cell_type": "code",
      "source": [
        "for k in users.keys():\n",
        "    x = users[k]\n",
        "    xset = set(x)\n",
        "    print(k,len(x),len(xset))"
      ],
      "metadata": {
        "colab": {
          "base_uri": "https://localhost:8080/"
        },
        "id": "5rkGnS18rhQf",
        "outputId": "e6d1ded4-6e37-45c6-f663-5b705a9d2467"
      },
      "execution_count": 7,
      "outputs": [
        {
          "output_type": "stream",
          "name": "stdout",
          "text": [
            "TFP 468 468\n",
            "E13 1480 1480\n",
            "INT 1336 1336\n",
            "FSF 1168 1168\n",
            "TWT 844 844\n"
          ]
        }
      ]
    },
    {
      "cell_type": "code",
      "source": [
        "edges = []"
      ],
      "metadata": {
        "id": "DXNV5ger4KH_"
      },
      "execution_count": 8,
      "outputs": []
    },
    {
      "cell_type": "code",
      "source": [
        "followers = {}\n",
        "for path in folderpaths:\n",
        "    rows = []\n",
        "    with open(path + '/followers.csv', 'rb') as csvfile:  # Open in binary mode\n",
        "        content = csvfile.read().replace(b'\\x00', b'')  # Remove NUL bytes\n",
        "        # Now decode the cleaned content\n",
        "        content = content.decode('utf-8')\n",
        "\n",
        "        # Process the cleaned CSV content\n",
        "        reader = csv.reader(content.splitlines())\n",
        "        all_rows = list(reader)\n",
        "\n",
        "        # Exclude the first and last rows\n",
        "        rows = all_rows[1:]\n",
        "        temp = [row[0] for row in rows]+[row[1] for row in rows]\n",
        "        for row in rows:\n",
        "            edges.append([row[0],row[1]])\n",
        "\n",
        "    followers[path] = list(set(temp[:]))\n",
        "\n",
        "for k in followers.keys():\n",
        "    s = set(followers[k])\n",
        "    print('\\n',k,len(s))\n",
        "    for u in users.keys():\n",
        "        print(len(s & set(users[u])),end=' ')\n"
      ],
      "metadata": {
        "colab": {
          "base_uri": "https://localhost:8080/"
        },
        "id": "yO7Kw0xttMIh",
        "outputId": "3dac2d68-8158-4017-cd19-1e0750528121"
      },
      "execution_count": 9,
      "outputs": [
        {
          "output_type": "stream",
          "name": "stdout",
          "text": [
            "\n",
            " TFP 190269\n",
            "466 380 0 0 1 \n",
            " E13 983428\n",
            "180 1480 0 46 32 \n",
            " INT 18792\n",
            "0 0 1279 0 0 \n",
            " FSF 10193\n",
            "0 0 0 1167 0 \n",
            " TWT 25196\n",
            "0 0 0 0 843 "
          ]
        }
      ]
    },
    {
      "cell_type": "code",
      "source": [
        "intersection_lengths = {}\n",
        "\n",
        "# Iterate over pairs of keys\n",
        "for i in range(5):\n",
        "    for j in range(i + 1, 5):  # Start from i+1 to avoid repeating pairs\n",
        "        key1, key2 = folderpaths[i], folderpaths[j]\n",
        "\n",
        "        # Get the values (lists of users) for the two keys\n",
        "        set1 = set(followers[key1])\n",
        "        set2 = set(followers[key2])\n",
        "\n",
        "        # Calculate the intersection of the two sets\n",
        "        intersection = set1 & set2\n",
        "\n",
        "        # Store the length of the intersection\n",
        "        intersection_lengths[(key1, key2)] = len(intersection)\n",
        "\n",
        "# Print the lengths of the intersections for each pair of keys\n",
        "print(intersection_lengths)"
      ],
      "metadata": {
        "colab": {
          "base_uri": "https://localhost:8080/"
        },
        "id": "-Siix5Bt3HDI",
        "outputId": "1a861999-cca8-4301-86f7-a9f8be337ca1"
      },
      "execution_count": 10,
      "outputs": [
        {
          "output_type": "stream",
          "name": "stdout",
          "text": [
            "{('TFP', 'E13'): 69261, ('TFP', 'INT'): 90, ('TFP', 'FSF'): 34, ('TFP', 'TWT'): 414, ('E13', 'INT'): 120, ('E13', 'FSF'): 443, ('E13', 'TWT'): 563, ('INT', 'FSF'): 25, ('INT', 'TWT'): 32, ('FSF', 'TWT'): 8}\n"
          ]
        }
      ]
    },
    {
      "cell_type": "code",
      "source": [
        "friends = {}\n",
        "for path in folderpaths:\n",
        "    rows = []\n",
        "    with open(path + '/friends.csv', 'rb') as csvfile:  # Open in binary mode\n",
        "        content = csvfile.read().replace(b'\\x00', b'')  # Remove NUL bytes\n",
        "        # Now decode the cleaned content\n",
        "        content = content.decode('utf-8')\n",
        "\n",
        "        # Process the cleaned CSV content\n",
        "        reader = csv.reader(content.splitlines())\n",
        "        all_rows = list(reader)\n",
        "\n",
        "        # Exclude the first and last rows\n",
        "        rows = all_rows[1:]\n",
        "        temp = [row[0] for row in rows]+[row[1] for row in rows]\n",
        "        for row in rows:\n",
        "            edges.append([row[0],row[1]])\n",
        "\n",
        "    friends[path] = list(set(temp[:]))\n",
        "\n",
        "for k in friends.keys():\n",
        "    s = set(friends[k])\n",
        "    print('\\n',k,len(s))\n",
        "    for u in users.keys():\n",
        "        x = set(users[u])\n",
        "        print(len(s & x),end=' ')\n"
      ],
      "metadata": {
        "colab": {
          "base_uri": "https://localhost:8080/"
        },
        "id": "qH3D5zarvFKh",
        "outputId": "386b5a47-016f-49fb-c417-fe15793ed430"
      },
      "execution_count": 11,
      "outputs": [
        {
          "output_type": "stream",
          "name": "stdout",
          "text": [
            "\n",
            " TFP 143136\n",
            "468 303 0 0 0 \n",
            " E13 279202\n",
            "143 1477 0 0 0 \n",
            " INT 42056\n",
            "0 0 1336 0 0 \n",
            " FSF 12539\n",
            "0 1 0 1168 0 \n",
            " TWT 63818\n",
            "1 3 0 0 844 "
          ]
        }
      ]
    },
    {
      "cell_type": "code",
      "source": [
        "intersection_lengths = {}\n",
        "\n",
        "# Iterate over pairs of keys\n",
        "for i in range(5):\n",
        "    for j in range(i + 1, 5):  # Start from i+1 to avoid repeating pairs\n",
        "        key1, key2 = folderpaths[i], folderpaths[j]\n",
        "\n",
        "        # Get the values (lists of users) for the two keys\n",
        "        set1 = set(friends[key1])\n",
        "        set2 = set(friends[key2])\n",
        "\n",
        "        # Calculate the intersection of the two sets\n",
        "        intersection = set1 & set2\n",
        "\n",
        "        # Store the length of the intersection\n",
        "        intersection_lengths[(key1, key2)] = len(intersection)\n",
        "\n",
        "# Print the lengths of the intersections for each pair of keys\n",
        "print(intersection_lengths)"
      ],
      "metadata": {
        "colab": {
          "base_uri": "https://localhost:8080/"
        },
        "id": "bL5HiJ-mt9-w",
        "outputId": "890d3f92-6fbf-4244-f84a-9df81229fac1"
      },
      "execution_count": 12,
      "outputs": [
        {
          "output_type": "stream",
          "name": "stdout",
          "text": [
            "{('TFP', 'E13'): 50087, ('TFP', 'INT'): 652, ('TFP', 'FSF'): 78, ('TFP', 'TWT'): 3583, ('E13', 'INT'): 716, ('E13', 'FSF'): 82, ('E13', 'TWT'): 5255, ('INT', 'FSF'): 967, ('INT', 'TWT'): 1605, ('FSF', 'TWT'): 253}\n"
          ]
        }
      ]
    },
    {
      "cell_type": "code",
      "source": [
        "import networkx as nx"
      ],
      "metadata": {
        "id": "u0q6qbo9upi7"
      },
      "execution_count": 13,
      "outputs": []
    },
    {
      "cell_type": "code",
      "source": [
        "g = nx.Graph()"
      ],
      "metadata": {
        "id": "FU8E1Zo-3pn8"
      },
      "execution_count": 14,
      "outputs": []
    },
    {
      "cell_type": "code",
      "source": [
        "g.add_edges_from(edges)"
      ],
      "metadata": {
        "id": "1EkNaTSU3rjE"
      },
      "execution_count": 15,
      "outputs": []
    },
    {
      "cell_type": "code",
      "source": [],
      "metadata": {
        "id": "SYmHa06Tlm5d"
      },
      "execution_count": null,
      "outputs": []
    },
    {
      "cell_type": "code",
      "source": [
        "len(edges)"
      ],
      "metadata": {
        "colab": {
          "base_uri": "https://localhost:8080/"
        },
        "id": "v1L2p0uy4mqs",
        "outputId": "c6f5c66f-9ada-426b-a9e2-f92d87eeb8df"
      },
      "execution_count": 16,
      "outputs": [
        {
          "output_type": "execute_result",
          "data": {
            "text/plain": [
              "4258377"
            ]
          },
          "metadata": {},
          "execution_count": 16
        }
      ]
    },
    {
      "cell_type": "code",
      "source": [
        "connected_components = list(nx.connected_components(g))\n",
        "\n",
        "# Print the nodes in each connected component\n",
        "for i, component in enumerate(connected_components):\n",
        "    print(f\"Connected Component {i+1}: {len(sorted(component))}\\n\")"
      ],
      "metadata": {
        "colab": {
          "base_uri": "https://localhost:8080/"
        },
        "id": "lHOrDupn4nds",
        "outputId": "f77b3dd0-da5b-4fc5-f89d-d910fdd446f7"
      },
      "execution_count": 17,
      "outputs": [
        {
          "output_type": "stream",
          "name": "stdout",
          "text": [
            "Connected Component 1: 1292763\n",
            "\n"
          ]
        }
      ]
    },
    {
      "cell_type": "code",
      "source": [
        "users.keys()"
      ],
      "metadata": {
        "colab": {
          "base_uri": "https://localhost:8080/"
        },
        "id": "89FKp5pR5cPc",
        "outputId": "135c48f4-3ed6-47fc-d55d-f716dbb9473e"
      },
      "execution_count": 18,
      "outputs": [
        {
          "output_type": "execute_result",
          "data": {
            "text/plain": [
              "dict_keys(['TFP', 'E13', 'INT', 'FSF', 'TWT'])"
            ]
          },
          "metadata": {},
          "execution_count": 18
        }
      ]
    },
    {
      "cell_type": "code",
      "source": [
        "for k in users:\n",
        "    users[k] = set(users[k])"
      ],
      "metadata": {
        "id": "4mkLdLpK5vB6"
      },
      "execution_count": 19,
      "outputs": []
    },
    {
      "cell_type": "code",
      "source": [
        "other_nodes = set(list(g.nodes))\n",
        "\n",
        "for k in users:\n",
        "    other_nodes = other_nodes - users[k]\n",
        "\n",
        "users['other'] = other_nodes"
      ],
      "metadata": {
        "id": "2pL2zZ40--PA"
      },
      "execution_count": 20,
      "outputs": []
    },
    {
      "cell_type": "code",
      "source": [
        "for k in users:\n",
        "    print(k,len(users[k]))"
      ],
      "metadata": {
        "colab": {
          "base_uri": "https://localhost:8080/"
        },
        "id": "OeijV9SX_ShE",
        "outputId": "bd82a0d0-c84c-4cbd-e082-01aad1a7c5de"
      },
      "execution_count": 21,
      "outputs": [
        {
          "output_type": "stream",
          "name": "stdout",
          "text": [
            "TFP 468\n",
            "E13 1480\n",
            "INT 1336\n",
            "FSF 1168\n",
            "TWT 844\n",
            "other 1287467\n"
          ]
        }
      ]
    },
    {
      "cell_type": "code",
      "source": [
        "o = users['other']\n",
        "b = users['TFP'] | users['E13']\n",
        "s = users['INT'] | users['FSF'] | users['TWT']"
      ],
      "metadata": {
        "id": "wcjHs-m1_chm"
      },
      "execution_count": 22,
      "outputs": []
    },
    {
      "cell_type": "code",
      "source": [
        "bb = 0\n",
        "bo = 0\n",
        "sb = 0\n",
        "ss = 0\n",
        "so = 0\n",
        "oo = 0\n",
        "for e in tqdm(edges):\n",
        "    x,y = e[0],e[1]\n",
        "    if x in s:\n",
        "        if y in s:\n",
        "            ss+=1\n",
        "        elif y in b:\n",
        "            sb+=1\n",
        "        else:\n",
        "            so+=1\n",
        "    elif x in b:\n",
        "        if y in s:\n",
        "            sb+=1\n",
        "        elif y in b:\n",
        "            bb+=1\n",
        "        else:\n",
        "            bo+=1\n",
        "\n",
        "    else:\n",
        "        if y in s:\n",
        "            so+=1\n",
        "        elif y in b:\n",
        "            bo+=1\n",
        "        else:\n",
        "            oo+=1\n",
        "\n",
        "variables = [(\"BB\", bb), (\"BO\", bo), (\"SB\", sb), (\"SS\", ss), (\"SO\", so), (\"OO\", oo)]\n",
        "\n",
        "\n",
        "for name, value in variables:\n",
        "    print(f\"{name}: {value}\")\n",
        "\n",
        "all_nodes = o | b | s\n",
        "bs_union = b | s\n",
        "\n",
        "# Iterate through nodes\n",
        "for node in tqdm(all_nodes):\n",
        "    # Check neighbors\n",
        "    neighbors = set(nx.neighbors(g,node))\n",
        "    if not neighbors & bs_union:  # Check if there is no intersection\n",
        "        label = 'o'\n",
        "        if node in b:\n",
        "            label = 'b'\n",
        "        elif node in s:\n",
        "            label = 's'\n",
        "        if label == 'o' and len(neighbors)>1:\n",
        "            print(node, \"   \",  len(neighbors), label)\n",
        "\n",
        "isolated_node = 0\n",
        "for node in tqdm(all_nodes):\n",
        "    # Check neighbors\n",
        "    neighbors = set(nx.neighbors(g,node))\n",
        "\n",
        "    if len(neighbors)==0:\n",
        "        isolated_node += 1\n",
        "\n",
        "print(\"len isolated_node:\",isolated_node)\n",
        "\n",
        "leaf_o = 0\n",
        "leaf_b = 0\n",
        "leaf_s = 0\n",
        "for node in tqdm(all_nodes):\n",
        "    # Check neighbors\n",
        "    neighbors = set(nx.neighbors(g,node))\n",
        "    if len(neighbors)==1:\n",
        "        if node in b:\n",
        "            leaf_b+=1\n",
        "        elif node in s:\n",
        "            leaf_s += 1\n",
        "        else:\n",
        "            leaf_o += 1\n",
        "print(\"\\n\")\n",
        "print(\"len of leaf_b,leaf_s,leaf_o : \",leaf_b,leaf_s,leaf_o)\n"
      ],
      "metadata": {
        "colab": {
          "base_uri": "https://localhost:8080/"
        },
        "id": "9qwVK2UqDQMC",
        "outputId": "71c59054-6623-4cc5-fe6b-6aa9846ac353"
      },
      "execution_count": 30,
      "outputs": [
        {
          "output_type": "stream",
          "name": "stderr",
          "text": [
            "100%|██████████| 4258377/4258377 [00:03<00:00, 1198798.91it/s]\n"
          ]
        },
        {
          "output_type": "stream",
          "name": "stdout",
          "text": [
            "BB: 13314\n",
            "BO: 2678976\n",
            "SB: 158\n",
            "SS: 744\n",
            "SO: 1562363\n",
            "OO: 2822\n"
          ]
        },
        {
          "output_type": "stream",
          "name": "stderr",
          "text": [
            " 20%|██        | 264006/1292763 [00:01<00:03, 264439.05it/s]"
          ]
        },
        {
          "output_type": "stream",
          "name": "stdout",
          "text": [
            "1391998039     17 o\n"
          ]
        },
        {
          "output_type": "stream",
          "name": "stderr",
          "text": [
            " 64%|██████▍   | 826246/1292763 [00:03<00:02, 195528.44it/s]"
          ]
        },
        {
          "output_type": "stream",
          "name": "stdout",
          "text": [
            "1176392124     231 o\n"
          ]
        },
        {
          "output_type": "stream",
          "name": "stderr",
          "text": [
            " 68%|██████▊   | 882259/1292763 [00:03<00:02, 174617.76it/s]"
          ]
        },
        {
          "output_type": "stream",
          "name": "stdout",
          "text": [
            "1213937306     1087 o\n"
          ]
        },
        {
          "output_type": "stream",
          "name": "stderr",
          "text": [
            "100%|██████████| 1292763/1292763 [00:05<00:00, 217410.77it/s]\n",
            "100%|██████████| 1292763/1292763 [00:04<00:00, 270677.82it/s]\n"
          ]
        },
        {
          "output_type": "stream",
          "name": "stdout",
          "text": [
            "len isolated_node: 0\n"
          ]
        },
        {
          "output_type": "stream",
          "name": "stderr",
          "text": [
            "100%|██████████| 1292763/1292763 [00:04<00:00, 266115.95it/s]"
          ]
        },
        {
          "output_type": "stream",
          "name": "stdout",
          "text": [
            "\n",
            "\n",
            "len of leaf_b,leaf_s,leaf_o :  0 9 1057384\n"
          ]
        },
        {
          "output_type": "stream",
          "name": "stderr",
          "text": [
            "\n"
          ]
        }
      ]
    },
    {
      "cell_type": "code",
      "source": [
        "from sklearn.cluster import KMeans\n",
        "from sklearn.metrics.pairwise import cosine_similarity\n",
        "from gensim.models import Word2Vec\n",
        "from gensim.models.callbacks import CallbackAny2Vec\n",
        "import random\n",
        "random.seed(15)"
      ],
      "metadata": {
        "id": "NPmrpuTvEJt9"
      },
      "execution_count": 41,
      "outputs": []
    },
    {
      "cell_type": "code",
      "source": [
        "g.number_of_nodes()"
      ],
      "metadata": {
        "colab": {
          "base_uri": "https://localhost:8080/"
        },
        "id": "OdeEuAVGiA-4",
        "outputId": "33d2200a-3391-4729-f13d-e4f3ee89ed8f"
      },
      "execution_count": 35,
      "outputs": [
        {
          "output_type": "execute_result",
          "data": {
            "text/plain": [
              "1292763"
            ]
          },
          "metadata": {},
          "execution_count": 35
        }
      ]
    },
    {
      "cell_type": "code",
      "source": [],
      "metadata": {
        "id": "_5G8b2nSEe02"
      },
      "execution_count": 45,
      "outputs": []
    },
    {
      "cell_type": "code",
      "source": [
        "allembeddingdictionary = {}\n",
        "for path in folderpaths:\n",
        "    subnodes = users[path]\n",
        "    subg = g.subgraph(subnodes)\n",
        "\n",
        "    print(len(subnodes)/5,len(subnodes))\n",
        "\n",
        "    embeddings = nx.spring_layout(\n",
        "        subg,\n",
        "        k=None,  # Optimal distance between nodes. Defaults to 1 / sqrt(n) for n nodes.\n",
        "        iterations=50,  # Number of iterations to adjust positions.\n",
        "        threshold=1e-4,  # Convergence threshold for position changes.\n",
        "        seed=10,  # Random seed for reproducibility.\n",
        "        weight=None  # Edge weight attribute. If None, all edges are considered equal.\n",
        "    )\n",
        "\n",
        "    keys = list(embeddings.keys())\n",
        "    features = np.array(list(embeddings.values()))\n",
        "\n",
        "    normalized_features = features / np.linalg.norm(features, axis=1, keepdims=True)\n",
        "\n",
        "    # Step 3: Perform clustering using KMeans\n",
        "    num_clusters = 5  # Number of clusters\n",
        "\n",
        "    SEED = 25\n",
        "\n",
        "    kmeans = KMeans(n_clusters=num_clusters, random_state=SEED)\n",
        "    clusters = kmeans.fit_predict(normalized_features)\n",
        "\n",
        "    # Step 4: Group data points by clusters\n",
        "    clustered_points = {i: [] for i in range(num_clusters)}\n",
        "    for idx, label in enumerate(clusters):\n",
        "        clustered_points[label].append(keys[idx])\n",
        "\n",
        "    for cluster, points in clustered_points.items():\n",
        "        print(f\"Cluster {cluster}: {len(points)}\")\n",
        "\n",
        "    allembeddingdictionary[path] = embeddings\n",
        ""
      ],
      "metadata": {
        "colab": {
          "base_uri": "https://localhost:8080/"
        },
        "id": "f9N4e9MaHZL9",
        "outputId": "7e272ce6-1a85-40ee-e571-efc199c739c2"
      },
      "execution_count": 123,
      "outputs": [
        {
          "output_type": "stream",
          "name": "stdout",
          "text": [
            "93.6 468\n",
            "Cluster 0: 86\n",
            "Cluster 1: 83\n",
            "Cluster 2: 109\n",
            "Cluster 3: 86\n",
            "Cluster 4: 104\n",
            "296.0 1480\n",
            "Cluster 0: 269\n",
            "Cluster 1: 324\n",
            "Cluster 2: 305\n",
            "Cluster 3: 347\n",
            "Cluster 4: 235\n",
            "267.2 1336\n",
            "Cluster 0: 262\n",
            "Cluster 1: 280\n",
            "Cluster 2: 261\n",
            "Cluster 3: 266\n",
            "Cluster 4: 267\n",
            "233.6 1168\n",
            "Cluster 0: 242\n",
            "Cluster 1: 241\n",
            "Cluster 2: 243\n",
            "Cluster 3: 220\n",
            "Cluster 4: 222\n",
            "168.8 844\n",
            "Cluster 0: 177\n",
            "Cluster 1: 161\n",
            "Cluster 2: 173\n",
            "Cluster 3: 166\n",
            "Cluster 4: 167\n"
          ]
        }
      ]
    },
    {
      "cell_type": "code",
      "source": [
        "def custom_bfs(graph, init_nodes, others):\n",
        "    others_set = set(others)\n",
        "    visited = set()\n",
        "\n",
        "\n",
        "    queue = deque(init_nodes)\n",
        "\n",
        "    while queue:\n",
        "        current = queue.popleft()\n",
        "\n",
        "\n",
        "        if current in visited:\n",
        "            continue\n",
        "\n",
        "\n",
        "        visited.add(current)\n",
        "\n",
        "\n",
        "        neighbors = [n for n in graph.neighbors(current) if n in others_set and n not in visited]\n",
        "\n",
        "        queue.extend(neighbors)\n",
        "\n",
        "    # print(len(visited),len(init_nodes),len(visited|set(init_nodes)))\n",
        "\n",
        "    return visited"
      ],
      "metadata": {
        "id": "blXMqCS2VZI5"
      },
      "execution_count": 133,
      "outputs": []
    },
    {
      "cell_type": "code",
      "source": [
        "\n",
        "for path in folderpaths:\n",
        "    subnodes = users[path]\n",
        "    subg = g.subgraph(subnodes)\n",
        "\n",
        "    print(len(subnodes)/5,len(subnodes))\n",
        "\n",
        "    embeddings = allembeddingdictionary[path].copy()\n",
        "\n",
        "    keys = list(embeddings.keys())\n",
        "    features = np.array(list(embeddings.values()))\n",
        "\n",
        "    normalized_features = features / np.linalg.norm(features, axis=1, keepdims=True)\n",
        "\n",
        "    # Step 3: Perform clustering using KMeans\n",
        "    num_clusters = 5  # Number of clusters\n",
        "\n",
        "    SEED = 25\n",
        "\n",
        "    kmeans = KMeans(n_clusters=num_clusters, random_state=SEED)\n",
        "    clusters = kmeans.fit_predict(normalized_features)\n",
        "\n",
        "    # Step 4: Group data points by clusters\n",
        "    clustered_points = {i: [] for i in range(num_clusters)}\n",
        "    for idx, label in enumerate(clusters):\n",
        "        clustered_points[label].append(keys[idx])\n",
        "\n",
        "    for cluster, points in clustered_points.items():\n",
        "        temp = custom_bfs(g, points, o)\n",
        "        print(f\"Cluster {cluster}: {len(points)}, => {len(temp)}\")\n",
        "\n",
        "    output = dict(zip(keys, clusters))\n",
        "\n",
        "    allembeddingdictionary[path] = output"
      ],
      "metadata": {
        "colab": {
          "base_uri": "https://localhost:8080/"
        },
        "id": "arZrLCeNJO6F",
        "outputId": "4807fe12-c360-4c41-d081-ea100bb43f92"
      },
      "execution_count": 134,
      "outputs": [
        {
          "output_type": "stream",
          "name": "stdout",
          "text": [
            "93.6 468\n",
            "Cluster 0: 86, => 41616\n",
            "Cluster 1: 83, => 78524\n",
            "Cluster 2: 109, => 100191\n",
            "Cluster 3: 86, => 22450\n",
            "Cluster 4: 104, => 55523\n",
            "296.0 1480\n",
            "Cluster 0: 269, => 101325\n",
            "Cluster 1: 324, => 556893\n",
            "Cluster 2: 305, => 277010\n",
            "Cluster 3: 347, => 180920\n",
            "Cluster 4: 235, => 87236\n",
            "267.2 1336\n",
            "Cluster 0: 262, => 22283\n",
            "Cluster 1: 280, => 19502\n",
            "Cluster 2: 261, => 19315\n",
            "Cluster 3: 266, => 19840\n",
            "Cluster 4: 267, => 19300\n",
            "233.6 1168\n",
            "Cluster 0: 242, => 6116\n",
            "Cluster 1: 241, => 6164\n",
            "Cluster 2: 243, => 6225\n",
            "Cluster 3: 220, => 5810\n",
            "Cluster 4: 222, => 5781\n",
            "168.8 844\n",
            "Cluster 0: 177, => 31641\n",
            "Cluster 1: 161, => 32107\n",
            "Cluster 2: 173, => 32024\n",
            "Cluster 3: 166, => 27520\n",
            "Cluster 4: 167, => 29166\n"
          ]
        }
      ]
    },
    {
      "cell_type": "code",
      "source": [
        "temp"
      ],
      "metadata": {
        "colab": {
          "base_uri": "https://localhost:8080/"
        },
        "id": "4MN37dIb39FV",
        "outputId": "3cfc0e34-ca8a-482b-f125-3ebf36c6b135"
      },
      "execution_count": 126,
      "outputs": [
        {
          "output_type": "execute_result",
          "data": {
            "text/plain": [
              "[]"
            ]
          },
          "metadata": {},
          "execution_count": 126
        }
      ]
    },
    {
      "cell_type": "code",
      "source": [],
      "metadata": {
        "id": "UNBopcIDe7PK"
      },
      "execution_count": 59,
      "outputs": []
    },
    {
      "cell_type": "code",
      "source": [
        "cluster_id = [0,3,4,4,3]\n",
        "c = 0\n",
        "initnodes = []\n",
        "for path in folderpaths:\n",
        "    subnodes = users[path]\n",
        "    subg = g.subgraph(subnodes)\n",
        "\n",
        "    embeddings = allembeddingdictionary[path]\n",
        "\n",
        "\n",
        "    initnodes = initnodes + [key for key in embeddings.keys() if embeddings[key] == cluster_id[c] ]\n",
        "    c+=1"
      ],
      "metadata": {
        "id": "nocntQaye7SS"
      },
      "execution_count": 163,
      "outputs": []
    },
    {
      "cell_type": "code",
      "source": [
        "len(initnodes)"
      ],
      "metadata": {
        "colab": {
          "base_uri": "https://localhost:8080/"
        },
        "id": "ZMBveym6e7cv",
        "outputId": "e16e75f5-b43b-4dd1-e1d6-252aa80a7392"
      },
      "execution_count": 164,
      "outputs": [
        {
          "output_type": "execute_result",
          "data": {
            "text/plain": [
              "1088"
            ]
          },
          "metadata": {},
          "execution_count": 164
        }
      ]
    },
    {
      "cell_type": "code",
      "source": [
        "random.seed(123)\n",
        "\n",
        "# Example Usage\n",
        "init_nodes = initnodes[:]\n",
        "trainnodes = custom_bfs(g, init_nodes, list(o)[:])\n",
        "trainnodes = list(set(trainnodes))\n",
        "print(\"len train nodes:\", len(trainnodes))\n"
      ],
      "metadata": {
        "colab": {
          "base_uri": "https://localhost:8080/"
        },
        "id": "NFWUi-HqruCB",
        "outputId": "c2f45e5e-fc3d-4023-c909-c5ac8c035519"
      },
      "execution_count": 165,
      "outputs": [
        {
          "output_type": "stream",
          "name": "stdout",
          "text": [
            "len train nodes: 250580\n"
          ]
        }
      ]
    },
    {
      "cell_type": "code",
      "source": [
        "len(trainnodes)/g.number_of_nodes()"
      ],
      "metadata": {
        "colab": {
          "base_uri": "https://localhost:8080/"
        },
        "id": "M7qrwrT5z1oY",
        "outputId": "3da6a9f5-bf94-4739-e4f7-65327837bca4"
      },
      "execution_count": 166,
      "outputs": [
        {
          "output_type": "execute_result",
          "data": {
            "text/plain": [
              "0.19383289899231337"
            ]
          },
          "metadata": {},
          "execution_count": 166
        }
      ]
    },
    {
      "cell_type": "code",
      "source": [
        "testnodes =  list(set(list(g.nodes()))-set(trainnodes))\n",
        "len(testnodes)/g.number_of_nodes()"
      ],
      "metadata": {
        "colab": {
          "base_uri": "https://localhost:8080/"
        },
        "id": "yA2dNn1f3xo-",
        "outputId": "4d408f67-8e00-4f6f-9bab-cf84b1433a15"
      },
      "execution_count": 169,
      "outputs": [
        {
          "output_type": "execute_result",
          "data": {
            "text/plain": [
              "0.8061671010076866"
            ]
          },
          "metadata": {},
          "execution_count": 169
        }
      ]
    },
    {
      "cell_type": "code",
      "source": [
        "with open('trainNodes.txt', 'w') as file:\n",
        "        for item in trainnodes:\n",
        "            file.write(f\"{item}\\n\")\n",
        "print(f\"List saved to txt\")\n",
        "\n",
        "with open('testNodes.txt', 'w') as file:\n",
        "        for item in testnodes:\n",
        "            file.write(f\"{item}\\n\")\n",
        "print(f\"List saved to txt\")"
      ],
      "metadata": {
        "colab": {
          "base_uri": "https://localhost:8080/"
        },
        "id": "-bYNa9o8O3C8",
        "outputId": "3ad53535-cf90-4f8f-8ebf-550e6b191de6"
      },
      "execution_count": 170,
      "outputs": [
        {
          "output_type": "stream",
          "name": "stdout",
          "text": [
            "List saved to txt\n",
            "List saved to txt\n"
          ]
        }
      ]
    },
    {
      "cell_type": "code",
      "source": [
        "with open('benigns.txt', 'w') as file:\n",
        "        for item in b:\n",
        "            file.write(f\"{item}\\n\")\n",
        "print(f\"List saved to txt\")\n",
        "\n",
        "with open('sybils.txt', 'w') as file:\n",
        "        for item in s:\n",
        "            file.write(f\"{item}\\n\")\n",
        "print(f\"List saved to txt\")"
      ],
      "metadata": {
        "colab": {
          "base_uri": "https://localhost:8080/"
        },
        "id": "TVJmg7R7PQpL",
        "outputId": "5f5e7eb2-5d3e-4353-bd33-bff566502486"
      },
      "execution_count": 171,
      "outputs": [
        {
          "output_type": "stream",
          "name": "stdout",
          "text": [
            "List saved to txt\n",
            "List saved to txt\n"
          ]
        }
      ]
    },
    {
      "cell_type": "code",
      "source": [
        "with open(\"edges.txt\", 'w') as file:\n",
        "        for edge in edges:\n",
        "            file.write(f\"{edge[0]} {edge[1]}\\n\")\n",
        "print(f\"Edges saved\")"
      ],
      "metadata": {
        "colab": {
          "base_uri": "https://localhost:8080/"
        },
        "id": "YaaY7jEobMfB",
        "outputId": "00144560-79c4-46a4-e677-058acfc5673c"
      },
      "execution_count": 172,
      "outputs": [
        {
          "output_type": "stream",
          "name": "stdout",
          "text": [
            "Edges saved\n"
          ]
        }
      ]
    },
    {
      "cell_type": "code",
      "source": [
        "\n",
        "follower_edges = []\n",
        "friend_edges = []\n",
        "\n",
        "\n",
        "\n",
        "for path in folderpaths:\n",
        "    rows = []\n",
        "    with open(path + '/followers.csv', 'rb') as csvfile:\n",
        "        content = csvfile.read().replace(b'\\x00', b'')\n",
        "        content = content.decode('utf-8')\n",
        "        reader = csv.reader(content.splitlines())\n",
        "        all_rows = list(reader)\n",
        "        rows = all_rows[1:]\n",
        "        for row in rows:\n",
        "            follower_edges.append([row[0],row[1]])\n",
        "\n",
        "for path in folderpaths:\n",
        "    rows = []\n",
        "    with open(path + '/friends.csv', 'rb') as csvfile:\n",
        "        content = csvfile.read().replace(b'\\x00', b'')\n",
        "        content = content.decode('utf-8')\n",
        "        reader = csv.reader(content.splitlines())\n",
        "        all_rows = list(reader)\n",
        "        rows = all_rows[1:]\n",
        "        for row in rows:\n",
        "            friend_edges.append([row[0],row[1]])\n",
        "\n",
        "\n",
        "\n",
        "\n",
        "print(len(edges),len(friend_edges),len(follower_edges),len(friend_edges)+len(follower_edges))"
      ],
      "metadata": {
        "colab": {
          "base_uri": "https://localhost:8080/"
        },
        "id": "mPuq1A3CbTuB",
        "outputId": "b191ec50-d0fb-4a2f-8631-e9bf62389674"
      },
      "execution_count": 174,
      "outputs": [
        {
          "output_type": "stream",
          "name": "stderr",
          "text": [
            "Exception ignored in: <function tqdm.__del__ at 0x7888abc8a950>\n",
            "Traceback (most recent call last):\n",
            "  File \"/usr/local/lib/python3.10/dist-packages/tqdm/std.py\", line 1148, in __del__\n",
            "    self.close()\n",
            "  File \"/usr/local/lib/python3.10/dist-packages/tqdm/std.py\", line 1277, in close\n",
            "    if self.last_print_t < self.start_t + self.delay:\n",
            "AttributeError: 'tqdm' object has no attribute 'last_print_t'\n"
          ]
        },
        {
          "output_type": "stream",
          "name": "stdout",
          "text": [
            "4258377 2409285 1849092 4258377\n"
          ]
        }
      ]
    },
    {
      "cell_type": "code",
      "source": [
        "with open(\"follower_edges.txt\", 'w') as file:\n",
        "        for edge in follower_edges:\n",
        "            file.write(f\"{edge[0]} {edge[1]}\\n\")\n",
        "print(f\"Edges saved\")\n",
        "\n",
        "with open(\"friend_edges.txt\", 'w') as file:\n",
        "        for edge in friend_edges:\n",
        "            file.write(f\"{edge[0]} {edge[1]}\\n\")\n",
        "print(f\"Edges saved\")"
      ],
      "metadata": {
        "colab": {
          "base_uri": "https://localhost:8080/"
        },
        "id": "yZLd2d2PcNdQ",
        "outputId": "fb355354-cb7b-4820-bdbb-e4b96d44700f"
      },
      "execution_count": 175,
      "outputs": [
        {
          "output_type": "stream",
          "name": "stdout",
          "text": [
            "Edges saved\n",
            "Edges saved\n"
          ]
        }
      ]
    },
    {
      "cell_type": "code",
      "source": [],
      "metadata": {
        "id": "MmFm9EDDdFSm"
      },
      "execution_count": null,
      "outputs": []
    }
  ]
}